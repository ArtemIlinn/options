{
 "cells": [
  {
   "cell_type": "code",
   "execution_count": 2,
   "outputs": [],
   "source": [
    "import pandas as pd\n",
    "import numpy as np\n",
    "import yfinance as yf\n",
    "import datetime\n",
    "\n",
    "def options_chain(symbol):\n",
    "\n",
    "    tk = yf.Ticker(symbol)\n",
    "    # Expiration dates\n",
    "    exps = tk.options\n",
    "\n",
    "    # Get options for each expiration\n",
    "    options = pd.DataFrame()\n",
    "    for e in exps:\n",
    "        opt = tk.option_chain(e)\n",
    "        opt = pd.DataFrame().append(opt.calls).append(opt.puts)\n",
    "        opt['expirationDate'] = e\n",
    "        options = options.append(opt, ignore_index=True)\n",
    "\n",
    "    # Bizarre error in yfinance that gives the wrong expiration date\n",
    "    # Add 1 day to get the correct expiration date\n",
    "    options['expirationDate'] = pd.to_datetime(options['expirationDate']) + datetime.timedelta(days = 1)\n",
    "    options['dte'] = (options['expirationDate'] - datetime.datetime.today()).dt.days / 365\n",
    "\n",
    "    # Boolean column if the option is a CALL\n",
    "    options['CALL'] = options['contractSymbol'].str[4:].apply(\n",
    "        lambda x: \"C\" in x)\n",
    "\n",
    "    options[['bid', 'ask', 'strike']] = options[['bid', 'ask', 'strike']].apply(pd.to_numeric)\n",
    "    options['mark'] = (options['bid'] + options['ask']) / 2 # Calculate the midpoint of the bid-ask\n",
    "\n",
    "    # Drop unnecessary and meaningless columns\n",
    "    options = options.drop(columns = ['contractSize', 'currency', 'change', 'percentChange', 'lastTradeDate', 'lastPrice'])\n",
    "\n",
    "    return options"
   ],
   "metadata": {
    "collapsed": false,
    "pycharm": {
     "name": "#%%\n"
    }
   }
  },
  {
   "cell_type": "code",
   "execution_count": 3,
   "outputs": [
    {
     "name": "stderr",
     "output_type": "stream",
     "text": [
      "/var/folders/xd/xm863f553v750zss70sl77sc0000gn/T/ipykernel_4856/757480817.py:16: FutureWarning: The frame.append method is deprecated and will be removed from pandas in a future version. Use pandas.concat instead.\n",
      "  opt = pd.DataFrame().append(opt.calls).append(opt.puts)\n",
      "/var/folders/xd/xm863f553v750zss70sl77sc0000gn/T/ipykernel_4856/757480817.py:18: FutureWarning: The frame.append method is deprecated and will be removed from pandas in a future version. Use pandas.concat instead.\n",
      "  options = options.append(opt, ignore_index=True)\n",
      "/var/folders/xd/xm863f553v750zss70sl77sc0000gn/T/ipykernel_4856/757480817.py:16: FutureWarning: The frame.append method is deprecated and will be removed from pandas in a future version. Use pandas.concat instead.\n",
      "  opt = pd.DataFrame().append(opt.calls).append(opt.puts)\n",
      "/var/folders/xd/xm863f553v750zss70sl77sc0000gn/T/ipykernel_4856/757480817.py:18: FutureWarning: The frame.append method is deprecated and will be removed from pandas in a future version. Use pandas.concat instead.\n",
      "  options = options.append(opt, ignore_index=True)\n",
      "/var/folders/xd/xm863f553v750zss70sl77sc0000gn/T/ipykernel_4856/757480817.py:16: FutureWarning: The frame.append method is deprecated and will be removed from pandas in a future version. Use pandas.concat instead.\n",
      "  opt = pd.DataFrame().append(opt.calls).append(opt.puts)\n",
      "/var/folders/xd/xm863f553v750zss70sl77sc0000gn/T/ipykernel_4856/757480817.py:18: FutureWarning: The frame.append method is deprecated and will be removed from pandas in a future version. Use pandas.concat instead.\n",
      "  options = options.append(opt, ignore_index=True)\n",
      "/var/folders/xd/xm863f553v750zss70sl77sc0000gn/T/ipykernel_4856/757480817.py:16: FutureWarning: The frame.append method is deprecated and will be removed from pandas in a future version. Use pandas.concat instead.\n",
      "  opt = pd.DataFrame().append(opt.calls).append(opt.puts)\n",
      "/var/folders/xd/xm863f553v750zss70sl77sc0000gn/T/ipykernel_4856/757480817.py:18: FutureWarning: The frame.append method is deprecated and will be removed from pandas in a future version. Use pandas.concat instead.\n",
      "  options = options.append(opt, ignore_index=True)\n",
      "/var/folders/xd/xm863f553v750zss70sl77sc0000gn/T/ipykernel_4856/757480817.py:16: FutureWarning: The frame.append method is deprecated and will be removed from pandas in a future version. Use pandas.concat instead.\n",
      "  opt = pd.DataFrame().append(opt.calls).append(opt.puts)\n",
      "/var/folders/xd/xm863f553v750zss70sl77sc0000gn/T/ipykernel_4856/757480817.py:18: FutureWarning: The frame.append method is deprecated and will be removed from pandas in a future version. Use pandas.concat instead.\n",
      "  options = options.append(opt, ignore_index=True)\n",
      "/var/folders/xd/xm863f553v750zss70sl77sc0000gn/T/ipykernel_4856/757480817.py:16: FutureWarning: The frame.append method is deprecated and will be removed from pandas in a future version. Use pandas.concat instead.\n",
      "  opt = pd.DataFrame().append(opt.calls).append(opt.puts)\n",
      "/var/folders/xd/xm863f553v750zss70sl77sc0000gn/T/ipykernel_4856/757480817.py:18: FutureWarning: The frame.append method is deprecated and will be removed from pandas in a future version. Use pandas.concat instead.\n",
      "  options = options.append(opt, ignore_index=True)\n",
      "/var/folders/xd/xm863f553v750zss70sl77sc0000gn/T/ipykernel_4856/757480817.py:16: FutureWarning: The frame.append method is deprecated and will be removed from pandas in a future version. Use pandas.concat instead.\n",
      "  opt = pd.DataFrame().append(opt.calls).append(opt.puts)\n",
      "/var/folders/xd/xm863f553v750zss70sl77sc0000gn/T/ipykernel_4856/757480817.py:18: FutureWarning: The frame.append method is deprecated and will be removed from pandas in a future version. Use pandas.concat instead.\n",
      "  options = options.append(opt, ignore_index=True)\n",
      "/var/folders/xd/xm863f553v750zss70sl77sc0000gn/T/ipykernel_4856/757480817.py:16: FutureWarning: The frame.append method is deprecated and will be removed from pandas in a future version. Use pandas.concat instead.\n",
      "  opt = pd.DataFrame().append(opt.calls).append(opt.puts)\n",
      "/var/folders/xd/xm863f553v750zss70sl77sc0000gn/T/ipykernel_4856/757480817.py:18: FutureWarning: The frame.append method is deprecated and will be removed from pandas in a future version. Use pandas.concat instead.\n",
      "  options = options.append(opt, ignore_index=True)\n",
      "/var/folders/xd/xm863f553v750zss70sl77sc0000gn/T/ipykernel_4856/757480817.py:16: FutureWarning: The frame.append method is deprecated and will be removed from pandas in a future version. Use pandas.concat instead.\n",
      "  opt = pd.DataFrame().append(opt.calls).append(opt.puts)\n",
      "/var/folders/xd/xm863f553v750zss70sl77sc0000gn/T/ipykernel_4856/757480817.py:18: FutureWarning: The frame.append method is deprecated and will be removed from pandas in a future version. Use pandas.concat instead.\n",
      "  options = options.append(opt, ignore_index=True)\n",
      "/var/folders/xd/xm863f553v750zss70sl77sc0000gn/T/ipykernel_4856/757480817.py:16: FutureWarning: The frame.append method is deprecated and will be removed from pandas in a future version. Use pandas.concat instead.\n",
      "  opt = pd.DataFrame().append(opt.calls).append(opt.puts)\n",
      "/var/folders/xd/xm863f553v750zss70sl77sc0000gn/T/ipykernel_4856/757480817.py:18: FutureWarning: The frame.append method is deprecated and will be removed from pandas in a future version. Use pandas.concat instead.\n",
      "  options = options.append(opt, ignore_index=True)\n",
      "/var/folders/xd/xm863f553v750zss70sl77sc0000gn/T/ipykernel_4856/757480817.py:16: FutureWarning: The frame.append method is deprecated and will be removed from pandas in a future version. Use pandas.concat instead.\n",
      "  opt = pd.DataFrame().append(opt.calls).append(opt.puts)\n",
      "/var/folders/xd/xm863f553v750zss70sl77sc0000gn/T/ipykernel_4856/757480817.py:18: FutureWarning: The frame.append method is deprecated and will be removed from pandas in a future version. Use pandas.concat instead.\n",
      "  options = options.append(opt, ignore_index=True)\n",
      "/var/folders/xd/xm863f553v750zss70sl77sc0000gn/T/ipykernel_4856/757480817.py:16: FutureWarning: The frame.append method is deprecated and will be removed from pandas in a future version. Use pandas.concat instead.\n",
      "  opt = pd.DataFrame().append(opt.calls).append(opt.puts)\n",
      "/var/folders/xd/xm863f553v750zss70sl77sc0000gn/T/ipykernel_4856/757480817.py:18: FutureWarning: The frame.append method is deprecated and will be removed from pandas in a future version. Use pandas.concat instead.\n",
      "  options = options.append(opt, ignore_index=True)\n",
      "/var/folders/xd/xm863f553v750zss70sl77sc0000gn/T/ipykernel_4856/757480817.py:16: FutureWarning: The frame.append method is deprecated and will be removed from pandas in a future version. Use pandas.concat instead.\n",
      "  opt = pd.DataFrame().append(opt.calls).append(opt.puts)\n",
      "/var/folders/xd/xm863f553v750zss70sl77sc0000gn/T/ipykernel_4856/757480817.py:18: FutureWarning: The frame.append method is deprecated and will be removed from pandas in a future version. Use pandas.concat instead.\n",
      "  options = options.append(opt, ignore_index=True)\n",
      "/var/folders/xd/xm863f553v750zss70sl77sc0000gn/T/ipykernel_4856/757480817.py:16: FutureWarning: The frame.append method is deprecated and will be removed from pandas in a future version. Use pandas.concat instead.\n",
      "  opt = pd.DataFrame().append(opt.calls).append(opt.puts)\n",
      "/var/folders/xd/xm863f553v750zss70sl77sc0000gn/T/ipykernel_4856/757480817.py:18: FutureWarning: The frame.append method is deprecated and will be removed from pandas in a future version. Use pandas.concat instead.\n",
      "  options = options.append(opt, ignore_index=True)\n",
      "/var/folders/xd/xm863f553v750zss70sl77sc0000gn/T/ipykernel_4856/757480817.py:16: FutureWarning: The frame.append method is deprecated and will be removed from pandas in a future version. Use pandas.concat instead.\n",
      "  opt = pd.DataFrame().append(opt.calls).append(opt.puts)\n",
      "/var/folders/xd/xm863f553v750zss70sl77sc0000gn/T/ipykernel_4856/757480817.py:18: FutureWarning: The frame.append method is deprecated and will be removed from pandas in a future version. Use pandas.concat instead.\n",
      "  options = options.append(opt, ignore_index=True)\n",
      "/var/folders/xd/xm863f553v750zss70sl77sc0000gn/T/ipykernel_4856/757480817.py:16: FutureWarning: The frame.append method is deprecated and will be removed from pandas in a future version. Use pandas.concat instead.\n",
      "  opt = pd.DataFrame().append(opt.calls).append(opt.puts)\n",
      "/var/folders/xd/xm863f553v750zss70sl77sc0000gn/T/ipykernel_4856/757480817.py:18: FutureWarning: The frame.append method is deprecated and will be removed from pandas in a future version. Use pandas.concat instead.\n",
      "  options = options.append(opt, ignore_index=True)\n",
      "/var/folders/xd/xm863f553v750zss70sl77sc0000gn/T/ipykernel_4856/757480817.py:16: FutureWarning: The frame.append method is deprecated and will be removed from pandas in a future version. Use pandas.concat instead.\n",
      "  opt = pd.DataFrame().append(opt.calls).append(opt.puts)\n",
      "/var/folders/xd/xm863f553v750zss70sl77sc0000gn/T/ipykernel_4856/757480817.py:18: FutureWarning: The frame.append method is deprecated and will be removed from pandas in a future version. Use pandas.concat instead.\n",
      "  options = options.append(opt, ignore_index=True)\n"
     ]
    }
   ],
   "source": [
    "df = options_chain('AAPL')"
   ],
   "metadata": {
    "collapsed": false,
    "pycharm": {
     "name": "#%%\n"
    }
   }
  },
  {
   "cell_type": "code",
   "execution_count": 4,
   "outputs": [
    {
     "data": {
      "text/plain": "        contractSymbol  strike    bid    ask  volume  openInterest  \\\n0  AAPL221209C00070000    70.0  77.50  78.25     NaN             1   \n1  AAPL221209C00085000    85.0  62.50  63.25     1.0             0   \n2  AAPL221209C00090000    90.0  57.60  58.20    37.0             1   \n3  AAPL221209C00095000    95.0  52.55  53.25     2.0             2   \n4  AAPL221209C00100000   100.0  47.60  48.25    80.0            21   \n\n   impliedVolatility  inTheMoney expirationDate       dte  CALL    mark  \n0           2.179692        True     2022-12-10  0.013699  True  77.875  \n1           1.648439        True     2022-12-10  0.013699  True  62.875  \n2           1.554690        True     2022-12-10  0.013699  True  57.900  \n3           1.402347        True     2022-12-10  0.013699  True  52.900  \n4           1.296879        True     2022-12-10  0.013699  True  47.925  ",
      "text/html": "<div>\n<style scoped>\n    .dataframe tbody tr th:only-of-type {\n        vertical-align: middle;\n    }\n\n    .dataframe tbody tr th {\n        vertical-align: top;\n    }\n\n    .dataframe thead th {\n        text-align: right;\n    }\n</style>\n<table border=\"1\" class=\"dataframe\">\n  <thead>\n    <tr style=\"text-align: right;\">\n      <th></th>\n      <th>contractSymbol</th>\n      <th>strike</th>\n      <th>bid</th>\n      <th>ask</th>\n      <th>volume</th>\n      <th>openInterest</th>\n      <th>impliedVolatility</th>\n      <th>inTheMoney</th>\n      <th>expirationDate</th>\n      <th>dte</th>\n      <th>CALL</th>\n      <th>mark</th>\n    </tr>\n  </thead>\n  <tbody>\n    <tr>\n      <th>0</th>\n      <td>AAPL221209C00070000</td>\n      <td>70.0</td>\n      <td>77.50</td>\n      <td>78.25</td>\n      <td>NaN</td>\n      <td>1</td>\n      <td>2.179692</td>\n      <td>True</td>\n      <td>2022-12-10</td>\n      <td>0.013699</td>\n      <td>True</td>\n      <td>77.875</td>\n    </tr>\n    <tr>\n      <th>1</th>\n      <td>AAPL221209C00085000</td>\n      <td>85.0</td>\n      <td>62.50</td>\n      <td>63.25</td>\n      <td>1.0</td>\n      <td>0</td>\n      <td>1.648439</td>\n      <td>True</td>\n      <td>2022-12-10</td>\n      <td>0.013699</td>\n      <td>True</td>\n      <td>62.875</td>\n    </tr>\n    <tr>\n      <th>2</th>\n      <td>AAPL221209C00090000</td>\n      <td>90.0</td>\n      <td>57.60</td>\n      <td>58.20</td>\n      <td>37.0</td>\n      <td>1</td>\n      <td>1.554690</td>\n      <td>True</td>\n      <td>2022-12-10</td>\n      <td>0.013699</td>\n      <td>True</td>\n      <td>57.900</td>\n    </tr>\n    <tr>\n      <th>3</th>\n      <td>AAPL221209C00095000</td>\n      <td>95.0</td>\n      <td>52.55</td>\n      <td>53.25</td>\n      <td>2.0</td>\n      <td>2</td>\n      <td>1.402347</td>\n      <td>True</td>\n      <td>2022-12-10</td>\n      <td>0.013699</td>\n      <td>True</td>\n      <td>52.900</td>\n    </tr>\n    <tr>\n      <th>4</th>\n      <td>AAPL221209C00100000</td>\n      <td>100.0</td>\n      <td>47.60</td>\n      <td>48.25</td>\n      <td>80.0</td>\n      <td>21</td>\n      <td>1.296879</td>\n      <td>True</td>\n      <td>2022-12-10</td>\n      <td>0.013699</td>\n      <td>True</td>\n      <td>47.925</td>\n    </tr>\n  </tbody>\n</table>\n</div>"
     },
     "execution_count": 4,
     "metadata": {},
     "output_type": "execute_result"
    }
   ],
   "source": [
    "df.head()"
   ],
   "metadata": {
    "collapsed": false,
    "pycharm": {
     "name": "#%%\n"
    }
   }
  },
  {
   "cell_type": "code",
   "execution_count": 5,
   "outputs": [],
   "source": [
    "import yfinance as yf\n",
    "msft = yf.Ticker(\"MSFT\")"
   ],
   "metadata": {
    "collapsed": false,
    "pycharm": {
     "name": "#%%\n"
    }
   }
  },
  {
   "cell_type": "code",
   "execution_count": 6,
   "outputs": [
    {
     "data": {
      "text/plain": "('2022-12-09',\n '2022-12-16',\n '2022-12-23',\n '2022-12-30',\n '2023-01-06',\n '2023-01-20',\n '2023-02-17',\n '2023-03-17',\n '2023-04-21',\n '2023-06-16',\n '2023-07-21',\n '2023-09-15',\n '2024-01-19',\n '2024-06-21',\n '2025-01-17')"
     },
     "execution_count": 6,
     "metadata": {},
     "output_type": "execute_result"
    }
   ],
   "source": [
    "# show options expirations\n",
    "msft.options"
   ],
   "metadata": {
    "collapsed": false,
    "pycharm": {
     "name": "#%%\n"
    }
   }
  },
  {
   "cell_type": "code",
   "execution_count": 7,
   "outputs": [
    {
     "data": {
      "text/plain": "[{'uuid': 'd89719eb-c92a-32ab-91ca-5cf2da8e0be2',\n  'title': '10 Biggest Issues In the World and The Companies Working on Solving Them',\n  'publisher': 'Insider Monkey',\n  'link': 'https://finance.yahoo.com/news/10-biggest-issues-world-companies-202341085.html',\n  'providerPublishTime': 1670099021,\n  'type': 'STORY',\n  'thumbnail': {'resolutions': [{'url': 'https://s.yimg.com/uu/api/res/1.2/G2_3yHm5DynAm2qaMlY2ag--~B/aD0yODgwO3c9MTkyMDthcHBpZD15dGFjaHlvbg--/https://media.zenfs.com/en/insidermonkey.com/be9639051bb6c0557037713640809802',\n     'width': 1920,\n     'height': 2880,\n     'tag': 'original'},\n    {'url': 'https://s.yimg.com/uu/api/res/1.2/louzk9IlnZW16XFkRXFHnw--~B/Zmk9ZmlsbDtoPTE0MDtweW9mZj0wO3c9MTQwO2FwcGlkPXl0YWNoeW9u/https://media.zenfs.com/en/insidermonkey.com/be9639051bb6c0557037713640809802',\n     'width': 140,\n     'height': 140,\n     'tag': '140x140'}]},\n  'relatedTickers': ['GOOGL', 'PFE', 'MSFT', 'AMZN']},\n {'uuid': '1ce246d3-f977-3650-bf19-704b6c43f362',\n  'title': '15 Best Cybersecurity Stocks to Buy Heading into 2023',\n  'publisher': 'Insider Monkey',\n  'link': 'https://finance.yahoo.com/news/15-best-cybersecurity-stocks-buy-174445197.html',\n  'providerPublishTime': 1670089485,\n  'type': 'STORY',\n  'thumbnail': {'resolutions': [{'url': 'https://s.yimg.com/uu/api/res/1.2/muUTu.TQt6NcBZv6LF.01A--~B/aD0xMjc4O3c9MTkyMDthcHBpZD15dGFjaHlvbg--/https://media.zenfs.com/en/insidermonkey.com/22b67e7cb125577cb2cd9bcb7d86c406',\n     'width': 1920,\n     'height': 1278,\n     'tag': 'original'},\n    {'url': 'https://s.yimg.com/uu/api/res/1.2/hodVxgcPNcijznlw9BWt1w--~B/Zmk9ZmlsbDtoPTE0MDtweW9mZj0wO3c9MTQwO2FwcGlkPXl0YWNoeW9u/https://media.zenfs.com/en/insidermonkey.com/22b67e7cb125577cb2cd9bcb7d86c406',\n     'width': 140,\n     'height': 140,\n     'tag': '140x140'}]},\n  'relatedTickers': ['QLYS',\n   'CACI',\n   'SPLK',\n   'FTNT',\n   'GOOGL',\n   'CHKP',\n   'S',\n   'MSFT',\n   'CYBR',\n   'PLTR',\n   'AKAM',\n   'TENB']},\n {'uuid': '57ade0c4-2f1a-3ab1-964a-58d954c1ddf3',\n  'title': 'What Best Buy Is Getting Right',\n  'publisher': 'Motley Fool',\n  'link': 'https://finance.yahoo.com/m/57ade0c4-2f1a-3ab1-964a-58d954c1ddf3/what-best-buy-is-getting-right.html',\n  'providerPublishTime': 1670079540,\n  'type': 'STORY',\n  'thumbnail': {'resolutions': [{'url': 'https://s.yimg.com/uu/api/res/1.2/GU.711m8IrqhyD0doSqtBQ--~B/aD0xMDgwO3c9MTkyMDthcHBpZD15dGFjaHlvbg--/https://media.zenfs.com/en/motleyfool.com/c43175653032b61f640ee908349bd44d',\n     'width': 1920,\n     'height': 1080,\n     'tag': 'original'},\n    {'url': 'https://s.yimg.com/uu/api/res/1.2/M5KDxaVok5CEkJXz0Z9NJw--~B/Zmk9ZmlsbDtoPTE0MDtweW9mZj0wO3c9MTQwO2FwcGlkPXl0YWNoeW9u/https://media.zenfs.com/en/motleyfool.com/c43175653032b61f640ee908349bd44d',\n     'width': 140,\n     'height': 140,\n     'tag': '140x140'}]},\n  'relatedTickers': ['ZM', 'MSFT', 'DIS', 'GOOGL']},\n {'uuid': '18376400-25b0-39e9-8661-8f997642686a',\n  'title': 'Weekly Roundup',\n  'publisher': 'TheStreet.com',\n  'link': 'https://finance.yahoo.com/m/18376400-25b0-39e9-8661-8f997642686a/weekly-roundup.html',\n  'providerPublishTime': 1670023080,\n  'type': 'STORY',\n  'thumbnail': {'resolutions': [{'url': 'https://s.yimg.com/uu/api/res/1.2/ond59qBrB48v6EvjABoBhw--~B/aD04MDA7dz0xMjAwO2FwcGlkPXl0YWNoeW9u/https://media.zenfs.com/en/thestreet.com/2bc70900e1b7e8cd3f3536d021d0ae98',\n     'width': 1200,\n     'height': 800,\n     'tag': 'original'},\n    {'url': 'https://s.yimg.com/uu/api/res/1.2/nANQ2XkxN3zFUbkI12OIUA--~B/Zmk9ZmlsbDtoPTE0MDtweW9mZj0wO3c9MTQwO2FwcGlkPXl0YWNoeW9u/https://media.zenfs.com/en/thestreet.com/2bc70900e1b7e8cd3f3536d021d0ae98',\n     'width': 140,\n     'height': 140,\n     'tag': '140x140'}]},\n  'relatedTickers': ['COMP',\n   'LMT',\n   '^RUT',\n   'SPGI',\n   'MA',\n   'VZ',\n   'MSFT',\n   'GOOGL',\n   'AAPL',\n   'CHPT',\n   'AXON',\n   'VMC']},\n {'uuid': '48e612ec-83de-3d39-8004-22d9d9886f44',\n  'title': 'Microsoft Is Ready to Fight For Its $69 Billion Activision Deal',\n  'publisher': 'Bloomberg',\n  'link': 'https://finance.yahoo.com/news/microsoft-ready-fight-69-billion-225928673.html',\n  'providerPublishTime': 1670023016,\n  'type': 'STORY',\n  'thumbnail': {'resolutions': [{'url': 'https://s.yimg.com/uu/api/res/1.2/aAltvhUBGF1X3HzeQjRyQA--~B/aD0yMzkzO3c9MzE5MDthcHBpZD15dGFjaHlvbg--/https://media.zenfs.com/en/bloomberg_technology_68/b4b849eeb7fed3ee6cbe3d4429379e95',\n     'width': 3190,\n     'height': 2393,\n     'tag': 'original'},\n    {'url': 'https://s.yimg.com/uu/api/res/1.2/k7ZItQC8ZYW2TC3xaPL8wg--~B/Zmk9ZmlsbDtoPTE0MDtweW9mZj0wO3c9MTQwO2FwcGlkPXl0YWNoeW9u/https://media.zenfs.com/en/bloomberg_technology_68/b4b849eeb7fed3ee6cbe3d4429379e95',\n     'width': 140,\n     'height': 140,\n     'tag': '140x140'}]},\n  'relatedTickers': ['MSFT', 'ATVI']},\n {'uuid': '53685db7-cce8-3206-b335-191b0721764a',\n  'title': '10 Best Cryptocurrency Stocks to Buy According to Hedge Funds',\n  'publisher': 'Insider Monkey',\n  'link': 'https://finance.yahoo.com/news/10-best-cryptocurrency-stocks-buy-221719105.html',\n  'providerPublishTime': 1670019439,\n  'type': 'STORY',\n  'thumbnail': {'resolutions': [{'url': 'https://s.yimg.com/uu/api/res/1.2/5kaC6PvXsWsy41cjBNS1fg--~B/aD00OTk7dz03NTA7YXBwaWQ9eXRhY2h5b24-/https://media.zenfs.com/en/insidermonkey.com/5480dad247eb01552c3f0b88cce92cf3',\n     'width': 750,\n     'height': 499,\n     'tag': 'original'},\n    {'url': 'https://s.yimg.com/uu/api/res/1.2/Bg3eNiSMRvXhG7kBMZzJVA--~B/Zmk9ZmlsbDtoPTE0MDtweW9mZj0wO3c9MTQwO2FwcGlkPXl0YWNoeW9u/https://media.zenfs.com/en/insidermonkey.com/5480dad247eb01552c3f0b88cce92cf3',\n     'width': 140,\n     'height': 140,\n     'tag': '140x140'}]},\n  'relatedTickers': ['PYPL', 'AXP', 'INTC', 'CME', 'MA', 'AAPL', 'MSFT']},\n {'uuid': 'b61fd68d-2385-34e8-8b82-19aca7b15fa7',\n  'title': 'Want to Get Richer? 3 Best Stocks to Buy Now and Hold Forever',\n  'publisher': 'Motley Fool',\n  'link': 'https://finance.yahoo.com/m/b61fd68d-2385-34e8-8b82-19aca7b15fa7/want-to-get-richer%3F-3-best.html',\n  'providerPublishTime': 1670018400,\n  'type': 'STORY',\n  'thumbnail': {'resolutions': [{'url': 'https://s.yimg.com/uu/api/res/1.2/PZkB4xb0nG7zUfRnN4WSrQ--~B/aD0yNjY3O3c9NDAwMDthcHBpZD15dGFjaHlvbg--/https://media.zenfs.com/en/motleyfool.com/d5c4b9745974b29c23abf4f6fa1a193c',\n     'width': 4000,\n     'height': 2667,\n     'tag': 'original'},\n    {'url': 'https://s.yimg.com/uu/api/res/1.2/LutYHAfmituQUfRtEBexlg--~B/Zmk9ZmlsbDtoPTE0MDtweW9mZj0wO3c9MTQwO2FwcGlkPXl0YWNoeW9u/https://media.zenfs.com/en/motleyfool.com/d5c4b9745974b29c23abf4f6fa1a193c',\n     'width': 140,\n     'height': 140,\n     'tag': '140x140'}]},\n  'relatedTickers': ['AMD', 'NVDA', 'AAPL', 'MSFT']},\n {'uuid': '507b04ed-4102-31fe-8546-0e94167b96f2',\n  'title': 'Microsoft advances plan for new $400M Loudoun data center',\n  'publisher': 'American City Business Journals',\n  'link': 'https://finance.yahoo.com/m/507b04ed-4102-31fe-8546-0e94167b96f2/microsoft-advances-plan-for.html',\n  'providerPublishTime': 1670012736,\n  'type': 'STORY',\n  'thumbnail': {'resolutions': [{'url': 'https://s.yimg.com/uu/api/res/1.2/T4DjuGmTGDZOf3q6jIaqig--~B/aD05NjE7dz0xNDQwO2FwcGlkPXl0YWNoeW9u/https://media.zenfs.com/en/bizjournals.com/09af65b478c2b6eb408007bf02146455',\n     'width': 1440,\n     'height': 961,\n     'tag': 'original'},\n    {'url': 'https://s.yimg.com/uu/api/res/1.2/xkSzrHpX967bFxaOHszRaQ--~B/Zmk9ZmlsbDtoPTE0MDtweW9mZj0wO3c9MTQwO2FwcGlkPXl0YWNoeW9u/https://media.zenfs.com/en/bizjournals.com/09af65b478c2b6eb408007bf02146455',\n     'width': 140,\n     'height': 140,\n     'tag': '140x140'}]},\n  'relatedTickers': ['MSFT']}]"
     },
     "execution_count": 7,
     "metadata": {},
     "output_type": "execute_result"
    }
   ],
   "source": [
    "# show news\n",
    "msft.news"
   ],
   "metadata": {
    "collapsed": false,
    "pycharm": {
     "name": "#%%\n"
    }
   }
  },
  {
   "cell_type": "code",
   "execution_count": 10,
   "outputs": [],
   "source": [
    "# get option chain for specific expiration\n",
    "opt = msft.option_chain('2022-12-09')\n",
    "# data available via: opt.calls, opt.puts"
   ],
   "metadata": {
    "collapsed": false,
    "pycharm": {
     "name": "#%%\n"
    }
   }
  },
  {
   "cell_type": "code",
   "execution_count": 11,
   "outputs": [
    {
     "data": {
      "text/plain": "        contractSymbol             lastTradeDate  strike  lastPrice    bid  \\\n0  MSFT221209C00180000 2022-12-02 17:21:51+00:00   180.0      73.79  73.35   \n1  MSFT221209C00190000 2022-11-14 14:53:08+00:00   190.0      51.09  63.35   \n2  MSFT221209C00195000 2022-11-08 17:27:00+00:00   195.0      35.40  58.30   \n3  MSFT221209C00200000 2022-12-01 18:36:11+00:00   200.0      54.30  53.75   \n4  MSFT221209C00205000 2022-12-01 15:00:39+00:00   205.0      49.63  48.35   \n\n     ask     change  percentChange  volume  openInterest  impliedVolatility  \\\n0  75.95  12.790001      20.967215       1             2           1.524416   \n1  66.20   0.000000       0.000000       1             1           1.395511   \n2  61.20   0.000000       0.000000       1             1           1.295414   \n3  55.90   0.000000       0.000000       2             7           1.120610   \n4  51.20   0.000000       0.000000       2            14           1.099126   \n\n   inTheMoney contractSize currency  \n0        True      REGULAR      USD  \n1        True      REGULAR      USD  \n2        True      REGULAR      USD  \n3        True      REGULAR      USD  \n4        True      REGULAR      USD  ",
      "text/html": "<div>\n<style scoped>\n    .dataframe tbody tr th:only-of-type {\n        vertical-align: middle;\n    }\n\n    .dataframe tbody tr th {\n        vertical-align: top;\n    }\n\n    .dataframe thead th {\n        text-align: right;\n    }\n</style>\n<table border=\"1\" class=\"dataframe\">\n  <thead>\n    <tr style=\"text-align: right;\">\n      <th></th>\n      <th>contractSymbol</th>\n      <th>lastTradeDate</th>\n      <th>strike</th>\n      <th>lastPrice</th>\n      <th>bid</th>\n      <th>ask</th>\n      <th>change</th>\n      <th>percentChange</th>\n      <th>volume</th>\n      <th>openInterest</th>\n      <th>impliedVolatility</th>\n      <th>inTheMoney</th>\n      <th>contractSize</th>\n      <th>currency</th>\n    </tr>\n  </thead>\n  <tbody>\n    <tr>\n      <th>0</th>\n      <td>MSFT221209C00180000</td>\n      <td>2022-12-02 17:21:51+00:00</td>\n      <td>180.0</td>\n      <td>73.79</td>\n      <td>73.35</td>\n      <td>75.95</td>\n      <td>12.790001</td>\n      <td>20.967215</td>\n      <td>1</td>\n      <td>2</td>\n      <td>1.524416</td>\n      <td>True</td>\n      <td>REGULAR</td>\n      <td>USD</td>\n    </tr>\n    <tr>\n      <th>1</th>\n      <td>MSFT221209C00190000</td>\n      <td>2022-11-14 14:53:08+00:00</td>\n      <td>190.0</td>\n      <td>51.09</td>\n      <td>63.35</td>\n      <td>66.20</td>\n      <td>0.000000</td>\n      <td>0.000000</td>\n      <td>1</td>\n      <td>1</td>\n      <td>1.395511</td>\n      <td>True</td>\n      <td>REGULAR</td>\n      <td>USD</td>\n    </tr>\n    <tr>\n      <th>2</th>\n      <td>MSFT221209C00195000</td>\n      <td>2022-11-08 17:27:00+00:00</td>\n      <td>195.0</td>\n      <td>35.40</td>\n      <td>58.30</td>\n      <td>61.20</td>\n      <td>0.000000</td>\n      <td>0.000000</td>\n      <td>1</td>\n      <td>1</td>\n      <td>1.295414</td>\n      <td>True</td>\n      <td>REGULAR</td>\n      <td>USD</td>\n    </tr>\n    <tr>\n      <th>3</th>\n      <td>MSFT221209C00200000</td>\n      <td>2022-12-01 18:36:11+00:00</td>\n      <td>200.0</td>\n      <td>54.30</td>\n      <td>53.75</td>\n      <td>55.90</td>\n      <td>0.000000</td>\n      <td>0.000000</td>\n      <td>2</td>\n      <td>7</td>\n      <td>1.120610</td>\n      <td>True</td>\n      <td>REGULAR</td>\n      <td>USD</td>\n    </tr>\n    <tr>\n      <th>4</th>\n      <td>MSFT221209C00205000</td>\n      <td>2022-12-01 15:00:39+00:00</td>\n      <td>205.0</td>\n      <td>49.63</td>\n      <td>48.35</td>\n      <td>51.20</td>\n      <td>0.000000</td>\n      <td>0.000000</td>\n      <td>2</td>\n      <td>14</td>\n      <td>1.099126</td>\n      <td>True</td>\n      <td>REGULAR</td>\n      <td>USD</td>\n    </tr>\n  </tbody>\n</table>\n</div>"
     },
     "execution_count": 11,
     "metadata": {},
     "output_type": "execute_result"
    }
   ],
   "source": [
    "opt.calls.head()"
   ],
   "metadata": {
    "collapsed": false,
    "pycharm": {
     "name": "#%%\n"
    }
   }
  },
  {
   "cell_type": "code",
   "execution_count": 12,
   "outputs": [
    {
     "data": {
      "text/plain": "        contractSymbol             lastTradeDate  strike  lastPrice  bid  \\\n0  MSFT221209P00145000 2022-11-14 20:18:30+00:00   145.0       0.02  0.0   \n1  MSFT221209P00150000 2022-11-17 14:56:16+00:00   150.0       0.02  0.0   \n2  MSFT221209P00155000 2022-11-17 17:45:28+00:00   155.0       0.03  0.0   \n3  MSFT221209P00160000 2022-11-18 14:42:31+00:00   160.0       0.04  0.0   \n4  MSFT221209P00165000 2022-11-18 16:36:55+00:00   165.0       0.02  0.0   \n\n    ask  change  percentChange  volume  openInterest  impliedVolatility  \\\n0  0.01     0.0            0.0     NaN             8           1.250004   \n1  0.01     0.0            0.0     6.0            29           1.187504   \n2  0.01     0.0            0.0    10.0            73           1.125004   \n3  0.01     0.0            0.0    15.0            81           1.031255   \n4  0.01     0.0            0.0     2.0            50           0.968750   \n\n   inTheMoney contractSize currency  \n0       False      REGULAR      USD  \n1       False      REGULAR      USD  \n2       False      REGULAR      USD  \n3       False      REGULAR      USD  \n4       False      REGULAR      USD  ",
      "text/html": "<div>\n<style scoped>\n    .dataframe tbody tr th:only-of-type {\n        vertical-align: middle;\n    }\n\n    .dataframe tbody tr th {\n        vertical-align: top;\n    }\n\n    .dataframe thead th {\n        text-align: right;\n    }\n</style>\n<table border=\"1\" class=\"dataframe\">\n  <thead>\n    <tr style=\"text-align: right;\">\n      <th></th>\n      <th>contractSymbol</th>\n      <th>lastTradeDate</th>\n      <th>strike</th>\n      <th>lastPrice</th>\n      <th>bid</th>\n      <th>ask</th>\n      <th>change</th>\n      <th>percentChange</th>\n      <th>volume</th>\n      <th>openInterest</th>\n      <th>impliedVolatility</th>\n      <th>inTheMoney</th>\n      <th>contractSize</th>\n      <th>currency</th>\n    </tr>\n  </thead>\n  <tbody>\n    <tr>\n      <th>0</th>\n      <td>MSFT221209P00145000</td>\n      <td>2022-11-14 20:18:30+00:00</td>\n      <td>145.0</td>\n      <td>0.02</td>\n      <td>0.0</td>\n      <td>0.01</td>\n      <td>0.0</td>\n      <td>0.0</td>\n      <td>NaN</td>\n      <td>8</td>\n      <td>1.250004</td>\n      <td>False</td>\n      <td>REGULAR</td>\n      <td>USD</td>\n    </tr>\n    <tr>\n      <th>1</th>\n      <td>MSFT221209P00150000</td>\n      <td>2022-11-17 14:56:16+00:00</td>\n      <td>150.0</td>\n      <td>0.02</td>\n      <td>0.0</td>\n      <td>0.01</td>\n      <td>0.0</td>\n      <td>0.0</td>\n      <td>6.0</td>\n      <td>29</td>\n      <td>1.187504</td>\n      <td>False</td>\n      <td>REGULAR</td>\n      <td>USD</td>\n    </tr>\n    <tr>\n      <th>2</th>\n      <td>MSFT221209P00155000</td>\n      <td>2022-11-17 17:45:28+00:00</td>\n      <td>155.0</td>\n      <td>0.03</td>\n      <td>0.0</td>\n      <td>0.01</td>\n      <td>0.0</td>\n      <td>0.0</td>\n      <td>10.0</td>\n      <td>73</td>\n      <td>1.125004</td>\n      <td>False</td>\n      <td>REGULAR</td>\n      <td>USD</td>\n    </tr>\n    <tr>\n      <th>3</th>\n      <td>MSFT221209P00160000</td>\n      <td>2022-11-18 14:42:31+00:00</td>\n      <td>160.0</td>\n      <td>0.04</td>\n      <td>0.0</td>\n      <td>0.01</td>\n      <td>0.0</td>\n      <td>0.0</td>\n      <td>15.0</td>\n      <td>81</td>\n      <td>1.031255</td>\n      <td>False</td>\n      <td>REGULAR</td>\n      <td>USD</td>\n    </tr>\n    <tr>\n      <th>4</th>\n      <td>MSFT221209P00165000</td>\n      <td>2022-11-18 16:36:55+00:00</td>\n      <td>165.0</td>\n      <td>0.02</td>\n      <td>0.0</td>\n      <td>0.01</td>\n      <td>0.0</td>\n      <td>0.0</td>\n      <td>2.0</td>\n      <td>50</td>\n      <td>0.968750</td>\n      <td>False</td>\n      <td>REGULAR</td>\n      <td>USD</td>\n    </tr>\n  </tbody>\n</table>\n</div>"
     },
     "execution_count": 12,
     "metadata": {},
     "output_type": "execute_result"
    }
   ],
   "source": [
    "opt.puts.head()"
   ],
   "metadata": {
    "collapsed": false,
    "pycharm": {
     "name": "#%%\n"
    }
   }
  },
  {
   "cell_type": "code",
   "execution_count": null,
   "outputs": [],
   "source": [],
   "metadata": {
    "collapsed": false,
    "pycharm": {
     "name": "#%%\n"
    }
   }
  }
 ],
 "metadata": {
  "kernelspec": {
   "display_name": "Python 3",
   "language": "python",
   "name": "python3"
  },
  "language_info": {
   "codemirror_mode": {
    "name": "ipython",
    "version": 2
   },
   "file_extension": ".py",
   "mimetype": "text/x-python",
   "name": "python",
   "nbconvert_exporter": "python",
   "pygments_lexer": "ipython2",
   "version": "2.7.6"
  }
 },
 "nbformat": 4,
 "nbformat_minor": 0
}