{
 "cells": [
  {
   "cell_type": "markdown",
   "source": [
    "# $Crank–Nicolson$\n",
    "In numerical analysis, the Crank–Nicolson method is a finite difference method used for numerically solving the heat equation and similar partial differential equations."
   ],
   "metadata": {
    "collapsed": false,
    "pycharm": {
     "name": "#%% md\n"
    }
   }
  },
  {
   "cell_type": "markdown",
   "source": [
    "Black-Scholes Partial Differential Equation (PDE): $rf = \\frac{df}{dt} + rS\\frac{df}{dS} + \\frac{1}{2}\\sigma^2 S^2 \\frac{d^2 f}{dt^2}$\n",
    "\n",
    "To solve PDE we introduce discrete-time grid of size $M$ by $N$, it will reflect prices over the time, when we move backwards in it, using finite differences scheme. Then $S$, and $t$ will carry on the values: $S = 0, 2dS, 3dS,..., (M−1)dS, S_{max}$ and $t = 0, dt, 2dt, 3dt,..., (N−1)dt, T$ respectfully.\n",
    "\n"
   ],
   "metadata": {
    "collapsed": false,
    "pycharm": {
     "name": "#%% md\n"
    }
   }
  },
  {
   "cell_type": "markdown",
   "source": [
    "$\\frac{1}{2}rf_{i, j-1} + \\frac{1}{2}rf_{i, j} = \\frac{ f_{i, j} - f_{i, j-1} }{dt} \\frac{1}{2}ridS \\left( \\frac{ f_{i+1, j-1} - f_{i-1, j-1} }{2dS} \\right) + \\frac{1}{2}ridS \\left( \\frac{ f_{i+1, j} - f_{i-1, j} }{2dS} \\right) + \\frac{1}{4}\\sigma^2 i^2 dS^2 \\left( \\frac{ f_{i+1, j-1} - 2f_{i, j-1} + f_{i-1, j-1}}{dS^2}  \\right) + \\frac{1}{4}\\sigma^2 i^2 dS^2 \\left( \\frac{ f_{i+1, j} - 2f_{i, j} + f_{i-1, j}}{dS^2}  \\right)$"
   ],
   "metadata": {
    "collapsed": false,
    "pycharm": {
     "name": "#%% md\n"
    }
   }
  },
  {
   "cell_type": "markdown",
   "source": [
    "$\n",
    "\\epsilon_i = \\frac{dt}{4}  \\left( \\sigma^2 i^2 - ri \\right)\\\\\n",
    "\n",
    "\\zeta_i = \\frac{dt}{2}  \\left( \\sigma^2 i^2 + ri \\right)\\\\\n",
    "\n",
    "\\xi_i = \\frac{dt}{4}  \\left( \\sigma^2 i^2 + ri \\right) \\\\\n",
    "\n",
    "$\n",
    "\n"
   ],
   "metadata": {
    "collapsed": false,
    "pycharm": {
     "name": "#%% md\n"
    }
   }
  },
  {
   "cell_type": "markdown",
   "source": [
    "$\n",
    "-\\epsilon_i f_{i-1, j-1} + (1 - \\zeta_i)f_{i, j-1} - \\xi_i f_{i+1, j-1} = \\epsilon_i f_{i-1, j} + (1 - \\zeta_i)f_{i, j-1} - \\xi_i f_{i+1, j}\n",
    "$\n",
    "\n",
    "It follows by constructing the following system of linear equations:\n",
    "$\n",
    "M_1 f_{j-1} = M_2 f_{j}\n",
    "$\n"
   ],
   "metadata": {
    "collapsed": false,
    "pycharm": {
     "name": "#%% md\n"
    }
   }
  },
  {
   "cell_type": "markdown",
   "source": [
    "$\n",
    "M_1 = \\left[\n",
    "\\begin{array}{rrrrrr}\n",
    "1-\\zeta_1& -\\xi_1& 0& 0& 0& 0\\\\\n",
    "-\\epsilon_2& 1-\\zeta_2& -\\xi_2& 0& 0& 0\\\\\n",
    "0& -\\epsilon_3& 1-\\zeta_3& -\\xi_3& 0& 0&\\\\\n",
    "0& 0& ...& ...& ...& 0\\\\\n",
    "0& 0& 0& -\\epsilon_{M-2}& 1-\\zeta_{M-2}& -\\xi_{M-2}&\\\\\n",
    "0& 0& 0& 0& -\\epsilon_{M-1}& 1-\\zeta_{M-1}&\n",
    "\\end{array}\n",
    "\n",
    "\\right]\n",
    "$"
   ],
   "metadata": {
    "collapsed": false,
    "pycharm": {
     "name": "#%% md\n"
    }
   }
  },
  {
   "cell_type": "markdown",
   "source": [
    "$\n",
    "M_2 = \\left[\n",
    "\\begin{array}{rrrrrr}\n",
    "1+\\zeta_1& \\xi_1& 0& 0& 0& 0\\\\\n",
    "\\epsilon_2& 1+\\zeta_2& \\xi_2& 0& 0& 0\\\\\n",
    "0& \\epsilon_3& 1+\\zeta_3& \\xi_3& 0& 0&\\\\\n",
    "0& 0& ...& ...& ...& 0\\\\\n",
    "0& 0& 0& \\epsilon_{M-2}& 1+\\zeta_{M-2}& \\xi_{M-2}&\\\\\n",
    "0& 0& 0& 0& \\epsilon_{M-1}& 1+\\zeta_{M-1}&\n",
    "\\end{array}\n",
    "\n",
    "\\right]\n",
    "$"
   ],
   "metadata": {
    "collapsed": false,
    "pycharm": {
     "name": "#%% md\n"
    }
   }
  },
  {
   "cell_type": "markdown",
   "source": [
    "$\n",
    "f_i = \\left[\n",
    "\\begin{array}{r}\n",
    "f_{1, j}\\\\\n",
    "f_{2, j}\\\\\n",
    ".\\\\\n",
    ".\\\\\n",
    ".\\\\\n",
    "f_{M - 1, j}\\\\\n",
    "\\end{array}\n",
    "\n",
    "\\right]\n",
    "$"
   ],
   "metadata": {
    "collapsed": false,
    "pycharm": {
     "name": "#%% md\n"
    }
   }
  },
  {
   "cell_type": "code",
   "execution_count": 1,
   "outputs": [],
   "source": [
    "import OptionLib as opt\n",
    "import numpy as np\n",
    "import scipy.linalg as linalg"
   ],
   "metadata": {
    "collapsed": false,
    "pycharm": {
     "name": "#%%\n"
    }
   }
  },
  {
   "cell_type": "code",
   "execution_count": 2,
   "outputs": [],
   "source": [
    "class CrankNicolson():\n",
    "    def __init__(self, S0, K, r, T, sigma, Smax, M, N, type='call'):\n",
    "        self.epsilon = None\n",
    "        self.zeta = None\n",
    "        self.xi = None\n",
    "        self.S0 = S0\n",
    "        self.K = K\n",
    "        self.r = r\n",
    "        self.T = T\n",
    "        self.sigma = sigma\n",
    "        self.Smax = Smax\n",
    "        self.M = int(M)\n",
    "        self.N = int(N)\n",
    "        self.type = type\n",
    "        self.dS = Smax / float(self.M)\n",
    "        self.dt = T / float(self.N)\n",
    "        self.i_values = np.arange(self.M)\n",
    "        self.j_values = np.arange(self.N)\n",
    "        self.grid = np.zeros(shape=(self.M + 1, self.N + 1))\n",
    "        self.bnds = np.linspace(0, Smax, self.M + 1)  # we need to set some boundaries\n",
    "\n",
    "    def set_greeks(self):\n",
    "        self.epsilon = 0.25 * self.dt * ( (self.sigma ** 2) * (self.i_values ** 2) - self.r * self.i_values)\n",
    "        self.zeta = -self.dt * 0.5 * ((self.sigma ** 2) * (self.i_values ** 2) + self.r)\n",
    "        self.xi = 0.25 * self.dt * ((self.sigma ** 2) * (self.i_values ** 2) + self.r * self.i_values)\n",
    "\n",
    "        self.M1 = -np.diag(self.epsilon[2:self.M], -1) + np.diag(1 - self.zeta[1:self.M]) - np.diag(self.xi[1:self.M - 1], 1)\n",
    "\n",
    "        self.M2 = np.diag(self.epsilon[2:self.M], -1) + np.diag(1 + self.zeta[1:self.M]) + np.diag(self.xi[1:self.M - 1], 1)\n",
    "\n",
    "    def traverse(self):\n",
    "        # traverse babe, traverse https://www.youtube.com/watch?v=qbMFZ6SLX48\n",
    "        P, L, U = linalg.lu(self.M1)\n",
    "        for j in reversed(range(self.N)):\n",
    "            x1 = linalg.solve(L, np.dot(self.M2, self.grid[1: self.M, j + 1]))\n",
    "            x2 = linalg.solve(U, x1)\n",
    "            self.grid[1: self.M, j] = x2\n",
    "\n",
    "    def set_boundaries(self):\n",
    "\n",
    "        if self.type == 'call':\n",
    "            self.grid[:, -1] = np.maximum(self.bnds - self.K, 0)\n",
    "            self.grid[-1, :-1] = (self.Smax - self.K) * np.exp(-self.r * self.dt * (self.N - self.j_values))\n",
    "\n",
    "        elif self.type == 'put':\n",
    "            self.grid[:, -1] = np.maximum(self.K - self.bnds, 0)\n",
    "            self.grid[0, :-1] = (self.K - self.Smax) * np.exp(-self.r * self.dt * (self.N - self.j_values))\n",
    "\n",
    "    def interpolation(self): return np.interp(self.S0, self.bnds, self.grid[:, 0])\n",
    "\n",
    "    def price(self):\n",
    "        self.set_boundaries()\n",
    "        self.set_greeks()\n",
    "        self.traverse()\n",
    "        return self.interpolation()\n"
   ],
   "metadata": {
    "collapsed": false,
    "pycharm": {
     "name": "#%%\n"
    }
   }
  },
  {
   "cell_type": "code",
   "execution_count": 3,
   "outputs": [
    {
     "name": "stdout",
     "output_type": "stream",
     "text": [
      "4.072254507998117\n",
      "4.075980984787783\n"
     ]
    }
   ],
   "source": [
    "# S0, K,   r,    T,   sigma, Smax, M, N, type\n",
    "option = CrankNicolson(50, 50, 0.1, 5. / 12., 0.4, 100, 100, 100, 'put')\n",
    "print(option.price())\n",
    "\n",
    "# BSM(r, spot, strike, time, sigma, type='call'):\n",
    "print(opt.BSM(r=.1, spot=50, strike=50, time=5/12, sigma=.4, type='put'))"
   ],
   "metadata": {
    "collapsed": false,
    "pycharm": {
     "name": "#%%\n"
    }
   }
  },
  {
   "cell_type": "markdown",
   "source": [
    "Such result exhaustively explains Duffy in \"Finite difference methods\" by criticizing CN method for the following reasons:\n",
    "$\\bullet$ The Crank-Nicolson method is second-order accurate on uniform meshes only. \\\n",
    "$\\bullet$ It gives terrible results near the stike price for approximations to the first and second derivatives in the space direction.\n",
    "$\\bullet$ In pricing applications, this translates to the statement that the Crank-Nicolson method gives bad approximations to the delta and gamma of the option price."
   ],
   "metadata": {
    "collapsed": false,
    "pycharm": {
     "name": "#%% md\n"
    }
   }
  },
  {
   "cell_type": "code",
   "execution_count": null,
   "outputs": [],
   "source": [],
   "metadata": {
    "collapsed": false,
    "pycharm": {
     "name": "#%%\n"
    }
   }
  }
 ],
 "metadata": {
  "kernelspec": {
   "display_name": "Python 3",
   "language": "python",
   "name": "python3"
  },
  "language_info": {
   "codemirror_mode": {
    "name": "ipython",
    "version": 2
   },
   "file_extension": ".py",
   "mimetype": "text/x-python",
   "name": "python",
   "nbconvert_exporter": "python",
   "pygments_lexer": "ipython2",
   "version": "2.7.6"
  }
 },
 "nbformat": 4,
 "nbformat_minor": 0
}