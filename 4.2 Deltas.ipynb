{
 "cells": [
  {
   "cell_type": "code",
   "execution_count": 18,
   "outputs": [],
   "source": [
    "import math\n",
    "\n",
    "from scipy.stats import norm\n",
    "import numpy as np\n",
    "import pandas as pd\n",
    "import matplotlib.pyplot as plt\n",
    "import yfinance as yf\n",
    "import datetime\n",
    "import scipy.stats as st\n",
    "import scipy.optimize as optimize\n",
    "import enum"
   ],
   "metadata": {
    "collapsed": false,
    "pycharm": {
     "name": "#%%\n"
    }
   }
  },
  {
   "cell_type": "code",
   "execution_count": 17,
   "outputs": [
    {
     "data": {
      "text/plain": "       contractSymbol             lastTradeDate  strike  lastPrice  bid  ask  \\\n0  JPM230421C00065000 2023-04-04 19:47:43+00:00    65.0      63.10  0.0  0.0   \n1  JPM230421C00070000 2023-04-11 19:07:19+00:00    70.0      58.70  0.0  0.0   \n2  JPM230421C00075000 2023-04-04 19:48:33+00:00    75.0      53.15  0.0  0.0   \n3  JPM230421C00080000 2023-04-17 13:49:40+00:00    80.0      58.65  0.0  0.0   \n4  JPM230421C00085000 2023-04-04 18:23:49+00:00    85.0      43.10  0.0  0.0   \n5  JPM230421C00090000 2023-04-04 18:23:31+00:00    90.0      37.90  0.0  0.0   \n6  JPM230421C00095000 2023-04-14 15:08:49+00:00    95.0      43.80  0.0  0.0   \n7  JPM230421C00100000 2023-04-18 16:04:30+00:00   100.0      41.02  0.0  0.0   \n8  JPM230421C00105000 2023-04-18 19:47:53+00:00   105.0      36.75  0.0  0.0   \n9  JPM230421C00110000 2023-04-14 18:31:12+00:00   110.0      28.46  0.0  0.0   \n\n   change  percentChange  volume  openInterest  impliedVolatility  inTheMoney  \\\n0     0.0            0.0     4.0           0.0            0.00001        True   \n1     0.0            0.0    61.0          31.0            0.00001        True   \n2     0.0            0.0     5.0           0.0            0.00001        True   \n3     0.0            0.0     2.0           5.0            0.00001        True   \n4     0.0            0.0    83.0           0.0            0.00001        True   \n5     0.0            0.0    89.0           0.0            0.00001        True   \n6     0.0            0.0     1.0           1.0            0.00001        True   \n7     0.0            0.0     5.0          33.0            0.00001        True   \n8     0.0            0.0     2.0         140.0            0.00001        True   \n9     0.0            0.0     8.0          42.0            0.00001        True   \n\n  contractSize currency optionType             expDate  daysToExp  \n0      REGULAR      USD       call 2023-04-21 23:59:59          3  \n1      REGULAR      USD       call 2023-04-21 23:59:59          3  \n2      REGULAR      USD       call 2023-04-21 23:59:59          3  \n3      REGULAR      USD       call 2023-04-21 23:59:59          3  \n4      REGULAR      USD       call 2023-04-21 23:59:59          3  \n5      REGULAR      USD       call 2023-04-21 23:59:59          3  \n6      REGULAR      USD       call 2023-04-21 23:59:59          3  \n7      REGULAR      USD       call 2023-04-21 23:59:59          3  \n8      REGULAR      USD       call 2023-04-21 23:59:59          3  \n9      REGULAR      USD       call 2023-04-21 23:59:59          3  ",
      "text/html": "<div>\n<style scoped>\n    .dataframe tbody tr th:only-of-type {\n        vertical-align: middle;\n    }\n\n    .dataframe tbody tr th {\n        vertical-align: top;\n    }\n\n    .dataframe thead th {\n        text-align: right;\n    }\n</style>\n<table border=\"1\" class=\"dataframe\">\n  <thead>\n    <tr style=\"text-align: right;\">\n      <th></th>\n      <th>contractSymbol</th>\n      <th>lastTradeDate</th>\n      <th>strike</th>\n      <th>lastPrice</th>\n      <th>bid</th>\n      <th>ask</th>\n      <th>change</th>\n      <th>percentChange</th>\n      <th>volume</th>\n      <th>openInterest</th>\n      <th>impliedVolatility</th>\n      <th>inTheMoney</th>\n      <th>contractSize</th>\n      <th>currency</th>\n      <th>optionType</th>\n      <th>expDate</th>\n      <th>daysToExp</th>\n    </tr>\n  </thead>\n  <tbody>\n    <tr>\n      <th>0</th>\n      <td>JPM230421C00065000</td>\n      <td>2023-04-04 19:47:43+00:00</td>\n      <td>65.0</td>\n      <td>63.10</td>\n      <td>0.0</td>\n      <td>0.0</td>\n      <td>0.0</td>\n      <td>0.0</td>\n      <td>4.0</td>\n      <td>0.0</td>\n      <td>0.00001</td>\n      <td>True</td>\n      <td>REGULAR</td>\n      <td>USD</td>\n      <td>call</td>\n      <td>2023-04-21 23:59:59</td>\n      <td>3</td>\n    </tr>\n    <tr>\n      <th>1</th>\n      <td>JPM230421C00070000</td>\n      <td>2023-04-11 19:07:19+00:00</td>\n      <td>70.0</td>\n      <td>58.70</td>\n      <td>0.0</td>\n      <td>0.0</td>\n      <td>0.0</td>\n      <td>0.0</td>\n      <td>61.0</td>\n      <td>31.0</td>\n      <td>0.00001</td>\n      <td>True</td>\n      <td>REGULAR</td>\n      <td>USD</td>\n      <td>call</td>\n      <td>2023-04-21 23:59:59</td>\n      <td>3</td>\n    </tr>\n    <tr>\n      <th>2</th>\n      <td>JPM230421C00075000</td>\n      <td>2023-04-04 19:48:33+00:00</td>\n      <td>75.0</td>\n      <td>53.15</td>\n      <td>0.0</td>\n      <td>0.0</td>\n      <td>0.0</td>\n      <td>0.0</td>\n      <td>5.0</td>\n      <td>0.0</td>\n      <td>0.00001</td>\n      <td>True</td>\n      <td>REGULAR</td>\n      <td>USD</td>\n      <td>call</td>\n      <td>2023-04-21 23:59:59</td>\n      <td>3</td>\n    </tr>\n    <tr>\n      <th>3</th>\n      <td>JPM230421C00080000</td>\n      <td>2023-04-17 13:49:40+00:00</td>\n      <td>80.0</td>\n      <td>58.65</td>\n      <td>0.0</td>\n      <td>0.0</td>\n      <td>0.0</td>\n      <td>0.0</td>\n      <td>2.0</td>\n      <td>5.0</td>\n      <td>0.00001</td>\n      <td>True</td>\n      <td>REGULAR</td>\n      <td>USD</td>\n      <td>call</td>\n      <td>2023-04-21 23:59:59</td>\n      <td>3</td>\n    </tr>\n    <tr>\n      <th>4</th>\n      <td>JPM230421C00085000</td>\n      <td>2023-04-04 18:23:49+00:00</td>\n      <td>85.0</td>\n      <td>43.10</td>\n      <td>0.0</td>\n      <td>0.0</td>\n      <td>0.0</td>\n      <td>0.0</td>\n      <td>83.0</td>\n      <td>0.0</td>\n      <td>0.00001</td>\n      <td>True</td>\n      <td>REGULAR</td>\n      <td>USD</td>\n      <td>call</td>\n      <td>2023-04-21 23:59:59</td>\n      <td>3</td>\n    </tr>\n    <tr>\n      <th>5</th>\n      <td>JPM230421C00090000</td>\n      <td>2023-04-04 18:23:31+00:00</td>\n      <td>90.0</td>\n      <td>37.90</td>\n      <td>0.0</td>\n      <td>0.0</td>\n      <td>0.0</td>\n      <td>0.0</td>\n      <td>89.0</td>\n      <td>0.0</td>\n      <td>0.00001</td>\n      <td>True</td>\n      <td>REGULAR</td>\n      <td>USD</td>\n      <td>call</td>\n      <td>2023-04-21 23:59:59</td>\n      <td>3</td>\n    </tr>\n    <tr>\n      <th>6</th>\n      <td>JPM230421C00095000</td>\n      <td>2023-04-14 15:08:49+00:00</td>\n      <td>95.0</td>\n      <td>43.80</td>\n      <td>0.0</td>\n      <td>0.0</td>\n      <td>0.0</td>\n      <td>0.0</td>\n      <td>1.0</td>\n      <td>1.0</td>\n      <td>0.00001</td>\n      <td>True</td>\n      <td>REGULAR</td>\n      <td>USD</td>\n      <td>call</td>\n      <td>2023-04-21 23:59:59</td>\n      <td>3</td>\n    </tr>\n    <tr>\n      <th>7</th>\n      <td>JPM230421C00100000</td>\n      <td>2023-04-18 16:04:30+00:00</td>\n      <td>100.0</td>\n      <td>41.02</td>\n      <td>0.0</td>\n      <td>0.0</td>\n      <td>0.0</td>\n      <td>0.0</td>\n      <td>5.0</td>\n      <td>33.0</td>\n      <td>0.00001</td>\n      <td>True</td>\n      <td>REGULAR</td>\n      <td>USD</td>\n      <td>call</td>\n      <td>2023-04-21 23:59:59</td>\n      <td>3</td>\n    </tr>\n    <tr>\n      <th>8</th>\n      <td>JPM230421C00105000</td>\n      <td>2023-04-18 19:47:53+00:00</td>\n      <td>105.0</td>\n      <td>36.75</td>\n      <td>0.0</td>\n      <td>0.0</td>\n      <td>0.0</td>\n      <td>0.0</td>\n      <td>2.0</td>\n      <td>140.0</td>\n      <td>0.00001</td>\n      <td>True</td>\n      <td>REGULAR</td>\n      <td>USD</td>\n      <td>call</td>\n      <td>2023-04-21 23:59:59</td>\n      <td>3</td>\n    </tr>\n    <tr>\n      <th>9</th>\n      <td>JPM230421C00110000</td>\n      <td>2023-04-14 18:31:12+00:00</td>\n      <td>110.0</td>\n      <td>28.46</td>\n      <td>0.0</td>\n      <td>0.0</td>\n      <td>0.0</td>\n      <td>0.0</td>\n      <td>8.0</td>\n      <td>42.0</td>\n      <td>0.00001</td>\n      <td>True</td>\n      <td>REGULAR</td>\n      <td>USD</td>\n      <td>call</td>\n      <td>2023-04-21 23:59:59</td>\n      <td>3</td>\n    </tr>\n  </tbody>\n</table>\n</div>"
     },
     "execution_count": 17,
     "metadata": {},
     "output_type": "execute_result"
    }
   ],
   "source": [
    "import OptionLib as opt\n",
    "\n",
    "df = opt.yf_get_chains('JPM')[:10]\n",
    "df\n"
   ],
   "metadata": {
    "collapsed": false,
    "pycharm": {
     "name": "#%%\n"
    }
   }
  },
  {
   "cell_type": "code",
   "execution_count": 28,
   "outputs": [],
   "source": [
    "#opt.delta(r=0.07, spot=a, strike=b, time=c, sigma=d, type=e)\n",
    "r = 0.05\n",
    "spot =  139.92\n",
    "df1 = df.apply(lambda x: opt.delta(r=r, spot=spot, strike=x[2], time=x[16], sigma=x[10], type=x[14]), axis=1)"
   ],
   "metadata": {
    "collapsed": false,
    "pycharm": {
     "name": "#%%\n"
    }
   }
  },
  {
   "cell_type": "code",
   "execution_count": 29,
   "outputs": [
    {
     "data": {
      "text/plain": "0    1.0\n1    1.0\n2    1.0\n3    1.0\n4    1.0\n5    1.0\n6    1.0\n7    1.0\n8    1.0\n9    1.0\ndtype: float64"
     },
     "execution_count": 29,
     "metadata": {},
     "output_type": "execute_result"
    }
   ],
   "source": [
    "df1"
   ],
   "metadata": {
    "collapsed": false,
    "pycharm": {
     "name": "#%%\n"
    }
   }
  },
  {
   "cell_type": "code",
   "execution_count": null,
   "outputs": [],
   "source": [
    "x = df.iloc[0]\n",
    "opt.delta(r=0.07, spot=spot, strike=x[2], time=x[16], sigma=x[10], type=x[14])"
   ],
   "metadata": {
    "collapsed": false,
    "pycharm": {
     "name": "#%%\n"
    }
   }
  },
  {
   "cell_type": "code",
   "execution_count": null,
   "outputs": [],
   "source": [
    "def d1(r, spot, strike, time, sigma):\n",
    "    return (np.log(spot / strike) + (r + sigma ** 2 / 2) * time) / (sigma * np.sqrt(time))\n",
    "\n",
    "def d2(r, spot, strike, time, sigma):\n",
    "    return d1(r, spot, strike, time, sigma) - sigma * np.sqrt(time)"
   ],
   "metadata": {
    "collapsed": false,
    "pycharm": {
     "name": "#%%\n"
    }
   }
  },
  {
   "cell_type": "code",
   "execution_count": null,
   "outputs": [],
   "source": [
    "def delta(r, spot, strike, time, sigma, type):\n",
    "    \"\"\"\n",
    "    Returns Delta greek of an option given\n",
    "    \"\"\"\n",
    "    d1_value = d1(r, spot, strike, time, sigma)\n",
    "\n",
    "    try:\n",
    "        if type == 'call':\n",
    "            delta_value = norm.cdf(d1_value, 0, 1)\n",
    "        elif type == 'put':\n",
    "            delta_value = -norm.cdf(-d1_value, 0, 1)\n",
    "\n",
    "        return delta_value\n",
    "\n",
    "    except:\n",
    "        raise 'oops'"
   ],
   "metadata": {
    "collapsed": false,
    "pycharm": {
     "name": "#%%\n"
    }
   }
  },
  {
   "cell_type": "markdown",
   "source": [
    "# Heston Delta\n",
    "Addressing the https://quant.stackexchange.com/questions/61849/delta-of-an-option-under-heston-model\n",
    "For Heston we got the following equation: $\\frac{dC}{dS_0} = e^{-q(T-t)}P_1 > 0$ \\\n",
    "$\\Delta_{C, t} = \\frac{C_t}{S_t} = e^{-q(T-t)}P_1, $ and as follows from Put-Call parity $\\Delta_{P, t} = \\frac{P_t}{S_t} = \\frac{C_t}{S_t} - e^{-q(T-t)} = e^{-q(T-t)}(P_1 - 1) $"
   ],
   "metadata": {
    "collapsed": false,
    "pycharm": {
     "name": "#%% md\n"
    }
   }
  },
  {
   "cell_type": "code",
   "execution_count": null,
   "outputs": [],
   "source": [
    "def heston_delta(self, q=0, a=0.00001, b=100, n=10000):\n",
    "        P1 = self.probability(a, b, n)[0]\n",
    "\n",
    "        return {\n",
    "            'call': math.e**(-q * self.tau) * P1,\n",
    "            'put':  math.e**(-q * self.tau) * (P1 - 1)\n",
    "            }"
   ],
   "metadata": {
    "collapsed": false,
    "pycharm": {
     "name": "#%%\n"
    }
   }
  },
  {
   "cell_type": "code",
   "execution_count": 5,
   "outputs": [],
   "source": [
    "import OptionLib as opt"
   ],
   "metadata": {
    "collapsed": false,
    "pycharm": {
     "name": "#%%\n"
    }
   }
  },
  {
   "cell_type": "code",
   "execution_count": 15,
   "outputs": [
    {
     "data": {
      "text/plain": "{'call': 0.7088406167635928, 'put': -0.2911593832364072}"
     },
     "execution_count": 15,
     "metadata": {},
     "output_type": "execute_result"
    }
   ],
   "source": [
    "heston_model = opt.Heston(S0=100, strike=100, time=1.0, r=0.05, kappa=0.0, theta=0.01, v0=0.01, lamda=0.0, sigma=0.000001, rho=-0.7)\n",
    "\n",
    "h_delta = heston_model.heston_delta()\n",
    "h_delta"
   ],
   "metadata": {
    "collapsed": false,
    "pycharm": {
     "name": "#%%\n"
    }
   }
  },
  {
   "cell_type": "markdown",
   "source": [
    "# SABR Delta"
   ],
   "metadata": {
    "collapsed": false,
    "pycharm": {
     "name": "#%% md\n"
    }
   }
  },
  {
   "cell_type": "markdown",
   "source": [
    "# 1"
   ],
   "metadata": {
    "collapsed": false,
    "pycharm": {
     "name": "#%% md\n"
    }
   }
  },
  {
   "cell_type": "code",
   "execution_count": 14,
   "outputs": [],
   "source": [
    "import math\n",
    "import scipy.stats as si\n",
    "import sympy as sy\n",
    "\n",
    "def bachelier(market_vol, spot, strike, forward, time, option):\n",
    "    if option == 'call':\n",
    "        d = (spot * np.exp(forward * time) - strike) / np.sqrt(\n",
    "            market_vol ** 2 / (2 * forward) * (np.exp(2 * forward * time) - 1))\n",
    "\n",
    "        p = np.exp(-forward * time) * (spot * np.exp(forward * time) - strike) * si.norm.cdf(d) + \\\n",
    "            np.exp(-forward * time) * np.sqrt(\n",
    "            market_vol ** 2 / (2 * forward) * (np.exp(2 * forward * time) - 1)) * si.norm.pdf(d)\n",
    "    if option == 'put':\n",
    "        p = bachelier(market_vol, spot, strike, forward, time, 'call') - spot + np.exp(-forward * time) * strike\n",
    "\n",
    "    return p\n",
    "\n",
    "def deltaSabrBachelier(forward, strike, spot, time, market_vol, option):\n",
    "    return sy.diff(bachelier(forward, strike, spot, time, market_vol, option), spot)"
   ],
   "metadata": {
    "collapsed": false,
    "pycharm": {
     "name": "#%%\n"
    }
   }
  },
  {
   "cell_type": "markdown",
   "source": [
    "# 2"
   ],
   "metadata": {
    "collapsed": false,
    "pycharm": {
     "name": "#%% md\n"
    }
   }
  },
  {
   "cell_type": "code",
   "execution_count": null,
   "outputs": [],
   "source": [
    "\"\"\"\n",
    "# Barret's Delat page 4'\n",
    "skew = beta*alpha*F**(1-beta) # + O(epsilon)\n",
    "delta_sabr = delta_bsm + vega_bsm*skew\n",
    "\"\"\"\n",
    "\n",
    "def delta_sabr(alpha, beta, F, r, spot, strike, time, sigma, type):\n",
    "    skew = beta*alpha*F**(1-beta) # + O(epsilon)\n",
    "    delta_sabr_value = opt.delta(r, spot, strike, time, sigma, type) + opt.vega(r, spot, strike, time, sigma)*skew # delta_bsm + vega_bsm*skew\n",
    "    return  delta_sabr_value"
   ],
   "metadata": {
    "collapsed": false,
    "pycharm": {
     "name": "#%%\n",
     "is_executing": true
    }
   }
  },
  {
   "cell_type": "markdown",
   "source": [
    "# Delta Hedge"
   ],
   "metadata": {
    "collapsed": false,
    "pycharm": {
     "name": "#%% md\n"
    }
   }
  },
  {
   "cell_type": "markdown",
   "source": [
    "The delta, à, of an option or a portfolio of options is the sensitivity of the option or portfolio to the underlying. It is the rate of change of value with respect to the asset:\n",
    "\n",
    "$\\Delta = \\frac{dV}{dS}$\n",
    "\n",
    "Here V can be the value of a single contract or of a whole portfolio of contracts. The delta of a portfolio of options is just the sum of the deltas of all the individual positions.\n",
    "The theoretical device of delta hedging, introduced in Chapter 5, for eliminating risk is far more than that, it is a very important practical technique.\n",
    "Roughly speaking, the financial world is divided up into speculators and hedgers. The spec- ulators take a view on the direction of some quantity such as the asset price (or more abstract quantities such as volatility) and implement a strategy to take advantage of their view. Such people may not hedge at all.\n",
    "Then there are the hedgers. There are two kinds of hedger: the ones who hold a position already and want to eliminate some very specific risk (usually using options) and the ones\n",
    "\n",
    "elling (or buying) the options because they believe they have a better price and can make money by hedging away all risk. It is the latter type of hedger that is delta hedging. They can only guarantee to make a profit by selling a contract for a high value if they can eliminate all of the risk due to the random fluctuation in the underlying.\n",
    "Delta hedging means holding one of the option and short a quantity à of the underlying. Delta can be expressed as a function of S and t, I’ll give some formulae later in this section. This function varies as S and t vary. This means that the number of assets held must be continuously changed to maintain a delta-neutral position; this procedure is called dynamic hedging. Changing the number of assets held requires the continual purchase and/or sale of the stock. This is called rehedging or rebalancing the portfolio.\n",
    "This delta hedging may take place very frequently in highly liquid markets where it is relatively costless to buy and sell. Thus the Black–Scholes assumption of continuous hedging may be quite accurate. In less liquid markets, you lose a lot on bid-offer spread and will therefore hedge less frequently. Moreover, you may not even be able to buy or sell in the quantities you want. Even in the absence of costs, you cannot be sure that your model for the underlying is accurate. There will certainly be some risk associated with the model. These issues make delta hedging less than perfect and in practice the risk in the underlying cannot be hedged away perfectly. Issues of discrete hedging and transaction costs are covered in depth in Chapters 47 and 48.\n",
    "Some contracts (see especially Chapter 23) have a delta that becomes very large at special times or asset values. The size of the delta makes delta hedging impossible; what can you do if you find yourself with a theoretical delta requiring you to buy more stock than exists? In such a situation the basic foundation of the Black–Scholes world has collapsed and you would be right to question the validity of any pricing formula. This happens at expiry close to the strike for binary options. Although I’ve given a formula for their price above and a formula for their delta below, I’d be careful using them if I were you.\n",
    "\n",
    "\n",
    "Continuous time hedging is for the\n",
    "textbook.\n",
    "The delta does not\n",
    "work on a portfolio of options that mixes longs and shorts.\n",
    "It is an extremely weak measure of risks.\n",
    "\n",
    "Use a discrete delta with increments. Shadow delta adds\n",
    "some vegas and gammas to it.\n"
   ],
   "metadata": {
    "collapsed": false,
    "pycharm": {
     "name": "#%% md\n"
    }
   }
  },
  {
   "cell_type": "markdown",
   "source": [
    "If Position Delta is Negative, Hedge With These Strategies:\n",
    "> Long Stock\n",
    " Long Calls\n",
    " Short Puts\n",
    " Long Call Spreads\n",
    " Short Put Spreads\n",
    "\n",
    "\n",
    "If Position Delta is Positive, Hedge With These Strategies:\n",
    "> Short Stock\n",
    "Long Puts\n",
    " Short Calls\n",
    " Short Call Spreads\n",
    " Long Put Spreads"
   ],
   "metadata": {
    "collapsed": false,
    "pycharm": {
     "name": "#%% md\n"
    }
   }
  }
 ],
 "metadata": {
  "kernelspec": {
   "display_name": "Python 3",
   "language": "python",
   "name": "python3"
  },
  "language_info": {
   "codemirror_mode": {
    "name": "ipython",
    "version": 2
   },
   "file_extension": ".py",
   "mimetype": "text/x-python",
   "name": "python",
   "nbconvert_exporter": "python",
   "pygments_lexer": "ipython2",
   "version": "2.7.6"
  }
 },
 "nbformat": 4,
 "nbformat_minor": 0
}