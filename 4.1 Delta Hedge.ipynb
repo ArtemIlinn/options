{
 "cells": [
  {
   "cell_type": "code",
   "execution_count": 1,
   "metadata": {
    "collapsed": true,
    "pycharm": {
     "name": "#%%\n"
    }
   },
   "outputs": [],
   "source": [
    "import datetime as dt\n",
    "import pandas as pd\n",
    "import numpy as np\n",
    "from pandas_datareader import data as pdr\n",
    "import matplotlib.pyplot as plt\n",
    "import yfinance as yf\n",
    "import OptionLib as opt\n",
    "from datetime import datetime\n",
    "import datetime"
   ]
  },
  {
   "cell_type": "code",
   "execution_count": 2,
   "outputs": [],
   "source": [
    "def opt_vol(market_price, spot, strike, r=0.05, time=1, volatility_candidates = np.arange(0.01,4,0.0001)):\n",
    "    price_differences = np.zeros_like(volatility_candidates)\n",
    "    for i in range(len(volatility_candidates)):\n",
    "\n",
    "        candidate = volatility_candidates[i]\n",
    "\n",
    "        price_differences[i] = market_price - opt.BSM(r, spot, strike, time, candidate, type='call')\n",
    "\n",
    "    idx = np.argmin(abs(price_differences))\n",
    "    implied_volatility = volatility_candidates[idx]\n",
    "    return implied_volatility"
   ],
   "metadata": {
    "collapsed": false,
    "pycharm": {
     "name": "#%%\n"
    }
   }
  },
  {
   "cell_type": "code",
   "execution_count": 3,
   "outputs": [
    {
     "data": {
      "text/plain": "'ticker = \\'TSLA\\'\\nhist = yf.Ticker(ticker).history(period=\"1mo\")[[\\'Close\\']]\\nhist = hist.rename(columns={\\'Close\\': \\'Spot\\'})\\nhist'"
     },
     "execution_count": 3,
     "metadata": {},
     "output_type": "execute_result"
    }
   ],
   "source": [
    "\"\"\"ticker = 'TSLA'\n",
    "hist = yf.Ticker(ticker).history(period=\"1mo\")[['Close']]\n",
    "hist = hist.rename(columns={'Close': 'Spot'})\n",
    "hist\"\"\""
   ],
   "metadata": {
    "collapsed": false,
    "pycharm": {
     "name": "#%%\n"
    }
   }
  },
  {
   "cell_type": "code",
   "execution_count": 3,
   "outputs": [
    {
     "data": {
      "text/plain": "        contractSymbol             lastTradeDate  strike  lastPrice    bid  \\\n0   JPM230421C00065000 2023-04-04 19:47:43+00:00    65.0      63.10  76.05   \n1   JPM230421C00070000 2023-04-11 19:07:19+00:00    70.0      58.70  70.95   \n2   JPM230421C00075000 2023-04-04 19:48:33+00:00    75.0      53.15  66.05   \n3   JPM230421C00080000 2023-04-20 14:02:52+00:00    80.0      61.09  61.00   \n4   JPM230421C00085000 2023-04-04 18:23:49+00:00    85.0      43.10  56.05   \n..                 ...                       ...     ...        ...    ...   \n18  JPM251219P00160000 2023-03-23 15:12:58+00:00   160.0      37.14  27.10   \n19  JPM251219P00170000 2023-03-17 19:49:51+00:00   170.0      48.42  34.20   \n20  JPM251219P00190000 2023-04-13 18:28:42+00:00   190.0      61.08  47.40   \n21  JPM251219P00195000 2023-03-15 18:26:42+00:00   195.0      66.05  54.10   \n22  JPM251219P00200000 2023-04-13 18:28:42+00:00   200.0      71.48  56.55   \n\n      ask    change  percentChange  volume  openInterest  impliedVolatility  \\\n0   76.45  0.000000        0.00000     4.0           0.0           5.855471   \n1   71.35  0.000000        0.00000    61.0          31.0           5.179691   \n2   66.30  0.000000        0.00000     5.0           0.0           4.765629   \n3   61.20  2.439999        4.16027     2.0           5.0           4.218755   \n4   56.35  0.000000        0.00000    83.0           0.0           3.964844   \n..    ...       ...            ...     ...           ...                ...   \n18  28.45  0.000000        0.00000     NaN           2.0           0.175149   \n19  36.65  0.000000        0.00000     2.0           0.0           0.182900   \n20  50.95  0.000000        0.00000     NaN           0.0           0.139871   \n21  58.40  0.000000        0.00000     NaN           0.0           0.193917   \n22  61.45  0.000000        0.00000     1.0           0.0           0.167519   \n\n    inTheMoney contractSize currency optionType             expDate  daysToExp  \n0         True      REGULAR      USD       call 2023-04-21 23:59:59          2  \n1         True      REGULAR      USD       call 2023-04-21 23:59:59          2  \n2         True      REGULAR      USD       call 2023-04-21 23:59:59          2  \n3         True      REGULAR      USD       call 2023-04-21 23:59:59          2  \n4         True      REGULAR      USD       call 2023-04-21 23:59:59          2  \n..         ...          ...      ...        ...                 ...        ...  \n18        True      REGULAR      USD        put 2025-12-19 23:59:59        975  \n19        True      REGULAR      USD        put 2025-12-19 23:59:59        975  \n20        True      REGULAR      USD        put 2025-12-19 23:59:59        975  \n21        True      REGULAR      USD        put 2025-12-19 23:59:59        975  \n22        True      REGULAR      USD        put 2025-12-19 23:59:59        975  \n\n[1083 rows x 17 columns]",
      "text/html": "<div>\n<style scoped>\n    .dataframe tbody tr th:only-of-type {\n        vertical-align: middle;\n    }\n\n    .dataframe tbody tr th {\n        vertical-align: top;\n    }\n\n    .dataframe thead th {\n        text-align: right;\n    }\n</style>\n<table border=\"1\" class=\"dataframe\">\n  <thead>\n    <tr style=\"text-align: right;\">\n      <th></th>\n      <th>contractSymbol</th>\n      <th>lastTradeDate</th>\n      <th>strike</th>\n      <th>lastPrice</th>\n      <th>bid</th>\n      <th>ask</th>\n      <th>change</th>\n      <th>percentChange</th>\n      <th>volume</th>\n      <th>openInterest</th>\n      <th>impliedVolatility</th>\n      <th>inTheMoney</th>\n      <th>contractSize</th>\n      <th>currency</th>\n      <th>optionType</th>\n      <th>expDate</th>\n      <th>daysToExp</th>\n    </tr>\n  </thead>\n  <tbody>\n    <tr>\n      <th>0</th>\n      <td>JPM230421C00065000</td>\n      <td>2023-04-04 19:47:43+00:00</td>\n      <td>65.0</td>\n      <td>63.10</td>\n      <td>76.05</td>\n      <td>76.45</td>\n      <td>0.000000</td>\n      <td>0.00000</td>\n      <td>4.0</td>\n      <td>0.0</td>\n      <td>5.855471</td>\n      <td>True</td>\n      <td>REGULAR</td>\n      <td>USD</td>\n      <td>call</td>\n      <td>2023-04-21 23:59:59</td>\n      <td>2</td>\n    </tr>\n    <tr>\n      <th>1</th>\n      <td>JPM230421C00070000</td>\n      <td>2023-04-11 19:07:19+00:00</td>\n      <td>70.0</td>\n      <td>58.70</td>\n      <td>70.95</td>\n      <td>71.35</td>\n      <td>0.000000</td>\n      <td>0.00000</td>\n      <td>61.0</td>\n      <td>31.0</td>\n      <td>5.179691</td>\n      <td>True</td>\n      <td>REGULAR</td>\n      <td>USD</td>\n      <td>call</td>\n      <td>2023-04-21 23:59:59</td>\n      <td>2</td>\n    </tr>\n    <tr>\n      <th>2</th>\n      <td>JPM230421C00075000</td>\n      <td>2023-04-04 19:48:33+00:00</td>\n      <td>75.0</td>\n      <td>53.15</td>\n      <td>66.05</td>\n      <td>66.30</td>\n      <td>0.000000</td>\n      <td>0.00000</td>\n      <td>5.0</td>\n      <td>0.0</td>\n      <td>4.765629</td>\n      <td>True</td>\n      <td>REGULAR</td>\n      <td>USD</td>\n      <td>call</td>\n      <td>2023-04-21 23:59:59</td>\n      <td>2</td>\n    </tr>\n    <tr>\n      <th>3</th>\n      <td>JPM230421C00080000</td>\n      <td>2023-04-20 14:02:52+00:00</td>\n      <td>80.0</td>\n      <td>61.09</td>\n      <td>61.00</td>\n      <td>61.20</td>\n      <td>2.439999</td>\n      <td>4.16027</td>\n      <td>2.0</td>\n      <td>5.0</td>\n      <td>4.218755</td>\n      <td>True</td>\n      <td>REGULAR</td>\n      <td>USD</td>\n      <td>call</td>\n      <td>2023-04-21 23:59:59</td>\n      <td>2</td>\n    </tr>\n    <tr>\n      <th>4</th>\n      <td>JPM230421C00085000</td>\n      <td>2023-04-04 18:23:49+00:00</td>\n      <td>85.0</td>\n      <td>43.10</td>\n      <td>56.05</td>\n      <td>56.35</td>\n      <td>0.000000</td>\n      <td>0.00000</td>\n      <td>83.0</td>\n      <td>0.0</td>\n      <td>3.964844</td>\n      <td>True</td>\n      <td>REGULAR</td>\n      <td>USD</td>\n      <td>call</td>\n      <td>2023-04-21 23:59:59</td>\n      <td>2</td>\n    </tr>\n    <tr>\n      <th>...</th>\n      <td>...</td>\n      <td>...</td>\n      <td>...</td>\n      <td>...</td>\n      <td>...</td>\n      <td>...</td>\n      <td>...</td>\n      <td>...</td>\n      <td>...</td>\n      <td>...</td>\n      <td>...</td>\n      <td>...</td>\n      <td>...</td>\n      <td>...</td>\n      <td>...</td>\n      <td>...</td>\n      <td>...</td>\n    </tr>\n    <tr>\n      <th>18</th>\n      <td>JPM251219P00160000</td>\n      <td>2023-03-23 15:12:58+00:00</td>\n      <td>160.0</td>\n      <td>37.14</td>\n      <td>27.10</td>\n      <td>28.45</td>\n      <td>0.000000</td>\n      <td>0.00000</td>\n      <td>NaN</td>\n      <td>2.0</td>\n      <td>0.175149</td>\n      <td>True</td>\n      <td>REGULAR</td>\n      <td>USD</td>\n      <td>put</td>\n      <td>2025-12-19 23:59:59</td>\n      <td>975</td>\n    </tr>\n    <tr>\n      <th>19</th>\n      <td>JPM251219P00170000</td>\n      <td>2023-03-17 19:49:51+00:00</td>\n      <td>170.0</td>\n      <td>48.42</td>\n      <td>34.20</td>\n      <td>36.65</td>\n      <td>0.000000</td>\n      <td>0.00000</td>\n      <td>2.0</td>\n      <td>0.0</td>\n      <td>0.182900</td>\n      <td>True</td>\n      <td>REGULAR</td>\n      <td>USD</td>\n      <td>put</td>\n      <td>2025-12-19 23:59:59</td>\n      <td>975</td>\n    </tr>\n    <tr>\n      <th>20</th>\n      <td>JPM251219P00190000</td>\n      <td>2023-04-13 18:28:42+00:00</td>\n      <td>190.0</td>\n      <td>61.08</td>\n      <td>47.40</td>\n      <td>50.95</td>\n      <td>0.000000</td>\n      <td>0.00000</td>\n      <td>NaN</td>\n      <td>0.0</td>\n      <td>0.139871</td>\n      <td>True</td>\n      <td>REGULAR</td>\n      <td>USD</td>\n      <td>put</td>\n      <td>2025-12-19 23:59:59</td>\n      <td>975</td>\n    </tr>\n    <tr>\n      <th>21</th>\n      <td>JPM251219P00195000</td>\n      <td>2023-03-15 18:26:42+00:00</td>\n      <td>195.0</td>\n      <td>66.05</td>\n      <td>54.10</td>\n      <td>58.40</td>\n      <td>0.000000</td>\n      <td>0.00000</td>\n      <td>NaN</td>\n      <td>0.0</td>\n      <td>0.193917</td>\n      <td>True</td>\n      <td>REGULAR</td>\n      <td>USD</td>\n      <td>put</td>\n      <td>2025-12-19 23:59:59</td>\n      <td>975</td>\n    </tr>\n    <tr>\n      <th>22</th>\n      <td>JPM251219P00200000</td>\n      <td>2023-04-13 18:28:42+00:00</td>\n      <td>200.0</td>\n      <td>71.48</td>\n      <td>56.55</td>\n      <td>61.45</td>\n      <td>0.000000</td>\n      <td>0.00000</td>\n      <td>1.0</td>\n      <td>0.0</td>\n      <td>0.167519</td>\n      <td>True</td>\n      <td>REGULAR</td>\n      <td>USD</td>\n      <td>put</td>\n      <td>2025-12-19 23:59:59</td>\n      <td>975</td>\n    </tr>\n  </tbody>\n</table>\n<p>1083 rows × 17 columns</p>\n</div>"
     },
     "execution_count": 3,
     "metadata": {},
     "output_type": "execute_result"
    }
   ],
   "source": [
    "df = opt.yf_get_chains('JPM')\n",
    "df # JPM230721C00140000 # JPM230428P00124000"
   ],
   "metadata": {
    "collapsed": false,
    "pycharm": {
     "name": "#%%\n"
    }
   }
  },
  {
   "cell_type": "markdown",
   "source": [
    "# Constructing the Portfolio"
   ],
   "metadata": {
    "collapsed": false,
    "pycharm": {
     "name": "#%% md\n"
    }
   }
  },
  {
   "cell_type": "code",
   "execution_count": 19,
   "outputs": [],
   "source": [
    "df_portfolio = pd.DataFrame({'contractSymbol': [],\n",
    "                             'underlying': [],\n",
    "                             'expDate': [],\n",
    "                             'daysToExp': [],\n",
    "                             'optionType': [],\n",
    "                             'strike': [],\n",
    "                             # contract size\n",
    "                             'position': [],\n",
    "                             'number_of_contracts': [],\n",
    "                             'delta': [],\n",
    "                             'delta_pos': [],\n",
    "                             'DH_quantity': []\n",
    "                             }\n",
    "                            )"
   ],
   "metadata": {
    "collapsed": false,
    "pycharm": {
     "name": "#%%\n"
    }
   }
  },
  {
   "cell_type": "code",
   "execution_count": 10,
   "outputs": [],
   "source": [
    "def create_portfolio():\n",
    "    return pd.DataFrame({'contractSymbol': [],\n",
    "                             'underlying': [],\n",
    "                             'expDate': [],\n",
    "                             'daysToExp': [],\n",
    "                             'optionType': [],\n",
    "                             'strike': [],\n",
    "                             # contract size\n",
    "                             'position': [],\n",
    "                             'number_of_contracts': [],\n",
    "                             'delta': [],\n",
    "                             'delta_pos': [],\n",
    "                             'DH_quantity': []\n",
    "                             }\n",
    "                            )"
   ],
   "metadata": {
    "collapsed": false,
    "pycharm": {
     "name": "#%%\n"
    }
   }
  },
  {
   "cell_type": "code",
   "execution_count": 20,
   "outputs": [
    {
     "data": {
      "text/plain": "Empty DataFrame\nColumns: [contractSymbol, underlying, expDate, daysToExp, optionType, strike, position, number_of_contracts, delta, delta_pos, DH_quantity]\nIndex: []",
      "text/html": "<div>\n<style scoped>\n    .dataframe tbody tr th:only-of-type {\n        vertical-align: middle;\n    }\n\n    .dataframe tbody tr th {\n        vertical-align: top;\n    }\n\n    .dataframe thead th {\n        text-align: right;\n    }\n</style>\n<table border=\"1\" class=\"dataframe\">\n  <thead>\n    <tr style=\"text-align: right;\">\n      <th></th>\n      <th>contractSymbol</th>\n      <th>underlying</th>\n      <th>expDate</th>\n      <th>daysToExp</th>\n      <th>optionType</th>\n      <th>strike</th>\n      <th>position</th>\n      <th>number_of_contracts</th>\n      <th>delta</th>\n      <th>delta_pos</th>\n      <th>DH_quantity</th>\n    </tr>\n  </thead>\n  <tbody>\n  </tbody>\n</table>\n</div>"
     },
     "execution_count": 20,
     "metadata": {},
     "output_type": "execute_result"
    }
   ],
   "source": [
    "df_portfolio"
   ],
   "metadata": {
    "collapsed": false,
    "pycharm": {
     "name": "#%%\n"
    }
   }
  },
  {
   "cell_type": "code",
   "execution_count": 14,
   "outputs": [],
   "source": [
    "import datetime"
   ],
   "metadata": {
    "collapsed": false,
    "pycharm": {
     "name": "#%%\n"
    }
   }
  },
  {
   "cell_type": "code",
   "execution_count": 4,
   "outputs": [],
   "source": [
    "def add_option(option_chain, df_portfolio, contract, number_of_contracts, spot, position=1,  r=0.05):\n",
    "    \"\"\"\n",
    "    Performs operations of long/short for needed option, computes delta, and hedge quantity\n",
    "\n",
    "    :param option_chain: the chain we got option from\n",
    "    :param df_portfolio: portfolio we add option to\n",
    "    :param contract: symbol of needed one for ex. 'JPM230421C00110000'\n",
    "    :param number_of_contracts: number of contract in operation\n",
    "    :param position: 1 for long, -1 for short\n",
    "    :return: returns updated df_portfolio\n",
    "    \"\"\"\n",
    "    option = option_chain[ option_chain['contractSymbol'] == contract ].reset_index(drop=True).to_dict()\n",
    "\n",
    "\n",
    "    delta = opt.delta(r=r,\n",
    "                      spot=spot,\n",
    "                      strike=option['strike'][0],\n",
    "                      time=option['daysToExp'][0],\n",
    "                      sigma=option['impliedVolatility'][0],\n",
    "                      # can change to our formula # iv = opt_vol(market_price=market_price, spot=spot, strike=strike, r=r, time=time)\n",
    "                      type=option['optionType'][0])\n",
    "\n",
    "    delta_pos = delta * 100 * number_of_contracts\n",
    "    DH_quantity = position * abs(delta) * 100 * number_of_contracts\n",
    "\n",
    "    df_portfolio.loc[len(df_portfolio.index)] = [\n",
    "                                             option['contractSymbol'][0],\n",
    "                                             'JPM',\n",
    "                                             option['expDate'][0], # datetime.strptime( _ , '%Y-%m-%d %H:%M:%S')\n",
    "                                             option['daysToExp'][0],\n",
    "                                             option['optionType'][0],\n",
    "                                             option['strike'][0],\n",
    "                                             position,\n",
    "                                             number_of_contracts,\n",
    "                                             delta,\n",
    "                                             delta_pos,\n",
    "                                             DH_quantity\n",
    "                                            ]\n",
    "    return df_portfolio"
   ],
   "metadata": {
    "collapsed": false,
    "pycharm": {
     "name": "#%%\n"
    }
   }
  },
  {
   "cell_type": "code",
   "execution_count": 21,
   "outputs": [
    {
     "data": {
      "text/plain": "       contractSymbol underlying             expDate  daysToExp optionType  \\\n0  JPM230428P00124000        JPM 2023-04-28 23:59:59         10        put   \n\n   strike  position  number_of_contracts     delta   delta_pos  DH_quantity  \n0   124.0         1                    8 -0.130474 -104.379573   104.379573  ",
      "text/html": "<div>\n<style scoped>\n    .dataframe tbody tr th:only-of-type {\n        vertical-align: middle;\n    }\n\n    .dataframe tbody tr th {\n        vertical-align: top;\n    }\n\n    .dataframe thead th {\n        text-align: right;\n    }\n</style>\n<table border=\"1\" class=\"dataframe\">\n  <thead>\n    <tr style=\"text-align: right;\">\n      <th></th>\n      <th>contractSymbol</th>\n      <th>underlying</th>\n      <th>expDate</th>\n      <th>daysToExp</th>\n      <th>optionType</th>\n      <th>strike</th>\n      <th>position</th>\n      <th>number_of_contracts</th>\n      <th>delta</th>\n      <th>delta_pos</th>\n      <th>DH_quantity</th>\n    </tr>\n  </thead>\n  <tbody>\n    <tr>\n      <th>0</th>\n      <td>JPM230428P00124000</td>\n      <td>JPM</td>\n      <td>2023-04-28 23:59:59</td>\n      <td>10</td>\n      <td>put</td>\n      <td>124.0</td>\n      <td>1</td>\n      <td>8</td>\n      <td>-0.130474</td>\n      <td>-104.379573</td>\n      <td>104.379573</td>\n    </tr>\n  </tbody>\n</table>\n</div>"
     },
     "execution_count": 21,
     "metadata": {},
     "output_type": "execute_result"
    }
   ],
   "source": [
    "df_portfolio = add_option(option_chain=df, df_portfolio=df_portfolio, contract='JPM230428P00124000', number_of_contracts=8, spot=141.38, position=1 )\n",
    "df_portfolio"
   ],
   "metadata": {
    "collapsed": false,
    "pycharm": {
     "name": "#%%\n"
    }
   }
  },
  {
   "cell_type": "code",
   "execution_count": 5,
   "outputs": [],
   "source": [
    "def rebalance(df_portfolio, market_price, spot, r=0.05):\n",
    "\n",
    "    for contract in list(df_portfolio['contractSymbol']):\n",
    "\n",
    "        option = df_portfolio[ df_portfolio['contractSymbol'] == contract ].reset_index(drop=True).to_dict()\n",
    "        #option = df_portfolio[ df_portfolio['contractSymbol'] == 'JPM230421C00110000' ].reset_index(drop=True).to_dict()\n",
    "\n",
    "        strike = option['strike'][0]\n",
    "        time = (option['expDate'][0] - datetime.datetime.today()).days + 1\n",
    "        type = option['optionType'][0]\n",
    "        number_of_contracts = option['number_of_contracts'][0]\n",
    "        position = option['position'][0]\n",
    "\n",
    "        iv = opt_vol(market_price=market_price, spot=spot, strike=strike, r=r, time=time)\n",
    "\n",
    "        #opt.imp_vol(market_price=market_price, spot=spot, strike=strike, time=time, r=r, type=type, precision=1.0e-5, iterations=200)\n",
    "        # here can get data from moex/yf directly\n",
    "        #print(iv)\n",
    "\n",
    "        delta = opt.delta(r=r,\n",
    "                      spot=spot,\n",
    "                      strike=strike,\n",
    "                      time=time,\n",
    "                      sigma=iv,  # can change to our formula\n",
    "                      type=type)\n",
    "\n",
    "\n",
    "        delta_pos = delta * 100 * number_of_contracts\n",
    "        DH_quantity = position * abs(delta) * 100 * number_of_contracts\n",
    "\n",
    "        df_portfolio.loc[df_portfolio['contractSymbol'] == contract] = [option['contractSymbol'][0],\n",
    "                                             'JPM',\n",
    "                                             option['expDate'][0], # datetime.strptime( _ , '%Y-%m-%d %H:%M:%S')\n",
    "                                             time,\n",
    "                                             type,\n",
    "                                             strike,\n",
    "                                             position,\n",
    "                                             number_of_contracts,\n",
    "                                             delta,\n",
    "                                             delta_pos,\n",
    "                                             DH_quantity]\n",
    "    return df_portfolio"
   ],
   "metadata": {
    "collapsed": false,
    "pycharm": {
     "name": "#%%\n"
    }
   }
  },
  {
   "cell_type": "code",
   "execution_count": 22,
   "outputs": [],
   "source": [
    "df_portfolio = rebalance(df_portfolio=df_portfolio, market_price=6.8, spot=139, r=0.05)"
   ],
   "metadata": {
    "collapsed": false,
    "pycharm": {
     "name": "#%%\n"
    }
   }
  },
  {
   "cell_type": "code",
   "execution_count": 23,
   "outputs": [
    {
     "data": {
      "text/plain": "       contractSymbol underlying             expDate  daysToExp optionType  \\\n0  JPM230428P00124000        JPM 2023-04-28 23:59:59         10        put   \n\n   strike  position  number_of_contracts         delta     delta_pos  \\\n0   124.0         1                    8 -6.858572e-17 -5.486858e-14   \n\n    DH_quantity  \n0  5.486858e-14  ",
      "text/html": "<div>\n<style scoped>\n    .dataframe tbody tr th:only-of-type {\n        vertical-align: middle;\n    }\n\n    .dataframe tbody tr th {\n        vertical-align: top;\n    }\n\n    .dataframe thead th {\n        text-align: right;\n    }\n</style>\n<table border=\"1\" class=\"dataframe\">\n  <thead>\n    <tr style=\"text-align: right;\">\n      <th></th>\n      <th>contractSymbol</th>\n      <th>underlying</th>\n      <th>expDate</th>\n      <th>daysToExp</th>\n      <th>optionType</th>\n      <th>strike</th>\n      <th>position</th>\n      <th>number_of_contracts</th>\n      <th>delta</th>\n      <th>delta_pos</th>\n      <th>DH_quantity</th>\n    </tr>\n  </thead>\n  <tbody>\n    <tr>\n      <th>0</th>\n      <td>JPM230428P00124000</td>\n      <td>JPM</td>\n      <td>2023-04-28 23:59:59</td>\n      <td>10</td>\n      <td>put</td>\n      <td>124.0</td>\n      <td>1</td>\n      <td>8</td>\n      <td>-6.858572e-17</td>\n      <td>-5.486858e-14</td>\n      <td>5.486858e-14</td>\n    </tr>\n  </tbody>\n</table>\n</div>"
     },
     "execution_count": 23,
     "metadata": {},
     "output_type": "execute_result"
    }
   ],
   "source": [
    "df_portfolio"
   ],
   "metadata": {
    "collapsed": false,
    "pycharm": {
     "name": "#%%\n"
    }
   }
  },
  {
   "cell_type": "markdown",
   "source": [
    "# Delta Hedging Simulaton"
   ],
   "metadata": {
    "collapsed": false,
    "pycharm": {
     "name": "#%% md\n"
    }
   }
  },
  {
   "cell_type": "code",
   "execution_count": 6,
   "outputs": [],
   "source": [
    "def gbm(n_years = 10, n_scenarios=1000, mu=0.07, sigma=0.15, steps_per_year=12, s_0=100.0, prices=True):\n",
    "    \"\"\"\n",
    "    Evolution of Geometric Brownian Motion trajectories, such as for Stock Prices through Monte Carlo\n",
    "    :param n_years:  The number of years to generate data for\n",
    "    :param n_scenarios: The number of scenarios/trajectories aka number of columns in ret dataset\n",
    "    :param mu: Annualized Drift, e.g. Market Return\n",
    "    :param sigma: Annualized Volatility\n",
    "    :param steps_per_year: granularity of the simulation\n",
    "    :param s_0: initial value\n",
    "    :return: a numpy array of n_paths columns and n_years*steps_per_year rows\n",
    "    \"\"\"\n",
    "    # Derive per-step Model Parameters from User Specifications\n",
    "    dt = 1/steps_per_year\n",
    "    n_steps = int(n_years*steps_per_year) + 1\n",
    "    # the standard way ...\n",
    "    # rets_plus_1 = np.random.normal(loc=mu*dt+1, scale=sigma*np.sqrt(dt), size=(n_steps, n_scenarios))\n",
    "    # without discretization error ...\n",
    "    rets_plus_1 = np.random.normal(loc=(1+mu)**dt, scale=(sigma*np.sqrt(dt)), size=(n_steps, n_scenarios))\n",
    "    rets_plus_1[0] = 1\n",
    "    ret_val = s_0*pd.DataFrame(rets_plus_1).cumprod() if prices else rets_plus_1-1\n",
    "    return ret_val"
   ],
   "metadata": {
    "collapsed": false,
    "pycharm": {
     "name": "#%%\n"
    }
   }
  },
  {
   "cell_type": "code",
   "execution_count": 30,
   "outputs": [
    {
     "data": {
      "text/plain": "       contractSymbol underlying             expDate  daysToExp optionType  \\\n0  JPM230428C00145000        JPM 2023-04-28 23:59:59         10       call   \n\n   strike  position  number_of_contracts     delta   delta_pos  DH_quantity  \n0   145.0         1                    8  0.889051  711.241187   711.241187  ",
      "text/html": "<div>\n<style scoped>\n    .dataframe tbody tr th:only-of-type {\n        vertical-align: middle;\n    }\n\n    .dataframe tbody tr th {\n        vertical-align: top;\n    }\n\n    .dataframe thead th {\n        text-align: right;\n    }\n</style>\n<table border=\"1\" class=\"dataframe\">\n  <thead>\n    <tr style=\"text-align: right;\">\n      <th></th>\n      <th>contractSymbol</th>\n      <th>underlying</th>\n      <th>expDate</th>\n      <th>daysToExp</th>\n      <th>optionType</th>\n      <th>strike</th>\n      <th>position</th>\n      <th>number_of_contracts</th>\n      <th>delta</th>\n      <th>delta_pos</th>\n      <th>DH_quantity</th>\n    </tr>\n  </thead>\n  <tbody>\n    <tr>\n      <th>0</th>\n      <td>JPM230428C00145000</td>\n      <td>JPM</td>\n      <td>2023-04-28 23:59:59</td>\n      <td>10</td>\n      <td>call</td>\n      <td>145.0</td>\n      <td>1</td>\n      <td>8</td>\n      <td>0.889051</td>\n      <td>711.241187</td>\n      <td>711.241187</td>\n    </tr>\n  </tbody>\n</table>\n</div>"
     },
     "execution_count": 30,
     "metadata": {},
     "output_type": "execute_result"
    }
   ],
   "source": [
    "df_portfolio = create_portfolio()\n",
    "df_portfolio = add_option(option_chain=df, df_portfolio=df_portfolio, contract='JPM230428C00145000', number_of_contracts=8, spot=141.38, position=1 )\n",
    "df_portfolio"
   ],
   "metadata": {
    "collapsed": false,
    "pycharm": {
     "name": "#%%\n"
    }
   }
  },
  {
   "cell_type": "code",
   "execution_count": 42,
   "outputs": [],
   "source": [
    "scenario_underlying = gbm(n_scenarios=1, s_0=120, mu=.002)\n",
    "option_scenario = gbm(n_scenarios=1, s_0=25, mu=-.002)"
   ],
   "metadata": {
    "collapsed": false,
    "pycharm": {
     "name": "#%%\n"
    }
   }
  },
  {
   "cell_type": "code",
   "execution_count": 43,
   "outputs": [
    {
     "name": "stdout",
     "output_type": "stream",
     "text": [
      "0\n",
      "1\n",
      "2\n",
      "3\n",
      "4\n",
      "5\n",
      "6\n",
      "7\n",
      "8\n",
      "9\n",
      "10\n",
      "11\n",
      "12\n",
      "13\n",
      "14\n",
      "15\n",
      "16\n",
      "17\n",
      "18\n",
      "19\n",
      "20\n",
      "21\n",
      "22\n",
      "23\n",
      "24\n",
      "25\n",
      "26\n",
      "27\n",
      "28\n",
      "29\n",
      "30\n",
      "31\n",
      "32\n",
      "33\n",
      "34\n",
      "35\n",
      "36\n",
      "37\n",
      "38\n",
      "39\n",
      "40\n",
      "41\n",
      "42\n",
      "43\n",
      "44\n",
      "45\n",
      "46\n",
      "47\n",
      "48\n",
      "49\n",
      "50\n",
      "51\n",
      "52\n",
      "53\n",
      "54\n",
      "55\n",
      "56\n",
      "57\n",
      "58\n",
      "59\n",
      "60\n",
      "61\n",
      "62\n",
      "63\n",
      "64\n",
      "65\n",
      "66\n",
      "67\n",
      "68\n",
      "69\n",
      "70\n",
      "71\n",
      "72\n",
      "73\n",
      "74\n",
      "75\n",
      "76\n",
      "77\n",
      "78\n",
      "79\n",
      "80\n",
      "81\n",
      "82\n",
      "83\n",
      "84\n",
      "85\n",
      "86\n",
      "87\n",
      "88\n",
      "89\n",
      "90\n",
      "91\n",
      "92\n",
      "93\n",
      "94\n",
      "95\n",
      "96\n",
      "97\n",
      "98\n",
      "99\n",
      "100\n",
      "101\n",
      "102\n",
      "103\n",
      "104\n",
      "105\n",
      "106\n",
      "107\n",
      "108\n",
      "109\n",
      "110\n",
      "111\n",
      "112\n",
      "113\n",
      "114\n",
      "115\n",
      "116\n",
      "117\n",
      "118\n",
      "119\n",
      "120\n"
     ]
    }
   ],
   "source": [
    "history = pd.DataFrame({'underlying_price': [], 'option_price': [], 'delta': [], 'delta_pos': [], 'DH_quantity': []})\n",
    "\n",
    "for step in range(scenario_underlying.shape[0]):\n",
    "\n",
    "    print(step)\n",
    "\n",
    "    spot = float(scenario_underlying.iloc[step])\n",
    "    option_market_price = float(option_scenario.iloc[step])\n",
    "    rebalanced_df = rebalance(df_portfolio=df_portfolio, market_price=option_market_price, spot=spot)\n",
    "\n",
    "    for contract in list(df_portfolio['contractSymbol']):\n",
    "        option = df_portfolio[ df_portfolio['contractSymbol'] == contract].reset_index(drop=True).to_dict()\n",
    "        history.loc[len(history.index)] = [ spot, option_market_price,  option['delta'][0], option['delta_pos'][0], option['DH_quantity'][0]]\n",
    "\n",
    "    df_portfolio = rebalanced_df\n"
   ],
   "metadata": {
    "collapsed": false,
    "pycharm": {
     "name": "#%%\n"
    }
   }
  },
  {
   "cell_type": "code",
   "execution_count": 44,
   "outputs": [
    {
     "data": {
      "text/plain": "     underlying_price  option_price     delta   delta_pos  DH_quantity\n0          120.000000     25.000000  1.000000  800.000000   800.000000\n1          124.916913     25.605208  1.000000  800.000000   800.000000\n2          124.329545     23.428332  1.000000  800.000000   800.000000\n3          117.594141     23.865859  1.000000  800.000000   800.000000\n4          118.967166     23.980574  1.000000  800.000000   800.000000\n..                ...           ...       ...         ...          ...\n116         43.283285     28.466316  0.801661  641.329079   641.329079\n117         38.936785     26.338949  0.811040  648.831927   648.831927\n118         41.809500     24.974322  0.761140  608.911725   608.911725\n119         41.116829     25.818674  0.780930  624.743681   624.743681\n120         41.336270     24.701927  0.760942  608.753295   608.753295\n\n[121 rows x 5 columns]",
      "text/html": "<div>\n<style scoped>\n    .dataframe tbody tr th:only-of-type {\n        vertical-align: middle;\n    }\n\n    .dataframe tbody tr th {\n        vertical-align: top;\n    }\n\n    .dataframe thead th {\n        text-align: right;\n    }\n</style>\n<table border=\"1\" class=\"dataframe\">\n  <thead>\n    <tr style=\"text-align: right;\">\n      <th></th>\n      <th>underlying_price</th>\n      <th>option_price</th>\n      <th>delta</th>\n      <th>delta_pos</th>\n      <th>DH_quantity</th>\n    </tr>\n  </thead>\n  <tbody>\n    <tr>\n      <th>0</th>\n      <td>120.000000</td>\n      <td>25.000000</td>\n      <td>1.000000</td>\n      <td>800.000000</td>\n      <td>800.000000</td>\n    </tr>\n    <tr>\n      <th>1</th>\n      <td>124.916913</td>\n      <td>25.605208</td>\n      <td>1.000000</td>\n      <td>800.000000</td>\n      <td>800.000000</td>\n    </tr>\n    <tr>\n      <th>2</th>\n      <td>124.329545</td>\n      <td>23.428332</td>\n      <td>1.000000</td>\n      <td>800.000000</td>\n      <td>800.000000</td>\n    </tr>\n    <tr>\n      <th>3</th>\n      <td>117.594141</td>\n      <td>23.865859</td>\n      <td>1.000000</td>\n      <td>800.000000</td>\n      <td>800.000000</td>\n    </tr>\n    <tr>\n      <th>4</th>\n      <td>118.967166</td>\n      <td>23.980574</td>\n      <td>1.000000</td>\n      <td>800.000000</td>\n      <td>800.000000</td>\n    </tr>\n    <tr>\n      <th>...</th>\n      <td>...</td>\n      <td>...</td>\n      <td>...</td>\n      <td>...</td>\n      <td>...</td>\n    </tr>\n    <tr>\n      <th>116</th>\n      <td>43.283285</td>\n      <td>28.466316</td>\n      <td>0.801661</td>\n      <td>641.329079</td>\n      <td>641.329079</td>\n    </tr>\n    <tr>\n      <th>117</th>\n      <td>38.936785</td>\n      <td>26.338949</td>\n      <td>0.811040</td>\n      <td>648.831927</td>\n      <td>648.831927</td>\n    </tr>\n    <tr>\n      <th>118</th>\n      <td>41.809500</td>\n      <td>24.974322</td>\n      <td>0.761140</td>\n      <td>608.911725</td>\n      <td>608.911725</td>\n    </tr>\n    <tr>\n      <th>119</th>\n      <td>41.116829</td>\n      <td>25.818674</td>\n      <td>0.780930</td>\n      <td>624.743681</td>\n      <td>624.743681</td>\n    </tr>\n    <tr>\n      <th>120</th>\n      <td>41.336270</td>\n      <td>24.701927</td>\n      <td>0.760942</td>\n      <td>608.753295</td>\n      <td>608.753295</td>\n    </tr>\n  </tbody>\n</table>\n<p>121 rows × 5 columns</p>\n</div>"
     },
     "execution_count": 44,
     "metadata": {},
     "output_type": "execute_result"
    }
   ],
   "source": [
    " history"
   ],
   "metadata": {
    "collapsed": false,
    "pycharm": {
     "name": "#%%\n"
    }
   }
  },
  {
   "cell_type": "code",
   "execution_count": null,
   "outputs": [],
   "source": [
    "\"\"\"if oi - of / si - sf = delta why we calc it with bsm\n",
    "if d h replicates bond why not bond use, for selling premium or just conv\"\"\""
   ],
   "metadata": {
    "collapsed": false,
    "pycharm": {
     "name": "#%%\n"
    }
   }
  },
  {
   "cell_type": "code",
   "execution_count": 11,
   "outputs": [
    {
     "data": {
      "text/plain": "       contractSymbol underlying             expDate  daysToExp optionType  \\\n0  JPM230428C00145000        JPM 2023-04-28 23:59:59          9       call   \n\n   strike  position  number_of_contracts     delta   delta_pos  DH_quantity  \n0   145.0         1                    8  0.865104  692.083287   692.083287  ",
      "text/html": "<div>\n<style scoped>\n    .dataframe tbody tr th:only-of-type {\n        vertical-align: middle;\n    }\n\n    .dataframe tbody tr th {\n        vertical-align: top;\n    }\n\n    .dataframe thead th {\n        text-align: right;\n    }\n</style>\n<table border=\"1\" class=\"dataframe\">\n  <thead>\n    <tr style=\"text-align: right;\">\n      <th></th>\n      <th>contractSymbol</th>\n      <th>underlying</th>\n      <th>expDate</th>\n      <th>daysToExp</th>\n      <th>optionType</th>\n      <th>strike</th>\n      <th>position</th>\n      <th>number_of_contracts</th>\n      <th>delta</th>\n      <th>delta_pos</th>\n      <th>DH_quantity</th>\n    </tr>\n  </thead>\n  <tbody>\n    <tr>\n      <th>0</th>\n      <td>JPM230428C00145000</td>\n      <td>JPM</td>\n      <td>2023-04-28 23:59:59</td>\n      <td>9</td>\n      <td>call</td>\n      <td>145.0</td>\n      <td>1</td>\n      <td>8</td>\n      <td>0.865104</td>\n      <td>692.083287</td>\n      <td>692.083287</td>\n    </tr>\n  </tbody>\n</table>\n</div>"
     },
     "execution_count": 11,
     "metadata": {},
     "output_type": "execute_result"
    }
   ],
   "source": [
    "df_portfolio = create_portfolio()\n",
    "df_portfolio = add_option(option_chain=df, df_portfolio=df_portfolio, contract='JPM230428C00145000', number_of_contracts=8, spot=141.38, position=1 )\n",
    "df_portfolio"
   ],
   "metadata": {
    "collapsed": false,
    "pycharm": {
     "name": "#%%\n"
    }
   }
  },
  {
   "cell_type": "code",
   "execution_count": 12,
   "outputs": [],
   "source": [
    "scenario_underlying = gbm(n_scenarios=1, s_0=120, mu=.002)\n",
    "option_scenario = gbm(n_scenarios=1, s_0=25, mu=-.002)"
   ],
   "metadata": {
    "collapsed": false,
    "pycharm": {
     "name": "#%%\n"
    }
   }
  },
  {
   "cell_type": "code",
   "execution_count": 17,
   "outputs": [
    {
     "name": "stdout",
     "output_type": "stream",
     "text": [
      "0\n",
      "1\n",
      "2\n",
      "3\n",
      "4\n",
      "5\n",
      "6\n",
      "7\n",
      "8\n",
      "9\n",
      "10\n",
      "11\n",
      "12\n",
      "13\n",
      "14\n",
      "15\n",
      "16\n",
      "17\n",
      "18\n",
      "19\n",
      "20\n",
      "21\n",
      "22\n",
      "23\n",
      "24\n",
      "25\n",
      "26\n",
      "27\n",
      "28\n",
      "29\n",
      "30\n",
      "31\n",
      "32\n",
      "33\n",
      "34\n",
      "35\n",
      "36\n",
      "37\n",
      "38\n",
      "39\n",
      "40\n",
      "41\n",
      "42\n",
      "43\n",
      "44\n",
      "45\n",
      "46\n",
      "47\n",
      "48\n",
      "49\n",
      "50\n",
      "51\n",
      "52\n",
      "53\n",
      "54\n",
      "55\n",
      "56\n",
      "57\n",
      "58\n",
      "59\n",
      "60\n",
      "61\n",
      "62\n",
      "63\n",
      "64\n",
      "65\n",
      "66\n",
      "67\n",
      "68\n",
      "69\n",
      "70\n",
      "71\n",
      "72\n",
      "73\n",
      "74\n",
      "75\n",
      "76\n",
      "77\n",
      "78\n",
      "79\n",
      "80\n",
      "81\n",
      "82\n",
      "83\n",
      "84\n",
      "85\n",
      "86\n",
      "87\n",
      "88\n",
      "89\n",
      "90\n",
      "91\n",
      "92\n",
      "93\n",
      "94\n",
      "95\n",
      "96\n",
      "97\n",
      "98\n",
      "99\n",
      "100\n",
      "101\n",
      "102\n",
      "103\n",
      "104\n",
      "105\n",
      "106\n",
      "107\n",
      "108\n",
      "109\n",
      "110\n",
      "111\n",
      "112\n",
      "113\n",
      "114\n",
      "115\n",
      "116\n",
      "117\n",
      "118\n",
      "119\n",
      "120\n"
     ]
    }
   ],
   "source": [
    "history = pd.DataFrame({'underlying_price': [], 'option_price': [],\n",
    "                        'delta': [], 'delta_pos': [],\n",
    "                        'DH_quantity': [], 'underlying_needed': [], 'underlying_pos': []})\n",
    "\n",
    "for step in range(scenario_underlying.shape[0]):\n",
    "\n",
    "    print(step)\n",
    "\n",
    "    spot = float(scenario_underlying.iloc[step])\n",
    "    option_market_price = float(option_scenario.iloc[step])\n",
    "    rebalanced_df = rebalance(df_portfolio=df_portfolio, market_price=option_market_price, spot=spot)\n",
    "\n",
    "    for contract in list(df_portfolio['contractSymbol']):\n",
    "        option = df_portfolio[ df_portfolio['contractSymbol'] == contract].reset_index(drop=True).to_dict()\n",
    "        history.loc[len(history.index)] = [ spot, option_market_price,\n",
    "                                            option['delta'][0], option['delta_pos'][0],\n",
    "                                            option['DH_quantity'][0], option['DH_quantity'][0]/spot, -np.sign(option['delta_pos'][0])]\n",
    "\n",
    "    df_portfolio = rebalanced_df\n"
   ],
   "metadata": {
    "collapsed": false,
    "pycharm": {
     "name": "#%%\n"
    }
   }
  },
  {
   "cell_type": "code",
   "execution_count": 18,
   "outputs": [
    {
     "data": {
      "text/plain": "     underlying_price  option_price     delta   delta_pos  DH_quantity  \\\n0          120.000000     25.000000  1.000000  800.000000   800.000000   \n1          110.080640     24.780115  0.747941  598.352480   598.352480   \n2          116.122338     27.083789  0.829282  663.425445   663.425445   \n3          113.456048     27.919812  0.769023  615.218568   615.218568   \n4          110.983356     28.541619  0.736963  589.570399   589.570399   \n..                ...           ...       ...         ...          ...   \n116         61.418184     24.251426  0.642706  514.164786   514.164786   \n117         61.399870     23.375081  0.632300  505.840114   505.840114   \n118         62.095566     23.821407  0.635551  508.441182   508.441182   \n119         61.225318     24.921022  0.651187  520.949711   520.949711   \n120         62.351163     25.261175  0.651590  521.271995   521.271995   \n\n     underlying_needed  underlying_pos  \n0             6.666667            -1.0  \n1             5.435583            -1.0  \n2             5.713160            -1.0  \n3             5.422528            -1.0  \n4             5.312242            -1.0  \n..                 ...             ...  \n116           8.371540            -1.0  \n117           8.238456            -1.0  \n118           8.188043            -1.0  \n119           8.508730            -1.0  \n120           8.360261            -1.0  \n\n[121 rows x 7 columns]",
      "text/html": "<div>\n<style scoped>\n    .dataframe tbody tr th:only-of-type {\n        vertical-align: middle;\n    }\n\n    .dataframe tbody tr th {\n        vertical-align: top;\n    }\n\n    .dataframe thead th {\n        text-align: right;\n    }\n</style>\n<table border=\"1\" class=\"dataframe\">\n  <thead>\n    <tr style=\"text-align: right;\">\n      <th></th>\n      <th>underlying_price</th>\n      <th>option_price</th>\n      <th>delta</th>\n      <th>delta_pos</th>\n      <th>DH_quantity</th>\n      <th>underlying_needed</th>\n      <th>underlying_pos</th>\n    </tr>\n  </thead>\n  <tbody>\n    <tr>\n      <th>0</th>\n      <td>120.000000</td>\n      <td>25.000000</td>\n      <td>1.000000</td>\n      <td>800.000000</td>\n      <td>800.000000</td>\n      <td>6.666667</td>\n      <td>-1.0</td>\n    </tr>\n    <tr>\n      <th>1</th>\n      <td>110.080640</td>\n      <td>24.780115</td>\n      <td>0.747941</td>\n      <td>598.352480</td>\n      <td>598.352480</td>\n      <td>5.435583</td>\n      <td>-1.0</td>\n    </tr>\n    <tr>\n      <th>2</th>\n      <td>116.122338</td>\n      <td>27.083789</td>\n      <td>0.829282</td>\n      <td>663.425445</td>\n      <td>663.425445</td>\n      <td>5.713160</td>\n      <td>-1.0</td>\n    </tr>\n    <tr>\n      <th>3</th>\n      <td>113.456048</td>\n      <td>27.919812</td>\n      <td>0.769023</td>\n      <td>615.218568</td>\n      <td>615.218568</td>\n      <td>5.422528</td>\n      <td>-1.0</td>\n    </tr>\n    <tr>\n      <th>4</th>\n      <td>110.983356</td>\n      <td>28.541619</td>\n      <td>0.736963</td>\n      <td>589.570399</td>\n      <td>589.570399</td>\n      <td>5.312242</td>\n      <td>-1.0</td>\n    </tr>\n    <tr>\n      <th>...</th>\n      <td>...</td>\n      <td>...</td>\n      <td>...</td>\n      <td>...</td>\n      <td>...</td>\n      <td>...</td>\n      <td>...</td>\n    </tr>\n    <tr>\n      <th>116</th>\n      <td>61.418184</td>\n      <td>24.251426</td>\n      <td>0.642706</td>\n      <td>514.164786</td>\n      <td>514.164786</td>\n      <td>8.371540</td>\n      <td>-1.0</td>\n    </tr>\n    <tr>\n      <th>117</th>\n      <td>61.399870</td>\n      <td>23.375081</td>\n      <td>0.632300</td>\n      <td>505.840114</td>\n      <td>505.840114</td>\n      <td>8.238456</td>\n      <td>-1.0</td>\n    </tr>\n    <tr>\n      <th>118</th>\n      <td>62.095566</td>\n      <td>23.821407</td>\n      <td>0.635551</td>\n      <td>508.441182</td>\n      <td>508.441182</td>\n      <td>8.188043</td>\n      <td>-1.0</td>\n    </tr>\n    <tr>\n      <th>119</th>\n      <td>61.225318</td>\n      <td>24.921022</td>\n      <td>0.651187</td>\n      <td>520.949711</td>\n      <td>520.949711</td>\n      <td>8.508730</td>\n      <td>-1.0</td>\n    </tr>\n    <tr>\n      <th>120</th>\n      <td>62.351163</td>\n      <td>25.261175</td>\n      <td>0.651590</td>\n      <td>521.271995</td>\n      <td>521.271995</td>\n      <td>8.360261</td>\n      <td>-1.0</td>\n    </tr>\n  </tbody>\n</table>\n<p>121 rows × 7 columns</p>\n</div>"
     },
     "execution_count": 18,
     "metadata": {},
     "output_type": "execute_result"
    }
   ],
   "source": [
    "history"
   ],
   "metadata": {
    "collapsed": false,
    "pycharm": {
     "name": "#%%\n"
    }
   }
  },
  {
   "cell_type": "code",
   "execution_count": null,
   "outputs": [],
   "source": [],
   "metadata": {
    "collapsed": false,
    "pycharm": {
     "name": "#%%\n"
    }
   }
  }
 ],
 "metadata": {
  "kernelspec": {
   "display_name": "Python 3",
   "language": "python",
   "name": "python3"
  },
  "language_info": {
   "codemirror_mode": {
    "name": "ipython",
    "version": 2
   },
   "file_extension": ".py",
   "mimetype": "text/x-python",
   "name": "python",
   "nbconvert_exporter": "python",
   "pygments_lexer": "ipython2",
   "version": "2.7.6"
  }
 },
 "nbformat": 4,
 "nbformat_minor": 0
}