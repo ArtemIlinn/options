{
 "cells": [
  {
   "cell_type": "markdown",
   "source": [
    "# $Getting$ $Data$ $(Option$ $Chains)$ $from$ $Yahoo$ $Finance.$\n",
    "# $(Step-by-step$ $Guide).$"
   ],
   "metadata": {
    "collapsed": false,
    "pycharm": {
     "name": "#%% md\n"
    }
   }
  },
  {
   "cell_type": "markdown",
   "source": [
    "For such purpose will ned the following python libraries:"
   ],
   "metadata": {
    "collapsed": false,
    "pycharm": {
     "name": "#%% md\n"
    }
   }
  },
  {
   "cell_type": "code",
   "execution_count": 1,
   "outputs": [],
   "source": [
    "import pandas as pd\n",
    "import datetime\n",
    "import yfinance as yf"
   ],
   "metadata": {
    "collapsed": false,
    "pycharm": {
     "name": "#%%\n"
    }
   }
  },
  {
   "cell_type": "markdown",
   "source": [
    "For example let's consider stock of JPMorgan Chase & Co. as an underlying asset."
   ],
   "metadata": {
    "collapsed": false,
    "pycharm": {
     "name": "#%% md\n"
    }
   }
  },
  {
   "cell_type": "code",
   "execution_count": 2,
   "outputs": [],
   "source": [
    "underlying = yf.Ticker(\"JPM\")"
   ],
   "metadata": {
    "collapsed": false,
    "pycharm": {
     "name": "#%%\n"
    }
   }
  },
  {
   "cell_type": "markdown",
   "source": [
    "The \".options\" will provide us with dates options on JPM expire, meanwhile \".option_chain\" will give us of puts and calls referring the following way:\n",
    "(Also, we'll pick date 2025/01/17 as an example."
   ],
   "metadata": {
    "collapsed": false,
    "pycharm": {
     "name": "#%% md\n"
    }
   }
  },
  {
   "cell_type": "code",
   "execution_count": 3,
   "outputs": [
    {
     "data": {
      "text/plain": "('2023-02-03',\n '2023-02-10',\n '2023-02-17',\n '2023-02-24',\n '2023-03-03',\n '2023-03-10',\n '2023-03-17',\n '2023-04-21',\n '2023-06-16',\n '2023-07-21',\n '2023-09-15',\n '2024-01-19',\n '2024-06-21',\n '2025-01-17')"
     },
     "execution_count": 3,
     "metadata": {},
     "output_type": "execute_result"
    }
   ],
   "source": [
    "expirations_dates = underlying.options\n",
    "expirations_dates"
   ],
   "metadata": {
    "collapsed": false,
    "pycharm": {
     "name": "#%%\n"
    }
   }
  },
  {
   "cell_type": "code",
   "execution_count": 4,
   "outputs": [],
   "source": [
    "date  = '2025-01-17'"
   ],
   "metadata": {
    "collapsed": false,
    "pycharm": {
     "name": "#%%\n"
    }
   }
  },
  {
   "cell_type": "code",
   "execution_count": 5,
   "outputs": [],
   "source": [
    "opt = underlying.option_chain(date)"
   ],
   "metadata": {
    "collapsed": false,
    "pycharm": {
     "name": "#%%\n"
    }
   }
  },
  {
   "cell_type": "code",
   "execution_count": 6,
   "outputs": [
    {
     "data": {
      "text/plain": "       contractSymbol             lastTradeDate  strike  lastPrice   bid  \\\n0  JPM250117C00055000 2023-01-18 19:26:25+00:00    55.0      82.85   0.0   \n1  JPM250117C00060000 2023-01-31 19:10:03+00:00    60.0      80.00   0.0   \n2  JPM250117C00065000 2023-01-27 17:54:04+00:00    65.0      76.50   0.0   \n3  JPM250117C00070000 2023-01-18 19:23:50+00:00    70.0      69.00   0.0   \n4  JPM250117C00075000 2023-01-03 14:35:42+00:00    75.0      62.88  64.8   \n\n     ask  change  percentChange  volume  openInterest  impliedVolatility  \\\n0   0.00     0.0            0.0       2             0           0.000010   \n1   0.00     0.0            0.0       1             0           0.000010   \n2   0.00     0.0            0.0       1             0           0.000010   \n3   0.00     0.0            0.0       2             0           0.000010   \n4  68.75     0.0            0.0     130           169           0.431646   \n\n   inTheMoney contractSize currency  \n0        True      REGULAR      USD  \n1        True      REGULAR      USD  \n2        True      REGULAR      USD  \n3        True      REGULAR      USD  \n4        True      REGULAR      USD  ",
      "text/html": "<div>\n<style scoped>\n    .dataframe tbody tr th:only-of-type {\n        vertical-align: middle;\n    }\n\n    .dataframe tbody tr th {\n        vertical-align: top;\n    }\n\n    .dataframe thead th {\n        text-align: right;\n    }\n</style>\n<table border=\"1\" class=\"dataframe\">\n  <thead>\n    <tr style=\"text-align: right;\">\n      <th></th>\n      <th>contractSymbol</th>\n      <th>lastTradeDate</th>\n      <th>strike</th>\n      <th>lastPrice</th>\n      <th>bid</th>\n      <th>ask</th>\n      <th>change</th>\n      <th>percentChange</th>\n      <th>volume</th>\n      <th>openInterest</th>\n      <th>impliedVolatility</th>\n      <th>inTheMoney</th>\n      <th>contractSize</th>\n      <th>currency</th>\n    </tr>\n  </thead>\n  <tbody>\n    <tr>\n      <th>0</th>\n      <td>JPM250117C00055000</td>\n      <td>2023-01-18 19:26:25+00:00</td>\n      <td>55.0</td>\n      <td>82.85</td>\n      <td>0.0</td>\n      <td>0.00</td>\n      <td>0.0</td>\n      <td>0.0</td>\n      <td>2</td>\n      <td>0</td>\n      <td>0.000010</td>\n      <td>True</td>\n      <td>REGULAR</td>\n      <td>USD</td>\n    </tr>\n    <tr>\n      <th>1</th>\n      <td>JPM250117C00060000</td>\n      <td>2023-01-31 19:10:03+00:00</td>\n      <td>60.0</td>\n      <td>80.00</td>\n      <td>0.0</td>\n      <td>0.00</td>\n      <td>0.0</td>\n      <td>0.0</td>\n      <td>1</td>\n      <td>0</td>\n      <td>0.000010</td>\n      <td>True</td>\n      <td>REGULAR</td>\n      <td>USD</td>\n    </tr>\n    <tr>\n      <th>2</th>\n      <td>JPM250117C00065000</td>\n      <td>2023-01-27 17:54:04+00:00</td>\n      <td>65.0</td>\n      <td>76.50</td>\n      <td>0.0</td>\n      <td>0.00</td>\n      <td>0.0</td>\n      <td>0.0</td>\n      <td>1</td>\n      <td>0</td>\n      <td>0.000010</td>\n      <td>True</td>\n      <td>REGULAR</td>\n      <td>USD</td>\n    </tr>\n    <tr>\n      <th>3</th>\n      <td>JPM250117C00070000</td>\n      <td>2023-01-18 19:23:50+00:00</td>\n      <td>70.0</td>\n      <td>69.00</td>\n      <td>0.0</td>\n      <td>0.00</td>\n      <td>0.0</td>\n      <td>0.0</td>\n      <td>2</td>\n      <td>0</td>\n      <td>0.000010</td>\n      <td>True</td>\n      <td>REGULAR</td>\n      <td>USD</td>\n    </tr>\n    <tr>\n      <th>4</th>\n      <td>JPM250117C00075000</td>\n      <td>2023-01-03 14:35:42+00:00</td>\n      <td>75.0</td>\n      <td>62.88</td>\n      <td>64.8</td>\n      <td>68.75</td>\n      <td>0.0</td>\n      <td>0.0</td>\n      <td>130</td>\n      <td>169</td>\n      <td>0.431646</td>\n      <td>True</td>\n      <td>REGULAR</td>\n      <td>USD</td>\n    </tr>\n  </tbody>\n</table>\n</div>"
     },
     "execution_count": 6,
     "metadata": {},
     "output_type": "execute_result"
    }
   ],
   "source": [
    "opt.calls.head()"
   ],
   "metadata": {
    "collapsed": false,
    "pycharm": {
     "name": "#%%\n"
    }
   }
  },
  {
   "cell_type": "code",
   "execution_count": 7,
   "outputs": [
    {
     "data": {
      "text/plain": "       contractSymbol             lastTradeDate  strike  lastPrice  bid  ask  \\\n0  JPM250117P00055000 2023-02-01 19:27:46+00:00    55.0       0.96  0.0  0.0   \n1  JPM250117P00060000 2023-02-01 19:30:13+00:00    60.0       1.18  0.0  0.0   \n2  JPM250117P00065000 2023-01-30 18:28:09+00:00    65.0       1.47  0.0  0.0   \n3  JPM250117P00070000 2023-01-24 20:05:32+00:00    70.0       1.72  0.0  0.0   \n4  JPM250117P00075000 2023-02-01 19:21:27+00:00    75.0       2.11  0.0  0.0   \n\n   change  percentChange  volume  openInterest  impliedVolatility  inTheMoney  \\\n0     0.0            0.0       8             0           0.125009       False   \n1     0.0            0.0       8             0           0.125009       False   \n2     0.0            0.0       2             0           0.125009       False   \n3     0.0            0.0       1             0           0.125009       False   \n4     0.0            0.0       4             0           0.125009       False   \n\n  contractSize currency  \n0      REGULAR      USD  \n1      REGULAR      USD  \n2      REGULAR      USD  \n3      REGULAR      USD  \n4      REGULAR      USD  ",
      "text/html": "<div>\n<style scoped>\n    .dataframe tbody tr th:only-of-type {\n        vertical-align: middle;\n    }\n\n    .dataframe tbody tr th {\n        vertical-align: top;\n    }\n\n    .dataframe thead th {\n        text-align: right;\n    }\n</style>\n<table border=\"1\" class=\"dataframe\">\n  <thead>\n    <tr style=\"text-align: right;\">\n      <th></th>\n      <th>contractSymbol</th>\n      <th>lastTradeDate</th>\n      <th>strike</th>\n      <th>lastPrice</th>\n      <th>bid</th>\n      <th>ask</th>\n      <th>change</th>\n      <th>percentChange</th>\n      <th>volume</th>\n      <th>openInterest</th>\n      <th>impliedVolatility</th>\n      <th>inTheMoney</th>\n      <th>contractSize</th>\n      <th>currency</th>\n    </tr>\n  </thead>\n  <tbody>\n    <tr>\n      <th>0</th>\n      <td>JPM250117P00055000</td>\n      <td>2023-02-01 19:27:46+00:00</td>\n      <td>55.0</td>\n      <td>0.96</td>\n      <td>0.0</td>\n      <td>0.0</td>\n      <td>0.0</td>\n      <td>0.0</td>\n      <td>8</td>\n      <td>0</td>\n      <td>0.125009</td>\n      <td>False</td>\n      <td>REGULAR</td>\n      <td>USD</td>\n    </tr>\n    <tr>\n      <th>1</th>\n      <td>JPM250117P00060000</td>\n      <td>2023-02-01 19:30:13+00:00</td>\n      <td>60.0</td>\n      <td>1.18</td>\n      <td>0.0</td>\n      <td>0.0</td>\n      <td>0.0</td>\n      <td>0.0</td>\n      <td>8</td>\n      <td>0</td>\n      <td>0.125009</td>\n      <td>False</td>\n      <td>REGULAR</td>\n      <td>USD</td>\n    </tr>\n    <tr>\n      <th>2</th>\n      <td>JPM250117P00065000</td>\n      <td>2023-01-30 18:28:09+00:00</td>\n      <td>65.0</td>\n      <td>1.47</td>\n      <td>0.0</td>\n      <td>0.0</td>\n      <td>0.0</td>\n      <td>0.0</td>\n      <td>2</td>\n      <td>0</td>\n      <td>0.125009</td>\n      <td>False</td>\n      <td>REGULAR</td>\n      <td>USD</td>\n    </tr>\n    <tr>\n      <th>3</th>\n      <td>JPM250117P00070000</td>\n      <td>2023-01-24 20:05:32+00:00</td>\n      <td>70.0</td>\n      <td>1.72</td>\n      <td>0.0</td>\n      <td>0.0</td>\n      <td>0.0</td>\n      <td>0.0</td>\n      <td>1</td>\n      <td>0</td>\n      <td>0.125009</td>\n      <td>False</td>\n      <td>REGULAR</td>\n      <td>USD</td>\n    </tr>\n    <tr>\n      <th>4</th>\n      <td>JPM250117P00075000</td>\n      <td>2023-02-01 19:21:27+00:00</td>\n      <td>75.0</td>\n      <td>2.11</td>\n      <td>0.0</td>\n      <td>0.0</td>\n      <td>0.0</td>\n      <td>0.0</td>\n      <td>4</td>\n      <td>0</td>\n      <td>0.125009</td>\n      <td>False</td>\n      <td>REGULAR</td>\n      <td>USD</td>\n    </tr>\n  </tbody>\n</table>\n</div>"
     },
     "execution_count": 7,
     "metadata": {},
     "output_type": "execute_result"
    }
   ],
   "source": [
    "opt.puts.head()"
   ],
   "metadata": {
    "collapsed": false,
    "pycharm": {
     "name": "#%%\n"
    }
   }
  },
  {
   "cell_type": "code",
   "execution_count": 8,
   "outputs": [],
   "source": [
    "def yf_get_chains(ticker):\n",
    "    \"\"\"\n",
    "    Loads option chains data for a particular ticker from Yahoo Finance\n",
    "    \"\"\"\n",
    "\n",
    "    underlying = yf.Ticker(ticker)  ## addressing the underlying asset of an options\n",
    "    expiration_dates = underlying.options  ## and dates of expiration\n",
    "\n",
    "    opt_data = pd.DataFrame()  ## constructing the dataframe we will return\n",
    "\n",
    "    for ed in expiration_dates:\n",
    "        opt = underlying.option_chain(ed)  ## getting data for a specific date\n",
    "\n",
    "        calls, puts = opt.calls, opt.puts  ## call and puts\n",
    "        calls['optionType'], puts['optionType'] = 'call', 'puts'  ## adding types of options to the df\n",
    "\n",
    "        ed_chain = pd.concat([calls, puts])\n",
    "        ed_chain['expDate'] = pd.to_datetime(ed) + pd.DateOffset(hours=23, minutes=59, seconds=59)\n",
    "        ## adding date of expiration\n",
    "\n",
    "        opt_data = pd.concat([opt_data, ed_chain])  ## adding data to the main df\n",
    "\n",
    "    opt_data['daysToExp'] = (opt_data.expDate - datetime.datetime.today()).dt.days + 1\n",
    "    ## additionally let's compute days until expiration date\n",
    "\n",
    "    return opt_data"
   ],
   "metadata": {
    "collapsed": false,
    "pycharm": {
     "name": "#%%\n"
    }
   }
  },
  {
   "cell_type": "code",
   "execution_count": 9,
   "outputs": [],
   "source": [
    "ticker = 'JPM'"
   ],
   "metadata": {
    "collapsed": false,
    "pycharm": {
     "name": "#%%\n"
    }
   }
  },
  {
   "cell_type": "code",
   "execution_count": 10,
   "outputs": [
    {
     "data": {
      "text/plain": "       contractSymbol             lastTradeDate  strike  lastPrice    bid  \\\n0  JPM230203C00100000 2023-01-03 19:38:02+00:00   100.0      34.05  38.80   \n1  JPM230203C00105000 2023-01-03 18:15:30+00:00   105.0      29.37  33.60   \n2  JPM230203C00110000 2023-02-02 16:27:29+00:00   110.0      29.74   0.00   \n3  JPM230203C00115000 2022-12-30 17:53:27+00:00   115.0      19.00  25.15   \n4  JPM230203C00117000 2023-01-27 16:08:18+00:00   117.0      22.90   0.00   \n\n     ask  change  percentChange  volume  openInterest  impliedVolatility  \\\n0  39.00     0.0            0.0   100.0             0           2.718753   \n1  34.25     0.0            0.0     1.0             0           3.054690   \n2   0.00     0.0            0.0    10.0             0           0.000010   \n3  25.60     0.0            0.0     6.0             0           3.248049   \n4   0.00     0.0            0.0     7.0             0           0.000010   \n\n   inTheMoney contractSize currency optionType             expDate  daysToExp  \n0        True      REGULAR      USD       call 2023-02-03 23:59:59          1  \n1        True      REGULAR      USD       call 2023-02-03 23:59:59          1  \n2        True      REGULAR      USD       call 2023-02-03 23:59:59          1  \n3        True      REGULAR      USD       call 2023-02-03 23:59:59          1  \n4        True      REGULAR      USD       call 2023-02-03 23:59:59          1  ",
      "text/html": "<div>\n<style scoped>\n    .dataframe tbody tr th:only-of-type {\n        vertical-align: middle;\n    }\n\n    .dataframe tbody tr th {\n        vertical-align: top;\n    }\n\n    .dataframe thead th {\n        text-align: right;\n    }\n</style>\n<table border=\"1\" class=\"dataframe\">\n  <thead>\n    <tr style=\"text-align: right;\">\n      <th></th>\n      <th>contractSymbol</th>\n      <th>lastTradeDate</th>\n      <th>strike</th>\n      <th>lastPrice</th>\n      <th>bid</th>\n      <th>ask</th>\n      <th>change</th>\n      <th>percentChange</th>\n      <th>volume</th>\n      <th>openInterest</th>\n      <th>impliedVolatility</th>\n      <th>inTheMoney</th>\n      <th>contractSize</th>\n      <th>currency</th>\n      <th>optionType</th>\n      <th>expDate</th>\n      <th>daysToExp</th>\n    </tr>\n  </thead>\n  <tbody>\n    <tr>\n      <th>0</th>\n      <td>JPM230203C00100000</td>\n      <td>2023-01-03 19:38:02+00:00</td>\n      <td>100.0</td>\n      <td>34.05</td>\n      <td>38.80</td>\n      <td>39.00</td>\n      <td>0.0</td>\n      <td>0.0</td>\n      <td>100.0</td>\n      <td>0</td>\n      <td>2.718753</td>\n      <td>True</td>\n      <td>REGULAR</td>\n      <td>USD</td>\n      <td>call</td>\n      <td>2023-02-03 23:59:59</td>\n      <td>1</td>\n    </tr>\n    <tr>\n      <th>1</th>\n      <td>JPM230203C00105000</td>\n      <td>2023-01-03 18:15:30+00:00</td>\n      <td>105.0</td>\n      <td>29.37</td>\n      <td>33.60</td>\n      <td>34.25</td>\n      <td>0.0</td>\n      <td>0.0</td>\n      <td>1.0</td>\n      <td>0</td>\n      <td>3.054690</td>\n      <td>True</td>\n      <td>REGULAR</td>\n      <td>USD</td>\n      <td>call</td>\n      <td>2023-02-03 23:59:59</td>\n      <td>1</td>\n    </tr>\n    <tr>\n      <th>2</th>\n      <td>JPM230203C00110000</td>\n      <td>2023-02-02 16:27:29+00:00</td>\n      <td>110.0</td>\n      <td>29.74</td>\n      <td>0.00</td>\n      <td>0.00</td>\n      <td>0.0</td>\n      <td>0.0</td>\n      <td>10.0</td>\n      <td>0</td>\n      <td>0.000010</td>\n      <td>True</td>\n      <td>REGULAR</td>\n      <td>USD</td>\n      <td>call</td>\n      <td>2023-02-03 23:59:59</td>\n      <td>1</td>\n    </tr>\n    <tr>\n      <th>3</th>\n      <td>JPM230203C00115000</td>\n      <td>2022-12-30 17:53:27+00:00</td>\n      <td>115.0</td>\n      <td>19.00</td>\n      <td>25.15</td>\n      <td>25.60</td>\n      <td>0.0</td>\n      <td>0.0</td>\n      <td>6.0</td>\n      <td>0</td>\n      <td>3.248049</td>\n      <td>True</td>\n      <td>REGULAR</td>\n      <td>USD</td>\n      <td>call</td>\n      <td>2023-02-03 23:59:59</td>\n      <td>1</td>\n    </tr>\n    <tr>\n      <th>4</th>\n      <td>JPM230203C00117000</td>\n      <td>2023-01-27 16:08:18+00:00</td>\n      <td>117.0</td>\n      <td>22.90</td>\n      <td>0.00</td>\n      <td>0.00</td>\n      <td>0.0</td>\n      <td>0.0</td>\n      <td>7.0</td>\n      <td>0</td>\n      <td>0.000010</td>\n      <td>True</td>\n      <td>REGULAR</td>\n      <td>USD</td>\n      <td>call</td>\n      <td>2023-02-03 23:59:59</td>\n      <td>1</td>\n    </tr>\n  </tbody>\n</table>\n</div>"
     },
     "execution_count": 10,
     "metadata": {},
     "output_type": "execute_result"
    }
   ],
   "source": [
    "jpm_yf = yf_get_chains(ticker)\n",
    "jpm_yf.head()"
   ],
   "metadata": {
    "collapsed": false,
    "pycharm": {
     "name": "#%%\n"
    }
   }
  },
  {
   "cell_type": "code",
   "execution_count": 11,
   "outputs": [
    {
     "name": "stdout",
     "output_type": "stream",
     "text": [
      "14\n",
      "14\n"
     ]
    }
   ],
   "source": [
    "print(len(expirations_dates))\n",
    "print(jpm_yf.expDate.unique().shape[0])"
   ],
   "metadata": {
    "collapsed": false,
    "pycharm": {
     "name": "#%%\n"
    }
   }
  },
  {
   "cell_type": "markdown",
   "source": [
    "## Here we go, dataset is constructed and ready to use.\n",
    "Please, notice that for dynamic update of days until expiration (column \"daysToExp\" one has to run function again. Thus it might become outdated as time passes.\n"
   ],
   "metadata": {
    "collapsed": false,
    "pycharm": {
     "name": "#%% md\n"
    }
   }
  },
  {
   "cell_type": "code",
   "execution_count": null,
   "outputs": [],
   "source": [],
   "metadata": {
    "collapsed": false,
    "pycharm": {
     "name": "#%%\n"
    }
   }
  }
 ],
 "metadata": {
  "kernelspec": {
   "display_name": "Python 3",
   "language": "python",
   "name": "python3"
  },
  "language_info": {
   "codemirror_mode": {
    "name": "ipython",
    "version": 2
   },
   "file_extension": ".py",
   "mimetype": "text/x-python",
   "name": "python",
   "nbconvert_exporter": "python",
   "pygments_lexer": "ipython2",
   "version": "2.7.6"
  }
 },
 "nbformat": 4,
 "nbformat_minor": 0
}
