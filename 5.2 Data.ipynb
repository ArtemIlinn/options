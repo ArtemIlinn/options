{
 "cells": [
  {
   "cell_type": "code",
   "execution_count": 1,
   "metadata": {
    "collapsed": true,
    "pycharm": {
     "name": "#%%\n"
    }
   },
   "outputs": [],
   "source": [
    "import pandas as pd\n",
    "import numpy as np"
   ]
  },
  {
   "cell_type": "markdown",
   "source": [
    "# CBOE"
   ],
   "metadata": {
    "collapsed": false,
    "pycharm": {
     "name": "#%% md\n"
    }
   }
  },
  {
   "cell_type": "code",
   "execution_count": 10,
   "outputs": [
    {
     "data": {
      "text/plain": "  Trade Month Options Class Underlying Product Type Exchange  Volume\n0     2023/01            2A          A            S     CBOE     276\n1     2023/01             A          A            S     CBOE    1575\n2     2023/01            AA         AA            S     CBOE   86253\n3     2023/01           AAC        AAC            S     CBOE     367\n4     2023/01          AAIC       AAIC            S     CBOE      15\n5     2023/01           AAL        AAL            S     CBOE  356158\n6     2023/01           AAN        AAN            S     CBOE     692\n7     2023/01          AAOI       AAOI            S     CBOE     614\n8     2023/01          AAON       AAON            S     CBOE       6\n9     2023/01           AAP        AAP            S     CBOE    3314",
      "text/html": "<div>\n<style scoped>\n    .dataframe tbody tr th:only-of-type {\n        vertical-align: middle;\n    }\n\n    .dataframe tbody tr th {\n        vertical-align: top;\n    }\n\n    .dataframe thead th {\n        text-align: right;\n    }\n</style>\n<table border=\"1\" class=\"dataframe\">\n  <thead>\n    <tr style=\"text-align: right;\">\n      <th></th>\n      <th>Trade Month</th>\n      <th>Options Class</th>\n      <th>Underlying</th>\n      <th>Product Type</th>\n      <th>Exchange</th>\n      <th>Volume</th>\n    </tr>\n  </thead>\n  <tbody>\n    <tr>\n      <th>0</th>\n      <td>2023/01</td>\n      <td>2A</td>\n      <td>A</td>\n      <td>S</td>\n      <td>CBOE</td>\n      <td>276</td>\n    </tr>\n    <tr>\n      <th>1</th>\n      <td>2023/01</td>\n      <td>A</td>\n      <td>A</td>\n      <td>S</td>\n      <td>CBOE</td>\n      <td>1575</td>\n    </tr>\n    <tr>\n      <th>2</th>\n      <td>2023/01</td>\n      <td>AA</td>\n      <td>AA</td>\n      <td>S</td>\n      <td>CBOE</td>\n      <td>86253</td>\n    </tr>\n    <tr>\n      <th>3</th>\n      <td>2023/01</td>\n      <td>AAC</td>\n      <td>AAC</td>\n      <td>S</td>\n      <td>CBOE</td>\n      <td>367</td>\n    </tr>\n    <tr>\n      <th>4</th>\n      <td>2023/01</td>\n      <td>AAIC</td>\n      <td>AAIC</td>\n      <td>S</td>\n      <td>CBOE</td>\n      <td>15</td>\n    </tr>\n    <tr>\n      <th>5</th>\n      <td>2023/01</td>\n      <td>AAL</td>\n      <td>AAL</td>\n      <td>S</td>\n      <td>CBOE</td>\n      <td>356158</td>\n    </tr>\n    <tr>\n      <th>6</th>\n      <td>2023/01</td>\n      <td>AAN</td>\n      <td>AAN</td>\n      <td>S</td>\n      <td>CBOE</td>\n      <td>692</td>\n    </tr>\n    <tr>\n      <th>7</th>\n      <td>2023/01</td>\n      <td>AAOI</td>\n      <td>AAOI</td>\n      <td>S</td>\n      <td>CBOE</td>\n      <td>614</td>\n    </tr>\n    <tr>\n      <th>8</th>\n      <td>2023/01</td>\n      <td>AAON</td>\n      <td>AAON</td>\n      <td>S</td>\n      <td>CBOE</td>\n      <td>6</td>\n    </tr>\n    <tr>\n      <th>9</th>\n      <td>2023/01</td>\n      <td>AAP</td>\n      <td>AAP</td>\n      <td>S</td>\n      <td>CBOE</td>\n      <td>3314</td>\n    </tr>\n  </tbody>\n</table>\n</div>"
     },
     "execution_count": 10,
     "metadata": {},
     "output_type": "execute_result"
    }
   ],
   "source": [
    "pd.read_csv('/Users/artemilin/Downloads/monthly_volume_2023.csv').head(10)"
   ],
   "metadata": {
    "collapsed": false,
    "pycharm": {
     "name": "#%%\n"
    }
   }
  },
  {
   "cell_type": "code",
   "execution_count": 12,
   "outputs": [
    {
     "data": {
      "text/plain": "   Trade Date Options Class Underlying Product Type Exchange  \\\n0  2023/05/08           JPM        JPM            S     BATS   \n1  2023/05/08           JPM        JPM            S       C2   \n2  2023/05/08           JPM        JPM            S     CBOE   \n3  2023/05/08           JPM        JPM            S     EDGX   \n4  2023/05/15           JPM        JPM            S     BATS   \n5  2023/05/15           JPM        JPM            S       C2   \n6  2023/05/15           JPM        JPM            S     CBOE   \n7  2023/05/15           JPM        JPM            S     EDGX   \n\n   Average Daily Volume  \n0                  3510  \n1                  2727  \n2                  5186  \n3                  3024  \n4                  3105  \n5                  2993  \n6                  7198  \n7                  2257  ",
      "text/html": "<div>\n<style scoped>\n    .dataframe tbody tr th:only-of-type {\n        vertical-align: middle;\n    }\n\n    .dataframe tbody tr th {\n        vertical-align: top;\n    }\n\n    .dataframe thead th {\n        text-align: right;\n    }\n</style>\n<table border=\"1\" class=\"dataframe\">\n  <thead>\n    <tr style=\"text-align: right;\">\n      <th></th>\n      <th>Trade Date</th>\n      <th>Options Class</th>\n      <th>Underlying</th>\n      <th>Product Type</th>\n      <th>Exchange</th>\n      <th>Average Daily Volume</th>\n    </tr>\n  </thead>\n  <tbody>\n    <tr>\n      <th>0</th>\n      <td>2023/05/08</td>\n      <td>JPM</td>\n      <td>JPM</td>\n      <td>S</td>\n      <td>BATS</td>\n      <td>3510</td>\n    </tr>\n    <tr>\n      <th>1</th>\n      <td>2023/05/08</td>\n      <td>JPM</td>\n      <td>JPM</td>\n      <td>S</td>\n      <td>C2</td>\n      <td>2727</td>\n    </tr>\n    <tr>\n      <th>2</th>\n      <td>2023/05/08</td>\n      <td>JPM</td>\n      <td>JPM</td>\n      <td>S</td>\n      <td>CBOE</td>\n      <td>5186</td>\n    </tr>\n    <tr>\n      <th>3</th>\n      <td>2023/05/08</td>\n      <td>JPM</td>\n      <td>JPM</td>\n      <td>S</td>\n      <td>EDGX</td>\n      <td>3024</td>\n    </tr>\n    <tr>\n      <th>4</th>\n      <td>2023/05/15</td>\n      <td>JPM</td>\n      <td>JPM</td>\n      <td>S</td>\n      <td>BATS</td>\n      <td>3105</td>\n    </tr>\n    <tr>\n      <th>5</th>\n      <td>2023/05/15</td>\n      <td>JPM</td>\n      <td>JPM</td>\n      <td>S</td>\n      <td>C2</td>\n      <td>2993</td>\n    </tr>\n    <tr>\n      <th>6</th>\n      <td>2023/05/15</td>\n      <td>JPM</td>\n      <td>JPM</td>\n      <td>S</td>\n      <td>CBOE</td>\n      <td>7198</td>\n    </tr>\n    <tr>\n      <th>7</th>\n      <td>2023/05/15</td>\n      <td>JPM</td>\n      <td>JPM</td>\n      <td>S</td>\n      <td>EDGX</td>\n      <td>2257</td>\n    </tr>\n  </tbody>\n</table>\n</div>"
     },
     "execution_count": 12,
     "metadata": {},
     "output_type": "execute_result"
    }
   ],
   "source": [
    "pd.read_csv('/Users/artemilin/Downloads/weekly_volume_JPM_2023-05-08_2023-05-15.csv')"
   ],
   "metadata": {
    "collapsed": false,
    "pycharm": {
     "name": "#%%\n"
    }
   }
  },
  {
   "cell_type": "markdown",
   "source": [
    "# historicaloptiondata.com"
   ],
   "metadata": {
    "collapsed": false,
    "pycharm": {
     "name": "#%% md\n"
    }
   }
  },
  {
   "cell_type": "code",
   "execution_count": 13,
   "outputs": [
    {
     "data": {
      "text/plain": "  symbol  quotedate      open    high       low     close    volume  \\\n0      A  8/15/2019   71.9400   72.65   69.4200   69.5900   6659766   \n1     AA  8/15/2019   17.6000   17.74   16.6814   16.9200   3940287   \n2   AABA  8/15/2019   70.1600   70.22   69.8500   69.9000   3863849   \n3    AAC  8/15/2019    0.6892    0.70    0.5000    0.6189   1436267   \n4    AAL  8/15/2019   26.2000   26.31   25.1400   25.4100  10026227   \n5    AAN  8/15/2019   64.0400   64.05   62.0779   62.5000    365467   \n6   AAOI  8/15/2019    9.2100    9.28    8.7872    8.8800    658329   \n7   AAON  8/15/2019   44.6500   45.64   44.3400   45.3700     80218   \n8    AAP  8/15/2019  137.2100  138.27  135.4600  137.5000   1926530   \n9   AAPL  8/15/2019  203.4600  205.14  199.6700  201.7400  27092117   \n\n   adjustedclose  \n0        69.5900  \n1        16.9200  \n2        69.9000  \n3         0.6189  \n4        25.4100  \n5        62.5000  \n6         8.8800  \n7        45.3700  \n8       137.5000  \n9       201.7400  ",
      "text/html": "<div>\n<style scoped>\n    .dataframe tbody tr th:only-of-type {\n        vertical-align: middle;\n    }\n\n    .dataframe tbody tr th {\n        vertical-align: top;\n    }\n\n    .dataframe thead th {\n        text-align: right;\n    }\n</style>\n<table border=\"1\" class=\"dataframe\">\n  <thead>\n    <tr style=\"text-align: right;\">\n      <th></th>\n      <th>symbol</th>\n      <th>quotedate</th>\n      <th>open</th>\n      <th>high</th>\n      <th>low</th>\n      <th>close</th>\n      <th>volume</th>\n      <th>adjustedclose</th>\n    </tr>\n  </thead>\n  <tbody>\n    <tr>\n      <th>0</th>\n      <td>A</td>\n      <td>8/15/2019</td>\n      <td>71.9400</td>\n      <td>72.65</td>\n      <td>69.4200</td>\n      <td>69.5900</td>\n      <td>6659766</td>\n      <td>69.5900</td>\n    </tr>\n    <tr>\n      <th>1</th>\n      <td>AA</td>\n      <td>8/15/2019</td>\n      <td>17.6000</td>\n      <td>17.74</td>\n      <td>16.6814</td>\n      <td>16.9200</td>\n      <td>3940287</td>\n      <td>16.9200</td>\n    </tr>\n    <tr>\n      <th>2</th>\n      <td>AABA</td>\n      <td>8/15/2019</td>\n      <td>70.1600</td>\n      <td>70.22</td>\n      <td>69.8500</td>\n      <td>69.9000</td>\n      <td>3863849</td>\n      <td>69.9000</td>\n    </tr>\n    <tr>\n      <th>3</th>\n      <td>AAC</td>\n      <td>8/15/2019</td>\n      <td>0.6892</td>\n      <td>0.70</td>\n      <td>0.5000</td>\n      <td>0.6189</td>\n      <td>1436267</td>\n      <td>0.6189</td>\n    </tr>\n    <tr>\n      <th>4</th>\n      <td>AAL</td>\n      <td>8/15/2019</td>\n      <td>26.2000</td>\n      <td>26.31</td>\n      <td>25.1400</td>\n      <td>25.4100</td>\n      <td>10026227</td>\n      <td>25.4100</td>\n    </tr>\n    <tr>\n      <th>5</th>\n      <td>AAN</td>\n      <td>8/15/2019</td>\n      <td>64.0400</td>\n      <td>64.05</td>\n      <td>62.0779</td>\n      <td>62.5000</td>\n      <td>365467</td>\n      <td>62.5000</td>\n    </tr>\n    <tr>\n      <th>6</th>\n      <td>AAOI</td>\n      <td>8/15/2019</td>\n      <td>9.2100</td>\n      <td>9.28</td>\n      <td>8.7872</td>\n      <td>8.8800</td>\n      <td>658329</td>\n      <td>8.8800</td>\n    </tr>\n    <tr>\n      <th>7</th>\n      <td>AAON</td>\n      <td>8/15/2019</td>\n      <td>44.6500</td>\n      <td>45.64</td>\n      <td>44.3400</td>\n      <td>45.3700</td>\n      <td>80218</td>\n      <td>45.3700</td>\n    </tr>\n    <tr>\n      <th>8</th>\n      <td>AAP</td>\n      <td>8/15/2019</td>\n      <td>137.2100</td>\n      <td>138.27</td>\n      <td>135.4600</td>\n      <td>137.5000</td>\n      <td>1926530</td>\n      <td>137.5000</td>\n    </tr>\n    <tr>\n      <th>9</th>\n      <td>AAPL</td>\n      <td>8/15/2019</td>\n      <td>203.4600</td>\n      <td>205.14</td>\n      <td>199.6700</td>\n      <td>201.7400</td>\n      <td>27092117</td>\n      <td>201.7400</td>\n    </tr>\n  </tbody>\n</table>\n</div>"
     },
     "execution_count": 13,
     "metadata": {},
     "output_type": "execute_result"
    }
   ],
   "source": [
    "pd.read_csv('/Users/artemilin/Downloads/Sample_L3_20190815/L3_stockquotes_20190815.csv').head(10)"
   ],
   "metadata": {
    "collapsed": false,
    "pycharm": {
     "name": "#%%\n"
    }
   }
  },
  {
   "cell_type": "code",
   "execution_count": 14,
   "outputs": [
    {
     "data": {
      "text/plain": "  UnderlyingSymbol  UnderlyingPrice Flags      OptionSymbol  Type  Expiration  \\\n0                A            69.59     *  A190816C00042500  call  08/16/2019   \n1                A            69.59     *  A190816P00042500   put  08/16/2019   \n2                A            69.59     *  A190816C00045000  call  08/16/2019   \n3                A            69.59     *  A190816P00045000   put  08/16/2019   \n4                A            69.59     *  A190816C00047500  call  08/16/2019   \n5                A            69.59     *  A190816P00047500   put  08/16/2019   \n6                A            69.59     *  A190816C00050000  call  08/16/2019   \n7                A            69.59     *  A190816P00050000   put  08/16/2019   \n8                A            69.59     *  A190816C00055000  call  08/16/2019   \n9                A            69.59     *  A190816P00055000   put  08/16/2019   \n\n     DataDate  Strike   Last    Bid  ...  OpenInterest  T1OpenInterest  \\\n0  08/15/2019    42.5   0.00  25.05  ...             0               0   \n1  08/15/2019    42.5   0.00   0.00  ...             0               0   \n2  08/15/2019    45.0   0.00  22.35  ...             0               0   \n3  08/15/2019    45.0   0.00   0.00  ...             0               0   \n4  08/15/2019    47.5   0.00  19.85  ...             0               0   \n5  08/15/2019    47.5   0.12   0.00  ...            29              29   \n6  08/15/2019    50.0  21.05  17.30  ...             9               7   \n7  08/15/2019    50.0   0.07   0.00  ...            19              19   \n8  08/15/2019    55.0   0.00  12.50  ...             0               0   \n9  08/15/2019    55.0   0.10   0.00  ...           216             216   \n\n   IVMean  IVBid    IVAsk  Delta  Gamma   Theta  Vega               AKA  \n0  1.0356    0.0  16.8732    1.0    0.0 -0.9762   0.0  A190816C00042500  \n1  1.2329    0.0   7.0399    0.0    0.0  0.0000   0.0  A190816P00042500  \n2  1.0356    0.0  15.4143    1.0    0.0 -1.0336   0.0  A190816C00045000  \n3  1.2329    0.0   6.2996    0.0    0.0  0.0000   0.0  A190816P00045000  \n4  1.0356    0.0  13.8022    1.0    0.0 -1.0910   0.0  A190816C00047500  \n5  1.2329    0.0   5.5947    0.0    0.0  0.0000   0.0  A190816P00047500  \n6  1.0356    0.0  11.0532    1.0    0.0 -1.1484   0.0  A190816C00050000  \n7  1.2329    0.0   4.1668    0.0    0.0  0.0000   0.0  A190816P00050000  \n8  1.0356    0.0  10.0757    1.0    0.0 -1.2633   0.0  A190816C00055000  \n9  1.2329    0.0   3.0612    0.0    0.0  0.0000   0.0  A190816P00055000  \n\n[10 rows x 22 columns]",
      "text/html": "<div>\n<style scoped>\n    .dataframe tbody tr th:only-of-type {\n        vertical-align: middle;\n    }\n\n    .dataframe tbody tr th {\n        vertical-align: top;\n    }\n\n    .dataframe thead th {\n        text-align: right;\n    }\n</style>\n<table border=\"1\" class=\"dataframe\">\n  <thead>\n    <tr style=\"text-align: right;\">\n      <th></th>\n      <th>UnderlyingSymbol</th>\n      <th>UnderlyingPrice</th>\n      <th>Flags</th>\n      <th>OptionSymbol</th>\n      <th>Type</th>\n      <th>Expiration</th>\n      <th>DataDate</th>\n      <th>Strike</th>\n      <th>Last</th>\n      <th>Bid</th>\n      <th>...</th>\n      <th>OpenInterest</th>\n      <th>T1OpenInterest</th>\n      <th>IVMean</th>\n      <th>IVBid</th>\n      <th>IVAsk</th>\n      <th>Delta</th>\n      <th>Gamma</th>\n      <th>Theta</th>\n      <th>Vega</th>\n      <th>AKA</th>\n    </tr>\n  </thead>\n  <tbody>\n    <tr>\n      <th>0</th>\n      <td>A</td>\n      <td>69.59</td>\n      <td>*</td>\n      <td>A190816C00042500</td>\n      <td>call</td>\n      <td>08/16/2019</td>\n      <td>08/15/2019</td>\n      <td>42.5</td>\n      <td>0.00</td>\n      <td>25.05</td>\n      <td>...</td>\n      <td>0</td>\n      <td>0</td>\n      <td>1.0356</td>\n      <td>0.0</td>\n      <td>16.8732</td>\n      <td>1.0</td>\n      <td>0.0</td>\n      <td>-0.9762</td>\n      <td>0.0</td>\n      <td>A190816C00042500</td>\n    </tr>\n    <tr>\n      <th>1</th>\n      <td>A</td>\n      <td>69.59</td>\n      <td>*</td>\n      <td>A190816P00042500</td>\n      <td>put</td>\n      <td>08/16/2019</td>\n      <td>08/15/2019</td>\n      <td>42.5</td>\n      <td>0.00</td>\n      <td>0.00</td>\n      <td>...</td>\n      <td>0</td>\n      <td>0</td>\n      <td>1.2329</td>\n      <td>0.0</td>\n      <td>7.0399</td>\n      <td>0.0</td>\n      <td>0.0</td>\n      <td>0.0000</td>\n      <td>0.0</td>\n      <td>A190816P00042500</td>\n    </tr>\n    <tr>\n      <th>2</th>\n      <td>A</td>\n      <td>69.59</td>\n      <td>*</td>\n      <td>A190816C00045000</td>\n      <td>call</td>\n      <td>08/16/2019</td>\n      <td>08/15/2019</td>\n      <td>45.0</td>\n      <td>0.00</td>\n      <td>22.35</td>\n      <td>...</td>\n      <td>0</td>\n      <td>0</td>\n      <td>1.0356</td>\n      <td>0.0</td>\n      <td>15.4143</td>\n      <td>1.0</td>\n      <td>0.0</td>\n      <td>-1.0336</td>\n      <td>0.0</td>\n      <td>A190816C00045000</td>\n    </tr>\n    <tr>\n      <th>3</th>\n      <td>A</td>\n      <td>69.59</td>\n      <td>*</td>\n      <td>A190816P00045000</td>\n      <td>put</td>\n      <td>08/16/2019</td>\n      <td>08/15/2019</td>\n      <td>45.0</td>\n      <td>0.00</td>\n      <td>0.00</td>\n      <td>...</td>\n      <td>0</td>\n      <td>0</td>\n      <td>1.2329</td>\n      <td>0.0</td>\n      <td>6.2996</td>\n      <td>0.0</td>\n      <td>0.0</td>\n      <td>0.0000</td>\n      <td>0.0</td>\n      <td>A190816P00045000</td>\n    </tr>\n    <tr>\n      <th>4</th>\n      <td>A</td>\n      <td>69.59</td>\n      <td>*</td>\n      <td>A190816C00047500</td>\n      <td>call</td>\n      <td>08/16/2019</td>\n      <td>08/15/2019</td>\n      <td>47.5</td>\n      <td>0.00</td>\n      <td>19.85</td>\n      <td>...</td>\n      <td>0</td>\n      <td>0</td>\n      <td>1.0356</td>\n      <td>0.0</td>\n      <td>13.8022</td>\n      <td>1.0</td>\n      <td>0.0</td>\n      <td>-1.0910</td>\n      <td>0.0</td>\n      <td>A190816C00047500</td>\n    </tr>\n    <tr>\n      <th>5</th>\n      <td>A</td>\n      <td>69.59</td>\n      <td>*</td>\n      <td>A190816P00047500</td>\n      <td>put</td>\n      <td>08/16/2019</td>\n      <td>08/15/2019</td>\n      <td>47.5</td>\n      <td>0.12</td>\n      <td>0.00</td>\n      <td>...</td>\n      <td>29</td>\n      <td>29</td>\n      <td>1.2329</td>\n      <td>0.0</td>\n      <td>5.5947</td>\n      <td>0.0</td>\n      <td>0.0</td>\n      <td>0.0000</td>\n      <td>0.0</td>\n      <td>A190816P00047500</td>\n    </tr>\n    <tr>\n      <th>6</th>\n      <td>A</td>\n      <td>69.59</td>\n      <td>*</td>\n      <td>A190816C00050000</td>\n      <td>call</td>\n      <td>08/16/2019</td>\n      <td>08/15/2019</td>\n      <td>50.0</td>\n      <td>21.05</td>\n      <td>17.30</td>\n      <td>...</td>\n      <td>9</td>\n      <td>7</td>\n      <td>1.0356</td>\n      <td>0.0</td>\n      <td>11.0532</td>\n      <td>1.0</td>\n      <td>0.0</td>\n      <td>-1.1484</td>\n      <td>0.0</td>\n      <td>A190816C00050000</td>\n    </tr>\n    <tr>\n      <th>7</th>\n      <td>A</td>\n      <td>69.59</td>\n      <td>*</td>\n      <td>A190816P00050000</td>\n      <td>put</td>\n      <td>08/16/2019</td>\n      <td>08/15/2019</td>\n      <td>50.0</td>\n      <td>0.07</td>\n      <td>0.00</td>\n      <td>...</td>\n      <td>19</td>\n      <td>19</td>\n      <td>1.2329</td>\n      <td>0.0</td>\n      <td>4.1668</td>\n      <td>0.0</td>\n      <td>0.0</td>\n      <td>0.0000</td>\n      <td>0.0</td>\n      <td>A190816P00050000</td>\n    </tr>\n    <tr>\n      <th>8</th>\n      <td>A</td>\n      <td>69.59</td>\n      <td>*</td>\n      <td>A190816C00055000</td>\n      <td>call</td>\n      <td>08/16/2019</td>\n      <td>08/15/2019</td>\n      <td>55.0</td>\n      <td>0.00</td>\n      <td>12.50</td>\n      <td>...</td>\n      <td>0</td>\n      <td>0</td>\n      <td>1.0356</td>\n      <td>0.0</td>\n      <td>10.0757</td>\n      <td>1.0</td>\n      <td>0.0</td>\n      <td>-1.2633</td>\n      <td>0.0</td>\n      <td>A190816C00055000</td>\n    </tr>\n    <tr>\n      <th>9</th>\n      <td>A</td>\n      <td>69.59</td>\n      <td>*</td>\n      <td>A190816P00055000</td>\n      <td>put</td>\n      <td>08/16/2019</td>\n      <td>08/15/2019</td>\n      <td>55.0</td>\n      <td>0.10</td>\n      <td>0.00</td>\n      <td>...</td>\n      <td>216</td>\n      <td>216</td>\n      <td>1.2329</td>\n      <td>0.0</td>\n      <td>3.0612</td>\n      <td>0.0</td>\n      <td>0.0</td>\n      <td>0.0000</td>\n      <td>0.0</td>\n      <td>A190816P00055000</td>\n    </tr>\n  </tbody>\n</table>\n<p>10 rows × 22 columns</p>\n</div>"
     },
     "execution_count": 14,
     "metadata": {},
     "output_type": "execute_result"
    }
   ],
   "source": [
    "pd.read_csv('/Users/artemilin/Downloads/Sample_L3_20190815/L3_options_20190815.csv').head(10)"
   ],
   "metadata": {
    "collapsed": false,
    "pycharm": {
     "name": "#%%\n"
    }
   }
  },
  {
   "cell_type": "code",
   "execution_count": 15,
   "outputs": [
    {
     "data": {
      "text/plain": "  symbol  quotedate  iv30call  iv30put  iv30mean  iv60call  iv60put  iv60mean  \\\n0      A  8/15/2019    0.2709   0.2735    0.2722    0.2687   0.2766    0.2726   \n1     AA  8/15/2019    0.5076   0.5055    0.5066    0.5181   0.5187    0.5184   \n2   AABA  8/15/2019    0.0694   0.0694    0.0694    0.0474   0.0801    0.0638   \n3    AAC  8/15/2019    0.0000   0.0000    0.0000    0.0000   0.0000    0.0000   \n4    AAL  8/15/2019    0.4256   0.4281    0.4268    0.4246   0.4198    0.4222   \n5    AAN  8/15/2019    0.3259   0.3310    0.3284    0.3249   0.3442    0.3346   \n6   AAOI  8/15/2019    0.7704   0.6666    0.7185    0.6627   0.6738    0.6682   \n7   AAON  8/15/2019    0.3556   0.3575    0.3566    0.3602   0.3526    0.3564   \n8    AAP  8/15/2019    0.3026   0.3082    0.3054    0.3062   0.3126    0.3094   \n9   AAPL  8/15/2019    0.3081   0.2978    0.3030    0.3056   0.2940    0.2998   \n\n   iv90call  iv90put  ...  iv180mean  iv360call  iv360put  iv360mean  callvol  \\\n0    0.2631   0.2783  ...     0.2757     0.2551    0.2948     0.2750     3976   \n1    0.5060   0.5108  ...     0.4746     0.4517    0.4763     0.4640     2146   \n2    0.0559   0.0890  ...     0.0524     0.0591    0.0610     0.0600     3004   \n3    0.0000   0.0000  ...     0.0000     0.0000    0.0000     0.0000        0   \n4    0.4334   0.4331  ...     0.4152     0.4083    0.4104     0.4094    37024   \n5    0.3770   0.3829  ...     0.3732     0.3335    0.2334     0.2834      315   \n6    0.7010   0.7062  ...     0.7222     0.7100    0.7258     0.7179     2047   \n7    0.3570   0.3504  ...     0.3425     0.1781    0.3820     0.2800       10   \n8    0.3146   0.3212  ...     0.3186     0.3090    0.3262     0.3176      403   \n9    0.3148   0.3092  ...     0.2860     0.2813    0.2770     0.2792   221503   \n\n   putvol  totalvol   calloi    putoi  totaloi  \n0    3915      7891    25738    25259    50997  \n1    5041      7187   135267    65906   201173  \n2     834      3838   271246   147220   418466  \n3       0         0     1821       88     1909  \n4   26647     63671   460090   289525   749615  \n5      72       387     5912     9360    15272  \n6     248      2295    32701    20275    52976  \n7      44        54      314     1360     1674  \n8     807      1210    16090    16573    32663  \n9  197967    419470  1754521  1711971  3466492  \n\n[10 rows x 29 columns]",
      "text/html": "<div>\n<style scoped>\n    .dataframe tbody tr th:only-of-type {\n        vertical-align: middle;\n    }\n\n    .dataframe tbody tr th {\n        vertical-align: top;\n    }\n\n    .dataframe thead th {\n        text-align: right;\n    }\n</style>\n<table border=\"1\" class=\"dataframe\">\n  <thead>\n    <tr style=\"text-align: right;\">\n      <th></th>\n      <th>symbol</th>\n      <th>quotedate</th>\n      <th>iv30call</th>\n      <th>iv30put</th>\n      <th>iv30mean</th>\n      <th>iv60call</th>\n      <th>iv60put</th>\n      <th>iv60mean</th>\n      <th>iv90call</th>\n      <th>iv90put</th>\n      <th>...</th>\n      <th>iv180mean</th>\n      <th>iv360call</th>\n      <th>iv360put</th>\n      <th>iv360mean</th>\n      <th>callvol</th>\n      <th>putvol</th>\n      <th>totalvol</th>\n      <th>calloi</th>\n      <th>putoi</th>\n      <th>totaloi</th>\n    </tr>\n  </thead>\n  <tbody>\n    <tr>\n      <th>0</th>\n      <td>A</td>\n      <td>8/15/2019</td>\n      <td>0.2709</td>\n      <td>0.2735</td>\n      <td>0.2722</td>\n      <td>0.2687</td>\n      <td>0.2766</td>\n      <td>0.2726</td>\n      <td>0.2631</td>\n      <td>0.2783</td>\n      <td>...</td>\n      <td>0.2757</td>\n      <td>0.2551</td>\n      <td>0.2948</td>\n      <td>0.2750</td>\n      <td>3976</td>\n      <td>3915</td>\n      <td>7891</td>\n      <td>25738</td>\n      <td>25259</td>\n      <td>50997</td>\n    </tr>\n    <tr>\n      <th>1</th>\n      <td>AA</td>\n      <td>8/15/2019</td>\n      <td>0.5076</td>\n      <td>0.5055</td>\n      <td>0.5066</td>\n      <td>0.5181</td>\n      <td>0.5187</td>\n      <td>0.5184</td>\n      <td>0.5060</td>\n      <td>0.5108</td>\n      <td>...</td>\n      <td>0.4746</td>\n      <td>0.4517</td>\n      <td>0.4763</td>\n      <td>0.4640</td>\n      <td>2146</td>\n      <td>5041</td>\n      <td>7187</td>\n      <td>135267</td>\n      <td>65906</td>\n      <td>201173</td>\n    </tr>\n    <tr>\n      <th>2</th>\n      <td>AABA</td>\n      <td>8/15/2019</td>\n      <td>0.0694</td>\n      <td>0.0694</td>\n      <td>0.0694</td>\n      <td>0.0474</td>\n      <td>0.0801</td>\n      <td>0.0638</td>\n      <td>0.0559</td>\n      <td>0.0890</td>\n      <td>...</td>\n      <td>0.0524</td>\n      <td>0.0591</td>\n      <td>0.0610</td>\n      <td>0.0600</td>\n      <td>3004</td>\n      <td>834</td>\n      <td>3838</td>\n      <td>271246</td>\n      <td>147220</td>\n      <td>418466</td>\n    </tr>\n    <tr>\n      <th>3</th>\n      <td>AAC</td>\n      <td>8/15/2019</td>\n      <td>0.0000</td>\n      <td>0.0000</td>\n      <td>0.0000</td>\n      <td>0.0000</td>\n      <td>0.0000</td>\n      <td>0.0000</td>\n      <td>0.0000</td>\n      <td>0.0000</td>\n      <td>...</td>\n      <td>0.0000</td>\n      <td>0.0000</td>\n      <td>0.0000</td>\n      <td>0.0000</td>\n      <td>0</td>\n      <td>0</td>\n      <td>0</td>\n      <td>1821</td>\n      <td>88</td>\n      <td>1909</td>\n    </tr>\n    <tr>\n      <th>4</th>\n      <td>AAL</td>\n      <td>8/15/2019</td>\n      <td>0.4256</td>\n      <td>0.4281</td>\n      <td>0.4268</td>\n      <td>0.4246</td>\n      <td>0.4198</td>\n      <td>0.4222</td>\n      <td>0.4334</td>\n      <td>0.4331</td>\n      <td>...</td>\n      <td>0.4152</td>\n      <td>0.4083</td>\n      <td>0.4104</td>\n      <td>0.4094</td>\n      <td>37024</td>\n      <td>26647</td>\n      <td>63671</td>\n      <td>460090</td>\n      <td>289525</td>\n      <td>749615</td>\n    </tr>\n    <tr>\n      <th>5</th>\n      <td>AAN</td>\n      <td>8/15/2019</td>\n      <td>0.3259</td>\n      <td>0.3310</td>\n      <td>0.3284</td>\n      <td>0.3249</td>\n      <td>0.3442</td>\n      <td>0.3346</td>\n      <td>0.3770</td>\n      <td>0.3829</td>\n      <td>...</td>\n      <td>0.3732</td>\n      <td>0.3335</td>\n      <td>0.2334</td>\n      <td>0.2834</td>\n      <td>315</td>\n      <td>72</td>\n      <td>387</td>\n      <td>5912</td>\n      <td>9360</td>\n      <td>15272</td>\n    </tr>\n    <tr>\n      <th>6</th>\n      <td>AAOI</td>\n      <td>8/15/2019</td>\n      <td>0.7704</td>\n      <td>0.6666</td>\n      <td>0.7185</td>\n      <td>0.6627</td>\n      <td>0.6738</td>\n      <td>0.6682</td>\n      <td>0.7010</td>\n      <td>0.7062</td>\n      <td>...</td>\n      <td>0.7222</td>\n      <td>0.7100</td>\n      <td>0.7258</td>\n      <td>0.7179</td>\n      <td>2047</td>\n      <td>248</td>\n      <td>2295</td>\n      <td>32701</td>\n      <td>20275</td>\n      <td>52976</td>\n    </tr>\n    <tr>\n      <th>7</th>\n      <td>AAON</td>\n      <td>8/15/2019</td>\n      <td>0.3556</td>\n      <td>0.3575</td>\n      <td>0.3566</td>\n      <td>0.3602</td>\n      <td>0.3526</td>\n      <td>0.3564</td>\n      <td>0.3570</td>\n      <td>0.3504</td>\n      <td>...</td>\n      <td>0.3425</td>\n      <td>0.1781</td>\n      <td>0.3820</td>\n      <td>0.2800</td>\n      <td>10</td>\n      <td>44</td>\n      <td>54</td>\n      <td>314</td>\n      <td>1360</td>\n      <td>1674</td>\n    </tr>\n    <tr>\n      <th>8</th>\n      <td>AAP</td>\n      <td>8/15/2019</td>\n      <td>0.3026</td>\n      <td>0.3082</td>\n      <td>0.3054</td>\n      <td>0.3062</td>\n      <td>0.3126</td>\n      <td>0.3094</td>\n      <td>0.3146</td>\n      <td>0.3212</td>\n      <td>...</td>\n      <td>0.3186</td>\n      <td>0.3090</td>\n      <td>0.3262</td>\n      <td>0.3176</td>\n      <td>403</td>\n      <td>807</td>\n      <td>1210</td>\n      <td>16090</td>\n      <td>16573</td>\n      <td>32663</td>\n    </tr>\n    <tr>\n      <th>9</th>\n      <td>AAPL</td>\n      <td>8/15/2019</td>\n      <td>0.3081</td>\n      <td>0.2978</td>\n      <td>0.3030</td>\n      <td>0.3056</td>\n      <td>0.2940</td>\n      <td>0.2998</td>\n      <td>0.3148</td>\n      <td>0.3092</td>\n      <td>...</td>\n      <td>0.2860</td>\n      <td>0.2813</td>\n      <td>0.2770</td>\n      <td>0.2792</td>\n      <td>221503</td>\n      <td>197967</td>\n      <td>419470</td>\n      <td>1754521</td>\n      <td>1711971</td>\n      <td>3466492</td>\n    </tr>\n  </tbody>\n</table>\n<p>10 rows × 29 columns</p>\n</div>"
     },
     "execution_count": 15,
     "metadata": {},
     "output_type": "execute_result"
    }
   ],
   "source": [
    "pd.read_csv('/Users/artemilin/Downloads/Sample_L3_20190815/L3_optionstats_20190815.csv').head(10)"
   ],
   "metadata": {
    "collapsed": false,
    "pycharm": {
     "name": "#%%\n"
    }
   }
  },
  {
   "cell_type": "markdown",
   "source": [
    "# APPL Option chains 2016-2019"
   ],
   "metadata": {
    "collapsed": false,
    "pycharm": {
     "name": "#%% md\n"
    }
   }
  },
  {
   "cell_type": "code",
   "execution_count": 16,
   "outputs": [
    {
     "name": "stderr",
     "output_type": "stream",
     "text": [
      "/var/folders/xd/xm863f553v750zss70sl77sc0000gn/T/ipykernel_3636/1844879101.py:1: DtypeWarning: Columns (8,9,10,11,12,15,17,18,20,21,23,24,25,26,27,28) have mixed types. Specify dtype option on import or set low_memory=False.\n",
      "  option_chains = pd.read_csv('/Users/artemilin/Downloads/archive/aapl_2016_2020.csv')\n"
     ]
    }
   ],
   "source": [
    "option_chains = pd.read_csv('/Users/artemilin/Downloads/archive/aapl_2016_2020.csv')"
   ],
   "metadata": {
    "collapsed": false,
    "pycharm": {
     "name": "#%%\n"
    }
   }
  },
  {
   "cell_type": "code",
   "execution_count": 17,
   "outputs": [
    {
     "data": {
      "text/plain": "   [QUOTE_UNIXTIME]   [QUOTE_READTIME]  [QUOTE_DATE]   [QUOTE_TIME_HOURS]  \\\n0        1546462800   2019-01-02 16:00    2019-01-02                 16.0   \n1        1546462800   2019-01-02 16:00    2019-01-02                 16.0   \n2        1546462800   2019-01-02 16:00    2019-01-02                 16.0   \n3        1546462800   2019-01-02 16:00    2019-01-02                 16.0   \n4        1546462800   2019-01-02 16:00    2019-01-02                 16.0   \n\n    [UNDERLYING_LAST]  [EXPIRE_DATE]   [EXPIRE_UNIX]   [DTE]  [C_DELTA]  \\\n0              157.92     2019-01-04      1546635600     2.0    0.90886   \n1              157.92     2019-01-04      1546635600     2.0        1.0   \n2              157.92     2019-01-04      1546635600     2.0        1.0   \n3              157.92     2019-01-04      1546635600     2.0        1.0   \n4              157.92     2019-01-04      1546635600     2.0        1.0   \n\n   [C_GAMMA]  ...  [P_LAST]  [P_DELTA]  [P_GAMMA]  [P_VEGA]  [P_THETA]  \\\n0    0.00019  ...      0.01   -0.00034    0.00011   0.00079   -0.00509   \n1        0.0  ...      0.01   -0.00069     0.0001   0.00039   -0.00518   \n2        0.0  ...      0.04   -0.00066     0.0002       0.0   -0.00425   \n3        0.0  ...      0.01    -0.0012    0.00021   0.00089   -0.00434   \n4        0.0  ...      0.01   -0.00109    0.00024   0.00045   -0.00429   \n\n   [P_RHO]     [P_IV]   [P_VOLUME]  [STRIKE_DISTANCE]   [STRIKE_DISTANCE_PCT]  \n0 -0.00041   1.625550     0.000000               57.9                   0.367  \n1  -0.0001   1.461900   200.000000               52.9                   0.335  \n2 -0.00009   1.305490   706.000000               47.9                   0.303  \n3 -0.00005   1.155130     0.000000               42.9                   0.272  \n4  -0.0002   1.010620     0.000000               37.9                   0.240  \n\n[5 rows x 33 columns]",
      "text/html": "<div>\n<style scoped>\n    .dataframe tbody tr th:only-of-type {\n        vertical-align: middle;\n    }\n\n    .dataframe tbody tr th {\n        vertical-align: top;\n    }\n\n    .dataframe thead th {\n        text-align: right;\n    }\n</style>\n<table border=\"1\" class=\"dataframe\">\n  <thead>\n    <tr style=\"text-align: right;\">\n      <th></th>\n      <th>[QUOTE_UNIXTIME]</th>\n      <th>[QUOTE_READTIME]</th>\n      <th>[QUOTE_DATE]</th>\n      <th>[QUOTE_TIME_HOURS]</th>\n      <th>[UNDERLYING_LAST]</th>\n      <th>[EXPIRE_DATE]</th>\n      <th>[EXPIRE_UNIX]</th>\n      <th>[DTE]</th>\n      <th>[C_DELTA]</th>\n      <th>[C_GAMMA]</th>\n      <th>...</th>\n      <th>[P_LAST]</th>\n      <th>[P_DELTA]</th>\n      <th>[P_GAMMA]</th>\n      <th>[P_VEGA]</th>\n      <th>[P_THETA]</th>\n      <th>[P_RHO]</th>\n      <th>[P_IV]</th>\n      <th>[P_VOLUME]</th>\n      <th>[STRIKE_DISTANCE]</th>\n      <th>[STRIKE_DISTANCE_PCT]</th>\n    </tr>\n  </thead>\n  <tbody>\n    <tr>\n      <th>0</th>\n      <td>1546462800</td>\n      <td>2019-01-02 16:00</td>\n      <td>2019-01-02</td>\n      <td>16.0</td>\n      <td>157.92</td>\n      <td>2019-01-04</td>\n      <td>1546635600</td>\n      <td>2.0</td>\n      <td>0.90886</td>\n      <td>0.00019</td>\n      <td>...</td>\n      <td>0.01</td>\n      <td>-0.00034</td>\n      <td>0.00011</td>\n      <td>0.00079</td>\n      <td>-0.00509</td>\n      <td>-0.00041</td>\n      <td>1.625550</td>\n      <td>0.000000</td>\n      <td>57.9</td>\n      <td>0.367</td>\n    </tr>\n    <tr>\n      <th>1</th>\n      <td>1546462800</td>\n      <td>2019-01-02 16:00</td>\n      <td>2019-01-02</td>\n      <td>16.0</td>\n      <td>157.92</td>\n      <td>2019-01-04</td>\n      <td>1546635600</td>\n      <td>2.0</td>\n      <td>1.0</td>\n      <td>0.0</td>\n      <td>...</td>\n      <td>0.01</td>\n      <td>-0.00069</td>\n      <td>0.0001</td>\n      <td>0.00039</td>\n      <td>-0.00518</td>\n      <td>-0.0001</td>\n      <td>1.461900</td>\n      <td>200.000000</td>\n      <td>52.9</td>\n      <td>0.335</td>\n    </tr>\n    <tr>\n      <th>2</th>\n      <td>1546462800</td>\n      <td>2019-01-02 16:00</td>\n      <td>2019-01-02</td>\n      <td>16.0</td>\n      <td>157.92</td>\n      <td>2019-01-04</td>\n      <td>1546635600</td>\n      <td>2.0</td>\n      <td>1.0</td>\n      <td>0.0</td>\n      <td>...</td>\n      <td>0.04</td>\n      <td>-0.00066</td>\n      <td>0.0002</td>\n      <td>0.0</td>\n      <td>-0.00425</td>\n      <td>-0.00009</td>\n      <td>1.305490</td>\n      <td>706.000000</td>\n      <td>47.9</td>\n      <td>0.303</td>\n    </tr>\n    <tr>\n      <th>3</th>\n      <td>1546462800</td>\n      <td>2019-01-02 16:00</td>\n      <td>2019-01-02</td>\n      <td>16.0</td>\n      <td>157.92</td>\n      <td>2019-01-04</td>\n      <td>1546635600</td>\n      <td>2.0</td>\n      <td>1.0</td>\n      <td>0.0</td>\n      <td>...</td>\n      <td>0.01</td>\n      <td>-0.0012</td>\n      <td>0.00021</td>\n      <td>0.00089</td>\n      <td>-0.00434</td>\n      <td>-0.00005</td>\n      <td>1.155130</td>\n      <td>0.000000</td>\n      <td>42.9</td>\n      <td>0.272</td>\n    </tr>\n    <tr>\n      <th>4</th>\n      <td>1546462800</td>\n      <td>2019-01-02 16:00</td>\n      <td>2019-01-02</td>\n      <td>16.0</td>\n      <td>157.92</td>\n      <td>2019-01-04</td>\n      <td>1546635600</td>\n      <td>2.0</td>\n      <td>1.0</td>\n      <td>0.0</td>\n      <td>...</td>\n      <td>0.01</td>\n      <td>-0.00109</td>\n      <td>0.00024</td>\n      <td>0.00045</td>\n      <td>-0.00429</td>\n      <td>-0.0002</td>\n      <td>1.010620</td>\n      <td>0.000000</td>\n      <td>37.9</td>\n      <td>0.240</td>\n    </tr>\n  </tbody>\n</table>\n<p>5 rows × 33 columns</p>\n</div>"
     },
     "execution_count": 17,
     "metadata": {},
     "output_type": "execute_result"
    }
   ],
   "source": [
    "option_chains.head()"
   ],
   "metadata": {
    "collapsed": false,
    "pycharm": {
     "name": "#%%\n"
    }
   }
  },
  {
   "cell_type": "code",
   "execution_count": 19,
   "outputs": [
    {
     "data": {
      "text/plain": "   [QUOTE_UNIXTIME]   [QUOTE_READTIME]  [QUOTE_DATE]   [QUOTE_TIME_HOURS]  \\\n0        1546462800   2019-01-02 16:00    2019-01-02                 16.0   \n1        1546462800   2019-01-02 16:00    2019-01-02                 16.0   \n2        1546462800   2019-01-02 16:00    2019-01-02                 16.0   \n3        1546462800   2019-01-02 16:00    2019-01-02                 16.0   \n4        1546462800   2019-01-02 16:00    2019-01-02                 16.0   \n\n    [UNDERLYING_LAST]  [EXPIRE_DATE]   [EXPIRE_UNIX]   [DTE]  [C_DELTA]  \\\n0              157.92     2019-01-04      1546635600     2.0    0.90886   \n1              157.92     2019-01-04      1546635600     2.0        1.0   \n2              157.92     2019-01-04      1546635600     2.0        1.0   \n3              157.92     2019-01-04      1546635600     2.0        1.0   \n4              157.92     2019-01-04      1546635600     2.0        1.0   \n\n   [C_GAMMA]  ...  [P_LAST]  [P_DELTA]  [P_GAMMA]  [P_VEGA]  [P_THETA]  \\\n0    0.00019  ...      0.01   -0.00034    0.00011   0.00079   -0.00509   \n1        0.0  ...      0.01   -0.00069     0.0001   0.00039   -0.00518   \n2        0.0  ...      0.04   -0.00066     0.0002       0.0   -0.00425   \n3        0.0  ...      0.01    -0.0012    0.00021   0.00089   -0.00434   \n4        0.0  ...      0.01   -0.00109    0.00024   0.00045   -0.00429   \n\n   [P_RHO]     [P_IV]   [P_VOLUME]  [STRIKE_DISTANCE]   [STRIKE_DISTANCE_PCT]  \n0 -0.00041   1.625550     0.000000               57.9                   0.367  \n1  -0.0001   1.461900   200.000000               52.9                   0.335  \n2 -0.00009   1.305490   706.000000               47.9                   0.303  \n3 -0.00005   1.155130     0.000000               42.9                   0.272  \n4  -0.0002   1.010620     0.000000               37.9                   0.240  \n\n[5 rows x 33 columns]",
      "text/html": "<div>\n<style scoped>\n    .dataframe tbody tr th:only-of-type {\n        vertical-align: middle;\n    }\n\n    .dataframe tbody tr th {\n        vertical-align: top;\n    }\n\n    .dataframe thead th {\n        text-align: right;\n    }\n</style>\n<table border=\"1\" class=\"dataframe\">\n  <thead>\n    <tr style=\"text-align: right;\">\n      <th></th>\n      <th>[QUOTE_UNIXTIME]</th>\n      <th>[QUOTE_READTIME]</th>\n      <th>[QUOTE_DATE]</th>\n      <th>[QUOTE_TIME_HOURS]</th>\n      <th>[UNDERLYING_LAST]</th>\n      <th>[EXPIRE_DATE]</th>\n      <th>[EXPIRE_UNIX]</th>\n      <th>[DTE]</th>\n      <th>[C_DELTA]</th>\n      <th>[C_GAMMA]</th>\n      <th>...</th>\n      <th>[P_LAST]</th>\n      <th>[P_DELTA]</th>\n      <th>[P_GAMMA]</th>\n      <th>[P_VEGA]</th>\n      <th>[P_THETA]</th>\n      <th>[P_RHO]</th>\n      <th>[P_IV]</th>\n      <th>[P_VOLUME]</th>\n      <th>[STRIKE_DISTANCE]</th>\n      <th>[STRIKE_DISTANCE_PCT]</th>\n    </tr>\n  </thead>\n  <tbody>\n    <tr>\n      <th>0</th>\n      <td>1546462800</td>\n      <td>2019-01-02 16:00</td>\n      <td>2019-01-02</td>\n      <td>16.0</td>\n      <td>157.92</td>\n      <td>2019-01-04</td>\n      <td>1546635600</td>\n      <td>2.0</td>\n      <td>0.90886</td>\n      <td>0.00019</td>\n      <td>...</td>\n      <td>0.01</td>\n      <td>-0.00034</td>\n      <td>0.00011</td>\n      <td>0.00079</td>\n      <td>-0.00509</td>\n      <td>-0.00041</td>\n      <td>1.625550</td>\n      <td>0.000000</td>\n      <td>57.9</td>\n      <td>0.367</td>\n    </tr>\n    <tr>\n      <th>1</th>\n      <td>1546462800</td>\n      <td>2019-01-02 16:00</td>\n      <td>2019-01-02</td>\n      <td>16.0</td>\n      <td>157.92</td>\n      <td>2019-01-04</td>\n      <td>1546635600</td>\n      <td>2.0</td>\n      <td>1.0</td>\n      <td>0.0</td>\n      <td>...</td>\n      <td>0.01</td>\n      <td>-0.00069</td>\n      <td>0.0001</td>\n      <td>0.00039</td>\n      <td>-0.00518</td>\n      <td>-0.0001</td>\n      <td>1.461900</td>\n      <td>200.000000</td>\n      <td>52.9</td>\n      <td>0.335</td>\n    </tr>\n    <tr>\n      <th>2</th>\n      <td>1546462800</td>\n      <td>2019-01-02 16:00</td>\n      <td>2019-01-02</td>\n      <td>16.0</td>\n      <td>157.92</td>\n      <td>2019-01-04</td>\n      <td>1546635600</td>\n      <td>2.0</td>\n      <td>1.0</td>\n      <td>0.0</td>\n      <td>...</td>\n      <td>0.04</td>\n      <td>-0.00066</td>\n      <td>0.0002</td>\n      <td>0.0</td>\n      <td>-0.00425</td>\n      <td>-0.00009</td>\n      <td>1.305490</td>\n      <td>706.000000</td>\n      <td>47.9</td>\n      <td>0.303</td>\n    </tr>\n    <tr>\n      <th>3</th>\n      <td>1546462800</td>\n      <td>2019-01-02 16:00</td>\n      <td>2019-01-02</td>\n      <td>16.0</td>\n      <td>157.92</td>\n      <td>2019-01-04</td>\n      <td>1546635600</td>\n      <td>2.0</td>\n      <td>1.0</td>\n      <td>0.0</td>\n      <td>...</td>\n      <td>0.01</td>\n      <td>-0.0012</td>\n      <td>0.00021</td>\n      <td>0.00089</td>\n      <td>-0.00434</td>\n      <td>-0.00005</td>\n      <td>1.155130</td>\n      <td>0.000000</td>\n      <td>42.9</td>\n      <td>0.272</td>\n    </tr>\n    <tr>\n      <th>4</th>\n      <td>1546462800</td>\n      <td>2019-01-02 16:00</td>\n      <td>2019-01-02</td>\n      <td>16.0</td>\n      <td>157.92</td>\n      <td>2019-01-04</td>\n      <td>1546635600</td>\n      <td>2.0</td>\n      <td>1.0</td>\n      <td>0.0</td>\n      <td>...</td>\n      <td>0.01</td>\n      <td>-0.00109</td>\n      <td>0.00024</td>\n      <td>0.00045</td>\n      <td>-0.00429</td>\n      <td>-0.0002</td>\n      <td>1.010620</td>\n      <td>0.000000</td>\n      <td>37.9</td>\n      <td>0.240</td>\n    </tr>\n  </tbody>\n</table>\n<p>5 rows × 33 columns</p>\n</div>"
     },
     "execution_count": 19,
     "metadata": {},
     "output_type": "execute_result"
    }
   ],
   "source": [
    "opt_chains_1546462800 = option_chains[ option_chains['[QUOTE_UNIXTIME]'] == 1546462800]\n",
    "opt_chains_1546462800.head()"
   ],
   "metadata": {
    "collapsed": false,
    "pycharm": {
     "name": "#%%\n"
    }
   }
  },
  {
   "cell_type": "code",
   "execution_count": 21,
   "outputs": [
    {
     "data": {
      "text/plain": "Index(['[QUOTE_UNIXTIME]', ' [QUOTE_READTIME]', ' [QUOTE_DATE]',\n       ' [QUOTE_TIME_HOURS]', ' [UNDERLYING_LAST]', ' [EXPIRE_DATE]',\n       ' [EXPIRE_UNIX]', ' [DTE]', ' [C_DELTA]', ' [C_GAMMA]', ' [C_VEGA]',\n       ' [C_THETA]', ' [C_RHO]', ' [C_IV]', ' [C_VOLUME]', ' [C_LAST]',\n       ' [C_SIZE]', ' [C_BID]', ' [C_ASK]', ' [STRIKE]', ' [P_BID]',\n       ' [P_ASK]', ' [P_SIZE]', ' [P_LAST]', ' [P_DELTA]', ' [P_GAMMA]',\n       ' [P_VEGA]', ' [P_THETA]', ' [P_RHO]', ' [P_IV]', ' [P_VOLUME]',\n       ' [STRIKE_DISTANCE]', ' [STRIKE_DISTANCE_PCT]'],\n      dtype='object')"
     },
     "execution_count": 21,
     "metadata": {},
     "output_type": "execute_result"
    }
   ],
   "source": [
    "opt_chains_1546462800.columns"
   ],
   "metadata": {
    "collapsed": false,
    "pycharm": {
     "name": "#%%\n"
    }
   }
  },
  {
   "cell_type": "code",
   "execution_count": 24,
   "outputs": [
    {
     "data": {
      "text/plain": "array([' 2019-01-02'], dtype=object)"
     },
     "execution_count": 24,
     "metadata": {},
     "output_type": "execute_result"
    }
   ],
   "source": [
    "opt_chains_1546462800[' [QUOTE_DATE]'].unique()"
   ],
   "metadata": {
    "collapsed": false,
    "pycharm": {
     "name": "#%%\n"
    }
   }
  },
  {
   "cell_type": "code",
   "execution_count": 26,
   "outputs": [
    {
     "name": "stdout",
     "output_type": "stream",
     "text": [
      "If you require API support, feel free to join our discord server! https://discord.thetadata.us\n",
      "------------------------------------------------------------------------------------------------\n",
      "You are using the free version of Theta Data. You are currently limited to 20 requests / minute.\n",
      "A data subscription can be purchased at https://thetadata.net. If you already have a ThetaData\n",
      "subscription, specify the username and passwd parameters.\n",
      "------------------------------------------------------------------------------------------------\n"
     ]
    },
    {
     "ename": "URLError",
     "evalue": "<urlopen error [Errno 61] Connection refused>",
     "output_type": "error",
     "traceback": [
      "\u001B[0;31m---------------------------------------------------------------------------\u001B[0m",
      "\u001B[0;31mConnectionRefusedError\u001B[0m                    Traceback (most recent call last)",
      "File \u001B[0;32m/Library/Frameworks/Python.framework/Versions/3.9/lib/python3.9/urllib/request.py:1346\u001B[0m, in \u001B[0;36mAbstractHTTPHandler.do_open\u001B[0;34m(self, http_class, req, **http_conn_args)\u001B[0m\n\u001B[1;32m   1345\u001B[0m \u001B[38;5;28;01mtry\u001B[39;00m:\n\u001B[0;32m-> 1346\u001B[0m     \u001B[43mh\u001B[49m\u001B[38;5;241;43m.\u001B[39;49m\u001B[43mrequest\u001B[49m\u001B[43m(\u001B[49m\u001B[43mreq\u001B[49m\u001B[38;5;241;43m.\u001B[39;49m\u001B[43mget_method\u001B[49m\u001B[43m(\u001B[49m\u001B[43m)\u001B[49m\u001B[43m,\u001B[49m\u001B[43m \u001B[49m\u001B[43mreq\u001B[49m\u001B[38;5;241;43m.\u001B[39;49m\u001B[43mselector\u001B[49m\u001B[43m,\u001B[49m\u001B[43m \u001B[49m\u001B[43mreq\u001B[49m\u001B[38;5;241;43m.\u001B[39;49m\u001B[43mdata\u001B[49m\u001B[43m,\u001B[49m\u001B[43m \u001B[49m\u001B[43mheaders\u001B[49m\u001B[43m,\u001B[49m\n\u001B[1;32m   1347\u001B[0m \u001B[43m              \u001B[49m\u001B[43mencode_chunked\u001B[49m\u001B[38;5;241;43m=\u001B[39;49m\u001B[43mreq\u001B[49m\u001B[38;5;241;43m.\u001B[39;49m\u001B[43mhas_header\u001B[49m\u001B[43m(\u001B[49m\u001B[38;5;124;43m'\u001B[39;49m\u001B[38;5;124;43mTransfer-encoding\u001B[39;49m\u001B[38;5;124;43m'\u001B[39;49m\u001B[43m)\u001B[49m\u001B[43m)\u001B[49m\n\u001B[1;32m   1348\u001B[0m \u001B[38;5;28;01mexcept\u001B[39;00m \u001B[38;5;167;01mOSError\u001B[39;00m \u001B[38;5;28;01mas\u001B[39;00m err: \u001B[38;5;66;03m# timeout error\u001B[39;00m\n",
      "File \u001B[0;32m/Library/Frameworks/Python.framework/Versions/3.9/lib/python3.9/http/client.py:1285\u001B[0m, in \u001B[0;36mHTTPConnection.request\u001B[0;34m(self, method, url, body, headers, encode_chunked)\u001B[0m\n\u001B[1;32m   1284\u001B[0m \u001B[38;5;124;03m\"\"\"Send a complete request to the server.\"\"\"\u001B[39;00m\n\u001B[0;32m-> 1285\u001B[0m \u001B[38;5;28;43mself\u001B[39;49m\u001B[38;5;241;43m.\u001B[39;49m\u001B[43m_send_request\u001B[49m\u001B[43m(\u001B[49m\u001B[43mmethod\u001B[49m\u001B[43m,\u001B[49m\u001B[43m \u001B[49m\u001B[43murl\u001B[49m\u001B[43m,\u001B[49m\u001B[43m \u001B[49m\u001B[43mbody\u001B[49m\u001B[43m,\u001B[49m\u001B[43m \u001B[49m\u001B[43mheaders\u001B[49m\u001B[43m,\u001B[49m\u001B[43m \u001B[49m\u001B[43mencode_chunked\u001B[49m\u001B[43m)\u001B[49m\n",
      "File \u001B[0;32m/Library/Frameworks/Python.framework/Versions/3.9/lib/python3.9/http/client.py:1331\u001B[0m, in \u001B[0;36mHTTPConnection._send_request\u001B[0;34m(self, method, url, body, headers, encode_chunked)\u001B[0m\n\u001B[1;32m   1330\u001B[0m     body \u001B[38;5;241m=\u001B[39m _encode(body, \u001B[38;5;124m'\u001B[39m\u001B[38;5;124mbody\u001B[39m\u001B[38;5;124m'\u001B[39m)\n\u001B[0;32m-> 1331\u001B[0m \u001B[38;5;28;43mself\u001B[39;49m\u001B[38;5;241;43m.\u001B[39;49m\u001B[43mendheaders\u001B[49m\u001B[43m(\u001B[49m\u001B[43mbody\u001B[49m\u001B[43m,\u001B[49m\u001B[43m \u001B[49m\u001B[43mencode_chunked\u001B[49m\u001B[38;5;241;43m=\u001B[39;49m\u001B[43mencode_chunked\u001B[49m\u001B[43m)\u001B[49m\n",
      "File \u001B[0;32m/Library/Frameworks/Python.framework/Versions/3.9/lib/python3.9/http/client.py:1280\u001B[0m, in \u001B[0;36mHTTPConnection.endheaders\u001B[0;34m(self, message_body, encode_chunked)\u001B[0m\n\u001B[1;32m   1279\u001B[0m     \u001B[38;5;28;01mraise\u001B[39;00m CannotSendHeader()\n\u001B[0;32m-> 1280\u001B[0m \u001B[38;5;28;43mself\u001B[39;49m\u001B[38;5;241;43m.\u001B[39;49m\u001B[43m_send_output\u001B[49m\u001B[43m(\u001B[49m\u001B[43mmessage_body\u001B[49m\u001B[43m,\u001B[49m\u001B[43m \u001B[49m\u001B[43mencode_chunked\u001B[49m\u001B[38;5;241;43m=\u001B[39;49m\u001B[43mencode_chunked\u001B[49m\u001B[43m)\u001B[49m\n",
      "File \u001B[0;32m/Library/Frameworks/Python.framework/Versions/3.9/lib/python3.9/http/client.py:1040\u001B[0m, in \u001B[0;36mHTTPConnection._send_output\u001B[0;34m(self, message_body, encode_chunked)\u001B[0m\n\u001B[1;32m   1039\u001B[0m \u001B[38;5;28;01mdel\u001B[39;00m \u001B[38;5;28mself\u001B[39m\u001B[38;5;241m.\u001B[39m_buffer[:]\n\u001B[0;32m-> 1040\u001B[0m \u001B[38;5;28;43mself\u001B[39;49m\u001B[38;5;241;43m.\u001B[39;49m\u001B[43msend\u001B[49m\u001B[43m(\u001B[49m\u001B[43mmsg\u001B[49m\u001B[43m)\u001B[49m\n\u001B[1;32m   1042\u001B[0m \u001B[38;5;28;01mif\u001B[39;00m message_body \u001B[38;5;129;01mis\u001B[39;00m \u001B[38;5;129;01mnot\u001B[39;00m \u001B[38;5;28;01mNone\u001B[39;00m:\n\u001B[1;32m   1043\u001B[0m \n\u001B[1;32m   1044\u001B[0m     \u001B[38;5;66;03m# create a consistent interface to message_body\u001B[39;00m\n",
      "File \u001B[0;32m/Library/Frameworks/Python.framework/Versions/3.9/lib/python3.9/http/client.py:980\u001B[0m, in \u001B[0;36mHTTPConnection.send\u001B[0;34m(self, data)\u001B[0m\n\u001B[1;32m    979\u001B[0m \u001B[38;5;28;01mif\u001B[39;00m \u001B[38;5;28mself\u001B[39m\u001B[38;5;241m.\u001B[39mauto_open:\n\u001B[0;32m--> 980\u001B[0m     \u001B[38;5;28;43mself\u001B[39;49m\u001B[38;5;241;43m.\u001B[39;49m\u001B[43mconnect\u001B[49m\u001B[43m(\u001B[49m\u001B[43m)\u001B[49m\n\u001B[1;32m    981\u001B[0m \u001B[38;5;28;01melse\u001B[39;00m:\n",
      "File \u001B[0;32m/Library/Frameworks/Python.framework/Versions/3.9/lib/python3.9/http/client.py:1447\u001B[0m, in \u001B[0;36mHTTPSConnection.connect\u001B[0;34m(self)\u001B[0m\n\u001B[1;32m   1445\u001B[0m \u001B[38;5;124m\"\u001B[39m\u001B[38;5;124mConnect to a host on a given (SSL) port.\u001B[39m\u001B[38;5;124m\"\u001B[39m\n\u001B[0;32m-> 1447\u001B[0m \u001B[38;5;28;43msuper\u001B[39;49m\u001B[43m(\u001B[49m\u001B[43m)\u001B[49m\u001B[38;5;241;43m.\u001B[39;49m\u001B[43mconnect\u001B[49m\u001B[43m(\u001B[49m\u001B[43m)\u001B[49m\n\u001B[1;32m   1449\u001B[0m \u001B[38;5;28;01mif\u001B[39;00m \u001B[38;5;28mself\u001B[39m\u001B[38;5;241m.\u001B[39m_tunnel_host:\n",
      "File \u001B[0;32m/Library/Frameworks/Python.framework/Versions/3.9/lib/python3.9/http/client.py:946\u001B[0m, in \u001B[0;36mHTTPConnection.connect\u001B[0;34m(self)\u001B[0m\n\u001B[1;32m    945\u001B[0m \u001B[38;5;124;03m\"\"\"Connect to the host and port specified in __init__.\"\"\"\u001B[39;00m\n\u001B[0;32m--> 946\u001B[0m \u001B[38;5;28mself\u001B[39m\u001B[38;5;241m.\u001B[39msock \u001B[38;5;241m=\u001B[39m \u001B[38;5;28;43mself\u001B[39;49m\u001B[38;5;241;43m.\u001B[39;49m\u001B[43m_create_connection\u001B[49m\u001B[43m(\u001B[49m\n\u001B[1;32m    947\u001B[0m \u001B[43m    \u001B[49m\u001B[43m(\u001B[49m\u001B[38;5;28;43mself\u001B[39;49m\u001B[38;5;241;43m.\u001B[39;49m\u001B[43mhost\u001B[49m\u001B[43m,\u001B[49m\u001B[38;5;28;43mself\u001B[39;49m\u001B[38;5;241;43m.\u001B[39;49m\u001B[43mport\u001B[49m\u001B[43m)\u001B[49m\u001B[43m,\u001B[49m\u001B[43m \u001B[49m\u001B[38;5;28;43mself\u001B[39;49m\u001B[38;5;241;43m.\u001B[39;49m\u001B[43mtimeout\u001B[49m\u001B[43m,\u001B[49m\u001B[43m \u001B[49m\u001B[38;5;28;43mself\u001B[39;49m\u001B[38;5;241;43m.\u001B[39;49m\u001B[43msource_address\u001B[49m\u001B[43m)\u001B[49m\n\u001B[1;32m    948\u001B[0m \u001B[38;5;66;03m# Might fail in OSs that don't implement TCP_NODELAY\u001B[39;00m\n",
      "File \u001B[0;32m/Library/Frameworks/Python.framework/Versions/3.9/lib/python3.9/socket.py:844\u001B[0m, in \u001B[0;36mcreate_connection\u001B[0;34m(address, timeout, source_address)\u001B[0m\n\u001B[1;32m    843\u001B[0m \u001B[38;5;28;01mtry\u001B[39;00m:\n\u001B[0;32m--> 844\u001B[0m     \u001B[38;5;28;01mraise\u001B[39;00m err\n\u001B[1;32m    845\u001B[0m \u001B[38;5;28;01mfinally\u001B[39;00m:\n\u001B[1;32m    846\u001B[0m     \u001B[38;5;66;03m# Break explicitly a reference cycle\u001B[39;00m\n",
      "File \u001B[0;32m/Library/Frameworks/Python.framework/Versions/3.9/lib/python3.9/socket.py:832\u001B[0m, in \u001B[0;36mcreate_connection\u001B[0;34m(address, timeout, source_address)\u001B[0m\n\u001B[1;32m    831\u001B[0m     sock\u001B[38;5;241m.\u001B[39mbind(source_address)\n\u001B[0;32m--> 832\u001B[0m \u001B[43msock\u001B[49m\u001B[38;5;241;43m.\u001B[39;49m\u001B[43mconnect\u001B[49m\u001B[43m(\u001B[49m\u001B[43msa\u001B[49m\u001B[43m)\u001B[49m\n\u001B[1;32m    833\u001B[0m \u001B[38;5;66;03m# Break explicitly a reference cycle\u001B[39;00m\n",
      "\u001B[0;31mConnectionRefusedError\u001B[0m: [Errno 61] Connection refused",
      "\nDuring handling of the above exception, another exception occurred:\n",
      "\u001B[0;31mURLError\u001B[0m                                  Traceback (most recent call last)",
      "Input \u001B[0;32mIn [26]\u001B[0m, in \u001B[0;36m<cell line: 5>\u001B[0;34m()\u001B[0m\n\u001B[1;32m      2\u001B[0m \u001B[38;5;28;01mfrom\u001B[39;00m \u001B[38;5;21;01mdatetime\u001B[39;00m \u001B[38;5;28;01mimport\u001B[39;00m date\n\u001B[1;32m      3\u001B[0m \u001B[38;5;28;01mfrom\u001B[39;00m \u001B[38;5;21;01mthetadata\u001B[39;00m \u001B[38;5;28;01mimport\u001B[39;00m ThetaClient, OptionReqType, OptionRight, DateRange, SecType\n\u001B[0;32m----> 5\u001B[0m client \u001B[38;5;241m=\u001B[39m \u001B[43mThetaClient\u001B[49m\u001B[43m(\u001B[49m\u001B[43m)\u001B[49m  \u001B[38;5;66;03m# We don't need to provide a username / password because this is a free request.\u001B[39;00m\n\u001B[1;32m      7\u001B[0m \u001B[38;5;28;01mwith\u001B[39;00m client\u001B[38;5;241m.\u001B[39mconnect():  \u001B[38;5;66;03m# Make any requests for data inside this block. Requests made outside this block wont run.\u001B[39;00m\n\u001B[1;32m      8\u001B[0m     data \u001B[38;5;241m=\u001B[39m client\u001B[38;5;241m.\u001B[39mget_expirations(\u001B[38;5;124m\"\u001B[39m\u001B[38;5;124mAAPL\u001B[39m\u001B[38;5;124m\"\u001B[39m)\n",
      "File \u001B[0;32m~/PycharmProjects/pythonProject/venv/lib/python3.9/site-packages/thetadata/client.py:243\u001B[0m, in \u001B[0;36mThetaClient.__init__\u001B[0;34m(self, port, timeout, launch, jvm_mem, username, passwd, auto_update, use_bundle)\u001B[0m\n\u001B[1;32m    239\u001B[0m         \u001B[38;5;28mprint\u001B[39m(\u001B[38;5;124m\"\u001B[39m\u001B[38;5;124mYou are using the free version of Theta Data. You are currently limited to \u001B[39m\u001B[38;5;124m\"\u001B[39m\n\u001B[1;32m    240\u001B[0m               \u001B[38;5;124m\"\u001B[39m\u001B[38;5;124m20 requests / minute.\u001B[39m\u001B[38;5;130;01m\\n\u001B[39;00m\u001B[38;5;124mA data subscription can be purchased at https://thetadata.net. \u001B[39m\u001B[38;5;124m\"\u001B[39m\n\u001B[1;32m    241\u001B[0m               \u001B[38;5;124m\"\u001B[39m\u001B[38;5;124mIf you already have a ThetaData\u001B[39m\u001B[38;5;130;01m\\n\u001B[39;00m\u001B[38;5;124msubscription, specify the username and passwd parameters.\u001B[39m\u001B[38;5;124m\"\u001B[39m)\n\u001B[1;32m    242\u001B[0m         \u001B[38;5;28mprint\u001B[39m(\u001B[38;5;124m'\u001B[39m\u001B[38;5;124m------------------------------------------------------------------------------------------------\u001B[39m\u001B[38;5;124m'\u001B[39m)\n\u001B[0;32m--> 243\u001B[0m     \u001B[43mcheck_download\u001B[49m\u001B[43m(\u001B[49m\u001B[43mauto_update\u001B[49m\u001B[43m)\u001B[49m\n\u001B[1;32m    244\u001B[0m     Thread(target\u001B[38;5;241m=\u001B[39mlaunch_terminal, args\u001B[38;5;241m=\u001B[39m[username, passwd, use_bundle, jvm_mem])\u001B[38;5;241m.\u001B[39mstart()\n\u001B[1;32m    245\u001B[0m \u001B[38;5;28;01melse\u001B[39;00m:\n",
      "File \u001B[0;32m~/PycharmProjects/pythonProject/venv/lib/python3.9/site-packages/thetadata/terminal.py:93\u001B[0m, in \u001B[0;36mcheck_download\u001B[0;34m(auto_update)\u001B[0m\n\u001B[1;32m     91\u001B[0m \u001B[38;5;28;01mdef\u001B[39;00m \u001B[38;5;21mcheck_download\u001B[39m(auto_update: \u001B[38;5;28mbool\u001B[39m):\n\u001B[1;32m     92\u001B[0m     \u001B[38;5;28;01mif\u001B[39;00m os\u001B[38;5;241m.\u001B[39mpath\u001B[38;5;241m.\u001B[39mexists(\u001B[38;5;124m'\u001B[39m\u001B[38;5;124mThetaTerminal.jar\u001B[39m\u001B[38;5;124m'\u001B[39m) \u001B[38;5;129;01mor\u001B[39;00m auto_update:\n\u001B[0;32m---> 93\u001B[0m         jar \u001B[38;5;241m=\u001B[39m \u001B[43murllib\u001B[49m\u001B[38;5;241;43m.\u001B[39;49m\u001B[43mrequest\u001B[49m\u001B[38;5;241;43m.\u001B[39;49m\u001B[43murlopen\u001B[49m\u001B[43m(\u001B[49m\u001B[38;5;124;43m\"\u001B[39;49m\u001B[38;5;124;43mhttps://download-latest.thetadata.us\u001B[39;49m\u001B[38;5;124;43m\"\u001B[39;49m\u001B[43m)\u001B[49m\n\u001B[1;32m     94\u001B[0m         \u001B[38;5;28;01mwith\u001B[39;00m \u001B[38;5;28mopen\u001B[39m(\u001B[38;5;124m'\u001B[39m\u001B[38;5;124mThetaTerminal.jar\u001B[39m\u001B[38;5;124m'\u001B[39m, \u001B[38;5;124m'\u001B[39m\u001B[38;5;124mwb\u001B[39m\u001B[38;5;124m'\u001B[39m) \u001B[38;5;28;01mas\u001B[39;00m output:\n\u001B[1;32m     95\u001B[0m             output\u001B[38;5;241m.\u001B[39mwrite(jar\u001B[38;5;241m.\u001B[39mread())\n",
      "File \u001B[0;32m/Library/Frameworks/Python.framework/Versions/3.9/lib/python3.9/urllib/request.py:214\u001B[0m, in \u001B[0;36murlopen\u001B[0;34m(url, data, timeout, cafile, capath, cadefault, context)\u001B[0m\n\u001B[1;32m    212\u001B[0m \u001B[38;5;28;01melse\u001B[39;00m:\n\u001B[1;32m    213\u001B[0m     opener \u001B[38;5;241m=\u001B[39m _opener\n\u001B[0;32m--> 214\u001B[0m \u001B[38;5;28;01mreturn\u001B[39;00m \u001B[43mopener\u001B[49m\u001B[38;5;241;43m.\u001B[39;49m\u001B[43mopen\u001B[49m\u001B[43m(\u001B[49m\u001B[43murl\u001B[49m\u001B[43m,\u001B[49m\u001B[43m \u001B[49m\u001B[43mdata\u001B[49m\u001B[43m,\u001B[49m\u001B[43m \u001B[49m\u001B[43mtimeout\u001B[49m\u001B[43m)\u001B[49m\n",
      "File \u001B[0;32m/Library/Frameworks/Python.framework/Versions/3.9/lib/python3.9/urllib/request.py:517\u001B[0m, in \u001B[0;36mOpenerDirector.open\u001B[0;34m(self, fullurl, data, timeout)\u001B[0m\n\u001B[1;32m    514\u001B[0m     req \u001B[38;5;241m=\u001B[39m meth(req)\n\u001B[1;32m    516\u001B[0m sys\u001B[38;5;241m.\u001B[39maudit(\u001B[38;5;124m'\u001B[39m\u001B[38;5;124murllib.Request\u001B[39m\u001B[38;5;124m'\u001B[39m, req\u001B[38;5;241m.\u001B[39mfull_url, req\u001B[38;5;241m.\u001B[39mdata, req\u001B[38;5;241m.\u001B[39mheaders, req\u001B[38;5;241m.\u001B[39mget_method())\n\u001B[0;32m--> 517\u001B[0m response \u001B[38;5;241m=\u001B[39m \u001B[38;5;28;43mself\u001B[39;49m\u001B[38;5;241;43m.\u001B[39;49m\u001B[43m_open\u001B[49m\u001B[43m(\u001B[49m\u001B[43mreq\u001B[49m\u001B[43m,\u001B[49m\u001B[43m \u001B[49m\u001B[43mdata\u001B[49m\u001B[43m)\u001B[49m\n\u001B[1;32m    519\u001B[0m \u001B[38;5;66;03m# post-process response\u001B[39;00m\n\u001B[1;32m    520\u001B[0m meth_name \u001B[38;5;241m=\u001B[39m protocol\u001B[38;5;241m+\u001B[39m\u001B[38;5;124m\"\u001B[39m\u001B[38;5;124m_response\u001B[39m\u001B[38;5;124m\"\u001B[39m\n",
      "File \u001B[0;32m/Library/Frameworks/Python.framework/Versions/3.9/lib/python3.9/urllib/request.py:534\u001B[0m, in \u001B[0;36mOpenerDirector._open\u001B[0;34m(self, req, data)\u001B[0m\n\u001B[1;32m    531\u001B[0m     \u001B[38;5;28;01mreturn\u001B[39;00m result\n\u001B[1;32m    533\u001B[0m protocol \u001B[38;5;241m=\u001B[39m req\u001B[38;5;241m.\u001B[39mtype\n\u001B[0;32m--> 534\u001B[0m result \u001B[38;5;241m=\u001B[39m \u001B[38;5;28;43mself\u001B[39;49m\u001B[38;5;241;43m.\u001B[39;49m\u001B[43m_call_chain\u001B[49m\u001B[43m(\u001B[49m\u001B[38;5;28;43mself\u001B[39;49m\u001B[38;5;241;43m.\u001B[39;49m\u001B[43mhandle_open\u001B[49m\u001B[43m,\u001B[49m\u001B[43m \u001B[49m\u001B[43mprotocol\u001B[49m\u001B[43m,\u001B[49m\u001B[43m \u001B[49m\u001B[43mprotocol\u001B[49m\u001B[43m \u001B[49m\u001B[38;5;241;43m+\u001B[39;49m\n\u001B[1;32m    535\u001B[0m \u001B[43m                          \u001B[49m\u001B[38;5;124;43m'\u001B[39;49m\u001B[38;5;124;43m_open\u001B[39;49m\u001B[38;5;124;43m'\u001B[39;49m\u001B[43m,\u001B[49m\u001B[43m \u001B[49m\u001B[43mreq\u001B[49m\u001B[43m)\u001B[49m\n\u001B[1;32m    536\u001B[0m \u001B[38;5;28;01mif\u001B[39;00m result:\n\u001B[1;32m    537\u001B[0m     \u001B[38;5;28;01mreturn\u001B[39;00m result\n",
      "File \u001B[0;32m/Library/Frameworks/Python.framework/Versions/3.9/lib/python3.9/urllib/request.py:494\u001B[0m, in \u001B[0;36mOpenerDirector._call_chain\u001B[0;34m(self, chain, kind, meth_name, *args)\u001B[0m\n\u001B[1;32m    492\u001B[0m \u001B[38;5;28;01mfor\u001B[39;00m handler \u001B[38;5;129;01min\u001B[39;00m handlers:\n\u001B[1;32m    493\u001B[0m     func \u001B[38;5;241m=\u001B[39m \u001B[38;5;28mgetattr\u001B[39m(handler, meth_name)\n\u001B[0;32m--> 494\u001B[0m     result \u001B[38;5;241m=\u001B[39m \u001B[43mfunc\u001B[49m\u001B[43m(\u001B[49m\u001B[38;5;241;43m*\u001B[39;49m\u001B[43margs\u001B[49m\u001B[43m)\u001B[49m\n\u001B[1;32m    495\u001B[0m     \u001B[38;5;28;01mif\u001B[39;00m result \u001B[38;5;129;01mis\u001B[39;00m \u001B[38;5;129;01mnot\u001B[39;00m \u001B[38;5;28;01mNone\u001B[39;00m:\n\u001B[1;32m    496\u001B[0m         \u001B[38;5;28;01mreturn\u001B[39;00m result\n",
      "File \u001B[0;32m/Library/Frameworks/Python.framework/Versions/3.9/lib/python3.9/urllib/request.py:1389\u001B[0m, in \u001B[0;36mHTTPSHandler.https_open\u001B[0;34m(self, req)\u001B[0m\n\u001B[1;32m   1388\u001B[0m \u001B[38;5;28;01mdef\u001B[39;00m \u001B[38;5;21mhttps_open\u001B[39m(\u001B[38;5;28mself\u001B[39m, req):\n\u001B[0;32m-> 1389\u001B[0m     \u001B[38;5;28;01mreturn\u001B[39;00m \u001B[38;5;28;43mself\u001B[39;49m\u001B[38;5;241;43m.\u001B[39;49m\u001B[43mdo_open\u001B[49m\u001B[43m(\u001B[49m\u001B[43mhttp\u001B[49m\u001B[38;5;241;43m.\u001B[39;49m\u001B[43mclient\u001B[49m\u001B[38;5;241;43m.\u001B[39;49m\u001B[43mHTTPSConnection\u001B[49m\u001B[43m,\u001B[49m\u001B[43m \u001B[49m\u001B[43mreq\u001B[49m\u001B[43m,\u001B[49m\n\u001B[1;32m   1390\u001B[0m \u001B[43m        \u001B[49m\u001B[43mcontext\u001B[49m\u001B[38;5;241;43m=\u001B[39;49m\u001B[38;5;28;43mself\u001B[39;49m\u001B[38;5;241;43m.\u001B[39;49m\u001B[43m_context\u001B[49m\u001B[43m,\u001B[49m\u001B[43m \u001B[49m\u001B[43mcheck_hostname\u001B[49m\u001B[38;5;241;43m=\u001B[39;49m\u001B[38;5;28;43mself\u001B[39;49m\u001B[38;5;241;43m.\u001B[39;49m\u001B[43m_check_hostname\u001B[49m\u001B[43m)\u001B[49m\n",
      "File \u001B[0;32m/Library/Frameworks/Python.framework/Versions/3.9/lib/python3.9/urllib/request.py:1349\u001B[0m, in \u001B[0;36mAbstractHTTPHandler.do_open\u001B[0;34m(self, http_class, req, **http_conn_args)\u001B[0m\n\u001B[1;32m   1346\u001B[0m         h\u001B[38;5;241m.\u001B[39mrequest(req\u001B[38;5;241m.\u001B[39mget_method(), req\u001B[38;5;241m.\u001B[39mselector, req\u001B[38;5;241m.\u001B[39mdata, headers,\n\u001B[1;32m   1347\u001B[0m                   encode_chunked\u001B[38;5;241m=\u001B[39mreq\u001B[38;5;241m.\u001B[39mhas_header(\u001B[38;5;124m'\u001B[39m\u001B[38;5;124mTransfer-encoding\u001B[39m\u001B[38;5;124m'\u001B[39m))\n\u001B[1;32m   1348\u001B[0m     \u001B[38;5;28;01mexcept\u001B[39;00m \u001B[38;5;167;01mOSError\u001B[39;00m \u001B[38;5;28;01mas\u001B[39;00m err: \u001B[38;5;66;03m# timeout error\u001B[39;00m\n\u001B[0;32m-> 1349\u001B[0m         \u001B[38;5;28;01mraise\u001B[39;00m URLError(err)\n\u001B[1;32m   1350\u001B[0m     r \u001B[38;5;241m=\u001B[39m h\u001B[38;5;241m.\u001B[39mgetresponse()\n\u001B[1;32m   1351\u001B[0m \u001B[38;5;28;01mexcept\u001B[39;00m:\n",
      "\u001B[0;31mURLError\u001B[0m: <urlopen error [Errno 61] Connection refused>"
     ]
    }
   ],
   "source": [],
   "metadata": {
    "collapsed": false,
    "pycharm": {
     "name": "#%%\n"
    }
   }
  },
  {
   "cell_type": "code",
   "execution_count": null,
   "outputs": [],
   "source": [],
   "metadata": {
    "collapsed": false,
    "pycharm": {
     "name": "#%%\n"
    }
   }
  }
 ],
 "metadata": {
  "kernelspec": {
   "display_name": "Python 3",
   "language": "python",
   "name": "python3"
  },
  "language_info": {
   "codemirror_mode": {
    "name": "ipython",
    "version": 2
   },
   "file_extension": ".py",
   "mimetype": "text/x-python",
   "name": "python",
   "nbconvert_exporter": "python",
   "pygments_lexer": "ipython2",
   "version": "2.7.6"
  }
 },
 "nbformat": 4,
 "nbformat_minor": 0
}