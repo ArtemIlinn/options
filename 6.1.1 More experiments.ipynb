{
  "nbformat": 4,
  "nbformat_minor": 0,
  "metadata": {
    "colab": {
      "provenance": []
    },
    "kernelspec": {
      "name": "python3",
      "display_name": "Python 3"
    },
    "language_info": {
      "name": "python"
    }
  },
  "cells": [
    {
      "cell_type": "code",
      "execution_count": 11,
      "metadata": {
        "id": "IuAOT5AOIHis"
      },
      "outputs": [],
      "source": [
        "import pandas as pd\n",
        "import numpy as np\n",
        "import matplotlib.pyplot as plt\n",
        "import seaborn as sns\n",
        "from keras.models import Sequential\n",
        "from keras.layers import LSTM, Dense\n",
        "from keras.optimizers import Adam\n",
        "import ruptures as rpt\n",
        "%matplotlib inline"
      ]
    },
    {
      "cell_type": "code",
      "source": [
        "def breaks_detection(opt_prices_iv, model_):\n",
        "    ts = opt_prices_iv['price']\n",
        "    y = np.array(ts.tolist())\n",
        "\n",
        "    algo = rpt.Pelt(model=model_) #rbf #l2 #l1\n",
        "    algo.fit(y)\n",
        "    breaks = algo.predict(pen=3)\n",
        "\n",
        "    breaks_rpt = []\n",
        "    for i in breaks:\n",
        "        breaks_rpt.append(ts.index[i-1])\n",
        "    breaks_rpt = pd.to_datetime(breaks_rpt)\n",
        "    return breaks_rpt\n",
        "\n",
        "def get_pelt_breaks(opt_prices_iv):\n",
        "   #rbf\n",
        "  rbf_breaks = breaks_detection(opt_prices_iv, 'rbf')\n",
        "\n",
        "  opt_prices_iv['rbf_breaks'] = np.zeros(opt_prices_iv.shape[0])\n",
        "\n",
        "  for break_date in rbf_breaks:\n",
        "    opt_prices_iv.loc[break_date,['rbf_breaks']] = 1\n",
        "\n",
        "\n",
        "  #l1\n",
        "\n",
        "  l1_breaks = breaks_detection(opt_prices_iv, 'l1')\n",
        "\n",
        "  opt_prices_iv['l1_breaks'] = np.zeros(opt_prices_iv.shape[0])\n",
        "\n",
        "  for break_date in l1_breaks:\n",
        "    opt_prices_iv.loc[break_date,['l1_breaks']] = 1\n",
        "\n",
        "\n",
        "  #l2\n",
        "\n",
        "  l2_breaks = breaks_detection(opt_prices_iv, 'l2')\n",
        "\n",
        "  opt_prices_iv['l2_breaks'] = np.zeros(opt_prices_iv.shape[0])\n",
        "\n",
        "  for break_date in l2_breaks:\n",
        "      opt_prices_iv.loc[break_date,['l2_breaks']] = 1\n",
        "\n",
        "\n",
        "  \n"
      ],
      "metadata": {
        "id": "wl_emNreIVUd"
      },
      "execution_count": 13,
      "outputs": []
    },
    {
      "cell_type": "code",
      "source": [
        "def lstm_experiment(data):\n",
        "  # Assuming your DataFrame is named 'data' with the 'rbf_break' column and date as the index\n",
        "\n",
        "  # Prepare the data\n",
        "  target_variable = 'l2_breaks'\n",
        "  data = data[[target_variable]]  # Keep only the target variable column\n",
        "  data = data.astype(float)  # Convert target variable to float if necessary\n",
        "\n",
        "  # Split the data\n",
        "  train_size = int(len(data) * 0.8)  # 80% of data for training\n",
        "  train_data = data[:train_size]\n",
        "  test_data = data[train_size:]\n",
        "\n",
        "\n",
        "  # Prepare the data for LSTM\n",
        "  window_size = 10  # Number of previous time steps to consider for prediction\n",
        "\n",
        "  def create_dataset(X, y, window_size):\n",
        "      X_data, y_data = [], []\n",
        "      for i in range(len(X) - window_size):\n",
        "          X_data.append(X[i:i+window_size])\n",
        "          y_data.append(y[i+window_size])\n",
        "      return np.array(X_data), np.array(y_data)\n",
        "\n",
        "\n",
        "\n",
        "  X_train, y_train = create_dataset(train_data.values, train_data.values, window_size)\n",
        "  X_test, y_test = create_dataset(test_data.values, test_data.values, window_size)\n",
        "\n",
        "\n",
        "  # Design the LSTM model\n",
        "  model = Sequential()\n",
        "  model.add(LSTM(units=64, input_shape=(X_train.shape[1], X_train.shape[2])))\n",
        "  model.add(Dense(units=1, activation='sigmoid'))\n",
        "  model.compile(loss='binary_crossentropy', optimizer=Adam(learning_rate=0.001), metrics=['accuracy'])\n",
        "\n",
        "\n",
        "  # Train the model\n",
        "  model.fit(X_train, y_train, epochs=50, batch_size=16, verbose=1)\n",
        "\n",
        "  # Make predictions on the test set\n",
        "  y_pred = model.predict(X_test)\n",
        "  y_pred = np.round(y_pred).flatten()\n",
        "\n",
        "  return y_test, y_pred\n",
        "\n",
        "  \n",
        "\n",
        "def calculate_confusion_matrix(y_true, y_pred):\n",
        "    \"\"\"\n",
        "    Calculate the confusion matrix for binary classification.\n",
        "    \"\"\"\n",
        "    # Convert to NumPy arrays if not already\n",
        "    y_true = np.array(y_true)\n",
        "    y_pred = np.array(y_pred)\n",
        "    \n",
        "    # Initialize counts\n",
        "    tn = 0  # True negatives\n",
        "    fp = 0  # False positives\n",
        "    fn = 0  # False negatives\n",
        "    tp = 0  # True positives\n",
        "    \n",
        "    # Calculate counts\n",
        "    for true_val, pred_val in zip(y_true, y_pred):\n",
        "        if true_val == 0 and pred_val == 0:\n",
        "            tn += 1\n",
        "        elif true_val == 0 and pred_val == 1:\n",
        "            fp += 1\n",
        "        elif true_val == 1 and pred_val == 0:\n",
        "            fn += 1\n",
        "        elif true_val == 1 and pred_val == 1:\n",
        "            tp += 1\n",
        "    \n",
        "    # Create a pandas DataFrame for the confusion matrix\n",
        "    confusion_matrix = pd.DataFrame(\n",
        "        {\n",
        "            'Predicted 0': [tn, fn],\n",
        "            'Predicted 1': [fp, tp]\n",
        "        },\n",
        "        index=['Actual 0', 'Actual 1']\n",
        "    )\n",
        "    \n",
        "    return confusion_matrix\n",
        "\n",
        "\n",
        "# Assuming you have 'y_test' as the true labels and 'y_pred' as the predicted labels\n"
      ],
      "metadata": {
        "id": "zJLoI0cqIVaB"
      },
      "execution_count": 14,
      "outputs": []
    },
    {
      "cell_type": "markdown",
      "source": [
        "# JPM240119C00150000"
      ],
      "metadata": {
        "id": "-Hv8jxFhPRs2"
      }
    },
    {
      "cell_type": "code",
      "source": [
        "opt_prices_iv  = pd.read_csv('JPM240119C00150000_iv.csv')\n",
        "opt_prices_iv = opt_prices_iv.set_index('date')\n",
        "opt_prices_iv.index = pd.to_datetime(opt_prices_iv.index)"
      ],
      "metadata": {
        "id": "PPrg9kkvIVRm"
      },
      "execution_count": 12,
      "outputs": []
    },
    {
      "cell_type": "code",
      "source": [
        "get_pelt_breaks(opt_prices_iv)"
      ],
      "metadata": {
        "id": "_3P7-z6dLxd-"
      },
      "execution_count": 15,
      "outputs": []
    },
    {
      "cell_type": "code",
      "source": [
        "opt_prices_iv.bsm_iv.plot(figsize=(12, 4))"
      ],
      "metadata": {
        "colab": {
          "base_uri": "https://localhost:8080/",
          "height": 396
        },
        "id": "livBQpcBIVXP",
        "outputId": "2d8ba70c-074c-4a0e-fbee-6c33eb355f9d"
      },
      "execution_count": 16,
      "outputs": [
        {
          "output_type": "execute_result",
          "data": {
            "text/plain": [
              "<Axes: xlabel='date'>"
            ]
          },
          "metadata": {},
          "execution_count": 16
        },
        {
          "output_type": "display_data",
          "data": {
            "text/plain": [
              "<Figure size 1200x400 with 1 Axes>"
            ],
            "image/png": "[encoded data removed]"
          },
          "metadata": {}
        }
      ]
    },
    {
      "cell_type": "code",
      "source": [
        "opt_prices_iv['l2_breaks'].sum()"
      ],
      "metadata": {
        "colab": {
          "base_uri": "https://localhost:8080/"
        },
        "id": "lVXCJaBnMasG",
        "outputId": "8122f1f4-e456-4812-ca43-75c48f61a8c9"
      },
      "execution_count": 21,
      "outputs": [
        {
          "output_type": "execute_result",
          "data": {
            "text/plain": [
              "41.0"
            ]
          },
          "metadata": {},
          "execution_count": 21
        }
      ]
    },
    {
      "cell_type": "code",
      "source": [
        "opt_prices_iv[\"2022-07-01\":]['l2_breaks'].sum()"
      ],
      "metadata": {
        "colab": {
          "base_uri": "https://localhost:8080/"
        },
        "id": "UO2D2NpjNHyg",
        "outputId": "91b35249-0ec4-403b-981e-a7a1d0c0b67f"
      },
      "execution_count": 24,
      "outputs": [
        {
          "output_type": "execute_result",
          "data": {
            "text/plain": [
              "18.0"
            ]
          },
          "metadata": {},
          "execution_count": 24
        }
      ]
    },
    {
      "cell_type": "code",
      "source": [],
      "metadata": {
        "id": "g8FjlcU2MRPU"
      },
      "execution_count": null,
      "outputs": []
    },
    {
      "cell_type": "code",
      "source": [
        "y_test, y_pred = lstm_experiment(opt_prices_iv[\"2022-07-01\":])"
      ],
      "metadata": {
        "id": "F0niC9_6JGug"
      },
      "execution_count": null,
      "outputs": []
    },
    {
      "cell_type": "code",
      "source": [
        "# Calculate the confusion matrix\n",
        "confusion_matrix = calculate_confusion_matrix(y_test, y_pred)\n",
        "print(confusion_matrix)"
      ],
      "metadata": {
        "colab": {
          "base_uri": "https://localhost:8080/"
        },
        "id": "hxbaIxHBJGxR",
        "outputId": "85333aff-35eb-467f-fe72-a38ac175e7bd"
      },
      "execution_count": 26,
      "outputs": [
        {
          "output_type": "stream",
          "name": "stdout",
          "text": [
            "          Predicted 0  Predicted 1\n",
            "Actual 0           31            1\n",
            "Actual 1            4            0\n"
          ]
        }
      ]
    },
    {
      "cell_type": "code",
      "source": [
        "# Evaluate the model\n",
        "accuracy = np.mean(y_pred == y_test)\n",
        "print(\"Accuracy:\", accuracy)"
      ],
      "metadata": {
        "colab": {
          "base_uri": "https://localhost:8080/"
        },
        "id": "IpNue1nwJGzr",
        "outputId": "2bbe1754-57c4-440a-dfde-0835def43893"
      },
      "execution_count": 27,
      "outputs": [
        {
          "output_type": "stream",
          "name": "stdout",
          "text": [
            "Accuracy: 0.8672839506172839\n"
          ]
        }
      ]
    },
    {
      "cell_type": "markdown",
      "source": [
        "# With VOL"
      ],
      "metadata": {
        "id": "rvkh73s7OFz_"
      }
    },
    {
      "cell_type": "code",
      "source": [
        "def lstm_vol_experiment(data):\n",
        "  # Assuming your DataFrame is named 'data' with the 'rbf_break' and 'bsm_iv' columns, and date as the index\n",
        "\n",
        "  # Prepare the data\n",
        "  target_variable = 'l2_breaks'\n",
        "  feature_variables = ['bsm_iv']\n",
        "\n",
        "  data = data[[target_variable] + feature_variables]  # Keep target variable and selected feature variables\n",
        "  data = data.astype(float)  # Convert to float if necessary\n",
        "\n",
        "  # Split the data\n",
        "  train_size = int(len(data) * 0.8)  # 80% of data for training\n",
        "  train_data = data[:train_size]\n",
        "  test_data = data[train_size:]\n",
        "\n",
        "  # Prepare the data for LSTM\n",
        "  window_size = 10  # Number of previous time steps to consider for prediction\n",
        "\n",
        "  def create_dataset(X, y, window_size):\n",
        "      X_data, y_data = [], []\n",
        "      for i in range(len(X) - window_size):\n",
        "          X_data.append(X[i:i+window_size])\n",
        "          y_data.append(y[i+window_size])\n",
        "      return np.array(X_data), np.array(y_data)\n",
        "\n",
        "  X_train, y_train = create_dataset(train_data[feature_variables + [target_variable]].values, train_data[target_variable].values, window_size)\n",
        "  X_test, y_test = create_dataset(test_data[feature_variables + [target_variable]].values, test_data[target_variable].values, window_size)\n",
        "\n",
        "  # Design the LSTM model\n",
        "  model = Sequential()\n",
        "  model.add(LSTM(units=64, input_shape=(X_train.shape[1], X_train.shape[2])))\n",
        "  model.add(Dense(units=1, activation='sigmoid'))\n",
        "  model.compile(loss='binary_crossentropy', optimizer=Adam(learning_rate=0.001), metrics=['accuracy'])\n",
        "\n",
        "  # Train the model\n",
        "  model.fit(X_train, y_train, epochs=50, batch_size=16, verbose=1)\n",
        "\n",
        "  # Make predictions on the test set\n",
        "  y_pred = model.predict(X_test)\n",
        "  y_pred = np.round(y_pred).flatten()\n",
        "\n",
        "  return y_test, y_pred"
      ],
      "metadata": {
        "id": "X-fm3wIMJG18"
      },
      "execution_count": 44,
      "outputs": []
    },
    {
      "cell_type": "code",
      "source": [
        "y_test, y_pred = lstm_vol_experiment(opt_prices_iv[\"2022-07-01\":])"
      ],
      "metadata": {
        "colab": {
          "base_uri": "https://localhost:8080/"
        },
        "id": "C1VR0_95Otqj",
        "outputId": "696b3821-b435-4a2d-cc67-bc10098fb8dc"
      },
      "execution_count": 36,
      "outputs": [
        {
          "output_type": "stream",
          "name": "stdout",
          "text": [
            "Epoch 1/50\n",
            "11/11 [==============================] - 2s 8ms/step - loss: 0.6497 - accuracy: 0.9006\n",
            "Epoch 2/50\n",
            "11/11 [==============================] - 0s 7ms/step - loss: 0.5194 - accuracy: 0.9181\n",
            "Epoch 3/50\n",
            "11/11 [==============================] - 0s 8ms/step - loss: 0.3276 - accuracy: 0.9181\n",
            "Epoch 4/50\n",
            "11/11 [==============================] - 0s 8ms/step - loss: 0.3088 - accuracy: 0.9181\n",
            "Epoch 5/50\n",
            "11/11 [==============================] - 0s 9ms/step - loss: 0.2933 - accuracy: 0.9181\n",
            "Epoch 6/50\n",
            "11/11 [==============================] - 0s 8ms/step - loss: 0.2933 - accuracy: 0.9181\n",
            "Epoch 7/50\n",
            "11/11 [==============================] - 0s 8ms/step - loss: 0.2881 - accuracy: 0.9181\n",
            "Epoch 8/50\n",
            "11/11 [==============================] - 0s 7ms/step - loss: 0.2886 - accuracy: 0.9181\n",
            "Epoch 9/50\n",
            "11/11 [==============================] - 0s 9ms/step - loss: 0.2860 - accuracy: 0.9181\n",
            "Epoch 10/50\n",
            "11/11 [==============================] - 0s 8ms/step - loss: 0.2880 - accuracy: 0.9181\n",
            "Epoch 11/50\n",
            "11/11 [==============================] - 0s 8ms/step - loss: 0.2917 - accuracy: 0.9181\n",
            "Epoch 12/50\n",
            "11/11 [==============================] - 0s 8ms/step - loss: 0.2837 - accuracy: 0.9181\n",
            "Epoch 13/50\n",
            "11/11 [==============================] - 0s 8ms/step - loss: 0.2844 - accuracy: 0.9181\n",
            "Epoch 14/50\n",
            "11/11 [==============================] - 0s 7ms/step - loss: 0.2815 - accuracy: 0.9181\n",
            "Epoch 15/50\n",
            "11/11 [==============================] - 0s 8ms/step - loss: 0.2848 - accuracy: 0.9181\n",
            "Epoch 16/50\n",
            "11/11 [==============================] - 0s 8ms/step - loss: 0.2835 - accuracy: 0.9181\n",
            "Epoch 17/50\n",
            "11/11 [==============================] - 0s 8ms/step - loss: 0.2847 - accuracy: 0.9181\n",
            "Epoch 18/50\n",
            "11/11 [==============================] - 0s 8ms/step - loss: 0.2818 - accuracy: 0.9181\n",
            "Epoch 19/50\n",
            "11/11 [==============================] - 0s 8ms/step - loss: 0.2791 - accuracy: 0.9181\n",
            "Epoch 20/50\n",
            "11/11 [==============================] - 0s 8ms/step - loss: 0.2846 - accuracy: 0.9181\n",
            "Epoch 21/50\n",
            "11/11 [==============================] - 0s 9ms/step - loss: 0.2778 - accuracy: 0.9181\n",
            "Epoch 22/50\n",
            "11/11 [==============================] - 0s 8ms/step - loss: 0.2804 - accuracy: 0.9181\n",
            "Epoch 23/50\n",
            "11/11 [==============================] - 0s 8ms/step - loss: 0.2812 - accuracy: 0.9181\n",
            "Epoch 24/50\n",
            "11/11 [==============================] - 0s 8ms/step - loss: 0.2765 - accuracy: 0.9181\n",
            "Epoch 25/50\n",
            "11/11 [==============================] - 0s 8ms/step - loss: 0.2758 - accuracy: 0.9181\n",
            "Epoch 26/50\n",
            "11/11 [==============================] - 0s 8ms/step - loss: 0.2737 - accuracy: 0.9181\n",
            "Epoch 27/50\n",
            "11/11 [==============================] - 0s 8ms/step - loss: 0.2737 - accuracy: 0.9181\n",
            "Epoch 28/50\n",
            "11/11 [==============================] - 0s 8ms/step - loss: 0.2724 - accuracy: 0.9181\n",
            "Epoch 29/50\n",
            "11/11 [==============================] - 0s 8ms/step - loss: 0.2694 - accuracy: 0.9181\n",
            "Epoch 30/50\n",
            "11/11 [==============================] - 0s 10ms/step - loss: 0.2707 - accuracy: 0.9181\n",
            "Epoch 31/50\n",
            "11/11 [==============================] - 0s 8ms/step - loss: 0.2685 - accuracy: 0.9181\n",
            "Epoch 32/50\n",
            "11/11 [==============================] - 0s 8ms/step - loss: 0.2707 - accuracy: 0.9181\n",
            "Epoch 33/50\n",
            "11/11 [==============================] - 0s 7ms/step - loss: 0.2683 - accuracy: 0.9181\n",
            "Epoch 34/50\n",
            "11/11 [==============================] - 0s 8ms/step - loss: 0.2668 - accuracy: 0.9181\n",
            "Epoch 35/50\n",
            "11/11 [==============================] - 0s 8ms/step - loss: 0.2690 - accuracy: 0.9181\n",
            "Epoch 36/50\n",
            "11/11 [==============================] - 0s 8ms/step - loss: 0.2698 - accuracy: 0.9181\n",
            "Epoch 37/50\n",
            "11/11 [==============================] - 0s 8ms/step - loss: 0.2631 - accuracy: 0.9181\n",
            "Epoch 38/50\n",
            "11/11 [==============================] - 0s 8ms/step - loss: 0.2661 - accuracy: 0.9181\n",
            "Epoch 39/50\n",
            "11/11 [==============================] - 0s 8ms/step - loss: 0.2644 - accuracy: 0.9181\n",
            "Epoch 40/50\n",
            "11/11 [==============================] - 0s 8ms/step - loss: 0.2610 - accuracy: 0.9181\n",
            "Epoch 41/50\n",
            "11/11 [==============================] - 0s 9ms/step - loss: 0.2616 - accuracy: 0.9181\n",
            "Epoch 42/50\n",
            "11/11 [==============================] - 0s 7ms/step - loss: 0.2658 - accuracy: 0.9181\n",
            "Epoch 43/50\n",
            "11/11 [==============================] - 0s 9ms/step - loss: 0.2594 - accuracy: 0.9240\n",
            "Epoch 44/50\n",
            "11/11 [==============================] - 0s 8ms/step - loss: 0.2593 - accuracy: 0.9181\n",
            "Epoch 45/50\n",
            "11/11 [==============================] - 0s 11ms/step - loss: 0.2569 - accuracy: 0.9181\n",
            "Epoch 46/50\n",
            "11/11 [==============================] - 0s 13ms/step - loss: 0.2543 - accuracy: 0.9240\n",
            "Epoch 47/50\n",
            "11/11 [==============================] - 0s 13ms/step - loss: 0.2591 - accuracy: 0.9181\n",
            "Epoch 48/50\n",
            "11/11 [==============================] - 0s 11ms/step - loss: 0.2594 - accuracy: 0.9181\n",
            "Epoch 49/50\n",
            "11/11 [==============================] - 0s 12ms/step - loss: 0.2558 - accuracy: 0.9240\n",
            "Epoch 50/50\n",
            "11/11 [==============================] - 0s 11ms/step - loss: 0.2553 - accuracy: 0.9240\n",
            "2/2 [==============================] - 0s 10ms/step\n"
          ]
        }
      ]
    },
    {
      "cell_type": "code",
      "source": [
        "# Calculate the confusion matrix\n",
        "confusion_matrix = calculate_confusion_matrix(y_test, y_pred)\n",
        "print(confusion_matrix)"
      ],
      "metadata": {
        "colab": {
          "base_uri": "https://localhost:8080/"
        },
        "id": "0jAo18J1OutW",
        "outputId": "ecc3aaa8-14b0-4fd4-8f5d-63528f8c765c"
      },
      "execution_count": 37,
      "outputs": [
        {
          "output_type": "stream",
          "name": "stdout",
          "text": [
            "          Predicted 0  Predicted 1\n",
            "Actual 0           32            0\n",
            "Actual 1            4            0\n"
          ]
        }
      ]
    },
    {
      "cell_type": "code",
      "source": [
        "# Evaluate the model\n",
        "accuracy = np.mean(y_pred == y_test)\n",
        "print(\"Accuracy:\", accuracy)"
      ],
      "metadata": {
        "colab": {
          "base_uri": "https://localhost:8080/"
        },
        "id": "J_XLX_uROttC",
        "outputId": "ba7aabf9-a7d4-4526-e53b-1fbdf44870ea"
      },
      "execution_count": 38,
      "outputs": [
        {
          "output_type": "stream",
          "name": "stdout",
          "text": [
            "Accuracy: 0.8888888888888888\n"
          ]
        }
      ]
    },
    {
      "cell_type": "markdown",
      "source": [
        "# Full timeseries"
      ],
      "metadata": {
        "id": "i6mGJ1N8Pawt"
      }
    },
    {
      "cell_type": "code",
      "source": [
        "y_test, y_pred = lstm_experiment(opt_prices_iv)\n",
        "\n",
        "# Calculate the confusion matrix\n",
        "confusion_matrix = calculate_confusion_matrix(y_test, y_pred)\n",
        "print(confusion_matrix)\n",
        "\n",
        "# Evaluate the model\n",
        "accuracy = np.mean(y_pred == y_test)\n",
        "print(\"Accuracy:\", accuracy)"
      ],
      "metadata": {
        "colab": {
          "base_uri": "https://localhost:8080/"
        },
        "id": "-GbVBEOUO_ff",
        "outputId": "4750e77c-42a1-4f6c-9d5a-317e7b56e1ec"
      },
      "execution_count": 39,
      "outputs": [
        {
          "output_type": "stream",
          "name": "stdout",
          "text": [
            "Epoch 1/50\n",
            "20/20 [==============================] - 3s 8ms/step - loss: 0.6252 - accuracy: 0.8627\n",
            "Epoch 2/50\n",
            "20/20 [==============================] - 0s 8ms/step - loss: 0.3861 - accuracy: 0.8954\n",
            "Epoch 3/50\n",
            "20/20 [==============================] - 0s 8ms/step - loss: 0.3527 - accuracy: 0.8954\n",
            "Epoch 4/50\n",
            "20/20 [==============================] - 0s 8ms/step - loss: 0.3493 - accuracy: 0.8954\n",
            "Epoch 5/50\n",
            "20/20 [==============================] - 0s 8ms/step - loss: 0.3407 - accuracy: 0.8954\n",
            "Epoch 6/50\n",
            "20/20 [==============================] - 0s 9ms/step - loss: 0.3374 - accuracy: 0.8954\n",
            "Epoch 7/50\n",
            "20/20 [==============================] - 0s 8ms/step - loss: 0.3325 - accuracy: 0.8954\n",
            "Epoch 8/50\n",
            "20/20 [==============================] - 0s 8ms/step - loss: 0.3225 - accuracy: 0.8954\n",
            "Epoch 9/50\n",
            "20/20 [==============================] - 0s 8ms/step - loss: 0.3168 - accuracy: 0.8954\n",
            "Epoch 10/50\n",
            "20/20 [==============================] - 0s 8ms/step - loss: 0.2952 - accuracy: 0.8954\n",
            "Epoch 11/50\n",
            "20/20 [==============================] - 0s 8ms/step - loss: 0.2901 - accuracy: 0.8954\n",
            "Epoch 12/50\n",
            "20/20 [==============================] - 0s 9ms/step - loss: 0.2766 - accuracy: 0.8922\n",
            "Epoch 13/50\n",
            "20/20 [==============================] - 0s 8ms/step - loss: 0.2857 - accuracy: 0.8954\n",
            "Epoch 14/50\n",
            "20/20 [==============================] - 0s 8ms/step - loss: 0.2643 - accuracy: 0.8922\n",
            "Epoch 15/50\n",
            "20/20 [==============================] - 0s 8ms/step - loss: 0.2739 - accuracy: 0.8922\n",
            "Epoch 16/50\n",
            "20/20 [==============================] - 0s 8ms/step - loss: 0.2618 - accuracy: 0.9085\n",
            "Epoch 17/50\n",
            "20/20 [==============================] - 0s 9ms/step - loss: 0.2508 - accuracy: 0.9183\n",
            "Epoch 18/50\n",
            "20/20 [==============================] - 0s 8ms/step - loss: 0.2446 - accuracy: 0.9150\n",
            "Epoch 19/50\n",
            "20/20 [==============================] - 0s 8ms/step - loss: 0.2510 - accuracy: 0.9052\n",
            "Epoch 20/50\n",
            "20/20 [==============================] - 0s 8ms/step - loss: 0.2496 - accuracy: 0.9118\n",
            "Epoch 21/50\n",
            "20/20 [==============================] - 0s 8ms/step - loss: 0.2423 - accuracy: 0.9118\n",
            "Epoch 22/50\n",
            "20/20 [==============================] - 0s 16ms/step - loss: 0.2533 - accuracy: 0.8922\n",
            "Epoch 23/50\n",
            "20/20 [==============================] - 0s 14ms/step - loss: 0.2547 - accuracy: 0.9183\n",
            "Epoch 24/50\n",
            "20/20 [==============================] - 0s 13ms/step - loss: 0.2350 - accuracy: 0.9216\n",
            "Epoch 25/50\n",
            "20/20 [==============================] - 0s 16ms/step - loss: 0.2407 - accuracy: 0.9150\n",
            "Epoch 26/50\n",
            "20/20 [==============================] - 0s 13ms/step - loss: 0.2466 - accuracy: 0.9183\n",
            "Epoch 27/50\n",
            "20/20 [==============================] - 0s 8ms/step - loss: 0.2399 - accuracy: 0.9183\n",
            "Epoch 28/50\n",
            "20/20 [==============================] - 0s 9ms/step - loss: 0.2389 - accuracy: 0.9183\n",
            "Epoch 29/50\n",
            "20/20 [==============================] - 0s 12ms/step - loss: 0.2336 - accuracy: 0.9183\n",
            "Epoch 30/50\n",
            "20/20 [==============================] - 0s 12ms/step - loss: 0.2383 - accuracy: 0.9020\n",
            "Epoch 31/50\n",
            "20/20 [==============================] - 0s 13ms/step - loss: 0.2327 - accuracy: 0.9183\n",
            "Epoch 32/50\n",
            "20/20 [==============================] - 0s 12ms/step - loss: 0.2347 - accuracy: 0.9183\n",
            "Epoch 33/50\n",
            "20/20 [==============================] - 0s 12ms/step - loss: 0.2355 - accuracy: 0.9183\n",
            "Epoch 34/50\n",
            "20/20 [==============================] - 0s 12ms/step - loss: 0.2320 - accuracy: 0.9183\n",
            "Epoch 35/50\n",
            "20/20 [==============================] - 0s 12ms/step - loss: 0.2340 - accuracy: 0.9183\n",
            "Epoch 36/50\n",
            "20/20 [==============================] - 0s 11ms/step - loss: 0.2309 - accuracy: 0.9183\n",
            "Epoch 37/50\n",
            "20/20 [==============================] - 0s 12ms/step - loss: 0.2306 - accuracy: 0.9183\n",
            "Epoch 38/50\n",
            "20/20 [==============================] - 0s 11ms/step - loss: 0.2324 - accuracy: 0.9183\n",
            "Epoch 39/50\n",
            "20/20 [==============================] - 0s 13ms/step - loss: 0.2321 - accuracy: 0.9183\n",
            "Epoch 40/50\n",
            "20/20 [==============================] - 0s 13ms/step - loss: 0.2329 - accuracy: 0.9183\n",
            "Epoch 41/50\n",
            "20/20 [==============================] - 0s 12ms/step - loss: 0.2317 - accuracy: 0.9183\n",
            "Epoch 42/50\n",
            "20/20 [==============================] - 0s 8ms/step - loss: 0.2327 - accuracy: 0.9183\n",
            "Epoch 43/50\n",
            "20/20 [==============================] - 0s 8ms/step - loss: 0.2311 - accuracy: 0.9183\n",
            "Epoch 44/50\n",
            "20/20 [==============================] - 0s 8ms/step - loss: 0.2323 - accuracy: 0.9085\n",
            "Epoch 45/50\n",
            "20/20 [==============================] - 0s 8ms/step - loss: 0.2307 - accuracy: 0.9183\n",
            "Epoch 46/50\n",
            "20/20 [==============================] - 0s 8ms/step - loss: 0.2302 - accuracy: 0.9183\n",
            "Epoch 47/50\n",
            "20/20 [==============================] - 0s 8ms/step - loss: 0.2294 - accuracy: 0.9183\n",
            "Epoch 48/50\n",
            "20/20 [==============================] - 0s 8ms/step - loss: 0.2317 - accuracy: 0.9183\n",
            "Epoch 49/50\n",
            "20/20 [==============================] - 0s 9ms/step - loss: 0.2287 - accuracy: 0.9183\n",
            "Epoch 50/50\n",
            "20/20 [==============================] - 0s 8ms/step - loss: 0.2313 - accuracy: 0.9183\n"
          ]
        },
        {
          "output_type": "stream",
          "name": "stderr",
          "text": [
            "WARNING:tensorflow:5 out of the last 9 calls to <function Model.make_predict_function.<locals>.predict_function at 0x7fd7d9a35fc0> triggered tf.function retracing. Tracing is expensive and the excessive number of tracings could be due to (1) creating @tf.function repeatedly in a loop, (2) passing tensors with different shapes, (3) passing Python objects instead of tensors. For (1), please define your @tf.function outside of the loop. For (2), @tf.function has reduce_retracing=True option that can avoid unnecessary retracing. For (3), please refer to https://www.tensorflow.org/guide/function#controlling_retracing and https://www.tensorflow.org/api_docs/python/tf/function for  more details.\n"
          ]
        },
        {
          "output_type": "stream",
          "name": "stdout",
          "text": [
            "3/3 [==============================] - 0s 6ms/step\n",
            "          Predicted 0  Predicted 1\n",
            "Actual 0           59            4\n",
            "Actual 1            5            2\n",
            "Accuracy: 0.8314285714285714\n"
          ]
        }
      ]
    },
    {
      "cell_type": "code",
      "source": [
        "y_test, y_pred = lstm_vol_experiment(opt_prices_iv)\n",
        "\n",
        "# Calculate the confusion matrix\n",
        "confusion_matrix = calculate_confusion_matrix(y_test, y_pred)\n",
        "print(confusion_matrix)\n",
        "\n",
        "# Evaluate the model\n",
        "accuracy = np.mean(y_pred == y_test)\n",
        "print(\"Accuracy:\", accuracy)"
      ],
      "metadata": {
        "colab": {
          "base_uri": "https://localhost:8080/"
        },
        "id": "09HUSH3bPrvR",
        "outputId": "108e3deb-37d4-4c12-b713-94425648e074"
      },
      "execution_count": 40,
      "outputs": [
        {
          "output_type": "stream",
          "name": "stdout",
          "text": [
            "Epoch 1/50\n",
            "20/20 [==============================] - 2s 8ms/step - loss: 0.6428 - accuracy: 0.8137\n",
            "Epoch 2/50\n",
            "20/20 [==============================] - 0s 8ms/step - loss: 0.4269 - accuracy: 0.8954\n",
            "Epoch 3/50\n",
            "20/20 [==============================] - 0s 7ms/step - loss: 0.3472 - accuracy: 0.8954\n",
            "Epoch 4/50\n",
            "20/20 [==============================] - 0s 7ms/step - loss: 0.3454 - accuracy: 0.8954\n",
            "Epoch 5/50\n",
            "20/20 [==============================] - 0s 8ms/step - loss: 0.3396 - accuracy: 0.8954\n",
            "Epoch 6/50\n",
            "20/20 [==============================] - 0s 8ms/step - loss: 0.3370 - accuracy: 0.8954\n",
            "Epoch 7/50\n",
            "20/20 [==============================] - 0s 8ms/step - loss: 0.3263 - accuracy: 0.8954\n",
            "Epoch 8/50\n",
            "20/20 [==============================] - 0s 9ms/step - loss: 0.3190 - accuracy: 0.8954\n",
            "Epoch 9/50\n",
            "20/20 [==============================] - 0s 8ms/step - loss: 0.3019 - accuracy: 0.8954\n",
            "Epoch 10/50\n",
            "20/20 [==============================] - 0s 8ms/step - loss: 0.2886 - accuracy: 0.8954\n",
            "Epoch 11/50\n",
            "20/20 [==============================] - 0s 9ms/step - loss: 0.2894 - accuracy: 0.8954\n",
            "Epoch 12/50\n",
            "20/20 [==============================] - 0s 9ms/step - loss: 0.2651 - accuracy: 0.9020\n",
            "Epoch 13/50\n",
            "20/20 [==============================] - 0s 8ms/step - loss: 0.2542 - accuracy: 0.9118\n",
            "Epoch 14/50\n",
            "20/20 [==============================] - 0s 8ms/step - loss: 0.2631 - accuracy: 0.9183\n",
            "Epoch 15/50\n",
            "20/20 [==============================] - 0s 8ms/step - loss: 0.2570 - accuracy: 0.9052\n",
            "Epoch 16/50\n",
            "20/20 [==============================] - 0s 8ms/step - loss: 0.2474 - accuracy: 0.9216\n",
            "Epoch 17/50\n",
            "20/20 [==============================] - 0s 8ms/step - loss: 0.2404 - accuracy: 0.9216\n",
            "Epoch 18/50\n",
            "20/20 [==============================] - 0s 8ms/step - loss: 0.2405 - accuracy: 0.9248\n",
            "Epoch 19/50\n",
            "20/20 [==============================] - 0s 7ms/step - loss: 0.2438 - accuracy: 0.9085\n",
            "Epoch 20/50\n",
            "20/20 [==============================] - 0s 9ms/step - loss: 0.2457 - accuracy: 0.9216\n",
            "Epoch 21/50\n",
            "20/20 [==============================] - 0s 8ms/step - loss: 0.2408 - accuracy: 0.9085\n",
            "Epoch 22/50\n",
            "20/20 [==============================] - 0s 9ms/step - loss: 0.2409 - accuracy: 0.9216\n",
            "Epoch 23/50\n",
            "20/20 [==============================] - 0s 9ms/step - loss: 0.2397 - accuracy: 0.9020\n",
            "Epoch 24/50\n",
            "20/20 [==============================] - 0s 8ms/step - loss: 0.2358 - accuracy: 0.9183\n",
            "Epoch 25/50\n",
            "20/20 [==============================] - 0s 8ms/step - loss: 0.2333 - accuracy: 0.9150\n",
            "Epoch 26/50\n",
            "20/20 [==============================] - 0s 8ms/step - loss: 0.2345 - accuracy: 0.9216\n",
            "Epoch 27/50\n",
            "20/20 [==============================] - 0s 8ms/step - loss: 0.2302 - accuracy: 0.9183\n",
            "Epoch 28/50\n",
            "20/20 [==============================] - 0s 8ms/step - loss: 0.2354 - accuracy: 0.9216\n",
            "Epoch 29/50\n",
            "20/20 [==============================] - 0s 9ms/step - loss: 0.2312 - accuracy: 0.9183\n",
            "Epoch 30/50\n",
            "20/20 [==============================] - 0s 8ms/step - loss: 0.2363 - accuracy: 0.9183\n",
            "Epoch 31/50\n",
            "20/20 [==============================] - 0s 8ms/step - loss: 0.2327 - accuracy: 0.9150\n",
            "Epoch 32/50\n",
            "20/20 [==============================] - 0s 8ms/step - loss: 0.2277 - accuracy: 0.9183\n",
            "Epoch 33/50\n",
            "20/20 [==============================] - 0s 9ms/step - loss: 0.2297 - accuracy: 0.9248\n",
            "Epoch 34/50\n",
            "20/20 [==============================] - 0s 8ms/step - loss: 0.2356 - accuracy: 0.9183\n",
            "Epoch 35/50\n",
            "20/20 [==============================] - 0s 8ms/step - loss: 0.2300 - accuracy: 0.9150\n",
            "Epoch 36/50\n",
            "20/20 [==============================] - 0s 7ms/step - loss: 0.2306 - accuracy: 0.9183\n",
            "Epoch 37/50\n",
            "20/20 [==============================] - 0s 8ms/step - loss: 0.2298 - accuracy: 0.9216\n",
            "Epoch 38/50\n",
            "20/20 [==============================] - 0s 8ms/step - loss: 0.2248 - accuracy: 0.9216\n",
            "Epoch 39/50\n",
            "20/20 [==============================] - 0s 8ms/step - loss: 0.2287 - accuracy: 0.9183\n",
            "Epoch 40/50\n",
            "20/20 [==============================] - 0s 8ms/step - loss: 0.2287 - accuracy: 0.9183\n",
            "Epoch 41/50\n",
            "20/20 [==============================] - 0s 8ms/step - loss: 0.2319 - accuracy: 0.9216\n",
            "Epoch 42/50\n",
            "20/20 [==============================] - 0s 8ms/step - loss: 0.2255 - accuracy: 0.9183\n",
            "Epoch 43/50\n",
            "20/20 [==============================] - 0s 11ms/step - loss: 0.2247 - accuracy: 0.9183\n",
            "Epoch 44/50\n",
            "20/20 [==============================] - 0s 12ms/step - loss: 0.2233 - accuracy: 0.9183\n",
            "Epoch 45/50\n",
            "20/20 [==============================] - 0s 12ms/step - loss: 0.2198 - accuracy: 0.9183\n",
            "Epoch 46/50\n",
            "20/20 [==============================] - 0s 12ms/step - loss: 0.2212 - accuracy: 0.9183\n",
            "Epoch 47/50\n",
            "20/20 [==============================] - 0s 11ms/step - loss: 0.2249 - accuracy: 0.9183\n",
            "Epoch 48/50\n",
            "20/20 [==============================] - 0s 11ms/step - loss: 0.2230 - accuracy: 0.9183\n",
            "Epoch 49/50\n",
            "20/20 [==============================] - 0s 11ms/step - loss: 0.2253 - accuracy: 0.9183\n",
            "Epoch 50/50\n",
            "20/20 [==============================] - 0s 12ms/step - loss: 0.2205 - accuracy: 0.9183\n"
          ]
        },
        {
          "output_type": "stream",
          "name": "stderr",
          "text": [
            "WARNING:tensorflow:6 out of the last 12 calls to <function Model.make_predict_function.<locals>.predict_function at 0x7fd7da7452d0> triggered tf.function retracing. Tracing is expensive and the excessive number of tracings could be due to (1) creating @tf.function repeatedly in a loop, (2) passing tensors with different shapes, (3) passing Python objects instead of tensors. For (1), please define your @tf.function outside of the loop. For (2), @tf.function has reduce_retracing=True option that can avoid unnecessary retracing. For (3), please refer to https://www.tensorflow.org/guide/function#controlling_retracing and https://www.tensorflow.org/api_docs/python/tf/function for  more details.\n"
          ]
        },
        {
          "output_type": "stream",
          "name": "stdout",
          "text": [
            "3/3 [==============================] - 0s 4ms/step\n",
            "          Predicted 0  Predicted 1\n",
            "Actual 0           60            3\n",
            "Actual 1            5            2\n",
            "Accuracy: 0.8857142857142857\n"
          ]
        }
      ]
    },
    {
      "cell_type": "markdown",
      "source": [
        "# AAPL230616C00150000"
      ],
      "metadata": {
        "id": "WGsXWaw1Sc1q"
      }
    },
    {
      "cell_type": "code",
      "source": [
        "opt_prices_iv  = pd.read_csv('opt_prices550_iv.csv')\n",
        "opt_prices_iv = opt_prices_iv.set_index('date')\n",
        "opt_prices_iv.index = pd.to_datetime(opt_prices_iv.index)\n",
        "\n",
        "get_pelt_breaks(opt_prices_iv)\n",
        "\n",
        "opt_prices_iv.bsm_iv.plot(figsize=(12, 4))"
      ],
      "metadata": {
        "colab": {
          "base_uri": "https://localhost:8080/",
          "height": 396
        },
        "id": "iNGu7YW1QBWM",
        "outputId": "26acfd43-5eca-46fb-c320-9d2a9a360252"
      },
      "execution_count": 41,
      "outputs": [
        {
          "output_type": "execute_result",
          "data": {
            "text/plain": [
              "<Axes: xlabel='date'>"
            ]
          },
          "metadata": {},
          "execution_count": 41
        },
        {
          "output_type": "display_data",
          "data": {
            "text/plain": [
              "<Figure size 1200x400 with 1 Axes>"
            ],
            "image/png": "[encoded data removed]"
          },
          "metadata": {}
        }
      ]
    },
    {
      "cell_type": "markdown",
      "source": [
        "# cut"
      ],
      "metadata": {
        "id": "0mYbRLaERXZ3"
      }
    },
    {
      "cell_type": "code",
      "source": [
        "y_test, y_pred = lstm_experiment(opt_prices_iv['2022-09-15':])\n",
        "\n",
        "# Calculate the confusion matrix\n",
        "confusion_matrix = calculate_confusion_matrix(y_test, y_pred)\n",
        "print(confusion_matrix)\n",
        "\n",
        "# Evaluate the model\n",
        "accuracy = np.mean(y_pred == y_test)\n",
        "print(\"Accuracy:\", accuracy)"
      ],
      "metadata": {
        "colab": {
          "base_uri": "https://localhost:8080/"
        },
        "id": "1zE5Vc-FQ2lJ",
        "outputId": "454f6b68-51b3-4fac-8ec5-ffb14ff25f48"
      },
      "execution_count": 42,
      "outputs": [
        {
          "output_type": "stream",
          "name": "stdout",
          "text": [
            "Epoch 1/50\n",
            "9/9 [==============================] - 3s 10ms/step - loss: 0.6587 - accuracy: 0.8092\n",
            "Epoch 2/50\n",
            "9/9 [==============================] - 0s 8ms/step - loss: 0.5862 - accuracy: 0.8321\n",
            "Epoch 3/50\n",
            "9/9 [==============================] - 0s 9ms/step - loss: 0.5016 - accuracy: 0.8321\n",
            "Epoch 4/50\n",
            "9/9 [==============================] - 0s 8ms/step - loss: 0.4902 - accuracy: 0.8321\n",
            "Epoch 5/50\n",
            "9/9 [==============================] - 0s 8ms/step - loss: 0.4783 - accuracy: 0.8321\n",
            "Epoch 6/50\n",
            "9/9 [==============================] - 0s 8ms/step - loss: 0.4656 - accuracy: 0.8321\n",
            "Epoch 7/50\n",
            "9/9 [==============================] - 0s 9ms/step - loss: 0.4682 - accuracy: 0.8321\n",
            "Epoch 8/50\n",
            "9/9 [==============================] - 0s 8ms/step - loss: 0.4652 - accuracy: 0.8321\n",
            "Epoch 9/50\n",
            "9/9 [==============================] - 0s 9ms/step - loss: 0.4559 - accuracy: 0.8321\n",
            "Epoch 10/50\n",
            "9/9 [==============================] - 0s 9ms/step - loss: 0.4523 - accuracy: 0.8321\n",
            "Epoch 11/50\n",
            "9/9 [==============================] - 0s 10ms/step - loss: 0.4551 - accuracy: 0.8321\n",
            "Epoch 12/50\n",
            "9/9 [==============================] - 0s 9ms/step - loss: 0.4524 - accuracy: 0.8321\n",
            "Epoch 13/50\n",
            "9/9 [==============================] - 0s 9ms/step - loss: 0.4500 - accuracy: 0.8321\n",
            "Epoch 14/50\n",
            "9/9 [==============================] - 0s 8ms/step - loss: 0.4471 - accuracy: 0.8321\n",
            "Epoch 15/50\n",
            "9/9 [==============================] - 0s 11ms/step - loss: 0.4421 - accuracy: 0.8321\n",
            "Epoch 16/50\n",
            "9/9 [==============================] - 0s 9ms/step - loss: 0.4472 - accuracy: 0.8321\n",
            "Epoch 17/50\n",
            "9/9 [==============================] - 0s 9ms/step - loss: 0.4463 - accuracy: 0.8321\n",
            "Epoch 18/50\n",
            "9/9 [==============================] - 0s 9ms/step - loss: 0.4389 - accuracy: 0.8321\n",
            "Epoch 19/50\n",
            "9/9 [==============================] - 0s 10ms/step - loss: 0.4443 - accuracy: 0.8321\n",
            "Epoch 20/50\n",
            "9/9 [==============================] - 0s 9ms/step - loss: 0.4379 - accuracy: 0.8321\n",
            "Epoch 21/50\n",
            "9/9 [==============================] - 0s 8ms/step - loss: 0.4348 - accuracy: 0.8321\n",
            "Epoch 22/50\n",
            "9/9 [==============================] - 0s 9ms/step - loss: 0.4302 - accuracy: 0.8321\n",
            "Epoch 23/50\n",
            "9/9 [==============================] - 0s 10ms/step - loss: 0.4254 - accuracy: 0.8321\n",
            "Epoch 24/50\n",
            "9/9 [==============================] - 0s 9ms/step - loss: 0.4312 - accuracy: 0.8321\n",
            "Epoch 25/50\n",
            "9/9 [==============================] - 0s 9ms/step - loss: 0.4279 - accuracy: 0.8321\n",
            "Epoch 26/50\n",
            "9/9 [==============================] - 0s 9ms/step - loss: 0.4127 - accuracy: 0.8321\n",
            "Epoch 27/50\n",
            "9/9 [==============================] - 0s 8ms/step - loss: 0.3995 - accuracy: 0.8321\n",
            "Epoch 28/50\n",
            "9/9 [==============================] - 0s 8ms/step - loss: 0.3829 - accuracy: 0.8321\n",
            "Epoch 29/50\n",
            "9/9 [==============================] - 0s 9ms/step - loss: 0.3543 - accuracy: 0.8321\n",
            "Epoch 30/50\n",
            "9/9 [==============================] - 0s 8ms/step - loss: 0.3327 - accuracy: 0.8321\n",
            "Epoch 31/50\n",
            "9/9 [==============================] - 0s 8ms/step - loss: 0.3121 - accuracy: 0.8626\n",
            "Epoch 32/50\n",
            "9/9 [==============================] - 0s 9ms/step - loss: 0.3171 - accuracy: 0.8321\n",
            "Epoch 33/50\n",
            "9/9 [==============================] - 0s 9ms/step - loss: 0.2880 - accuracy: 0.9237\n",
            "Epoch 34/50\n",
            "9/9 [==============================] - 0s 9ms/step - loss: 0.2667 - accuracy: 0.8779\n",
            "Epoch 35/50\n",
            "9/9 [==============================] - 0s 11ms/step - loss: 0.2458 - accuracy: 0.9389\n",
            "Epoch 36/50\n",
            "9/9 [==============================] - 0s 13ms/step - loss: 0.2311 - accuracy: 0.9389\n",
            "Epoch 37/50\n",
            "9/9 [==============================] - 0s 13ms/step - loss: 0.2110 - accuracy: 0.9389\n",
            "Epoch 38/50\n",
            "9/9 [==============================] - 0s 13ms/step - loss: 0.2290 - accuracy: 0.9389\n",
            "Epoch 39/50\n",
            "9/9 [==============================] - 0s 13ms/step - loss: 0.2095 - accuracy: 0.9389\n",
            "Epoch 40/50\n",
            "9/9 [==============================] - 0s 13ms/step - loss: 0.2022 - accuracy: 0.9389\n",
            "Epoch 41/50\n",
            "9/9 [==============================] - 0s 12ms/step - loss: 0.2079 - accuracy: 0.9389\n",
            "Epoch 42/50\n",
            "9/9 [==============================] - 0s 12ms/step - loss: 0.2086 - accuracy: 0.9389\n",
            "Epoch 43/50\n",
            "9/9 [==============================] - 0s 13ms/step - loss: 0.2018 - accuracy: 0.9389\n",
            "Epoch 44/50\n",
            "9/9 [==============================] - 0s 12ms/step - loss: 0.2021 - accuracy: 0.9389\n",
            "Epoch 45/50\n",
            "9/9 [==============================] - 0s 12ms/step - loss: 0.1988 - accuracy: 0.9389\n",
            "Epoch 46/50\n",
            "9/9 [==============================] - 0s 12ms/step - loss: 0.1995 - accuracy: 0.9389\n",
            "Epoch 47/50\n",
            "9/9 [==============================] - 0s 13ms/step - loss: 0.1959 - accuracy: 0.9389\n",
            "Epoch 48/50\n",
            "9/9 [==============================] - 0s 12ms/step - loss: 0.2083 - accuracy: 0.9389\n",
            "Epoch 49/50\n",
            "9/9 [==============================] - 0s 12ms/step - loss: 0.1920 - accuracy: 0.9389\n",
            "Epoch 50/50\n",
            "9/9 [==============================] - 0s 12ms/step - loss: 0.1955 - accuracy: 0.9389\n",
            "1/1 [==============================] - 1s 662ms/step\n",
            "          Predicted 0  Predicted 1\n",
            "Actual 0           20            3\n",
            "Actual 1            2            1\n",
            "Accuracy: 0.7662721893491125\n"
          ]
        }
      ]
    },
    {
      "cell_type": "code",
      "source": [
        "y_test, y_pred = lstm_vol_experiment(opt_prices_iv['2022-09-15':])\n",
        "\n",
        "# Calculate the confusion matrix\n",
        "confusion_matrix = calculate_confusion_matrix(y_test, y_pred)\n",
        "print(confusion_matrix)\n",
        "\n",
        "# Evaluate the model\n",
        "accuracy = np.mean(y_pred == y_test)\n",
        "print(\"Accuracy:\", accuracy)"
      ],
      "metadata": {
        "colab": {
          "base_uri": "https://localhost:8080/"
        },
        "id": "AtubLXGPRbbz",
        "outputId": "b30d4b20-bed4-4f31-bffe-2b361784693f"
      },
      "execution_count": 45,
      "outputs": [
        {
          "output_type": "stream",
          "name": "stdout",
          "text": [
            "Epoch 1/50\n",
            "9/9 [==============================] - 2s 8ms/step - loss: 0.6743 - accuracy: 0.7634\n",
            "Epoch 2/50\n",
            "9/9 [==============================] - 0s 8ms/step - loss: 0.6134 - accuracy: 0.8321\n",
            "Epoch 3/50\n",
            "9/9 [==============================] - 0s 9ms/step - loss: 0.5263 - accuracy: 0.8321\n",
            "Epoch 4/50\n",
            "9/9 [==============================] - 0s 9ms/step - loss: 0.4844 - accuracy: 0.8321\n",
            "Epoch 5/50\n",
            "9/9 [==============================] - 0s 8ms/step - loss: 0.4833 - accuracy: 0.8321\n",
            "Epoch 6/50\n",
            "9/9 [==============================] - 0s 8ms/step - loss: 0.4677 - accuracy: 0.8321\n",
            "Epoch 7/50\n",
            "9/9 [==============================] - 0s 9ms/step - loss: 0.4666 - accuracy: 0.8321\n",
            "Epoch 8/50\n",
            "9/9 [==============================] - 0s 8ms/step - loss: 0.4580 - accuracy: 0.8321\n",
            "Epoch 9/50\n",
            "9/9 [==============================] - 0s 10ms/step - loss: 0.4555 - accuracy: 0.8321\n",
            "Epoch 10/50\n",
            "9/9 [==============================] - 0s 8ms/step - loss: 0.4614 - accuracy: 0.8321\n",
            "Epoch 11/50\n",
            "9/9 [==============================] - 0s 9ms/step - loss: 0.4512 - accuracy: 0.8321\n",
            "Epoch 12/50\n",
            "9/9 [==============================] - 0s 8ms/step - loss: 0.4508 - accuracy: 0.8321\n",
            "Epoch 13/50\n",
            "9/9 [==============================] - 0s 8ms/step - loss: 0.4451 - accuracy: 0.8321\n",
            "Epoch 14/50\n",
            "9/9 [==============================] - 0s 8ms/step - loss: 0.4579 - accuracy: 0.8321\n",
            "Epoch 15/50\n",
            "9/9 [==============================] - 0s 10ms/step - loss: 0.4409 - accuracy: 0.8321\n",
            "Epoch 16/50\n",
            "9/9 [==============================] - 0s 8ms/step - loss: 0.4367 - accuracy: 0.8321\n",
            "Epoch 17/50\n",
            "9/9 [==============================] - 0s 9ms/step - loss: 0.4363 - accuracy: 0.8321\n",
            "Epoch 18/50\n",
            "9/9 [==============================] - 0s 8ms/step - loss: 0.4325 - accuracy: 0.8321\n",
            "Epoch 19/50\n",
            "9/9 [==============================] - 0s 8ms/step - loss: 0.4104 - accuracy: 0.8321\n",
            "Epoch 20/50\n",
            "9/9 [==============================] - 0s 9ms/step - loss: 0.3982 - accuracy: 0.8321\n",
            "Epoch 21/50\n",
            "9/9 [==============================] - 0s 8ms/step - loss: 0.3769 - accuracy: 0.8321\n",
            "Epoch 22/50\n",
            "9/9 [==============================] - 0s 9ms/step - loss: 0.3579 - accuracy: 0.8702\n",
            "Epoch 23/50\n",
            "9/9 [==============================] - 0s 9ms/step - loss: 0.3117 - accuracy: 0.8321\n",
            "Epoch 24/50\n",
            "9/9 [==============================] - 0s 8ms/step - loss: 0.2732 - accuracy: 0.9237\n",
            "Epoch 25/50\n",
            "9/9 [==============================] - 0s 9ms/step - loss: 0.2530 - accuracy: 0.9389\n",
            "Epoch 26/50\n",
            "9/9 [==============================] - 0s 9ms/step - loss: 0.2215 - accuracy: 0.9389\n",
            "Epoch 27/50\n",
            "9/9 [==============================] - 0s 9ms/step - loss: 0.2100 - accuracy: 0.9389\n",
            "Epoch 28/50\n",
            "9/9 [==============================] - 0s 8ms/step - loss: 0.2094 - accuracy: 0.9389\n",
            "Epoch 29/50\n",
            "9/9 [==============================] - 0s 8ms/step - loss: 0.2102 - accuracy: 0.9389\n",
            "Epoch 30/50\n",
            "9/9 [==============================] - 0s 8ms/step - loss: 0.2263 - accuracy: 0.9237\n",
            "Epoch 31/50\n",
            "9/9 [==============================] - 0s 8ms/step - loss: 0.2285 - accuracy: 0.9389\n",
            "Epoch 32/50\n",
            "9/9 [==============================] - 0s 8ms/step - loss: 0.2032 - accuracy: 0.9389\n",
            "Epoch 33/50\n",
            "9/9 [==============================] - 0s 8ms/step - loss: 0.2047 - accuracy: 0.9389\n",
            "Epoch 34/50\n",
            "9/9 [==============================] - 0s 9ms/step - loss: 0.2064 - accuracy: 0.9389\n",
            "Epoch 35/50\n",
            "9/9 [==============================] - 0s 8ms/step - loss: 0.2030 - accuracy: 0.9389\n",
            "Epoch 36/50\n",
            "9/9 [==============================] - 0s 9ms/step - loss: 0.2007 - accuracy: 0.9389\n",
            "Epoch 37/50\n",
            "9/9 [==============================] - 0s 8ms/step - loss: 0.1993 - accuracy: 0.9389\n",
            "Epoch 38/50\n",
            "9/9 [==============================] - 0s 9ms/step - loss: 0.1958 - accuracy: 0.9389\n",
            "Epoch 39/50\n",
            "9/9 [==============================] - 0s 10ms/step - loss: 0.1965 - accuracy: 0.9389\n",
            "Epoch 40/50\n",
            "9/9 [==============================] - 0s 8ms/step - loss: 0.1985 - accuracy: 0.9389\n",
            "Epoch 41/50\n",
            "9/9 [==============================] - 0s 11ms/step - loss: 0.1893 - accuracy: 0.9389\n",
            "Epoch 42/50\n",
            "9/9 [==============================] - 0s 12ms/step - loss: 0.1943 - accuracy: 0.9389\n",
            "Epoch 43/50\n",
            "9/9 [==============================] - 0s 12ms/step - loss: 0.1863 - accuracy: 0.9389\n",
            "Epoch 44/50\n",
            "9/9 [==============================] - 0s 13ms/step - loss: 0.1824 - accuracy: 0.9389\n",
            "Epoch 45/50\n",
            "9/9 [==============================] - 0s 16ms/step - loss: 0.1866 - accuracy: 0.9389\n",
            "Epoch 46/50\n",
            "9/9 [==============================] - 0s 14ms/step - loss: 0.1882 - accuracy: 0.9389\n",
            "Epoch 47/50\n",
            "9/9 [==============================] - 0s 17ms/step - loss: 0.1890 - accuracy: 0.9389\n",
            "Epoch 48/50\n",
            "9/9 [==============================] - 0s 13ms/step - loss: 0.1824 - accuracy: 0.9389\n",
            "Epoch 49/50\n",
            "9/9 [==============================] - 0s 16ms/step - loss: 0.1814 - accuracy: 0.9389\n",
            "Epoch 50/50\n",
            "9/9 [==============================] - 0s 20ms/step - loss: 0.1800 - accuracy: 0.9389\n",
            "1/1 [==============================] - 1s 1s/step\n",
            "          Predicted 0  Predicted 1\n",
            "Actual 0           20            3\n",
            "Actual 1            2            1\n",
            "Accuracy: 0.8076923076923077\n"
          ]
        }
      ]
    },
    {
      "cell_type": "markdown",
      "source": [
        "# full"
      ],
      "metadata": {
        "id": "VmQCaqb7RhQ-"
      }
    },
    {
      "cell_type": "code",
      "source": [
        "y_test, y_pred = lstm_experiment(opt_prices_iv)\n",
        "\n",
        "# Calculate the confusion matrix\n",
        "confusion_matrix = calculate_confusion_matrix(y_test, y_pred)\n",
        "print(confusion_matrix)\n",
        "\n",
        "# Evaluate the model\n",
        "accuracy = np.mean(y_pred == y_test)\n",
        "print(\"Accuracy:\", accuracy)"
      ],
      "metadata": {
        "colab": {
          "base_uri": "https://localhost:8080/"
        },
        "id": "5ZGJAS0FQw-j",
        "outputId": "ece9ef8e-1719-4685-95b6-d341a1f0e2c1"
      },
      "execution_count": 46,
      "outputs": [
        {
          "output_type": "stream",
          "name": "stdout",
          "text": [
            "Epoch 1/50\n",
            "27/27 [==============================] - 2s 7ms/step - loss: 0.6084 - accuracy: 0.8302\n",
            "Epoch 2/50\n",
            "27/27 [==============================] - 0s 8ms/step - loss: 0.4423 - accuracy: 0.8558\n",
            "Epoch 3/50\n",
            "27/27 [==============================] - 0s 8ms/step - loss: 0.4246 - accuracy: 0.8558\n",
            "Epoch 4/50\n",
            "27/27 [==============================] - 0s 8ms/step - loss: 0.4162 - accuracy: 0.8558\n",
            "Epoch 5/50\n",
            "27/27 [==============================] - 0s 8ms/step - loss: 0.4054 - accuracy: 0.8558\n",
            "Epoch 6/50\n",
            "27/27 [==============================] - 0s 8ms/step - loss: 0.3930 - accuracy: 0.8558\n",
            "Epoch 7/50\n",
            "27/27 [==============================] - 0s 7ms/step - loss: 0.3726 - accuracy: 0.8558\n",
            "Epoch 8/50\n",
            "27/27 [==============================] - 0s 8ms/step - loss: 0.3372 - accuracy: 0.8558\n",
            "Epoch 9/50\n",
            "27/27 [==============================] - 0s 8ms/step - loss: 0.2736 - accuracy: 0.9047\n",
            "Epoch 10/50\n",
            "27/27 [==============================] - 0s 7ms/step - loss: 0.2353 - accuracy: 0.9302\n",
            "Epoch 11/50\n",
            "27/27 [==============================] - 0s 8ms/step - loss: 0.2208 - accuracy: 0.9302\n",
            "Epoch 12/50\n",
            "27/27 [==============================] - 0s 8ms/step - loss: 0.2205 - accuracy: 0.9372\n",
            "Epoch 13/50\n",
            "27/27 [==============================] - 0s 8ms/step - loss: 0.2190 - accuracy: 0.9372\n",
            "Epoch 14/50\n",
            "27/27 [==============================] - 0s 9ms/step - loss: 0.2158 - accuracy: 0.9372\n",
            "Epoch 15/50\n",
            "27/27 [==============================] - 0s 8ms/step - loss: 0.2114 - accuracy: 0.9372\n",
            "Epoch 16/50\n",
            "27/27 [==============================] - 0s 8ms/step - loss: 0.2087 - accuracy: 0.9349\n",
            "Epoch 17/50\n",
            "27/27 [==============================] - 0s 8ms/step - loss: 0.2135 - accuracy: 0.9372\n",
            "Epoch 18/50\n",
            "27/27 [==============================] - 0s 8ms/step - loss: 0.2119 - accuracy: 0.9349\n",
            "Epoch 19/50\n",
            "27/27 [==============================] - 0s 8ms/step - loss: 0.2019 - accuracy: 0.9372\n",
            "Epoch 20/50\n",
            "27/27 [==============================] - 0s 8ms/step - loss: 0.2012 - accuracy: 0.9372\n",
            "Epoch 21/50\n",
            "27/27 [==============================] - 0s 8ms/step - loss: 0.1926 - accuracy: 0.9372\n",
            "Epoch 22/50\n",
            "27/27 [==============================] - 0s 8ms/step - loss: 0.2078 - accuracy: 0.9372\n",
            "Epoch 23/50\n",
            "27/27 [==============================] - 0s 8ms/step - loss: 0.1992 - accuracy: 0.9372\n",
            "Epoch 24/50\n",
            "27/27 [==============================] - 0s 8ms/step - loss: 0.1949 - accuracy: 0.9372\n",
            "Epoch 25/50\n",
            "27/27 [==============================] - 0s 8ms/step - loss: 0.1898 - accuracy: 0.9372\n",
            "Epoch 26/50\n",
            "27/27 [==============================] - 0s 8ms/step - loss: 0.1877 - accuracy: 0.9372\n",
            "Epoch 27/50\n",
            "27/27 [==============================] - 0s 7ms/step - loss: 0.1920 - accuracy: 0.9372\n",
            "Epoch 28/50\n",
            "27/27 [==============================] - 0s 8ms/step - loss: 0.1863 - accuracy: 0.9372\n",
            "Epoch 29/50\n",
            "27/27 [==============================] - 0s 8ms/step - loss: 0.2010 - accuracy: 0.9372\n",
            "Epoch 30/50\n",
            "27/27 [==============================] - 0s 8ms/step - loss: 0.2066 - accuracy: 0.9372\n",
            "Epoch 31/50\n",
            "27/27 [==============================] - 0s 11ms/step - loss: 0.1960 - accuracy: 0.9372\n",
            "Epoch 32/50\n",
            "27/27 [==============================] - 0s 12ms/step - loss: 0.1871 - accuracy: 0.9372\n",
            "Epoch 33/50\n",
            "27/27 [==============================] - 0s 8ms/step - loss: 0.1864 - accuracy: 0.9372\n",
            "Epoch 34/50\n",
            "27/27 [==============================] - 0s 7ms/step - loss: 0.2078 - accuracy: 0.9372\n",
            "Epoch 35/50\n",
            "27/27 [==============================] - 0s 7ms/step - loss: 0.2025 - accuracy: 0.9372\n",
            "Epoch 36/50\n",
            "27/27 [==============================] - 0s 9ms/step - loss: 0.2007 - accuracy: 0.9372\n",
            "Epoch 37/50\n",
            "27/27 [==============================] - 0s 12ms/step - loss: 0.1917 - accuracy: 0.9372\n",
            "Epoch 38/50\n",
            "27/27 [==============================] - 0s 11ms/step - loss: 0.1866 - accuracy: 0.9372\n",
            "Epoch 39/50\n",
            "27/27 [==============================] - 0s 11ms/step - loss: 0.1828 - accuracy: 0.9372\n",
            "Epoch 40/50\n",
            "27/27 [==============================] - 0s 11ms/step - loss: 0.1809 - accuracy: 0.9372\n",
            "Epoch 41/50\n",
            "27/27 [==============================] - 0s 11ms/step - loss: 0.1833 - accuracy: 0.9372\n",
            "Epoch 42/50\n",
            "27/27 [==============================] - 0s 11ms/step - loss: 0.1827 - accuracy: 0.9372\n",
            "Epoch 43/50\n",
            "27/27 [==============================] - 0s 11ms/step - loss: 0.1816 - accuracy: 0.9372\n",
            "Epoch 44/50\n",
            "27/27 [==============================] - 0s 11ms/step - loss: 0.1837 - accuracy: 0.9372\n",
            "Epoch 45/50\n",
            "27/27 [==============================] - 0s 12ms/step - loss: 0.1849 - accuracy: 0.9372\n",
            "Epoch 46/50\n",
            "27/27 [==============================] - 0s 12ms/step - loss: 0.1832 - accuracy: 0.9372\n",
            "Epoch 47/50\n",
            "27/27 [==============================] - 0s 8ms/step - loss: 0.1813 - accuracy: 0.9372\n",
            "Epoch 48/50\n",
            "27/27 [==============================] - 0s 8ms/step - loss: 0.1782 - accuracy: 0.9372\n",
            "Epoch 49/50\n",
            "27/27 [==============================] - 0s 8ms/step - loss: 0.1794 - accuracy: 0.9372\n",
            "Epoch 50/50\n",
            "27/27 [==============================] - 0s 8ms/step - loss: 0.1859 - accuracy: 0.9372\n",
            "4/4 [==============================] - 0s 5ms/step\n",
            "          Predicted 0  Predicted 1\n",
            "Actual 0           80            6\n",
            "Actual 1            6            8\n",
            "Accuracy: 0.7592\n"
          ]
        }
      ]
    },
    {
      "cell_type": "code",
      "source": [
        "y_test, y_pred = lstm_vol_experiment(opt_prices_iv)\n",
        "\n",
        "# Calculate the confusion matrix\n",
        "confusion_matrix = calculate_confusion_matrix(y_test, y_pred)\n",
        "print(confusion_matrix)\n",
        "\n",
        "# Evaluate the model\n",
        "accuracy = np.mean(y_pred == y_test)\n",
        "print(\"Accuracy:\", accuracy)"
      ],
      "metadata": {
        "colab": {
          "base_uri": "https://localhost:8080/"
        },
        "id": "ogku71VTQxBL",
        "outputId": "b1693e44-c7af-458a-a94a-306c787caea2"
      },
      "execution_count": 47,
      "outputs": [
        {
          "output_type": "stream",
          "name": "stdout",
          "text": [
            "Epoch 1/50\n",
            "27/27 [==============================] - 2s 7ms/step - loss: 0.5857 - accuracy: 0.8535\n",
            "Epoch 2/50\n",
            "27/27 [==============================] - 0s 7ms/step - loss: 0.4572 - accuracy: 0.8558\n",
            "Epoch 3/50\n",
            "27/27 [==============================] - 0s 8ms/step - loss: 0.4270 - accuracy: 0.8558\n",
            "Epoch 4/50\n",
            "27/27 [==============================] - 0s 7ms/step - loss: 0.4216 - accuracy: 0.8558\n",
            "Epoch 5/50\n",
            "27/27 [==============================] - 0s 7ms/step - loss: 0.4138 - accuracy: 0.8558\n",
            "Epoch 6/50\n",
            "27/27 [==============================] - 0s 8ms/step - loss: 0.4045 - accuracy: 0.8558\n",
            "Epoch 7/50\n",
            "27/27 [==============================] - 0s 8ms/step - loss: 0.3826 - accuracy: 0.8558\n",
            "Epoch 8/50\n",
            "27/27 [==============================] - 0s 8ms/step - loss: 0.3417 - accuracy: 0.8558\n",
            "Epoch 9/50\n",
            "27/27 [==============================] - 0s 8ms/step - loss: 0.2932 - accuracy: 0.8907\n",
            "Epoch 10/50\n",
            "27/27 [==============================] - 0s 8ms/step - loss: 0.2436 - accuracy: 0.9302\n",
            "Epoch 11/50\n",
            "27/27 [==============================] - 0s 9ms/step - loss: 0.2182 - accuracy: 0.9326\n",
            "Epoch 12/50\n",
            "27/27 [==============================] - 0s 8ms/step - loss: 0.2202 - accuracy: 0.9302\n",
            "Epoch 13/50\n",
            "27/27 [==============================] - 0s 8ms/step - loss: 0.2103 - accuracy: 0.9349\n",
            "Epoch 14/50\n",
            "27/27 [==============================] - 0s 8ms/step - loss: 0.2066 - accuracy: 0.9372\n",
            "Epoch 15/50\n",
            "27/27 [==============================] - 0s 8ms/step - loss: 0.2021 - accuracy: 0.9372\n",
            "Epoch 16/50\n",
            "27/27 [==============================] - 0s 8ms/step - loss: 0.1996 - accuracy: 0.9372\n",
            "Epoch 17/50\n",
            "27/27 [==============================] - 0s 8ms/step - loss: 0.2012 - accuracy: 0.9326\n",
            "Epoch 18/50\n",
            "27/27 [==============================] - 0s 8ms/step - loss: 0.2042 - accuracy: 0.9372\n",
            "Epoch 19/50\n",
            "27/27 [==============================] - 0s 9ms/step - loss: 0.2053 - accuracy: 0.9349\n",
            "Epoch 20/50\n",
            "27/27 [==============================] - 0s 8ms/step - loss: 0.2007 - accuracy: 0.9372\n",
            "Epoch 21/50\n",
            "27/27 [==============================] - 0s 8ms/step - loss: 0.2001 - accuracy: 0.9372\n",
            "Epoch 22/50\n",
            "27/27 [==============================] - 0s 8ms/step - loss: 0.1934 - accuracy: 0.9372\n",
            "Epoch 23/50\n",
            "27/27 [==============================] - 0s 8ms/step - loss: 0.1889 - accuracy: 0.9372\n",
            "Epoch 24/50\n",
            "27/27 [==============================] - 0s 8ms/step - loss: 0.1882 - accuracy: 0.9372\n",
            "Epoch 25/50\n",
            "27/27 [==============================] - 0s 8ms/step - loss: 0.1882 - accuracy: 0.9372\n",
            "Epoch 26/50\n",
            "27/27 [==============================] - 0s 8ms/step - loss: 0.1932 - accuracy: 0.9372\n",
            "Epoch 27/50\n",
            "27/27 [==============================] - 0s 8ms/step - loss: 0.1923 - accuracy: 0.9372\n",
            "Epoch 28/50\n",
            "27/27 [==============================] - 0s 8ms/step - loss: 0.1895 - accuracy: 0.9372\n",
            "Epoch 29/50\n",
            "27/27 [==============================] - 0s 12ms/step - loss: 0.1875 - accuracy: 0.9372\n",
            "Epoch 30/50\n",
            "27/27 [==============================] - 0s 11ms/step - loss: 0.1879 - accuracy: 0.9372\n",
            "Epoch 31/50\n",
            "27/27 [==============================] - 0s 11ms/step - loss: 0.1873 - accuracy: 0.9372\n",
            "Epoch 32/50\n",
            "27/27 [==============================] - 0s 11ms/step - loss: 0.1856 - accuracy: 0.9372\n",
            "Epoch 33/50\n",
            "27/27 [==============================] - 0s 12ms/step - loss: 0.1845 - accuracy: 0.9372\n",
            "Epoch 34/50\n",
            "27/27 [==============================] - 0s 11ms/step - loss: 0.1864 - accuracy: 0.9372\n",
            "Epoch 35/50\n",
            "27/27 [==============================] - 0s 12ms/step - loss: 0.1844 - accuracy: 0.9372\n",
            "Epoch 36/50\n",
            "27/27 [==============================] - 0s 12ms/step - loss: 0.1810 - accuracy: 0.9372\n",
            "Epoch 37/50\n",
            "27/27 [==============================] - 0s 11ms/step - loss: 0.1837 - accuracy: 0.9372\n",
            "Epoch 38/50\n",
            "27/27 [==============================] - 0s 11ms/step - loss: 0.1812 - accuracy: 0.9372\n",
            "Epoch 39/50\n",
            "27/27 [==============================] - 0s 18ms/step - loss: 0.1941 - accuracy: 0.9372\n",
            "Epoch 40/50\n",
            "27/27 [==============================] - 0s 16ms/step - loss: 0.1984 - accuracy: 0.9372\n",
            "Epoch 41/50\n",
            "27/27 [==============================] - 0s 8ms/step - loss: 0.1817 - accuracy: 0.9372\n",
            "Epoch 42/50\n",
            "27/27 [==============================] - 0s 8ms/step - loss: 0.1795 - accuracy: 0.9372\n",
            "Epoch 43/50\n",
            "27/27 [==============================] - 0s 7ms/step - loss: 0.1780 - accuracy: 0.9372\n",
            "Epoch 44/50\n",
            "27/27 [==============================] - 0s 7ms/step - loss: 0.1792 - accuracy: 0.9372\n",
            "Epoch 45/50\n",
            "27/27 [==============================] - 0s 8ms/step - loss: 0.1842 - accuracy: 0.9372\n",
            "Epoch 46/50\n",
            "27/27 [==============================] - 0s 8ms/step - loss: 0.1849 - accuracy: 0.9372\n",
            "Epoch 47/50\n",
            "27/27 [==============================] - 0s 17ms/step - loss: 0.1778 - accuracy: 0.9372\n",
            "Epoch 48/50\n",
            "27/27 [==============================] - 0s 14ms/step - loss: 0.1805 - accuracy: 0.9372\n",
            "Epoch 49/50\n",
            "27/27 [==============================] - 0s 8ms/step - loss: 0.1788 - accuracy: 0.9372\n",
            "Epoch 50/50\n",
            "27/27 [==============================] - 0s 8ms/step - loss: 0.1771 - accuracy: 0.9372\n",
            "4/4 [==============================] - 0s 4ms/step\n",
            "          Predicted 0  Predicted 1\n",
            "Actual 0           80            6\n",
            "Actual 1            6            8\n",
            "Accuracy: 0.88\n"
          ]
        }
      ]
    },
    {
      "cell_type": "code",
      "source": [],
      "metadata": {
        "id": "HKHDXeo1QxDt"
      },
      "execution_count": null,
      "outputs": []
    }
  ]
}