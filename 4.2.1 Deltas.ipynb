{
 "cells": [
  {
   "cell_type": "code",
   "execution_count": 1,
   "outputs": [],
   "source": [
    "import math\n",
    "\n",
    "from scipy.stats import norm\n",
    "import numpy as np\n",
    "import pandas as pd\n",
    "import matplotlib.pyplot as plt\n",
    "import yfinance as yf\n",
    "import datetime\n",
    "import scipy.stats as st\n",
    "import scipy.optimize as optimize\n",
    "import enum\n",
    "import OptionLib as opt\n",
    "%load_ext autoreload\n",
    "%autoreload 2"
   ],
   "metadata": {
    "collapsed": false,
    "pycharm": {
     "name": "#%%\n"
    }
   }
  },
  {
   "cell_type": "code",
   "execution_count": 2,
   "outputs": [],
   "source": [
    "strike = 190\n",
    "option_type = 'call'\n",
    "r = 0.075\n",
    "exp_date = pd.to_datetime('2023-05-03')"
   ],
   "metadata": {
    "collapsed": false,
    "pycharm": {
     "name": "#%%\n"
    }
   }
  },
  {
   "cell_type": "code",
   "execution_count": 3,
   "outputs": [],
   "source": [
    "opt_prices = pd.read_csv('data/SR190CE3A.csv')\n",
    "opt_prices = opt_prices.set_index('date')\n",
    "opt_prices.index = pd.to_datetime(opt_prices.index)"
   ],
   "metadata": {
    "collapsed": false,
    "pycharm": {
     "name": "#%%\n"
    }
   }
  },
  {
   "cell_type": "code",
   "execution_count": 4,
   "outputs": [],
   "source": [
    "opt_prices['daysToExp'] = [(exp_date-pd.to_datetime(d)).days for d in list(opt_prices.index)]#np.full((550, ), 549) - np.arange(0, 550)"
   ],
   "metadata": {
    "collapsed": false,
    "pycharm": {
     "name": "#%%\n"
    }
   }
  },
  {
   "cell_type": "code",
   "execution_count": 5,
   "outputs": [
    {
     "data": {
      "text/plain": "            price  underlying  daysToExp\ndate                                    \n2023-04-11  30.29      218.60         22\n2023-04-12  34.66      219.22         21\n2023-04-13  32.91      219.85         20\n2023-04-14  33.21      221.87         19\n2023-04-17  37.64      228.10         16\n2023-04-18  42.86      232.66         15\n2023-04-19  44.74      232.95         14\n2023-04-20  46.40      236.28         13\n2023-04-21  47.08      235.17         12\n2023-04-24  46.31      235.10          9\n2023-04-25  46.17      235.30          8\n2023-04-26  45.76      235.21          7\n2023-04-27  49.61      240.38          6\n2023-04-28  50.43      240.38          5\n2023-05-02  50.68      242.62          1\n2023-05-03  48.00      235.77          0",
      "text/html": "<div>\n<style scoped>\n    .dataframe tbody tr th:only-of-type {\n        vertical-align: middle;\n    }\n\n    .dataframe tbody tr th {\n        vertical-align: top;\n    }\n\n    .dataframe thead th {\n        text-align: right;\n    }\n</style>\n<table border=\"1\" class=\"dataframe\">\n  <thead>\n    <tr style=\"text-align: right;\">\n      <th></th>\n      <th>price</th>\n      <th>underlying</th>\n      <th>daysToExp</th>\n    </tr>\n    <tr>\n      <th>date</th>\n      <th></th>\n      <th></th>\n      <th></th>\n    </tr>\n  </thead>\n  <tbody>\n    <tr>\n      <th>2023-04-11</th>\n      <td>30.29</td>\n      <td>218.60</td>\n      <td>22</td>\n    </tr>\n    <tr>\n      <th>2023-04-12</th>\n      <td>34.66</td>\n      <td>219.22</td>\n      <td>21</td>\n    </tr>\n    <tr>\n      <th>2023-04-13</th>\n      <td>32.91</td>\n      <td>219.85</td>\n      <td>20</td>\n    </tr>\n    <tr>\n      <th>2023-04-14</th>\n      <td>33.21</td>\n      <td>221.87</td>\n      <td>19</td>\n    </tr>\n    <tr>\n      <th>2023-04-17</th>\n      <td>37.64</td>\n      <td>228.10</td>\n      <td>16</td>\n    </tr>\n    <tr>\n      <th>2023-04-18</th>\n      <td>42.86</td>\n      <td>232.66</td>\n      <td>15</td>\n    </tr>\n    <tr>\n      <th>2023-04-19</th>\n      <td>44.74</td>\n      <td>232.95</td>\n      <td>14</td>\n    </tr>\n    <tr>\n      <th>2023-04-20</th>\n      <td>46.40</td>\n      <td>236.28</td>\n      <td>13</td>\n    </tr>\n    <tr>\n      <th>2023-04-21</th>\n      <td>47.08</td>\n      <td>235.17</td>\n      <td>12</td>\n    </tr>\n    <tr>\n      <th>2023-04-24</th>\n      <td>46.31</td>\n      <td>235.10</td>\n      <td>9</td>\n    </tr>\n    <tr>\n      <th>2023-04-25</th>\n      <td>46.17</td>\n      <td>235.30</td>\n      <td>8</td>\n    </tr>\n    <tr>\n      <th>2023-04-26</th>\n      <td>45.76</td>\n      <td>235.21</td>\n      <td>7</td>\n    </tr>\n    <tr>\n      <th>2023-04-27</th>\n      <td>49.61</td>\n      <td>240.38</td>\n      <td>6</td>\n    </tr>\n    <tr>\n      <th>2023-04-28</th>\n      <td>50.43</td>\n      <td>240.38</td>\n      <td>5</td>\n    </tr>\n    <tr>\n      <th>2023-05-02</th>\n      <td>50.68</td>\n      <td>242.62</td>\n      <td>1</td>\n    </tr>\n    <tr>\n      <th>2023-05-03</th>\n      <td>48.00</td>\n      <td>235.77</td>\n      <td>0</td>\n    </tr>\n  </tbody>\n</table>\n</div>"
     },
     "execution_count": 5,
     "metadata": {},
     "output_type": "execute_result"
    }
   ],
   "source": [
    "opt_prices"
   ],
   "metadata": {
    "collapsed": false,
    "pycharm": {
     "name": "#%%\n"
    }
   }
  },
  {
   "cell_type": "code",
   "execution_count": 25,
   "outputs": [
    {
     "name": "stderr",
     "output_type": "stream",
     "text": [
      "/Users/artemilin/PycharmProjects/pythonProject/options/OptionLib.py:89: RuntimeWarning: divide by zero encountered in double_scalars\n",
      "  return (np.log(spot / strike) + (r + sigma ** 2 / 2) * time) / (sigma * np.sqrt(time))\n"
     ]
    }
   ],
   "source": [
    "opt_prices['bsm_iv'] = opt_prices.apply(lambda x:\n",
    "                        opt.opt_vol(market_price=x[0],\n",
    "                                    spot=x[1],\n",
    "                                    strike=strike,\n",
    "                                    r=r,\n",
    "                                    time=x[2]/252, # with real data have column days to expiration and substitute here\n",
    "                                    type=option_type),\n",
    "                             axis=1)"
   ],
   "metadata": {
    "collapsed": false,
    "pycharm": {
     "name": "#%%\n"
    }
   }
  },
  {
   "cell_type": "code",
   "execution_count": null,
   "outputs": [],
   "source": [
    "opt_prices"
   ],
   "metadata": {
    "collapsed": false,
    "pycharm": {
     "name": "#%%\n"
    }
   }
  },
  {
   "cell_type": "code",
   "execution_count": 41,
   "outputs": [
    {
     "data": {
      "text/plain": "            price  underlying  daysToExp  bsm_iv  heston_iv\ndate                                                       \n2023-04-11  30.29      218.60         22  0.3130   0.313027\n2023-04-12  34.66      219.22         21  0.6288   0.628852\n2023-04-13  32.91      219.85         20  0.4905   0.490480\n2023-04-14  33.21      221.87         19  0.3269   0.000100\n2023-04-17  37.64      228.10         16  0.0914   0.000100\n2023-04-18  42.86      232.66         15  0.1042   0.000100\n2023-04-19  44.74      232.95         14  0.6105   0.610498\n2023-04-20  46.40      236.28         13  0.1199   0.000100\n2023-04-21  47.08      235.17         12  0.7151   0.715137\n2023-04-24  46.31      235.10          9  0.7225   0.722531",
      "text/html": "<div>\n<style scoped>\n    .dataframe tbody tr th:only-of-type {\n        vertical-align: middle;\n    }\n\n    .dataframe tbody tr th {\n        vertical-align: top;\n    }\n\n    .dataframe thead th {\n        text-align: right;\n    }\n</style>\n<table border=\"1\" class=\"dataframe\">\n  <thead>\n    <tr style=\"text-align: right;\">\n      <th></th>\n      <th>price</th>\n      <th>underlying</th>\n      <th>daysToExp</th>\n      <th>bsm_iv</th>\n      <th>heston_iv</th>\n    </tr>\n    <tr>\n      <th>date</th>\n      <th></th>\n      <th></th>\n      <th></th>\n      <th></th>\n      <th></th>\n    </tr>\n  </thead>\n  <tbody>\n    <tr>\n      <th>2023-04-11</th>\n      <td>30.29</td>\n      <td>218.60</td>\n      <td>22</td>\n      <td>0.3130</td>\n      <td>0.313027</td>\n    </tr>\n    <tr>\n      <th>2023-04-12</th>\n      <td>34.66</td>\n      <td>219.22</td>\n      <td>21</td>\n      <td>0.6288</td>\n      <td>0.628852</td>\n    </tr>\n    <tr>\n      <th>2023-04-13</th>\n      <td>32.91</td>\n      <td>219.85</td>\n      <td>20</td>\n      <td>0.4905</td>\n      <td>0.490480</td>\n    </tr>\n    <tr>\n      <th>2023-04-14</th>\n      <td>33.21</td>\n      <td>221.87</td>\n      <td>19</td>\n      <td>0.3269</td>\n      <td>0.000100</td>\n    </tr>\n    <tr>\n      <th>2023-04-17</th>\n      <td>37.64</td>\n      <td>228.10</td>\n      <td>16</td>\n      <td>0.0914</td>\n      <td>0.000100</td>\n    </tr>\n    <tr>\n      <th>2023-04-18</th>\n      <td>42.86</td>\n      <td>232.66</td>\n      <td>15</td>\n      <td>0.1042</td>\n      <td>0.000100</td>\n    </tr>\n    <tr>\n      <th>2023-04-19</th>\n      <td>44.74</td>\n      <td>232.95</td>\n      <td>14</td>\n      <td>0.6105</td>\n      <td>0.610498</td>\n    </tr>\n    <tr>\n      <th>2023-04-20</th>\n      <td>46.40</td>\n      <td>236.28</td>\n      <td>13</td>\n      <td>0.1199</td>\n      <td>0.000100</td>\n    </tr>\n    <tr>\n      <th>2023-04-21</th>\n      <td>47.08</td>\n      <td>235.17</td>\n      <td>12</td>\n      <td>0.7151</td>\n      <td>0.715137</td>\n    </tr>\n    <tr>\n      <th>2023-04-24</th>\n      <td>46.31</td>\n      <td>235.10</td>\n      <td>9</td>\n      <td>0.7225</td>\n      <td>0.722531</td>\n    </tr>\n  </tbody>\n</table>\n</div>"
     },
     "execution_count": 41,
     "metadata": {},
     "output_type": "execute_result"
    }
   ],
   "source": [
    "opt_prices.head(10)"
   ],
   "metadata": {
    "collapsed": false,
    "pycharm": {
     "name": "#%%\n"
    }
   }
  },
  {
   "cell_type": "code",
   "execution_count": 21,
   "outputs": [
    {
     "data": {
      "text/plain": "29.23998371856584"
     },
     "execution_count": 21,
     "metadata": {},
     "output_type": "execute_result"
    }
   ],
   "source": [
    "opt.BSM(r=0.075, spot=218.0, strike=190, time=22/252, sigma=0.0467, type='call')"
   ],
   "metadata": {
    "collapsed": false,
    "pycharm": {
     "name": "#%%\n"
    }
   }
  },
  {
   "cell_type": "code",
   "execution_count": null,
   "outputs": [],
   "source": [
    "print(opt.heston_implied_vol('call', 5.57, 100, 100, 0.05, 1, 0))\n",
    "def heston_implied_vol(option_type, option_price, S, K, r, T, q, h_params):\n",
    "Heston(S0=S, strike=K, time=T, r=r, kappa=0.0,\n",
    "                               theta=0.01,\n",
    "                               v0=mid_vol**2,\n",
    "                               lamda=0.0, sigma=0.000001, rho=-0.7)\n",
    "\n",
    "S0=S,\n",
    "strike=K\n",
    "time=T\n",
    "#r=r\n",
    "kappa=0.0\n",
    "theta=0.01,\n",
    "v0=mid_vol**2\n",
    "lamda=0.0\n",
    "sigma=0.000001\n",
    "rho=-0.7"
   ],
   "metadata": {
    "collapsed": false,
    "pycharm": {
     "name": "#%%\n"
    }
   }
  },
  {
   "cell_type": "code",
   "execution_count": 22,
   "outputs": [],
   "source": [
    "h_params = {\n",
    "    \"S0\": 218.60,\n",
    "\"strike\": 190,\n",
    "\"r\": 0.075,\n",
    "\"kappa\": 0.0,\n",
    "\"theta\": 0.01,\n",
    "\n",
    "\"lamda\": 0.0,\n",
    "\"sigma\": 0.000001,\n",
    "\"rho\": 0.7\n",
    "}\n",
    "\n",
    "\n",
    "\n",
    "S0 = 218.60\n",
    "strike = 190\n",
    "time = 22/252\n",
    "r = 0.075\n",
    "\n",
    "kappa = h_params['kappa']\n",
    "theta = h_params['theta']\n",
    "v0 = 0.0467 # 0.01\n",
    "lamda = h_params['lamda']\n",
    "sigma = h_params['sigma']\n",
    "rho = h_params['rho']"
   ],
   "metadata": {
    "collapsed": false,
    "pycharm": {
     "name": "#%%\n"
    }
   }
  },
  {
   "cell_type": "code",
   "execution_count": 23,
   "outputs": [
    {
     "data": {
      "text/plain": "29.88763707481118"
     },
     "execution_count": 23,
     "metadata": {},
     "output_type": "execute_result"
    }
   ],
   "source": [
    "heston_model = opt.Heston(S0=S0, strike=strike, time=time, r=r, kappa=kappa, theta=theta, v0=v0, lamda=lamda, sigma=sigma, rho=rho)\n",
    "heston_call = heston_model.price(0.00001, 100, 10000)['call']\n",
    "heston_call"
   ],
   "metadata": {
    "collapsed": false,
    "pycharm": {
     "name": "#%%\n"
    }
   }
  },
  {
   "cell_type": "code",
   "execution_count": 32,
   "outputs": [
    {
     "data": {
      "text/plain": "0.31302673944830894"
     },
     "execution_count": 32,
     "metadata": {},
     "output_type": "execute_result"
    }
   ],
   "source": [
    "opt.heston_implied_vol(option_type, option_price=30.29, S=218.60, K=190, r=0.075, T=22/252, q=1, h_params=h_params)"
   ],
   "metadata": {
    "collapsed": false,
    "pycharm": {
     "name": "#%%\n"
    }
   }
  },
  {
   "cell_type": "code",
   "execution_count": 33,
   "outputs": [],
   "source": [
    "opt_prices['heston_iv'] = opt_prices.apply(lambda x:\n",
    "                                           opt.heston_implied_vol(option_type='call',\n",
    "                                            option_price=x[0], S=x[1], K=strike, r=r, T=x[2]/252, q=1, h_params=h_params),\n",
    "                                            axis=1)"
   ],
   "metadata": {
    "collapsed": false,
    "pycharm": {
     "name": "#%%\n"
    }
   }
  },
  {
   "cell_type": "code",
   "execution_count": 35,
   "outputs": [],
   "source": [
    "opt_prices.to_csv('data/sber_ivs.csv')"
   ],
   "metadata": {
    "collapsed": false,
    "pycharm": {
     "name": "#%%\n"
    }
   }
  },
  {
   "cell_type": "code",
   "execution_count": null,
   "outputs": [],
   "source": [],
   "metadata": {
    "collapsed": false,
    "pycharm": {
     "name": "#%%\n"
    }
   }
  },
  {
   "cell_type": "code",
   "execution_count": null,
   "outputs": [],
   "source": [
    "We do alibrate sabr params so it would match iv of market so in this case we can juct adress market's iv"
   ],
   "metadata": {
    "collapsed": false,
    "pycharm": {
     "name": "#%%\n"
    }
   }
  }
 ],
 "metadata": {
  "kernelspec": {
   "display_name": "Python 3",
   "language": "python",
   "name": "python3"
  },
  "language_info": {
   "codemirror_mode": {
    "name": "ipython",
    "version": 2
   },
   "file_extension": ".py",
   "mimetype": "text/x-python",
   "name": "python",
   "nbconvert_exporter": "python",
   "pygments_lexer": "ipython2",
   "version": "2.7.6"
  }
 },
 "nbformat": 4,
 "nbformat_minor": 0
}