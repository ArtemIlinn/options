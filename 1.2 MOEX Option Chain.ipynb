{
 "cells": [
  {
   "cell_type": "markdown",
   "source": [
    "# The objective is to parse option chain from Moscow Stock Exchange for a given underlying ticker."
   ],
   "metadata": {
    "collapsed": false,
    "pycharm": {
     "name": "#%% md\n"
    }
   }
  },
  {
   "cell_type": "code",
   "execution_count": 1,
   "outputs": [
    {
     "data": {
      "text/plain": "<Response [200]>"
     },
     "execution_count": 1,
     "metadata": {},
     "output_type": "execute_result"
    }
   ],
   "source": [
    "import numpy as np\n",
    "import pandas as pd\n",
    "import requests as re\n",
    "import moex_api_password\n",
    "\n",
    "s = re.Session()\n",
    "\n",
    "login, password = moex_api_password.login(), moex_api_password.password()\n",
    "s.get('https://passport.moex.com/authenticate', auth=(login, password))"
   ],
   "metadata": {
    "collapsed": false,
    "pycharm": {
     "name": "#%%\n"
    }
   }
  },
  {
   "cell_type": "code",
   "execution_count": 2,
   "outputs": [],
   "source": [
    "headers = {\"User-Agent\": \"Mozilla/5.0 (Macintosh; Intel Mac OS X 10.14; rv:66.0) Gecko/20100101 Firefox/66.0\"}\n",
    "cookies = {'MicexPassportCert': s.cookies['MicexPassportCert']}"
   ],
   "metadata": {
    "collapsed": false,
    "pycharm": {
     "name": "#%%\n"
    }
   }
  },
  {
   "cell_type": "code",
   "execution_count": 3,
   "outputs": [],
   "source": [
    "def mx_get_chains0(underlying):\n",
    "\n",
    "    urlmega= 'https://iss.moex.com/iss/engines/futures/markets/options/boards/ROPD/securities.json'\n",
    "\n",
    "    response = re.get(urlmega , headers=headers, cookies = cookies)\n",
    "    data = response.json()\n",
    "\n",
    "\n",
    "    list_underlying = []\n",
    "    for row_num in range(len(data['securities']['data'])):\n",
    "        row = data['securities']['data'][row_num]\n",
    "        if row[25] == underlying:\n",
    "            list_underlying.append(data['securities']['data'][row_num] + data['marketdata']['data'][row_num])\n",
    "\n",
    "\n",
    "    df_underlying = pd.DataFrame(np.array(list_underlying), columns=data['securities']['columns'] + data['marketdata']['columns'])\n",
    "\n",
    "    return df_underlying"
   ],
   "metadata": {
    "collapsed": false,
    "pycharm": {
     "name": "#%%\n"
    }
   }
  },
  {
   "cell_type": "code",
   "execution_count": 4,
   "outputs": [],
   "source": [
    "df = mx_get_chains0('SBER')"
   ],
   "metadata": {
    "collapsed": false,
    "pycharm": {
     "name": "#%%\n"
    }
   }
  },
  {
   "cell_type": "code",
   "execution_count": 5,
   "outputs": [
    {
     "data": {
      "text/plain": "       SECID BOARDID         SHORTNAME  \\\n0   SR130CE3    ROPD  SBERP170523CE130   \n1   SR130CQ3    ROPD  SBERP170523PE130   \n2   SR135CE3    ROPD  SBERP170523CE135   \n3   SR135CQ3    ROPD  SBERP170523PE135   \n4   SR140CD3    ROPD  SBERP190423CE140   \n5  SR140CD3A    ROPD  SBERP050423CE140   \n6  SR140CD3B    ROPD  SBERP120423CE140   \n7   SR140CE3    ROPD  SBERP170523CE140   \n8   SR140CP3    ROPD  SBERP190423PE140   \n9  SR140CP3A    ROPD  SBERP050423PE140   \n\n                                             SECNAME PREVSETTLEPRICE DECIMALS  \\\n0        Прем. европ. Call 130 с исп. 17 мая на SBER           87.56        2   \n1         Прем. европ. Put 130 с исп. 17 мая на SBER            1.06        2   \n2        Прем. европ. Call 135 с исп. 17 мая на SBER           82.63        2   \n3         Прем. европ. Put 135 с исп. 17 мая на SBER            1.08        2   \n4       Прем. европ. Call 140 с исп. 19 апр. на SBER           75.97        2   \n5   Нед. прем. европ. Call 140 с исп. 5 апр. на SBER           75.46        2   \n6  Нед. прем. европ. Call 140 с исп. 12 апр. на SBER           75.56        2   \n7        Прем. европ. Call 140 с исп. 17 мая на SBER           77.71        2   \n8        Прем. европ. Put 140 с исп. 19 апр. на SBER             0.2        2   \n9    Нед. прем. европ. Put 140 с исп. 5 апр. на SBER            0.12        2   \n\n  MINSTEP LASTTRADEDATE LASTDELDATE           LATNAME  ... NUMBIDS OFFERDEPTH  \\\n0    0.01    2023-05-17  2023-05-17  SBERP170523CE130  ...    None       None   \n1    0.01    2023-05-17  2023-05-17  SBERP170523PE130  ...    None       None   \n2    0.01    2023-05-17  2023-05-17  SBERP170523CE135  ...    None       None   \n3    0.01    2023-05-17  2023-05-17  SBERP170523PE135  ...    None       None   \n4    0.01    2023-04-19  2023-04-19  SBERP190423CE140  ...    None       None   \n5    0.01    2023-04-05  2023-04-05  SBERP050423CE140  ...    None       None   \n6    0.01    2023-04-12  2023-04-12  SBERP120423CE140  ...    None       None   \n7    0.01    2023-05-17  2023-05-17  SBERP170523CE140  ...    None       None   \n8    0.01    2023-04-19  2023-04-19  SBERP190423PE140  ...    None       None   \n9    0.01    2023-04-05  2023-04-05  SBERP050423PE140  ...    None       None   \n\n  OFFERDEPTHT NUMOFFERS      TIME SETTLETOPREVSETTLEPRC          SEQNUM  \\\n0        None      None  18:58:05                     0  20230331190249   \n1        None      None  19:07:33                     0  20230331192234   \n2        None      None  18:59:19                     0  20230331190249   \n3        None      None  19:07:23                     0  20230331192224   \n4        None      None  18:59:19                     0  20230331190253   \n5        None      None  18:58:06                     0  20230331190253   \n6        None      None  18:58:20                     0  20230331190255   \n7        None      None  18:59:19                     0  20230331190249   \n8        None      None  19:07:23                     0  20230331192224   \n9        None      None  19:07:23                     0  20230331192224   \n\n               SYSTIME OICHANGE OPENPOSITION  \n0  2023-03-31 19:02:49        0            0  \n1  2023-03-31 19:22:34        0           10  \n2  2023-03-31 19:02:49        0            0  \n3  2023-03-31 19:22:24        0            4  \n4  2023-03-31 19:02:53        0            0  \n5  2023-03-31 19:02:53        0            0  \n6  2023-03-31 19:02:55        0            0  \n7  2023-03-31 19:02:49        0            0  \n8  2023-03-31 19:22:24        0         1582  \n9  2023-03-31 19:22:24        0            0  \n\n[10 rows x 59 columns]",
      "text/html": "<div>\n<style scoped>\n    .dataframe tbody tr th:only-of-type {\n        vertical-align: middle;\n    }\n\n    .dataframe tbody tr th {\n        vertical-align: top;\n    }\n\n    .dataframe thead th {\n        text-align: right;\n    }\n</style>\n<table border=\"1\" class=\"dataframe\">\n  <thead>\n    <tr style=\"text-align: right;\">\n      <th></th>\n      <th>SECID</th>\n      <th>BOARDID</th>\n      <th>SHORTNAME</th>\n      <th>SECNAME</th>\n      <th>PREVSETTLEPRICE</th>\n      <th>DECIMALS</th>\n      <th>MINSTEP</th>\n      <th>LASTTRADEDATE</th>\n      <th>LASTDELDATE</th>\n      <th>LATNAME</th>\n      <th>...</th>\n      <th>NUMBIDS</th>\n      <th>OFFERDEPTH</th>\n      <th>OFFERDEPTHT</th>\n      <th>NUMOFFERS</th>\n      <th>TIME</th>\n      <th>SETTLETOPREVSETTLEPRC</th>\n      <th>SEQNUM</th>\n      <th>SYSTIME</th>\n      <th>OICHANGE</th>\n      <th>OPENPOSITION</th>\n    </tr>\n  </thead>\n  <tbody>\n    <tr>\n      <th>0</th>\n      <td>SR130CE3</td>\n      <td>ROPD</td>\n      <td>SBERP170523CE130</td>\n      <td>Прем. европ. Call 130 с исп. 17 мая на SBER</td>\n      <td>87.56</td>\n      <td>2</td>\n      <td>0.01</td>\n      <td>2023-05-17</td>\n      <td>2023-05-17</td>\n      <td>SBERP170523CE130</td>\n      <td>...</td>\n      <td>None</td>\n      <td>None</td>\n      <td>None</td>\n      <td>None</td>\n      <td>18:58:05</td>\n      <td>0</td>\n      <td>20230331190249</td>\n      <td>2023-03-31 19:02:49</td>\n      <td>0</td>\n      <td>0</td>\n    </tr>\n    <tr>\n      <th>1</th>\n      <td>SR130CQ3</td>\n      <td>ROPD</td>\n      <td>SBERP170523PE130</td>\n      <td>Прем. европ. Put 130 с исп. 17 мая на SBER</td>\n      <td>1.06</td>\n      <td>2</td>\n      <td>0.01</td>\n      <td>2023-05-17</td>\n      <td>2023-05-17</td>\n      <td>SBERP170523PE130</td>\n      <td>...</td>\n      <td>None</td>\n      <td>None</td>\n      <td>None</td>\n      <td>None</td>\n      <td>19:07:33</td>\n      <td>0</td>\n      <td>20230331192234</td>\n      <td>2023-03-31 19:22:34</td>\n      <td>0</td>\n      <td>10</td>\n    </tr>\n    <tr>\n      <th>2</th>\n      <td>SR135CE3</td>\n      <td>ROPD</td>\n      <td>SBERP170523CE135</td>\n      <td>Прем. европ. Call 135 с исп. 17 мая на SBER</td>\n      <td>82.63</td>\n      <td>2</td>\n      <td>0.01</td>\n      <td>2023-05-17</td>\n      <td>2023-05-17</td>\n      <td>SBERP170523CE135</td>\n      <td>...</td>\n      <td>None</td>\n      <td>None</td>\n      <td>None</td>\n      <td>None</td>\n      <td>18:59:19</td>\n      <td>0</td>\n      <td>20230331190249</td>\n      <td>2023-03-31 19:02:49</td>\n      <td>0</td>\n      <td>0</td>\n    </tr>\n    <tr>\n      <th>3</th>\n      <td>SR135CQ3</td>\n      <td>ROPD</td>\n      <td>SBERP170523PE135</td>\n      <td>Прем. европ. Put 135 с исп. 17 мая на SBER</td>\n      <td>1.08</td>\n      <td>2</td>\n      <td>0.01</td>\n      <td>2023-05-17</td>\n      <td>2023-05-17</td>\n      <td>SBERP170523PE135</td>\n      <td>...</td>\n      <td>None</td>\n      <td>None</td>\n      <td>None</td>\n      <td>None</td>\n      <td>19:07:23</td>\n      <td>0</td>\n      <td>20230331192224</td>\n      <td>2023-03-31 19:22:24</td>\n      <td>0</td>\n      <td>4</td>\n    </tr>\n    <tr>\n      <th>4</th>\n      <td>SR140CD3</td>\n      <td>ROPD</td>\n      <td>SBERP190423CE140</td>\n      <td>Прем. европ. Call 140 с исп. 19 апр. на SBER</td>\n      <td>75.97</td>\n      <td>2</td>\n      <td>0.01</td>\n      <td>2023-04-19</td>\n      <td>2023-04-19</td>\n      <td>SBERP190423CE140</td>\n      <td>...</td>\n      <td>None</td>\n      <td>None</td>\n      <td>None</td>\n      <td>None</td>\n      <td>18:59:19</td>\n      <td>0</td>\n      <td>20230331190253</td>\n      <td>2023-03-31 19:02:53</td>\n      <td>0</td>\n      <td>0</td>\n    </tr>\n    <tr>\n      <th>5</th>\n      <td>SR140CD3A</td>\n      <td>ROPD</td>\n      <td>SBERP050423CE140</td>\n      <td>Нед. прем. европ. Call 140 с исп. 5 апр. на SBER</td>\n      <td>75.46</td>\n      <td>2</td>\n      <td>0.01</td>\n      <td>2023-04-05</td>\n      <td>2023-04-05</td>\n      <td>SBERP050423CE140</td>\n      <td>...</td>\n      <td>None</td>\n      <td>None</td>\n      <td>None</td>\n      <td>None</td>\n      <td>18:58:06</td>\n      <td>0</td>\n      <td>20230331190253</td>\n      <td>2023-03-31 19:02:53</td>\n      <td>0</td>\n      <td>0</td>\n    </tr>\n    <tr>\n      <th>6</th>\n      <td>SR140CD3B</td>\n      <td>ROPD</td>\n      <td>SBERP120423CE140</td>\n      <td>Нед. прем. европ. Call 140 с исп. 12 апр. на SBER</td>\n      <td>75.56</td>\n      <td>2</td>\n      <td>0.01</td>\n      <td>2023-04-12</td>\n      <td>2023-04-12</td>\n      <td>SBERP120423CE140</td>\n      <td>...</td>\n      <td>None</td>\n      <td>None</td>\n      <td>None</td>\n      <td>None</td>\n      <td>18:58:20</td>\n      <td>0</td>\n      <td>20230331190255</td>\n      <td>2023-03-31 19:02:55</td>\n      <td>0</td>\n      <td>0</td>\n    </tr>\n    <tr>\n      <th>7</th>\n      <td>SR140CE3</td>\n      <td>ROPD</td>\n      <td>SBERP170523CE140</td>\n      <td>Прем. европ. Call 140 с исп. 17 мая на SBER</td>\n      <td>77.71</td>\n      <td>2</td>\n      <td>0.01</td>\n      <td>2023-05-17</td>\n      <td>2023-05-17</td>\n      <td>SBERP170523CE140</td>\n      <td>...</td>\n      <td>None</td>\n      <td>None</td>\n      <td>None</td>\n      <td>None</td>\n      <td>18:59:19</td>\n      <td>0</td>\n      <td>20230331190249</td>\n      <td>2023-03-31 19:02:49</td>\n      <td>0</td>\n      <td>0</td>\n    </tr>\n    <tr>\n      <th>8</th>\n      <td>SR140CP3</td>\n      <td>ROPD</td>\n      <td>SBERP190423PE140</td>\n      <td>Прем. европ. Put 140 с исп. 19 апр. на SBER</td>\n      <td>0.2</td>\n      <td>2</td>\n      <td>0.01</td>\n      <td>2023-04-19</td>\n      <td>2023-04-19</td>\n      <td>SBERP190423PE140</td>\n      <td>...</td>\n      <td>None</td>\n      <td>None</td>\n      <td>None</td>\n      <td>None</td>\n      <td>19:07:23</td>\n      <td>0</td>\n      <td>20230331192224</td>\n      <td>2023-03-31 19:22:24</td>\n      <td>0</td>\n      <td>1582</td>\n    </tr>\n    <tr>\n      <th>9</th>\n      <td>SR140CP3A</td>\n      <td>ROPD</td>\n      <td>SBERP050423PE140</td>\n      <td>Нед. прем. европ. Put 140 с исп. 5 апр. на SBER</td>\n      <td>0.12</td>\n      <td>2</td>\n      <td>0.01</td>\n      <td>2023-04-05</td>\n      <td>2023-04-05</td>\n      <td>SBERP050423PE140</td>\n      <td>...</td>\n      <td>None</td>\n      <td>None</td>\n      <td>None</td>\n      <td>None</td>\n      <td>19:07:23</td>\n      <td>0</td>\n      <td>20230331192224</td>\n      <td>2023-03-31 19:22:24</td>\n      <td>0</td>\n      <td>0</td>\n    </tr>\n  </tbody>\n</table>\n<p>10 rows × 59 columns</p>\n</div>"
     },
     "execution_count": 5,
     "metadata": {},
     "output_type": "execute_result"
    }
   ],
   "source": [
    "df.head(10)"
   ],
   "metadata": {
    "collapsed": false,
    "pycharm": {
     "name": "#%%\n"
    }
   }
  },
  {
   "cell_type": "code",
   "execution_count": 6,
   "outputs": [],
   "source": [
    "def mx_get_chains(underlying, login, password):\n",
    "\n",
    "    s = re.Session()\n",
    "    s.get('https://passport.moex.com/authenticate', auth=(login, password))\n",
    "\n",
    "    headers = {\"User-Agent\": \"Mozilla/5.0 (Macintosh; Intel Mac OS X 10.14; rv:66.0) Gecko/20100101 Firefox/66.0\"}\n",
    "    cookies = {'MicexPassportCert': s.cookies['MicexPassportCert']}\n",
    "\n",
    "\n",
    "\n",
    "\n",
    "    urlmega= 'https://iss.moex.com/iss/engines/futures/markets/options/boards/ROPD/securities.json'\n",
    "\n",
    "    response = re.get(urlmega , headers=headers, cookies = cookies)\n",
    "    data = response.json()\n",
    "\n",
    "\n",
    "    list_underlying = []\n",
    "    for row_num in range(len(data['securities']['data'])):\n",
    "        row = data['securities']['data'][row_num]\n",
    "        if row[25] == underlying:\n",
    "            list_underlying.append(data['securities']['data'][row_num] + data['marketdata']['data'][row_num])\n",
    "\n",
    "\n",
    "    df_underlying = pd.DataFrame(np.array(list_underlying), columns=data['securities']['columns'] + data['marketdata']['columns'])\n",
    "\n",
    "    return df_underlying"
   ],
   "metadata": {
    "collapsed": false,
    "pycharm": {
     "name": "#%%\n"
    }
   }
  },
  {
   "cell_type": "code",
   "execution_count": 7,
   "outputs": [
    {
     "data": {
      "text/plain": "       SECID BOARDID         SHORTNAME  \\\n0   SR130CE3    ROPD  SBERP170523CE130   \n1   SR130CQ3    ROPD  SBERP170523PE130   \n2   SR135CE3    ROPD  SBERP170523CE135   \n3   SR135CQ3    ROPD  SBERP170523PE135   \n4   SR140CD3    ROPD  SBERP190423CE140   \n5  SR140CD3A    ROPD  SBERP050423CE140   \n6  SR140CD3B    ROPD  SBERP120423CE140   \n7   SR140CE3    ROPD  SBERP170523CE140   \n8   SR140CP3    ROPD  SBERP190423PE140   \n9  SR140CP3A    ROPD  SBERP050423PE140   \n\n                                             SECNAME PREVSETTLEPRICE DECIMALS  \\\n0        Прем. европ. Call 130 с исп. 17 мая на SBER           87.56        2   \n1         Прем. европ. Put 130 с исп. 17 мая на SBER            1.06        2   \n2        Прем. европ. Call 135 с исп. 17 мая на SBER           82.63        2   \n3         Прем. европ. Put 135 с исп. 17 мая на SBER            1.08        2   \n4       Прем. европ. Call 140 с исп. 19 апр. на SBER           75.97        2   \n5   Нед. прем. европ. Call 140 с исп. 5 апр. на SBER           75.46        2   \n6  Нед. прем. европ. Call 140 с исп. 12 апр. на SBER           75.56        2   \n7        Прем. европ. Call 140 с исп. 17 мая на SBER           77.71        2   \n8        Прем. европ. Put 140 с исп. 19 апр. на SBER             0.2        2   \n9    Нед. прем. европ. Put 140 с исп. 5 апр. на SBER            0.12        2   \n\n  MINSTEP LASTTRADEDATE LASTDELDATE           LATNAME  ... NUMBIDS OFFERDEPTH  \\\n0    0.01    2023-05-17  2023-05-17  SBERP170523CE130  ...    None       None   \n1    0.01    2023-05-17  2023-05-17  SBERP170523PE130  ...    None       None   \n2    0.01    2023-05-17  2023-05-17  SBERP170523CE135  ...    None       None   \n3    0.01    2023-05-17  2023-05-17  SBERP170523PE135  ...    None       None   \n4    0.01    2023-04-19  2023-04-19  SBERP190423CE140  ...    None       None   \n5    0.01    2023-04-05  2023-04-05  SBERP050423CE140  ...    None       None   \n6    0.01    2023-04-12  2023-04-12  SBERP120423CE140  ...    None       None   \n7    0.01    2023-05-17  2023-05-17  SBERP170523CE140  ...    None       None   \n8    0.01    2023-04-19  2023-04-19  SBERP190423PE140  ...    None       None   \n9    0.01    2023-04-05  2023-04-05  SBERP050423PE140  ...    None       None   \n\n  OFFERDEPTHT NUMOFFERS      TIME SETTLETOPREVSETTLEPRC          SEQNUM  \\\n0        None      None  18:58:05                     0  20230331190249   \n1        None      None  19:07:33                     0  20230331192234   \n2        None      None  18:59:19                     0  20230331190249   \n3        None      None  19:07:23                     0  20230331192224   \n4        None      None  18:59:19                     0  20230331190253   \n5        None      None  18:58:06                     0  20230331190253   \n6        None      None  18:58:20                     0  20230331190255   \n7        None      None  18:59:19                     0  20230331190249   \n8        None      None  19:07:23                     0  20230331192224   \n9        None      None  19:07:23                     0  20230331192224   \n\n               SYSTIME OICHANGE OPENPOSITION  \n0  2023-03-31 19:02:49        0            0  \n1  2023-03-31 19:22:34        0           10  \n2  2023-03-31 19:02:49        0            0  \n3  2023-03-31 19:22:24        0            4  \n4  2023-03-31 19:02:53        0            0  \n5  2023-03-31 19:02:53        0            0  \n6  2023-03-31 19:02:55        0            0  \n7  2023-03-31 19:02:49        0            0  \n8  2023-03-31 19:22:24        0         1582  \n9  2023-03-31 19:22:24        0            0  \n\n[10 rows x 59 columns]",
      "text/html": "<div>\n<style scoped>\n    .dataframe tbody tr th:only-of-type {\n        vertical-align: middle;\n    }\n\n    .dataframe tbody tr th {\n        vertical-align: top;\n    }\n\n    .dataframe thead th {\n        text-align: right;\n    }\n</style>\n<table border=\"1\" class=\"dataframe\">\n  <thead>\n    <tr style=\"text-align: right;\">\n      <th></th>\n      <th>SECID</th>\n      <th>BOARDID</th>\n      <th>SHORTNAME</th>\n      <th>SECNAME</th>\n      <th>PREVSETTLEPRICE</th>\n      <th>DECIMALS</th>\n      <th>MINSTEP</th>\n      <th>LASTTRADEDATE</th>\n      <th>LASTDELDATE</th>\n      <th>LATNAME</th>\n      <th>...</th>\n      <th>NUMBIDS</th>\n      <th>OFFERDEPTH</th>\n      <th>OFFERDEPTHT</th>\n      <th>NUMOFFERS</th>\n      <th>TIME</th>\n      <th>SETTLETOPREVSETTLEPRC</th>\n      <th>SEQNUM</th>\n      <th>SYSTIME</th>\n      <th>OICHANGE</th>\n      <th>OPENPOSITION</th>\n    </tr>\n  </thead>\n  <tbody>\n    <tr>\n      <th>0</th>\n      <td>SR130CE3</td>\n      <td>ROPD</td>\n      <td>SBERP170523CE130</td>\n      <td>Прем. европ. Call 130 с исп. 17 мая на SBER</td>\n      <td>87.56</td>\n      <td>2</td>\n      <td>0.01</td>\n      <td>2023-05-17</td>\n      <td>2023-05-17</td>\n      <td>SBERP170523CE130</td>\n      <td>...</td>\n      <td>None</td>\n      <td>None</td>\n      <td>None</td>\n      <td>None</td>\n      <td>18:58:05</td>\n      <td>0</td>\n      <td>20230331190249</td>\n      <td>2023-03-31 19:02:49</td>\n      <td>0</td>\n      <td>0</td>\n    </tr>\n    <tr>\n      <th>1</th>\n      <td>SR130CQ3</td>\n      <td>ROPD</td>\n      <td>SBERP170523PE130</td>\n      <td>Прем. европ. Put 130 с исп. 17 мая на SBER</td>\n      <td>1.06</td>\n      <td>2</td>\n      <td>0.01</td>\n      <td>2023-05-17</td>\n      <td>2023-05-17</td>\n      <td>SBERP170523PE130</td>\n      <td>...</td>\n      <td>None</td>\n      <td>None</td>\n      <td>None</td>\n      <td>None</td>\n      <td>19:07:33</td>\n      <td>0</td>\n      <td>20230331192234</td>\n      <td>2023-03-31 19:22:34</td>\n      <td>0</td>\n      <td>10</td>\n    </tr>\n    <tr>\n      <th>2</th>\n      <td>SR135CE3</td>\n      <td>ROPD</td>\n      <td>SBERP170523CE135</td>\n      <td>Прем. европ. Call 135 с исп. 17 мая на SBER</td>\n      <td>82.63</td>\n      <td>2</td>\n      <td>0.01</td>\n      <td>2023-05-17</td>\n      <td>2023-05-17</td>\n      <td>SBERP170523CE135</td>\n      <td>...</td>\n      <td>None</td>\n      <td>None</td>\n      <td>None</td>\n      <td>None</td>\n      <td>18:59:19</td>\n      <td>0</td>\n      <td>20230331190249</td>\n      <td>2023-03-31 19:02:49</td>\n      <td>0</td>\n      <td>0</td>\n    </tr>\n    <tr>\n      <th>3</th>\n      <td>SR135CQ3</td>\n      <td>ROPD</td>\n      <td>SBERP170523PE135</td>\n      <td>Прем. европ. Put 135 с исп. 17 мая на SBER</td>\n      <td>1.08</td>\n      <td>2</td>\n      <td>0.01</td>\n      <td>2023-05-17</td>\n      <td>2023-05-17</td>\n      <td>SBERP170523PE135</td>\n      <td>...</td>\n      <td>None</td>\n      <td>None</td>\n      <td>None</td>\n      <td>None</td>\n      <td>19:07:23</td>\n      <td>0</td>\n      <td>20230331192224</td>\n      <td>2023-03-31 19:22:24</td>\n      <td>0</td>\n      <td>4</td>\n    </tr>\n    <tr>\n      <th>4</th>\n      <td>SR140CD3</td>\n      <td>ROPD</td>\n      <td>SBERP190423CE140</td>\n      <td>Прем. европ. Call 140 с исп. 19 апр. на SBER</td>\n      <td>75.97</td>\n      <td>2</td>\n      <td>0.01</td>\n      <td>2023-04-19</td>\n      <td>2023-04-19</td>\n      <td>SBERP190423CE140</td>\n      <td>...</td>\n      <td>None</td>\n      <td>None</td>\n      <td>None</td>\n      <td>None</td>\n      <td>18:59:19</td>\n      <td>0</td>\n      <td>20230331190253</td>\n      <td>2023-03-31 19:02:53</td>\n      <td>0</td>\n      <td>0</td>\n    </tr>\n    <tr>\n      <th>5</th>\n      <td>SR140CD3A</td>\n      <td>ROPD</td>\n      <td>SBERP050423CE140</td>\n      <td>Нед. прем. европ. Call 140 с исп. 5 апр. на SBER</td>\n      <td>75.46</td>\n      <td>2</td>\n      <td>0.01</td>\n      <td>2023-04-05</td>\n      <td>2023-04-05</td>\n      <td>SBERP050423CE140</td>\n      <td>...</td>\n      <td>None</td>\n      <td>None</td>\n      <td>None</td>\n      <td>None</td>\n      <td>18:58:06</td>\n      <td>0</td>\n      <td>20230331190253</td>\n      <td>2023-03-31 19:02:53</td>\n      <td>0</td>\n      <td>0</td>\n    </tr>\n    <tr>\n      <th>6</th>\n      <td>SR140CD3B</td>\n      <td>ROPD</td>\n      <td>SBERP120423CE140</td>\n      <td>Нед. прем. европ. Call 140 с исп. 12 апр. на SBER</td>\n      <td>75.56</td>\n      <td>2</td>\n      <td>0.01</td>\n      <td>2023-04-12</td>\n      <td>2023-04-12</td>\n      <td>SBERP120423CE140</td>\n      <td>...</td>\n      <td>None</td>\n      <td>None</td>\n      <td>None</td>\n      <td>None</td>\n      <td>18:58:20</td>\n      <td>0</td>\n      <td>20230331190255</td>\n      <td>2023-03-31 19:02:55</td>\n      <td>0</td>\n      <td>0</td>\n    </tr>\n    <tr>\n      <th>7</th>\n      <td>SR140CE3</td>\n      <td>ROPD</td>\n      <td>SBERP170523CE140</td>\n      <td>Прем. европ. Call 140 с исп. 17 мая на SBER</td>\n      <td>77.71</td>\n      <td>2</td>\n      <td>0.01</td>\n      <td>2023-05-17</td>\n      <td>2023-05-17</td>\n      <td>SBERP170523CE140</td>\n      <td>...</td>\n      <td>None</td>\n      <td>None</td>\n      <td>None</td>\n      <td>None</td>\n      <td>18:59:19</td>\n      <td>0</td>\n      <td>20230331190249</td>\n      <td>2023-03-31 19:02:49</td>\n      <td>0</td>\n      <td>0</td>\n    </tr>\n    <tr>\n      <th>8</th>\n      <td>SR140CP3</td>\n      <td>ROPD</td>\n      <td>SBERP190423PE140</td>\n      <td>Прем. европ. Put 140 с исп. 19 апр. на SBER</td>\n      <td>0.2</td>\n      <td>2</td>\n      <td>0.01</td>\n      <td>2023-04-19</td>\n      <td>2023-04-19</td>\n      <td>SBERP190423PE140</td>\n      <td>...</td>\n      <td>None</td>\n      <td>None</td>\n      <td>None</td>\n      <td>None</td>\n      <td>19:07:23</td>\n      <td>0</td>\n      <td>20230331192224</td>\n      <td>2023-03-31 19:22:24</td>\n      <td>0</td>\n      <td>1582</td>\n    </tr>\n    <tr>\n      <th>9</th>\n      <td>SR140CP3A</td>\n      <td>ROPD</td>\n      <td>SBERP050423PE140</td>\n      <td>Нед. прем. европ. Put 140 с исп. 5 апр. на SBER</td>\n      <td>0.12</td>\n      <td>2</td>\n      <td>0.01</td>\n      <td>2023-04-05</td>\n      <td>2023-04-05</td>\n      <td>SBERP050423PE140</td>\n      <td>...</td>\n      <td>None</td>\n      <td>None</td>\n      <td>None</td>\n      <td>None</td>\n      <td>19:07:23</td>\n      <td>0</td>\n      <td>20230331192224</td>\n      <td>2023-03-31 19:22:24</td>\n      <td>0</td>\n      <td>0</td>\n    </tr>\n  </tbody>\n</table>\n<p>10 rows × 59 columns</p>\n</div>"
     },
     "execution_count": 7,
     "metadata": {},
     "output_type": "execute_result"
    }
   ],
   "source": [
    "mx_get_chains('SBER', login, password).head(10)"
   ],
   "metadata": {
    "collapsed": false,
    "pycharm": {
     "name": "#%%\n"
    }
   }
  },
  {
   "cell_type": "code",
   "execution_count": null,
   "outputs": [],
   "source": [],
   "metadata": {
    "collapsed": false,
    "pycharm": {
     "name": "#%%\n"
    }
   }
  }
 ],
 "metadata": {
  "kernelspec": {
   "display_name": "Python 3",
   "language": "python",
   "name": "python3"
  },
  "language_info": {
   "codemirror_mode": {
    "name": "ipython",
    "version": 2
   },
   "file_extension": ".py",
   "mimetype": "text/x-python",
   "name": "python",
   "nbconvert_exporter": "python",
   "pygments_lexer": "ipython2",
   "version": "2.7.6"
  }
 },
 "nbformat": 4,
 "nbformat_minor": 0
}