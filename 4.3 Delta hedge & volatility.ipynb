{
 "cells": [
  {
   "cell_type": "code",
   "execution_count": 2,
   "metadata": {
    "collapsed": true,
    "pycharm": {
     "name": "#%%\n"
    }
   },
   "outputs": [],
   "source": [
    "import datetime as dt\n",
    "import pandas as pd\n",
    "import numpy as np\n",
    "from pandas_datareader import data as pdr\n",
    "import matplotlib.pyplot as plt\n",
    "import yfinance as yf\n",
    "import OptionLib as opt\n",
    "from datetime import datetime\n",
    "import datetime\n",
    "import datetime\n",
    "%load_ext autoreload\n",
    "%autoreload 2\n",
    "%matplotlib inline"
   ]
  },
  {
   "cell_type": "code",
   "execution_count": 3,
   "outputs": [],
   "source": [
    "# opt.opt_vol(market_price, spot, strike, r=0.05, time=1, volatility_candidates = np.arange(0.01,4,0.0001))\n"
   ],
   "metadata": {
    "collapsed": false,
    "pycharm": {
     "name": "#%%\n"
    }
   }
  },
  {
   "cell_type": "code",
   "execution_count": 12,
   "outputs": [
    {
     "data": {
      "text/plain": "        contractSymbol             lastTradeDate  strike  lastPrice    bid  \\\n0   JPM230519C00065000 2023-05-08 19:16:38+00:00    65.0      72.30  68.75   \n1   JPM230519C00070000 2023-05-11 17:40:53+00:00    70.0      66.30  63.80   \n2   JPM230519C00075000 2023-04-04 19:50:05+00:00    75.0      53.15  58.85   \n3   JPM230519C00080000 2023-04-21 15:56:49+00:00    80.0      53.45  53.85   \n4   JPM230519C00090000 2023-04-13 18:59:47+00:00    90.0      39.15  43.80   \n..                 ...                       ...     ...        ...    ...   \n18  JPM251219P00160000 2023-03-23 15:12:58+00:00   160.0      37.14  27.35   \n19  JPM251219P00170000 2023-05-11 19:20:18+00:00   170.0      38.93  39.05   \n20  JPM251219P00190000 2023-05-02 18:47:59+00:00   190.0      51.74  54.55   \n21  JPM251219P00195000 2023-04-21 13:30:18+00:00   195.0      55.30  60.25   \n22  JPM251219P00200000 2023-05-12 13:42:12+00:00   200.0      64.40  63.65   \n\n      ask    change  percentChange  volume  openInterest  impliedVolatility  \\\n0   69.35  0.000000       0.000000     1.0             2           2.562504   \n1   64.45  0.000000       0.000000     1.0            11           1.734376   \n2   60.30  0.000000       0.000000     2.0             0           2.347660   \n3   54.45 -7.000000     -11.579818     1.0             4           1.515627   \n4   44.45  0.000000       0.000000     1.0             0           1.109379   \n..    ...       ...            ...     ...           ...                ...   \n18  29.35  0.000000       0.000000     NaN             2           0.130899   \n19  41.05  0.000000       0.000000     2.0             2           0.181313   \n20  58.25  0.000000       0.000000     1.0             0           0.175973   \n21  63.50  0.000000       0.000000     3.0             3           0.189950   \n22  68.15  0.470001       0.735181     5.0            10           0.190926   \n\n    inTheMoney contractSize currency optionType             expDate  daysToExp  \n0         True      REGULAR      USD       call 2023-05-19 23:59:59          7  \n1         True      REGULAR      USD       call 2023-05-19 23:59:59          7  \n2         True      REGULAR      USD       call 2023-05-19 23:59:59          7  \n3         True      REGULAR      USD       call 2023-05-19 23:59:59          7  \n4         True      REGULAR      USD       call 2023-05-19 23:59:59          7  \n..         ...          ...      ...        ...                 ...        ...  \n18        True      REGULAR      USD        put 2025-12-19 23:59:59        952  \n19        True      REGULAR      USD        put 2025-12-19 23:59:59        952  \n20        True      REGULAR      USD        put 2025-12-19 23:59:59        952  \n21        True      REGULAR      USD        put 2025-12-19 23:59:59        952  \n22        True      REGULAR      USD        put 2025-12-19 23:59:59        952  \n\n[1008 rows x 17 columns]",
      "text/html": "<div>\n<style scoped>\n    .dataframe tbody tr th:only-of-type {\n        vertical-align: middle;\n    }\n\n    .dataframe tbody tr th {\n        vertical-align: top;\n    }\n\n    .dataframe thead th {\n        text-align: right;\n    }\n</style>\n<table border=\"1\" class=\"dataframe\">\n  <thead>\n    <tr style=\"text-align: right;\">\n      <th></th>\n      <th>contractSymbol</th>\n      <th>lastTradeDate</th>\n      <th>strike</th>\n      <th>lastPrice</th>\n      <th>bid</th>\n      <th>ask</th>\n      <th>change</th>\n      <th>percentChange</th>\n      <th>volume</th>\n      <th>openInterest</th>\n      <th>impliedVolatility</th>\n      <th>inTheMoney</th>\n      <th>contractSize</th>\n      <th>currency</th>\n      <th>optionType</th>\n      <th>expDate</th>\n      <th>daysToExp</th>\n    </tr>\n  </thead>\n  <tbody>\n    <tr>\n      <th>0</th>\n      <td>JPM230519C00065000</td>\n      <td>2023-05-08 19:16:38+00:00</td>\n      <td>65.0</td>\n      <td>72.30</td>\n      <td>68.75</td>\n      <td>69.35</td>\n      <td>0.000000</td>\n      <td>0.000000</td>\n      <td>1.0</td>\n      <td>2</td>\n      <td>2.562504</td>\n      <td>True</td>\n      <td>REGULAR</td>\n      <td>USD</td>\n      <td>call</td>\n      <td>2023-05-19 23:59:59</td>\n      <td>7</td>\n    </tr>\n    <tr>\n      <th>1</th>\n      <td>JPM230519C00070000</td>\n      <td>2023-05-11 17:40:53+00:00</td>\n      <td>70.0</td>\n      <td>66.30</td>\n      <td>63.80</td>\n      <td>64.45</td>\n      <td>0.000000</td>\n      <td>0.000000</td>\n      <td>1.0</td>\n      <td>11</td>\n      <td>1.734376</td>\n      <td>True</td>\n      <td>REGULAR</td>\n      <td>USD</td>\n      <td>call</td>\n      <td>2023-05-19 23:59:59</td>\n      <td>7</td>\n    </tr>\n    <tr>\n      <th>2</th>\n      <td>JPM230519C00075000</td>\n      <td>2023-04-04 19:50:05+00:00</td>\n      <td>75.0</td>\n      <td>53.15</td>\n      <td>58.85</td>\n      <td>60.30</td>\n      <td>0.000000</td>\n      <td>0.000000</td>\n      <td>2.0</td>\n      <td>0</td>\n      <td>2.347660</td>\n      <td>True</td>\n      <td>REGULAR</td>\n      <td>USD</td>\n      <td>call</td>\n      <td>2023-05-19 23:59:59</td>\n      <td>7</td>\n    </tr>\n    <tr>\n      <th>3</th>\n      <td>JPM230519C00080000</td>\n      <td>2023-04-21 15:56:49+00:00</td>\n      <td>80.0</td>\n      <td>53.45</td>\n      <td>53.85</td>\n      <td>54.45</td>\n      <td>-7.000000</td>\n      <td>-11.579818</td>\n      <td>1.0</td>\n      <td>4</td>\n      <td>1.515627</td>\n      <td>True</td>\n      <td>REGULAR</td>\n      <td>USD</td>\n      <td>call</td>\n      <td>2023-05-19 23:59:59</td>\n      <td>7</td>\n    </tr>\n    <tr>\n      <th>4</th>\n      <td>JPM230519C00090000</td>\n      <td>2023-04-13 18:59:47+00:00</td>\n      <td>90.0</td>\n      <td>39.15</td>\n      <td>43.80</td>\n      <td>44.45</td>\n      <td>0.000000</td>\n      <td>0.000000</td>\n      <td>1.0</td>\n      <td>0</td>\n      <td>1.109379</td>\n      <td>True</td>\n      <td>REGULAR</td>\n      <td>USD</td>\n      <td>call</td>\n      <td>2023-05-19 23:59:59</td>\n      <td>7</td>\n    </tr>\n    <tr>\n      <th>...</th>\n      <td>...</td>\n      <td>...</td>\n      <td>...</td>\n      <td>...</td>\n      <td>...</td>\n      <td>...</td>\n      <td>...</td>\n      <td>...</td>\n      <td>...</td>\n      <td>...</td>\n      <td>...</td>\n      <td>...</td>\n      <td>...</td>\n      <td>...</td>\n      <td>...</td>\n      <td>...</td>\n      <td>...</td>\n    </tr>\n    <tr>\n      <th>18</th>\n      <td>JPM251219P00160000</td>\n      <td>2023-03-23 15:12:58+00:00</td>\n      <td>160.0</td>\n      <td>37.14</td>\n      <td>27.35</td>\n      <td>29.35</td>\n      <td>0.000000</td>\n      <td>0.000000</td>\n      <td>NaN</td>\n      <td>2</td>\n      <td>0.130899</td>\n      <td>True</td>\n      <td>REGULAR</td>\n      <td>USD</td>\n      <td>put</td>\n      <td>2025-12-19 23:59:59</td>\n      <td>952</td>\n    </tr>\n    <tr>\n      <th>19</th>\n      <td>JPM251219P00170000</td>\n      <td>2023-05-11 19:20:18+00:00</td>\n      <td>170.0</td>\n      <td>38.93</td>\n      <td>39.05</td>\n      <td>41.05</td>\n      <td>0.000000</td>\n      <td>0.000000</td>\n      <td>2.0</td>\n      <td>2</td>\n      <td>0.181313</td>\n      <td>True</td>\n      <td>REGULAR</td>\n      <td>USD</td>\n      <td>put</td>\n      <td>2025-12-19 23:59:59</td>\n      <td>952</td>\n    </tr>\n    <tr>\n      <th>20</th>\n      <td>JPM251219P00190000</td>\n      <td>2023-05-02 18:47:59+00:00</td>\n      <td>190.0</td>\n      <td>51.74</td>\n      <td>54.55</td>\n      <td>58.25</td>\n      <td>0.000000</td>\n      <td>0.000000</td>\n      <td>1.0</td>\n      <td>0</td>\n      <td>0.175973</td>\n      <td>True</td>\n      <td>REGULAR</td>\n      <td>USD</td>\n      <td>put</td>\n      <td>2025-12-19 23:59:59</td>\n      <td>952</td>\n    </tr>\n    <tr>\n      <th>21</th>\n      <td>JPM251219P00195000</td>\n      <td>2023-04-21 13:30:18+00:00</td>\n      <td>195.0</td>\n      <td>55.30</td>\n      <td>60.25</td>\n      <td>63.50</td>\n      <td>0.000000</td>\n      <td>0.000000</td>\n      <td>3.0</td>\n      <td>3</td>\n      <td>0.189950</td>\n      <td>True</td>\n      <td>REGULAR</td>\n      <td>USD</td>\n      <td>put</td>\n      <td>2025-12-19 23:59:59</td>\n      <td>952</td>\n    </tr>\n    <tr>\n      <th>22</th>\n      <td>JPM251219P00200000</td>\n      <td>2023-05-12 13:42:12+00:00</td>\n      <td>200.0</td>\n      <td>64.40</td>\n      <td>63.65</td>\n      <td>68.15</td>\n      <td>0.470001</td>\n      <td>0.735181</td>\n      <td>5.0</td>\n      <td>10</td>\n      <td>0.190926</td>\n      <td>True</td>\n      <td>REGULAR</td>\n      <td>USD</td>\n      <td>put</td>\n      <td>2025-12-19 23:59:59</td>\n      <td>952</td>\n    </tr>\n  </tbody>\n</table>\n<p>1008 rows × 17 columns</p>\n</div>"
     },
     "execution_count": 12,
     "metadata": {},
     "output_type": "execute_result"
    }
   ],
   "source": [
    "df = opt.yf_get_chains('JPM')\n",
    "df # JPM230721C00140000 # JPM230428P00124000"
   ],
   "metadata": {
    "collapsed": false,
    "pycharm": {
     "name": "#%%\n"
    }
   }
  },
  {
   "cell_type": "code",
   "execution_count": 60,
   "outputs": [],
   "source": [
    "# opt.add_option(option_chain, df_portfolio, contract, number_of_contracts, spot, position=1,  r=0.05, ticker_name='JPM')\n",
    "contract_name = 'JPM230526C00133000'\n",
    "ticker_name = 'JPM'\n",
    "spot = 130.38\n",
    "strike = 145"
   ],
   "metadata": {
    "collapsed": false,
    "pycharm": {
     "name": "#%%\n"
    }
   }
  },
  {
   "cell_type": "code",
   "execution_count": 31,
   "outputs": [
    {
     "data": {
      "text/plain": "       contractSymbol underlying             expDate  daysToExp optionType  \\\n0  JPM230526C00133000        JPM 2023-05-26 23:59:59         14       call   \n\n   strike  position  number_of_contracts     delta  delta_pos  DH_quantity  \n0   133.0         1                    1  0.880694  88.069435    88.069435  ",
      "text/html": "<div>\n<style scoped>\n    .dataframe tbody tr th:only-of-type {\n        vertical-align: middle;\n    }\n\n    .dataframe tbody tr th {\n        vertical-align: top;\n    }\n\n    .dataframe thead th {\n        text-align: right;\n    }\n</style>\n<table border=\"1\" class=\"dataframe\">\n  <thead>\n    <tr style=\"text-align: right;\">\n      <th></th>\n      <th>contractSymbol</th>\n      <th>underlying</th>\n      <th>expDate</th>\n      <th>daysToExp</th>\n      <th>optionType</th>\n      <th>strike</th>\n      <th>position</th>\n      <th>number_of_contracts</th>\n      <th>delta</th>\n      <th>delta_pos</th>\n      <th>DH_quantity</th>\n    </tr>\n  </thead>\n  <tbody>\n    <tr>\n      <th>0</th>\n      <td>JPM230526C00133000</td>\n      <td>JPM</td>\n      <td>2023-05-26 23:59:59</td>\n      <td>14</td>\n      <td>call</td>\n      <td>133.0</td>\n      <td>1</td>\n      <td>1</td>\n      <td>0.880694</td>\n      <td>88.069435</td>\n      <td>88.069435</td>\n    </tr>\n  </tbody>\n</table>\n</div>"
     },
     "execution_count": 31,
     "metadata": {},
     "output_type": "execute_result"
    }
   ],
   "source": [
    "df_portfolio = opt.create_portfolio()\n",
    "df_portfolio = opt.add_option(option_chain=df, df_portfolio=df_portfolio,\n",
    "                              contract = contract_name,\n",
    "                              number_of_contracts=1,\n",
    "                              spot=spot,\n",
    "                              position=1,\n",
    "                              ticker_name=ticker_name)\n",
    "df_portfolio"
   ],
   "metadata": {
    "collapsed": false,
    "pycharm": {
     "name": "#%%\n"
    }
   }
  },
  {
   "cell_type": "markdown",
   "source": [
    "# we use it to simulate real data"
   ],
   "metadata": {
    "collapsed": false,
    "pycharm": {
     "name": "#%% md\n"
    }
   }
  },
  {
   "cell_type": "code",
   "execution_count": 32,
   "outputs": [],
   "source": [
    "scenario_underlying = opt.gbm(n_scenarios=1, s_0=120, mu=.002)\n",
    "option_scenario = opt.gbm(n_scenarios=1, s_0=25, mu=-.002)"
   ],
   "metadata": {
    "collapsed": false,
    "pycharm": {
     "name": "#%%\n"
    }
   }
  },
  {
   "cell_type": "code",
   "execution_count": 55,
   "outputs": [
    {
     "name": "stdout",
     "output_type": "stream",
     "text": [
      "Step: 1 out of 121\n",
      "Step: 2 out of 121\n",
      "Step: 3 out of 121\n",
      "Step: 4 out of 121\n",
      "Step: 5 out of 121\n",
      "Step: 6 out of 121\n",
      "Step: 7 out of 121\n",
      "Step: 8 out of 121\n",
      "Step: 9 out of 121\n",
      "Step: 10 out of 121\n",
      "Step: 11 out of 121\n",
      "Step: 12 out of 121\n",
      "Step: 13 out of 121\n",
      "Step: 14 out of 121\n",
      "Step: 15 out of 121\n",
      "Step: 16 out of 121\n",
      "Step: 17 out of 121\n",
      "Step: 18 out of 121\n",
      "Step: 19 out of 121\n",
      "Step: 20 out of 121\n",
      "Step: 21 out of 121\n",
      "Step: 22 out of 121\n",
      "Step: 23 out of 121\n",
      "Step: 24 out of 121\n",
      "Step: 25 out of 121\n",
      "Step: 26 out of 121\n",
      "Step: 27 out of 121\n",
      "Step: 28 out of 121\n",
      "Step: 29 out of 121\n",
      "Step: 30 out of 121\n",
      "Step: 31 out of 121\n",
      "Step: 32 out of 121\n",
      "Step: 33 out of 121\n",
      "Step: 34 out of 121\n",
      "Step: 35 out of 121\n",
      "Step: 36 out of 121\n",
      "Step: 37 out of 121\n",
      "Step: 38 out of 121\n",
      "Step: 39 out of 121\n",
      "Step: 40 out of 121\n",
      "Step: 41 out of 121\n",
      "Step: 42 out of 121\n",
      "Step: 43 out of 121\n",
      "Step: 44 out of 121\n",
      "Step: 45 out of 121\n",
      "Step: 46 out of 121\n",
      "Step: 47 out of 121\n",
      "Step: 48 out of 121\n",
      "Step: 49 out of 121\n",
      "Step: 50 out of 121\n",
      "Step: 51 out of 121\n",
      "Step: 52 out of 121\n",
      "Step: 53 out of 121\n",
      "Step: 54 out of 121\n",
      "Step: 55 out of 121\n",
      "Step: 56 out of 121\n",
      "Step: 57 out of 121\n",
      "Step: 58 out of 121\n",
      "Step: 59 out of 121\n",
      "Step: 60 out of 121\n",
      "Step: 61 out of 121\n",
      "Step: 62 out of 121\n",
      "Step: 63 out of 121\n",
      "Step: 64 out of 121\n",
      "Step: 65 out of 121\n",
      "Step: 66 out of 121\n",
      "Step: 67 out of 121\n",
      "Step: 68 out of 121\n",
      "Step: 69 out of 121\n",
      "Step: 70 out of 121\n",
      "Step: 71 out of 121\n",
      "Step: 72 out of 121\n",
      "Step: 73 out of 121\n",
      "Step: 74 out of 121\n",
      "Step: 75 out of 121\n",
      "Step: 76 out of 121\n",
      "Step: 77 out of 121\n",
      "Step: 78 out of 121\n",
      "Step: 79 out of 121\n",
      "Step: 80 out of 121\n",
      "Step: 81 out of 121\n",
      "Step: 82 out of 121\n",
      "Step: 83 out of 121\n",
      "Step: 84 out of 121\n",
      "Step: 85 out of 121\n",
      "Step: 86 out of 121\n",
      "Step: 87 out of 121\n",
      "Step: 88 out of 121\n",
      "Step: 89 out of 121\n",
      "Step: 90 out of 121\n",
      "Step: 91 out of 121\n",
      "Step: 92 out of 121\n",
      "Step: 93 out of 121\n",
      "Step: 94 out of 121\n",
      "Step: 95 out of 121\n",
      "Step: 96 out of 121\n",
      "Step: 97 out of 121\n",
      "Step: 98 out of 121\n",
      "Step: 99 out of 121\n",
      "Step: 100 out of 121\n",
      "Step: 101 out of 121\n",
      "Step: 102 out of 121\n",
      "Step: 103 out of 121\n",
      "Step: 104 out of 121\n",
      "Step: 105 out of 121\n",
      "Step: 106 out of 121\n",
      "Step: 107 out of 121\n",
      "Step: 108 out of 121\n",
      "Step: 109 out of 121\n",
      "Step: 110 out of 121\n",
      "Step: 111 out of 121\n",
      "Step: 112 out of 121\n",
      "Step: 113 out of 121\n",
      "Step: 114 out of 121\n",
      "Step: 115 out of 121\n",
      "Step: 116 out of 121\n",
      "Step: 117 out of 121\n",
      "Step: 118 out of 121\n",
      "Step: 119 out of 121\n",
      "Step: 120 out of 121\n",
      "Step: 121 out of 121\n"
     ]
    }
   ],
   "source": [
    "history = pd.DataFrame({'underlying_price': [], 'option_price': [],\n",
    "                        'delta': [], 'delta_pos': [],\n",
    "                        'DH_quantity': [], 'underlying_needed': [], 'underlying_pos': []})\n",
    "\n",
    "number_of_steps = scenario_underlying.shape[0]\n",
    "for step in range(number_of_steps):\n",
    "\n",
    "    print('Step:', step+1, 'out of', number_of_steps)\n",
    "\n",
    "    spot = float(scenario_underlying.iloc[step])\n",
    "    option_market_price = float(option_scenario.iloc[step])\n",
    "    rebalanced_df = opt.rebalance(df_portfolio=df_portfolio, market_price=option_market_price, spot=spot, ticker_name=ticker_name)\n",
    "\n",
    "    for contract in list(df_portfolio['contractSymbol']):\n",
    "        option = df_portfolio[ df_portfolio['contractSymbol'] == contract].reset_index(drop=True).to_dict()\n",
    "        history.loc[len(history.index)] = [ spot, option_market_price,\n",
    "                                            option['delta'][0], option['delta_pos'][0],\n",
    "                                            option['DH_quantity'][0], option['DH_quantity'][0]/spot, -np.sign(option['delta_pos'][0])]\n",
    "\n",
    "    df_portfolio = rebalanced_df\n"
   ],
   "metadata": {
    "collapsed": false,
    "pycharm": {
     "name": "#%%\n"
    }
   }
  },
  {
   "cell_type": "markdown",
   "source": [
    "# PnL when buy/sell without an option price or transaction cost, we also assume shares perfectly divisible"
   ],
   "metadata": {
    "collapsed": false,
    "pycharm": {
     "name": "#%% md\n"
    }
   }
  },
  {
   "cell_type": "code",
   "execution_count": 56,
   "outputs": [],
   "source": [
    "history['PnL without Opt'] = (history - history.shift(periods=1))['underlying_price']\n",
    "history = history.dropna()\n",
    "\n",
    "history['PnL without Opt'] = history['PnL without Opt'] * history['underlying_needed'] * history['underlying_pos']"
   ],
   "metadata": {
    "collapsed": false,
    "pycharm": {
     "name": "#%%\n"
    }
   }
  },
  {
   "cell_type": "code",
   "execution_count": 57,
   "outputs": [
    {
     "data": {
      "text/plain": "     underlying_price  option_price  delta  delta_pos  DH_quantity  \\\n1          112.847627     27.505085    1.0      100.0        100.0   \n2          109.067173     25.266709    1.0      100.0        100.0   \n3          107.605253     25.266730    1.0      100.0        100.0   \n4          113.204313     24.697983    1.0      100.0        100.0   \n5          113.482322     24.937870    1.0      100.0        100.0   \n..                ...           ...    ...        ...          ...   \n116        217.002636     17.817412    1.0      100.0        100.0   \n117        200.560212     18.664307    1.0      100.0        100.0   \n118        187.363105     17.976231    1.0      100.0        100.0   \n119        182.522930     17.875612    1.0      100.0        100.0   \n120        177.895634     16.910994    1.0      100.0        100.0   \n\n     underlying_needed  underlying_pos  PnL without Opt  \n1             0.886151            -1.0         6.338080  \n2             0.916866            -1.0         3.466171  \n3             0.929323            -1.0         1.358595  \n4             0.883359            -1.0        -4.945977  \n5             0.881195            -1.0        -0.244981  \n..                 ...             ...              ...  \n116           0.460824            -1.0         1.101010  \n117           0.498603            -1.0         8.198248  \n118           0.533723            -1.0         7.043600  \n119           0.547876            -1.0         2.651818  \n120           0.562127            -1.0         2.601130  \n\n[120 rows x 8 columns]",
      "text/html": "<div>\n<style scoped>\n    .dataframe tbody tr th:only-of-type {\n        vertical-align: middle;\n    }\n\n    .dataframe tbody tr th {\n        vertical-align: top;\n    }\n\n    .dataframe thead th {\n        text-align: right;\n    }\n</style>\n<table border=\"1\" class=\"dataframe\">\n  <thead>\n    <tr style=\"text-align: right;\">\n      <th></th>\n      <th>underlying_price</th>\n      <th>option_price</th>\n      <th>delta</th>\n      <th>delta_pos</th>\n      <th>DH_quantity</th>\n      <th>underlying_needed</th>\n      <th>underlying_pos</th>\n      <th>PnL without Opt</th>\n    </tr>\n  </thead>\n  <tbody>\n    <tr>\n      <th>1</th>\n      <td>112.847627</td>\n      <td>27.505085</td>\n      <td>1.0</td>\n      <td>100.0</td>\n      <td>100.0</td>\n      <td>0.886151</td>\n      <td>-1.0</td>\n      <td>6.338080</td>\n    </tr>\n    <tr>\n      <th>2</th>\n      <td>109.067173</td>\n      <td>25.266709</td>\n      <td>1.0</td>\n      <td>100.0</td>\n      <td>100.0</td>\n      <td>0.916866</td>\n      <td>-1.0</td>\n      <td>3.466171</td>\n    </tr>\n    <tr>\n      <th>3</th>\n      <td>107.605253</td>\n      <td>25.266730</td>\n      <td>1.0</td>\n      <td>100.0</td>\n      <td>100.0</td>\n      <td>0.929323</td>\n      <td>-1.0</td>\n      <td>1.358595</td>\n    </tr>\n    <tr>\n      <th>4</th>\n      <td>113.204313</td>\n      <td>24.697983</td>\n      <td>1.0</td>\n      <td>100.0</td>\n      <td>100.0</td>\n      <td>0.883359</td>\n      <td>-1.0</td>\n      <td>-4.945977</td>\n    </tr>\n    <tr>\n      <th>5</th>\n      <td>113.482322</td>\n      <td>24.937870</td>\n      <td>1.0</td>\n      <td>100.0</td>\n      <td>100.0</td>\n      <td>0.881195</td>\n      <td>-1.0</td>\n      <td>-0.244981</td>\n    </tr>\n    <tr>\n      <th>...</th>\n      <td>...</td>\n      <td>...</td>\n      <td>...</td>\n      <td>...</td>\n      <td>...</td>\n      <td>...</td>\n      <td>...</td>\n      <td>...</td>\n    </tr>\n    <tr>\n      <th>116</th>\n      <td>217.002636</td>\n      <td>17.817412</td>\n      <td>1.0</td>\n      <td>100.0</td>\n      <td>100.0</td>\n      <td>0.460824</td>\n      <td>-1.0</td>\n      <td>1.101010</td>\n    </tr>\n    <tr>\n      <th>117</th>\n      <td>200.560212</td>\n      <td>18.664307</td>\n      <td>1.0</td>\n      <td>100.0</td>\n      <td>100.0</td>\n      <td>0.498603</td>\n      <td>-1.0</td>\n      <td>8.198248</td>\n    </tr>\n    <tr>\n      <th>118</th>\n      <td>187.363105</td>\n      <td>17.976231</td>\n      <td>1.0</td>\n      <td>100.0</td>\n      <td>100.0</td>\n      <td>0.533723</td>\n      <td>-1.0</td>\n      <td>7.043600</td>\n    </tr>\n    <tr>\n      <th>119</th>\n      <td>182.522930</td>\n      <td>17.875612</td>\n      <td>1.0</td>\n      <td>100.0</td>\n      <td>100.0</td>\n      <td>0.547876</td>\n      <td>-1.0</td>\n      <td>2.651818</td>\n    </tr>\n    <tr>\n      <th>120</th>\n      <td>177.895634</td>\n      <td>16.910994</td>\n      <td>1.0</td>\n      <td>100.0</td>\n      <td>100.0</td>\n      <td>0.562127</td>\n      <td>-1.0</td>\n      <td>2.601130</td>\n    </tr>\n  </tbody>\n</table>\n<p>120 rows × 8 columns</p>\n</div>"
     },
     "execution_count": 57,
     "metadata": {},
     "output_type": "execute_result"
    }
   ],
   "source": [
    "history"
   ],
   "metadata": {
    "collapsed": false,
    "pycharm": {
     "name": "#%%\n"
    }
   }
  },
  {
   "cell_type": "code",
   "execution_count": 58,
   "outputs": [
    {
     "data": {
      "text/plain": "-28.721819298286405"
     },
     "execution_count": 58,
     "metadata": {},
     "output_type": "execute_result"
    }
   ],
   "source": [
    "sum(history['PnL without Opt'])"
   ],
   "metadata": {
    "collapsed": false,
    "pycharm": {
     "name": "#%%\n"
    }
   }
  },
  {
   "cell_type": "code",
   "execution_count": 66,
   "outputs": [],
   "source": [
    "history['bsm_iv'] = history.apply(lambda x:\n",
    "                        opt.opt_vol(market_price=x[1],\n",
    "                                    spot=x[0],\n",
    "                                    strike=strike,\n",
    "                                    r=0.05,\n",
    "                                    time=1, # with real data have column days to expiration and substitute here\n",
    "                                    type='call'),\n",
    "                             axis=1)"
   ],
   "metadata": {
    "collapsed": false,
    "pycharm": {
     "name": "#%%\n"
    }
   }
  },
  {
   "cell_type": "markdown",
   "source": [
    "# We use Bisection method due to the following reasons\n",
    "\n",
    "The option price with a Heston volatility model depends on the Heston parameters only. That is, the implied volatility parameters does not enter into the\n",
    "Heston option price formula. Unless there is an analytical formula to compute the implied volatility for a given option price, it is impossible to compute\n",
    "the implied volatility directly from the Heston parameters. What people usually do is to first compute the European option, from the Heston volatility\n",
    "process, using either Fourier transformation or Monte Carlo, and then compute the implied volatility using the Newton's method or the bi-section method.\n",
    "\n",
    "so opt_vol or Newton's method\n",
    "\n",
    "There is 'in-model' vega and 'out-model' vega. The former is a definition of vega consistent with the model. In stoch vol models such as Heston the correct definition would be indeed to bump $v_0$. The latter is however you want to define vega. Some calculate vega as the BS vega (i.e. wrt to implied vol), others maybe wrt to the variance swap strike, or something else. The reason 'out-of-model' vega is popular is because nobody really believes eg Heston, and out of model vega could make it easier to vega hedge. – Frido Feb 14 at 12:47\n",
    "\n",
    "https://quant.stackexchange.com/questions/74630/how-to-compute-vega-in-the-heston-model\n"
   ],
   "metadata": {
    "collapsed": false,
    "pycharm": {
     "name": "#%% md\n"
    }
   }
  },
  {
   "cell_type": "code",
   "execution_count": 72,
   "outputs": [],
   "source": [
    "history = history[:20]"
   ],
   "metadata": {
    "collapsed": false,
    "pycharm": {
     "name": "#%%\n"
    }
   }
  },
  {
   "cell_type": "code",
   "execution_count": 85,
   "outputs": [
    {
     "name": "stdout",
     "output_type": "stream",
     "text": [
      "0.061087350559234616\n"
     ]
    }
   ],
   "source": [
    "def heston_implied_vol(option_type, option_price, S, K, r, T, q):\n",
    "    # apply bisection method to get the implied volatility by solving the BSM function\n",
    "    precision = 0.00001\n",
    "    upper_vol = 50.0\n",
    "    max_vol = 50.0\n",
    "    min_vol = 0.0001\n",
    "    lower_vol = 0.0001\n",
    "    iteration = 0\n",
    "\n",
    "    while 1:\n",
    "        iteration +=1\n",
    "        mid_vol = (upper_vol + lower_vol)/2.0\n",
    "\n",
    "        if option_type == 'call':\n",
    "\n",
    "\n",
    "\n",
    "            price = opt.Heston(S0=S, strike=K, time=T, r=r, kappa=0.0,\n",
    "                               theta=0.01,\n",
    "                               v0=mid_vol**2,\n",
    "                               lamda=0.0, sigma=0.000001, rho=-0.7).price(0.00001, 100, 10000)[option_type]\n",
    "\n",
    "            lower_price = opt.Heston(S0=S, strike=K, time=T, r=r, kappa=0.0,\n",
    "                               theta=0.01,\n",
    "                               v0=lower_vol**2,\n",
    "                               lamda=0.0, sigma=0.000001, rho=-0.7).price(0.00001, 100, 10000)[option_type]\n",
    "\n",
    "            \"\"\"\n",
    "            price = bs_call(S,K,T,r,q,mid_vol)\n",
    "            lower_price = bs_call(S,K,T,r,q,lower_vol)\n",
    "            \"\"\"\n",
    "\n",
    "\n",
    "            if (lower_price - option_price) * (price - option_price) > 0:\n",
    "                lower_vol = mid_vol\n",
    "            else:\n",
    "                upper_vol = mid_vol\n",
    "            if abs(price - option_price) < precision: break\n",
    "            if mid_vol > max_vol - 5 :\n",
    "                mid_vol = 0.0001\n",
    "                break\n",
    "\n",
    "        elif option_type == 'put':\n",
    "\n",
    "            price = opt.Heston(S0=S, strike=K, time=T, r=r, kappa=0.0,\n",
    "                               theta=0.01,\n",
    "                               v0=mid_vol**2,\n",
    "                               lamda=0.0, sigma=0.000001, rho=-0.7).price(0.00001, 100, 10000)[option_type]\n",
    "\n",
    "            upper_price = opt.Heston(S0=S, strike=K, time=T, r=r, kappa=0.0,\n",
    "                               theta=0.01,\n",
    "                               v0=upper_vol**2,\n",
    "                               lamda=0.0, sigma=0.000001, rho=-0.7).price(0.00001, 100, 10000)[option_type]\n",
    "\n",
    "\n",
    "            \"\"\"\n",
    "            price = bs_put(S,K,T,r,q,mid_vol)\n",
    "            upper_price = bs_put(S,K,T,r,q,upper_vol)\n",
    "            \"\"\"\n",
    "\n",
    "            if (upper_price - option_price) * (price - option_price) > 0:\n",
    "                upper_vol = mid_vol\n",
    "            else:\n",
    "                lower_vol = mid_vol\n",
    "\n",
    "            if abs(price - option_price) < precision: break\n",
    "\n",
    "            if iteration > 100: break\n",
    "\n",
    "    return mid_vol\n",
    "\n",
    "print (heston_implied_vol('call', 5.57, 100, 100, 0.05, 1, 0))"
   ],
   "metadata": {
    "collapsed": false,
    "pycharm": {
     "name": "#%%\n"
    }
   }
  },
  {
   "cell_type": "code",
   "execution_count": 87,
   "outputs": [
    {
     "name": "stderr",
     "output_type": "stream",
     "text": [
      "/var/folders/xd/xm863f553v750zss70sl77sc0000gn/T/ipykernel_1808/3256541917.py:1: SettingWithCopyWarning: \n",
      "A value is trying to be set on a copy of a slice from a DataFrame.\n",
      "Try using .loc[row_indexer,col_indexer] = value instead\n",
      "\n",
      "See the caveats in the documentation: https://pandas.pydata.org/pandas-docs/stable/user_guide/indexing.html#returning-a-view-versus-a-copy\n",
      "  history['heston_iv'] = history.apply(lambda x: heston_implied_vol(option_type='call', option_price=x[1],\n"
     ]
    }
   ],
   "source": [
    "history['heston_iv'] = history.apply(lambda x: heston_implied_vol(option_type='call', option_price=x[1],\n",
    "                    S=x[0],\n",
    "                   K=strike,\n",
    "                   r=0.05,\n",
    "                   T=1, # with real data have column days to expiration and substitute here\n",
    "                   q=1),\n",
    "                axis=1)"
   ],
   "metadata": {
    "collapsed": false,
    "pycharm": {
     "name": "#%%\n"
    }
   }
  },
  {
   "cell_type": "markdown",
   "source": [
    "### Now we just need to play with parameters such as sigma (vol of vol) and etc., for now it just coincides with bsm results."
   ],
   "metadata": {
    "collapsed": false,
    "pycharm": {
     "name": "#%% md\n"
    }
   }
  },
  {
   "cell_type": "code",
   "execution_count": 88,
   "outputs": [
    {
     "data": {
      "text/plain": "    underlying_price  option_price  delta  delta_pos  DH_quantity  \\\n1         112.847627     27.505085    1.0      100.0        100.0   \n2         109.067173     25.266709    1.0      100.0        100.0   \n3         107.605253     25.266730    1.0      100.0        100.0   \n4         113.204313     24.697983    1.0      100.0        100.0   \n5         113.482322     24.937870    1.0      100.0        100.0   \n6         124.983865     26.013391    1.0      100.0        100.0   \n7         135.231983     26.530176    1.0      100.0        100.0   \n8         137.087064     28.214460    1.0      100.0        100.0   \n9         132.047043     28.792209    1.0      100.0        100.0   \n10        123.252643     29.567043    1.0      100.0        100.0   \n11        123.241710     30.522316    1.0      100.0        100.0   \n12        123.418405     30.200938    1.0      100.0        100.0   \n13        125.067190     28.836398    1.0      100.0        100.0   \n14        130.273635     27.672112    1.0      100.0        100.0   \n15        124.326308     27.137256    1.0      100.0        100.0   \n16        128.136462     26.660351    1.0      100.0        100.0   \n17        128.197501     27.981050    1.0      100.0        100.0   \n18        125.022135     26.926051    1.0      100.0        100.0   \n19        123.066472     26.569125    1.0      100.0        100.0   \n20        119.110913     26.519153    1.0      100.0        100.0   \n\n    underlying_needed  underlying_pos  PnL without Opt  bsm_iv  heston_iv  \n1            0.886151            -1.0         6.338080  0.7982   0.798160  \n2            0.916866            -1.0         3.466171  0.7945   0.794509  \n3            0.929323            -1.0         1.358595  0.8129   0.812882  \n4            0.883359            -1.0        -4.945977  0.7311   0.731064  \n5            0.881195            -1.0        -0.244981  0.7331   0.733065  \n6            0.800103            -1.0        -9.202422  0.6219   0.621906  \n7            0.739470            -1.0        -7.578176  0.5170   0.516983  \n8            0.729463            -1.0        -1.353214  0.5280   0.528027  \n9            0.757306            -1.0         3.816837  0.5965   0.596463  \n10           0.811342            -1.0         7.135263  0.7150   0.715049  \n11           0.811414            -1.0         0.008871  0.7350   0.735032  \n12           0.810252            -1.0        -0.143167  0.7262   0.726207  \n13           0.799570            -1.0        -1.318320  0.6784   0.678407  \n14           0.767615            -1.0        -3.996546  0.5948   0.594829  \n15           0.804335            -1.0         4.783643  0.6523   0.652342  \n16           0.780418            -1.0        -2.973513  0.5991   0.599115  \n17           0.780046            -1.0        -0.047613  0.6247   0.624700  \n18           0.799858            -1.0         2.539843  0.6400   0.640004  \n19           0.812569            -1.0         1.589111  0.6553   0.655258  \n20           0.839554            -1.0         3.320903  0.7004   0.700435  ",
      "text/html": "<div>\n<style scoped>\n    .dataframe tbody tr th:only-of-type {\n        vertical-align: middle;\n    }\n\n    .dataframe tbody tr th {\n        vertical-align: top;\n    }\n\n    .dataframe thead th {\n        text-align: right;\n    }\n</style>\n<table border=\"1\" class=\"dataframe\">\n  <thead>\n    <tr style=\"text-align: right;\">\n      <th></th>\n      <th>underlying_price</th>\n      <th>option_price</th>\n      <th>delta</th>\n      <th>delta_pos</th>\n      <th>DH_quantity</th>\n      <th>underlying_needed</th>\n      <th>underlying_pos</th>\n      <th>PnL without Opt</th>\n      <th>bsm_iv</th>\n      <th>heston_iv</th>\n    </tr>\n  </thead>\n  <tbody>\n    <tr>\n      <th>1</th>\n      <td>112.847627</td>\n      <td>27.505085</td>\n      <td>1.0</td>\n      <td>100.0</td>\n      <td>100.0</td>\n      <td>0.886151</td>\n      <td>-1.0</td>\n      <td>6.338080</td>\n      <td>0.7982</td>\n      <td>0.798160</td>\n    </tr>\n    <tr>\n      <th>2</th>\n      <td>109.067173</td>\n      <td>25.266709</td>\n      <td>1.0</td>\n      <td>100.0</td>\n      <td>100.0</td>\n      <td>0.916866</td>\n      <td>-1.0</td>\n      <td>3.466171</td>\n      <td>0.7945</td>\n      <td>0.794509</td>\n    </tr>\n    <tr>\n      <th>3</th>\n      <td>107.605253</td>\n      <td>25.266730</td>\n      <td>1.0</td>\n      <td>100.0</td>\n      <td>100.0</td>\n      <td>0.929323</td>\n      <td>-1.0</td>\n      <td>1.358595</td>\n      <td>0.8129</td>\n      <td>0.812882</td>\n    </tr>\n    <tr>\n      <th>4</th>\n      <td>113.204313</td>\n      <td>24.697983</td>\n      <td>1.0</td>\n      <td>100.0</td>\n      <td>100.0</td>\n      <td>0.883359</td>\n      <td>-1.0</td>\n      <td>-4.945977</td>\n      <td>0.7311</td>\n      <td>0.731064</td>\n    </tr>\n    <tr>\n      <th>5</th>\n      <td>113.482322</td>\n      <td>24.937870</td>\n      <td>1.0</td>\n      <td>100.0</td>\n      <td>100.0</td>\n      <td>0.881195</td>\n      <td>-1.0</td>\n      <td>-0.244981</td>\n      <td>0.7331</td>\n      <td>0.733065</td>\n    </tr>\n    <tr>\n      <th>6</th>\n      <td>124.983865</td>\n      <td>26.013391</td>\n      <td>1.0</td>\n      <td>100.0</td>\n      <td>100.0</td>\n      <td>0.800103</td>\n      <td>-1.0</td>\n      <td>-9.202422</td>\n      <td>0.6219</td>\n      <td>0.621906</td>\n    </tr>\n    <tr>\n      <th>7</th>\n      <td>135.231983</td>\n      <td>26.530176</td>\n      <td>1.0</td>\n      <td>100.0</td>\n      <td>100.0</td>\n      <td>0.739470</td>\n      <td>-1.0</td>\n      <td>-7.578176</td>\n      <td>0.5170</td>\n      <td>0.516983</td>\n    </tr>\n    <tr>\n      <th>8</th>\n      <td>137.087064</td>\n      <td>28.214460</td>\n      <td>1.0</td>\n      <td>100.0</td>\n      <td>100.0</td>\n      <td>0.729463</td>\n      <td>-1.0</td>\n      <td>-1.353214</td>\n      <td>0.5280</td>\n      <td>0.528027</td>\n    </tr>\n    <tr>\n      <th>9</th>\n      <td>132.047043</td>\n      <td>28.792209</td>\n      <td>1.0</td>\n      <td>100.0</td>\n      <td>100.0</td>\n      <td>0.757306</td>\n      <td>-1.0</td>\n      <td>3.816837</td>\n      <td>0.5965</td>\n      <td>0.596463</td>\n    </tr>\n    <tr>\n      <th>10</th>\n      <td>123.252643</td>\n      <td>29.567043</td>\n      <td>1.0</td>\n      <td>100.0</td>\n      <td>100.0</td>\n      <td>0.811342</td>\n      <td>-1.0</td>\n      <td>7.135263</td>\n      <td>0.7150</td>\n      <td>0.715049</td>\n    </tr>\n    <tr>\n      <th>11</th>\n      <td>123.241710</td>\n      <td>30.522316</td>\n      <td>1.0</td>\n      <td>100.0</td>\n      <td>100.0</td>\n      <td>0.811414</td>\n      <td>-1.0</td>\n      <td>0.008871</td>\n      <td>0.7350</td>\n      <td>0.735032</td>\n    </tr>\n    <tr>\n      <th>12</th>\n      <td>123.418405</td>\n      <td>30.200938</td>\n      <td>1.0</td>\n      <td>100.0</td>\n      <td>100.0</td>\n      <td>0.810252</td>\n      <td>-1.0</td>\n      <td>-0.143167</td>\n      <td>0.7262</td>\n      <td>0.726207</td>\n    </tr>\n    <tr>\n      <th>13</th>\n      <td>125.067190</td>\n      <td>28.836398</td>\n      <td>1.0</td>\n      <td>100.0</td>\n      <td>100.0</td>\n      <td>0.799570</td>\n      <td>-1.0</td>\n      <td>-1.318320</td>\n      <td>0.6784</td>\n      <td>0.678407</td>\n    </tr>\n    <tr>\n      <th>14</th>\n      <td>130.273635</td>\n      <td>27.672112</td>\n      <td>1.0</td>\n      <td>100.0</td>\n      <td>100.0</td>\n      <td>0.767615</td>\n      <td>-1.0</td>\n      <td>-3.996546</td>\n      <td>0.5948</td>\n      <td>0.594829</td>\n    </tr>\n    <tr>\n      <th>15</th>\n      <td>124.326308</td>\n      <td>27.137256</td>\n      <td>1.0</td>\n      <td>100.0</td>\n      <td>100.0</td>\n      <td>0.804335</td>\n      <td>-1.0</td>\n      <td>4.783643</td>\n      <td>0.6523</td>\n      <td>0.652342</td>\n    </tr>\n    <tr>\n      <th>16</th>\n      <td>128.136462</td>\n      <td>26.660351</td>\n      <td>1.0</td>\n      <td>100.0</td>\n      <td>100.0</td>\n      <td>0.780418</td>\n      <td>-1.0</td>\n      <td>-2.973513</td>\n      <td>0.5991</td>\n      <td>0.599115</td>\n    </tr>\n    <tr>\n      <th>17</th>\n      <td>128.197501</td>\n      <td>27.981050</td>\n      <td>1.0</td>\n      <td>100.0</td>\n      <td>100.0</td>\n      <td>0.780046</td>\n      <td>-1.0</td>\n      <td>-0.047613</td>\n      <td>0.6247</td>\n      <td>0.624700</td>\n    </tr>\n    <tr>\n      <th>18</th>\n      <td>125.022135</td>\n      <td>26.926051</td>\n      <td>1.0</td>\n      <td>100.0</td>\n      <td>100.0</td>\n      <td>0.799858</td>\n      <td>-1.0</td>\n      <td>2.539843</td>\n      <td>0.6400</td>\n      <td>0.640004</td>\n    </tr>\n    <tr>\n      <th>19</th>\n      <td>123.066472</td>\n      <td>26.569125</td>\n      <td>1.0</td>\n      <td>100.0</td>\n      <td>100.0</td>\n      <td>0.812569</td>\n      <td>-1.0</td>\n      <td>1.589111</td>\n      <td>0.6553</td>\n      <td>0.655258</td>\n    </tr>\n    <tr>\n      <th>20</th>\n      <td>119.110913</td>\n      <td>26.519153</td>\n      <td>1.0</td>\n      <td>100.0</td>\n      <td>100.0</td>\n      <td>0.839554</td>\n      <td>-1.0</td>\n      <td>3.320903</td>\n      <td>0.7004</td>\n      <td>0.700435</td>\n    </tr>\n  </tbody>\n</table>\n</div>"
     },
     "execution_count": 88,
     "metadata": {},
     "output_type": "execute_result"
    }
   ],
   "source": [
    "history"
   ],
   "metadata": {
    "collapsed": false,
    "pycharm": {
     "name": "#%%\n"
    }
   }
  },
  {
   "cell_type": "code",
   "execution_count": null,
   "outputs": [],
   "source": [
    "\"\"\"\n",
    "p1 = SABR(1, 2, 3, 4) # alpha, beta, rho, nu\n",
    "alpha, rho, nu = p1.calibrate(dataframe) # beta = 0.5 or linear regression or otherwise predicted\n",
    "def calibrate(self, dataframe, beta=0.5, T=11/252, f=193.81,\n",
    "                  alpha_rho_nu_guess = np.array([.03, -.5, .4]), method='trust-constr', setparams=True)\n",
    "\n",
    "here is df with impliedVolatility needed\n",
    "we got alpha, beta, rho, nu\n",
    "then substitute to the hagan_iv(K, T, f, alpha, beta, rho, nu)\n",
    "\n",
    "maybe calc alpha, beta, rho, nu once anf in hagan_iv change T, f only\n",
    "\"\"\""
   ],
   "metadata": {
    "collapsed": false,
    "pycharm": {
     "name": "#%%\n"
    }
   }
  }
 ],
 "metadata": {
  "kernelspec": {
   "display_name": "Python 3",
   "language": "python",
   "name": "python3"
  },
  "language_info": {
   "codemirror_mode": {
    "name": "ipython",
    "version": 2
   },
   "file_extension": ".py",
   "mimetype": "text/x-python",
   "name": "python",
   "nbconvert_exporter": "python",
   "pygments_lexer": "ipython2",
   "version": "2.7.6"
  }
 },
 "nbformat": 4,
 "nbformat_minor": 0
}